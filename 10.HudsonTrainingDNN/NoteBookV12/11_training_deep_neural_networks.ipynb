{
  "nbformat": 4,
  "nbformat_minor": 0,
  "metadata": {
    "kernelspec": {
      "display_name": "Python 3",
      "language": "python",
      "name": "python3"
    },
    "language_info": {
      "codemirror_mode": {
        "name": "ipython",
        "version": 3
      },
      "file_extension": ".py",
      "mimetype": "text/x-python",
      "name": "python",
      "nbconvert_exporter": "python",
      "pygments_lexer": "ipython3",
      "version": "3.7.9"
    },
    "nav_menu": {
      "height": "360px",
      "width": "416px"
    },
    "toc": {
      "navigate_menu": true,
      "number_sections": true,
      "sideBar": true,
      "threshold": 6,
      "toc_cell": false,
      "toc_section_display": "block",
      "toc_window_display": false
    },
    "colab": {
      "name": "11_training_deep_neural_networks.ipynb",
      "provenance": []
    }
  },
  "cells": [
    {
      "cell_type": "markdown",
      "metadata": {
        "id": "tTTohy17pqih"
      },
      "source": [
        "**Chapter 11 – Training Deep Neural Networks**"
      ]
    },
    {
      "cell_type": "markdown",
      "metadata": {
        "id": "-tlr8Lcdpqin"
      },
      "source": [
        "_This notebook contains all the sample code and solutions to the exercises in chapter 11._"
      ]
    },
    {
      "cell_type": "markdown",
      "metadata": {
        "id": "VhE8iaQkpqio"
      },
      "source": [
        "<table align=\"left\">\n",
        "  <td>\n",
        "    <a target=\"_blank\" href=\"https://colab.research.google.com/github/ageron/handson-ml2/blob/master/11_training_deep_neural_networks.ipynb\"><img src=\"https://www.tensorflow.org/images/colab_logo_32px.png\" />Run in Google Colab</a>\n",
        "  </td>\n",
        "</table>"
      ]
    },
    {
      "cell_type": "markdown",
      "metadata": {
        "id": "7E4pYZ1Kpqip"
      },
      "source": [
        "# Setup"
      ]
    },
    {
      "cell_type": "markdown",
      "metadata": {
        "id": "GNl8oN2dpqip"
      },
      "source": [
        "First, let's import a few common modules, ensure MatplotLib plots figures inline and prepare a function to save the figures. We also check that Python 3.5 or later is installed (although Python 2.x may work, it is deprecated so we strongly recommend you use Python 3 instead), as well as Scikit-Learn ≥0.20 and TensorFlow ≥2.0."
      ]
    },
    {
      "cell_type": "code",
      "metadata": {
        "id": "QnkQ-TWrpqip"
      },
      "source": [
        "# Python ≥3.5 is required\n",
        "import sys\n",
        "assert sys.version_info >= (3, 5)\n",
        "\n",
        "# Scikit-Learn ≥0.20 is required\n",
        "import sklearn\n",
        "assert sklearn.__version__ >= \"0.20\"\n",
        "\n",
        "try:\n",
        "    # %tensorflow_version only exists in Colab.\n",
        "    %tensorflow_version 2.x\n",
        "except Exception:\n",
        "    pass\n",
        "\n",
        "# TensorFlow ≥2.0 is required\n",
        "import tensorflow as tf\n",
        "from tensorflow import keras\n",
        "assert tf.__version__ >= \"2.0\"\n",
        "\n",
        "%load_ext tensorboard\n",
        "\n",
        "# Common imports\n",
        "import numpy as np\n",
        "import os\n",
        "\n",
        "# to make this notebook's output stable across runs\n",
        "np.random.seed(42)\n",
        "\n",
        "# To plot pretty figures\n",
        "%matplotlib inline\n",
        "import matplotlib as mpl\n",
        "import matplotlib.pyplot as plt\n",
        "mpl.rc('axes', labelsize=14)\n",
        "mpl.rc('xtick', labelsize=12)\n",
        "mpl.rc('ytick', labelsize=12)\n",
        "\n",
        "# Where to save the figures\n",
        "PROJECT_ROOT_DIR = \".\"\n",
        "CHAPTER_ID = \"deep\"\n",
        "IMAGES_PATH = os.path.join(PROJECT_ROOT_DIR, \"images\", CHAPTER_ID)\n",
        "os.makedirs(IMAGES_PATH, exist_ok=True)\n",
        "\n",
        "def save_fig(fig_id, tight_layout=True, fig_extension=\"png\", resolution=300):\n",
        "    path = os.path.join(IMAGES_PATH, fig_id + \".\" + fig_extension)\n",
        "    print(\"Saving figure\", fig_id)\n",
        "    if tight_layout:\n",
        "        plt.tight_layout()\n",
        "    plt.savefig(path, format=fig_extension, dpi=resolution)"
      ],
      "execution_count": null,
      "outputs": []
    },
    {
      "cell_type": "markdown",
      "metadata": {
        "id": "ooQwOhh4pqiq"
      },
      "source": [
        "# Vanishing/Exploding Gradients Problem"
      ]
    },
    {
      "cell_type": "code",
      "metadata": {
        "id": "mf9c8BPnpqir"
      },
      "source": [
        "def logit(z):\n",
        "    return 1 / (1 + np.exp(-z))"
      ],
      "execution_count": null,
      "outputs": []
    },
    {
      "cell_type": "code",
      "metadata": {
        "id": "sDyd1H8Mpqir",
        "outputId": "df8b3123-06dd-4a66-b216-55ab406a1c9b"
      },
      "source": [
        "z = np.linspace(-5, 5, 200)\n",
        "\n",
        "plt.plot([-5, 5], [0, 0], 'k-')\n",
        "plt.plot([-5, 5], [1, 1], 'k--')\n",
        "plt.plot([0, 0], [-0.2, 1.2], 'k-')\n",
        "plt.plot([-5, 5], [-3/4, 7/4], 'g--')\n",
        "plt.plot(z, logit(z), \"b-\", linewidth=2)\n",
        "props = dict(facecolor='black', shrink=0.1)\n",
        "plt.annotate('Saturating', xytext=(3.5, 0.7), xy=(5, 1), arrowprops=props, fontsize=14, ha=\"center\")\n",
        "plt.annotate('Saturating', xytext=(-3.5, 0.3), xy=(-5, 0), arrowprops=props, fontsize=14, ha=\"center\")\n",
        "plt.annotate('Linear', xytext=(2, 0.2), xy=(0, 0.5), arrowprops=props, fontsize=14, ha=\"center\")\n",
        "plt.grid(True)\n",
        "plt.title(\"Sigmoid activation function\", fontsize=14)\n",
        "plt.axis([-5, 5, -0.2, 1.2])\n",
        "\n",
        "save_fig(\"sigmoid_saturation_plot\")\n",
        "plt.show()"
      ],
      "execution_count": null,
      "outputs": [
        {
          "output_type": "stream",
          "text": [
            "Saving figure sigmoid_saturation_plot\n"
          ],
          "name": "stdout"
        },
        {
          "output_type": "display_data",
          "data": {
            "image/png": "[encoded data removed]",
            "text/plain": [
              "<Figure size 432x288 with 1 Axes>"
            ]
          },
          "metadata": {
            "tags": [],
            "needs_background": "light"
          }
        }
      ]
    },
    {
      "cell_type": "markdown",
      "metadata": {
        "id": "X5LQ8pVgpqis"
      },
      "source": [
        "## Xavier and He Initialization"
      ]
    },
    {
      "cell_type": "code",
      "metadata": {
        "id": "tRPt0S2Bpqis",
        "outputId": "5072f290-6d93-481a-d6d7-095b643608cf"
      },
      "source": [
        "[name for name in dir(keras.initializers) if not name.startswith(\"_\")]"
      ],
      "execution_count": null,
      "outputs": [
        {
          "output_type": "execute_result",
          "data": {
            "text/plain": [
              "['Constant',\n",
              " 'GlorotNormal',\n",
              " 'GlorotUniform',\n",
              " 'HeNormal',\n",
              " 'HeUniform',\n",
              " 'Identity',\n",
              " 'Initializer',\n",
              " 'LecunNormal',\n",
              " 'LecunUniform',\n",
              " 'Ones',\n",
              " 'Orthogonal',\n",
              " 'RandomNormal',\n",
              " 'RandomUniform',\n",
              " 'TruncatedNormal',\n",
              " 'VarianceScaling',\n",
              " 'Zeros',\n",
              " 'constant',\n",
              " 'deserialize',\n",
              " 'get',\n",
              " 'glorot_normal',\n",
              " 'glorot_uniform',\n",
              " 'he_normal',\n",
              " 'he_uniform',\n",
              " 'identity',\n",
              " 'lecun_normal',\n",
              " 'lecun_uniform',\n",
              " 'ones',\n",
              " 'orthogonal',\n",
              " 'random_normal',\n",
              " 'random_uniform',\n",
              " 'serialize',\n",
              " 'truncated_normal',\n",
              " 'variance_scaling',\n",
              " 'zeros']"
            ]
          },
          "metadata": {
            "tags": []
          },
          "execution_count": 4
        }
      ]
    },
    {
      "cell_type": "code",
      "metadata": {
        "id": "iQgH8CEVpqit",
        "outputId": "a116ad2a-687c-4633-e794-3d73370d8e7e"
      },
      "source": [
        "keras.layers.Dense(10, activation=\"relu\", kernel_initializer=\"he_normal\")"
      ],
      "execution_count": null,
      "outputs": [
        {
          "output_type": "execute_result",
          "data": {
            "text/plain": [
              "<tensorflow.python.keras.layers.core.Dense at 0x7ff1b2321690>"
            ]
          },
          "metadata": {
            "tags": []
          },
          "execution_count": 5
        }
      ]
    },
    {
      "cell_type": "code",
      "metadata": {
        "id": "K0u2BTmApqit",
        "outputId": "aec6b2d1-1c1b-46bc-b6d2-a13d63aa532e"
      },
      "source": [
        "init = keras.initializers.VarianceScaling(scale=2., mode='fan_avg',\n",
        "                                          distribution='uniform')\n",
        "keras.layers.Dense(10, activation=\"relu\", kernel_initializer=init)"
      ],
      "execution_count": null,
      "outputs": [
        {
          "output_type": "execute_result",
          "data": {
            "text/plain": [
              "<tensorflow.python.keras.layers.core.Dense at 0x7ff180a32410>"
            ]
          },
          "metadata": {
            "tags": []
          },
          "execution_count": 6
        }
      ]
    },
    {
      "cell_type": "markdown",
      "metadata": {
        "id": "49pMuYD8pqit"
      },
      "source": [
        "## Nonsaturating Activation Functions"
      ]
    },
    {
      "cell_type": "markdown",
      "metadata": {
        "id": "anBfxiGkpqiu"
      },
      "source": [
        "### Leaky ReLU"
      ]
    },
    {
      "cell_type": "code",
      "metadata": {
        "id": "37C9Ar7upqiu"
      },
      "source": [
        "def leaky_relu(z, alpha=0.01):\n",
        "    return np.maximum(alpha*z, z)"
      ],
      "execution_count": null,
      "outputs": []
    },
    {
      "cell_type": "code",
      "metadata": {
        "id": "dF3c7manpqiu",
        "outputId": "0d4fead7-3dcd-4452-87b1-0e6d047cefab"
      },
      "source": [
        "plt.plot(z, leaky_relu(z, 0.05), \"b-\", linewidth=2)\n",
        "plt.plot([-5, 5], [0, 0], 'k-')\n",
        "plt.plot([0, 0], [-0.5, 4.2], 'k-')\n",
        "plt.grid(True)\n",
        "props = dict(facecolor='black', shrink=0.1)\n",
        "plt.annotate('Leak', xytext=(-3.5, 0.5), xy=(-5, -0.2), arrowprops=props, fontsize=14, ha=\"center\")\n",
        "plt.title(\"Leaky ReLU activation function\", fontsize=14)\n",
        "plt.axis([-5, 5, -0.5, 4.2])\n",
        "\n",
        "save_fig(\"leaky_relu_plot\")\n",
        "plt.show()"
      ],
      "execution_count": null,
      "outputs": [
        {
          "output_type": "stream",
          "text": [
            "Saving figure leaky_relu_plot\n"
          ],
          "name": "stdout"
        },
        {
          "output_type": "display_data",
          "data": {
            "image/png": "[encoded data removed]",
            "text/plain": [
              "<Figure size 432x288 with 1 Axes>"
            ]
          },
          "metadata": {
            "tags": [],
            "needs_background": "light"
          }
        }
      ]
    },
    {
      "cell_type": "code",
      "metadata": {
        "id": "GGIP0ZETpqiu",
        "outputId": "d6115414-4e30-4451-a6cf-7121d509bed9"
      },
      "source": [
        "[m for m in dir(keras.activations) if not m.startswith(\"_\")]"
      ],
      "execution_count": null,
      "outputs": [
        {
          "output_type": "execute_result",
          "data": {
            "text/plain": [
              "['deserialize',\n",
              " 'elu',\n",
              " 'exponential',\n",
              " 'gelu',\n",
              " 'get',\n",
              " 'hard_sigmoid',\n",
              " 'linear',\n",
              " 'relu',\n",
              " 'selu',\n",
              " 'serialize',\n",
              " 'sigmoid',\n",
              " 'softmax',\n",
              " 'softplus',\n",
              " 'softsign',\n",
              " 'swish',\n",
              " 'tanh']"
            ]
          },
          "metadata": {
            "tags": []
          },
          "execution_count": 9
        }
      ]
    },
    {
      "cell_type": "code",
      "metadata": {
        "id": "chBVYtT5pqiv",
        "outputId": "ee9e0abf-6dc5-4d54-e183-024d9fddffd3"
      },
      "source": [
        "[m for m in dir(keras.layers) if \"relu\" in m.lower()]"
      ],
      "execution_count": null,
      "outputs": [
        {
          "output_type": "execute_result",
          "data": {
            "text/plain": [
              "['LeakyReLU', 'PReLU', 'ReLU', 'ThresholdedReLU']"
            ]
          },
          "metadata": {
            "tags": []
          },
          "execution_count": 10
        }
      ]
    },
    {
      "cell_type": "markdown",
      "metadata": {
        "id": "0EymLkofpqiv"
      },
      "source": [
        "Let's train a neural network on Fashion MNIST using the Leaky ReLU:"
      ]
    },
    {
      "cell_type": "code",
      "metadata": {
        "id": "nS40sMA1pqiv"
      },
      "source": [
        "(X_train_full, y_train_full), (X_test, y_test) = keras.datasets.fashion_mnist.load_data()\n",
        "X_train_full = X_train_full / 255.0\n",
        "X_test = X_test / 255.0\n",
        "X_valid, X_train = X_train_full[:5000], X_train_full[5000:]\n",
        "y_valid, y_train = y_train_full[:5000], y_train_full[5000:]"
      ],
      "execution_count": null,
      "outputs": []
    },
    {
      "cell_type": "code",
      "metadata": {
        "id": "NLTUIC48pqiv"
      },
      "source": [
        "tf.random.set_seed(42)\n",
        "np.random.seed(42)\n",
        "\n",
        "model = keras.models.Sequential([\n",
        "    keras.layers.Flatten(input_shape=[28, 28]),\n",
        "    keras.layers.Dense(300, kernel_initializer=\"he_normal\"),\n",
        "    keras.layers.LeakyReLU(),\n",
        "    keras.layers.Dense(100, kernel_initializer=\"he_normal\"),\n",
        "    keras.layers.LeakyReLU(),\n",
        "    keras.layers.Dense(10, activation=\"softmax\")\n",
        "])"
      ],
      "execution_count": null,
      "outputs": []
    },
    {
      "cell_type": "code",
      "metadata": {
        "id": "lAmRgCEqpqiw"
      },
      "source": [
        "model.compile(loss=\"sparse_categorical_crossentropy\",\n",
        "              optimizer=keras.optimizers.SGD(lr=1e-3),\n",
        "              metrics=[\"accuracy\"])"
      ],
      "execution_count": null,
      "outputs": []
    },
    {
      "cell_type": "code",
      "metadata": {
        "scrolled": true,
        "id": "qUDtlmfopqiw",
        "outputId": "cf77f59c-2a52-43a5-b7e3-764927394482"
      },
      "source": [
        "history = model.fit(X_train, y_train, epochs=10,\n",
        "                    validation_data=(X_valid, y_valid))"
      ],
      "execution_count": null,
      "outputs": [
        {
          "output_type": "stream",
          "text": [
            "Epoch 1/10\n",
            "1719/1719 [==============================] - 2s 1ms/step - loss: 1.6314 - accuracy: 0.5054 - val_loss: 0.8886 - val_accuracy: 0.7160\n",
            "Epoch 2/10\n",
            "1719/1719 [==============================] - 2s 892us/step - loss: 0.8416 - accuracy: 0.7247 - val_loss: 0.7130 - val_accuracy: 0.7656\n",
            "Epoch 3/10\n",
            "1719/1719 [==============================] - 2s 879us/step - loss: 0.7053 - accuracy: 0.7637 - val_loss: 0.6427 - val_accuracy: 0.7898\n",
            "Epoch 4/10\n",
            "1719/1719 [==============================] - 2s 883us/step - loss: 0.6325 - accuracy: 0.7908 - val_loss: 0.5900 - val_accuracy: 0.8066\n",
            "Epoch 5/10\n",
            "1719/1719 [==============================] - 2s 887us/step - loss: 0.5992 - accuracy: 0.8021 - val_loss: 0.5582 - val_accuracy: 0.8200\n",
            "Epoch 6/10\n",
            "1719/1719 [==============================] - 2s 881us/step - loss: 0.5624 - accuracy: 0.8142 - val_loss: 0.5350 - val_accuracy: 0.8238\n",
            "Epoch 7/10\n",
            "1719/1719 [==============================] - 2s 892us/step - loss: 0.5379 - accuracy: 0.8217 - val_loss: 0.5157 - val_accuracy: 0.8304\n",
            "Epoch 8/10\n",
            "1719/1719 [==============================] - 2s 895us/step - loss: 0.5152 - accuracy: 0.8295 - val_loss: 0.5078 - val_accuracy: 0.8284\n",
            "Epoch 9/10\n",
            "1719/1719 [==============================] - 2s 911us/step - loss: 0.5100 - accuracy: 0.8268 - val_loss: 0.4895 - val_accuracy: 0.8390\n",
            "Epoch 10/10\n",
            "1719/1719 [==============================] - 2s 897us/step - loss: 0.4918 - accuracy: 0.8340 - val_loss: 0.4817 - val_accuracy: 0.8396\n"
          ],
          "name": "stdout"
        }
      ]
    },
    {
      "cell_type": "markdown",
      "metadata": {
        "id": "rzP1kfavpqix"
      },
      "source": [
        "Now let's try PReLU:"
      ]
    },
    {
      "cell_type": "code",
      "metadata": {
        "id": "mYaGq1Bupqix"
      },
      "source": [
        "tf.random.set_seed(42)\n",
        "np.random.seed(42)\n",
        "\n",
        "model = keras.models.Sequential([\n",
        "    keras.layers.Flatten(input_shape=[28, 28]),\n",
        "    keras.layers.Dense(300, kernel_initializer=\"he_normal\"),\n",
        "    keras.layers.PReLU(),\n",
        "    keras.layers.Dense(100, kernel_initializer=\"he_normal\"),\n",
        "    keras.layers.PReLU(),\n",
        "    keras.layers.Dense(10, activation=\"softmax\")\n",
        "])"
      ],
      "execution_count": null,
      "outputs": []
    },
    {
      "cell_type": "code",
      "metadata": {
        "id": "Vcl84ycCpqix"
      },
      "source": [
        "model.compile(loss=\"sparse_categorical_crossentropy\",\n",
        "              optimizer=keras.optimizers.SGD(lr=1e-3),\n",
        "              metrics=[\"accuracy\"])"
      ],
      "execution_count": null,
      "outputs": []
    },
    {
      "cell_type": "code",
      "metadata": {
        "id": "vaYZ3runpqix",
        "outputId": "38ed5008-5fe6-4f95-ec64-b7431db57c9c"
      },
      "source": [
        "history = model.fit(X_train, y_train, epochs=10,\n",
        "                    validation_data=(X_valid, y_valid))"
      ],
      "execution_count": null,
      "outputs": [
        {
          "output_type": "stream",
          "text": [
            "Epoch 1/10\n",
            "1719/1719 [==============================] - 2s 1ms/step - loss: 1.6969 - accuracy: 0.4974 - val_loss: 0.9255 - val_accuracy: 0.7186\n",
            "Epoch 2/10\n",
            "1719/1719 [==============================] - 2s 990us/step - loss: 0.8706 - accuracy: 0.7247 - val_loss: 0.7305 - val_accuracy: 0.7630\n",
            "Epoch 3/10\n",
            "1719/1719 [==============================] - 2s 980us/step - loss: 0.7211 - accuracy: 0.7621 - val_loss: 0.6564 - val_accuracy: 0.7882\n",
            "Epoch 4/10\n",
            "1719/1719 [==============================] - 2s 985us/step - loss: 0.6447 - accuracy: 0.7879 - val_loss: 0.6003 - val_accuracy: 0.8048\n",
            "Epoch 5/10\n",
            "1719/1719 [==============================] - 2s 967us/step - loss: 0.6077 - accuracy: 0.8004 - val_loss: 0.5656 - val_accuracy: 0.8182\n",
            "Epoch 6/10\n",
            "1719/1719 [==============================] - 2s 984us/step - loss: 0.5692 - accuracy: 0.8118 - val_loss: 0.5406 - val_accuracy: 0.8236\n",
            "Epoch 7/10\n",
            "1719/1719 [==============================] - 2s 1ms/step - loss: 0.5428 - accuracy: 0.8194 - val_loss: 0.5196 - val_accuracy: 0.8314\n",
            "Epoch 8/10\n",
            "1719/1719 [==============================] - 2s 983us/step - loss: 0.5193 - accuracy: 0.8284 - val_loss: 0.5113 - val_accuracy: 0.8316\n",
            "Epoch 9/10\n",
            "1719/1719 [==============================] - 2s 992us/step - loss: 0.5128 - accuracy: 0.8272 - val_loss: 0.4916 - val_accuracy: 0.8378\n",
            "Epoch 10/10\n",
            "1719/1719 [==============================] - 2s 988us/step - loss: 0.4941 - accuracy: 0.8314 - val_loss: 0.4826 - val_accuracy: 0.8398\n"
          ],
          "name": "stdout"
        }
      ]
    },
    {
      "cell_type": "markdown",
      "metadata": {
        "id": "KAvycq2Tpqiy"
      },
      "source": [
        "### ELU"
      ]
    },
    {
      "cell_type": "code",
      "metadata": {
        "id": "ayiKs6JJpqiy"
      },
      "source": [
        "def elu(z, alpha=1):\n",
        "    return np.where(z < 0, alpha * (np.exp(z) - 1), z)"
      ],
      "execution_count": null,
      "outputs": []
    },
    {
      "cell_type": "code",
      "metadata": {
        "id": "v6aDQYnkpqiy",
        "outputId": "bfa43ddb-483b-40e4-f922-cfa19b7d84e2"
      },
      "source": [
        "plt.plot(z, elu(z), \"b-\", linewidth=2)\n",
        "plt.plot([-5, 5], [0, 0], 'k-')\n",
        "plt.plot([-5, 5], [-1, -1], 'k--')\n",
        "plt.plot([0, 0], [-2.2, 3.2], 'k-')\n",
        "plt.grid(True)\n",
        "plt.title(r\"ELU activation function ($\\alpha=1$)\", fontsize=14)\n",
        "plt.axis([-5, 5, -2.2, 3.2])\n",
        "\n",
        "save_fig(\"elu_plot\")\n",
        "plt.show()"
      ],
      "execution_count": null,
      "outputs": [
        {
          "output_type": "stream",
          "text": [
            "Saving figure elu_plot\n"
          ],
          "name": "stdout"
        },
        {
          "output_type": "display_data",
          "data": {
            "image/png": "[encoded data removed]",
            "text/plain": [
              "<Figure size 432x288 with 1 Axes>"
            ]
          },
          "metadata": {
            "tags": [],
            "needs_background": "light"
          }
        }
      ]
    },
    {
      "cell_type": "markdown",
      "metadata": {
        "id": "lPGdlcITpqiy"
      },
      "source": [
        "Implementing ELU in TensorFlow is trivial, just specify the activation function when building each layer:"
      ]
    },
    {
      "cell_type": "code",
      "metadata": {
        "id": "pHQcz1D4pqiz",
        "outputId": "d03aa39a-dc84-4c72-8973-4acf7927f7fa"
      },
      "source": [
        "keras.layers.Dense(10, activation=\"elu\")"
      ],
      "execution_count": null,
      "outputs": [
        {
          "output_type": "execute_result",
          "data": {
            "text/plain": [
              "<tensorflow.python.keras.layers.core.Dense at 0x7ff1b25afad0>"
            ]
          },
          "metadata": {
            "tags": []
          },
          "execution_count": 20
        }
      ]
    },
    {
      "cell_type": "markdown",
      "metadata": {
        "id": "El4Kzt0npqiz"
      },
      "source": [
        "### SELU"
      ]
    },
    {
      "cell_type": "markdown",
      "metadata": {
        "id": "zWqiKvQUpqiz"
      },
      "source": [
        "This activation function was proposed in this [great paper](https://arxiv.org/pdf/1706.02515.pdf) by Günter Klambauer, Thomas Unterthiner and Andreas Mayr, published in June 2017. During training, a neural network composed exclusively of a stack of dense layers using the SELU activation function and LeCun initialization will self-normalize: the output of each layer will tend to preserve the same mean and variance during training, which solves the vanishing/exploding gradients problem. As a result, this activation function outperforms the other activation functions very significantly for such neural nets, so you should really try it out. Unfortunately, the self-normalizing property of the SELU activation function is easily broken: you cannot use ℓ<sub>1</sub> or ℓ<sub>2</sub> regularization, regular dropout, max-norm, skip connections or other non-sequential topologies (so recurrent neural networks won't self-normalize). However, in practice it works quite well with sequential CNNs. If you break self-normalization, SELU will not necessarily outperform other activation functions."
      ]
    },
    {
      "cell_type": "code",
      "metadata": {
        "id": "SQ9T8uT3pqiz"
      },
      "source": [
        "from scipy.special import erfc\n",
        "\n",
        "# alpha and scale to self normalize with mean 0 and standard deviation 1\n",
        "# (see equation 14 in the paper):\n",
        "alpha_0_1 = -np.sqrt(2 / np.pi) / (erfc(1/np.sqrt(2)) * np.exp(1/2) - 1)\n",
        "scale_0_1 = (1 - erfc(1 / np.sqrt(2)) * np.sqrt(np.e)) * np.sqrt(2 * np.pi) * (2 * erfc(np.sqrt(2))*np.e**2 + np.pi*erfc(1/np.sqrt(2))**2*np.e - 2*(2+np.pi)*erfc(1/np.sqrt(2))*np.sqrt(np.e)+np.pi+2)**(-1/2)"
      ],
      "execution_count": null,
      "outputs": []
    },
    {
      "cell_type": "code",
      "metadata": {
        "id": "WW0KRL5Qpqi0"
      },
      "source": [
        "def selu(z, scale=scale_0_1, alpha=alpha_0_1):\n",
        "    return scale * elu(z, alpha)"
      ],
      "execution_count": null,
      "outputs": []
    },
    {
      "cell_type": "code",
      "metadata": {
        "id": "wUzKO1g1pqi0",
        "outputId": "57248b0c-70f8-4e93-ea0d-9552ec26e086"
      },
      "source": [
        "plt.plot(z, selu(z), \"b-\", linewidth=2)\n",
        "plt.plot([-5, 5], [0, 0], 'k-')\n",
        "plt.plot([-5, 5], [-1.758, -1.758], 'k--')\n",
        "plt.plot([0, 0], [-2.2, 3.2], 'k-')\n",
        "plt.grid(True)\n",
        "plt.title(\"SELU activation function\", fontsize=14)\n",
        "plt.axis([-5, 5, -2.2, 3.2])\n",
        "\n",
        "save_fig(\"selu_plot\")\n",
        "plt.show()"
      ],
      "execution_count": null,
      "outputs": [
        {
          "output_type": "stream",
          "text": [
            "Saving figure selu_plot\n"
          ],
          "name": "stdout"
        },
        {
          "output_type": "display_data",
          "data": {
            "image/png": "[encoded data removed]",
            "text/plain": [
              "<Figure size 432x288 with 1 Axes>"
            ]
          },
          "metadata": {
            "tags": [],
            "needs_background": "light"
          }
        }
      ]
    },
    {
      "cell_type": "markdown",
      "metadata": {
        "id": "_ddyx8Rjpqi0"
      },
      "source": [
        "By default, the SELU hyperparameters (`scale` and `alpha`) are tuned in such a way that the mean output of each neuron remains close to 0, and the standard deviation remains close to 1 (assuming the inputs are standardized with mean 0 and standard deviation 1 too). Using this activation function, even a 1,000 layer deep neural network preserves roughly mean 0 and standard deviation 1 across all layers, avoiding the exploding/vanishing gradients problem:"
      ]
    },
    {
      "cell_type": "code",
      "metadata": {
        "id": "1kk35Etepqi0",
        "outputId": "d6827966-5c9a-4240-c6cb-9bbd7e5de82c"
      },
      "source": [
        "np.random.seed(42)\n",
        "Z = np.random.normal(size=(500, 100)) # standardized inputs\n",
        "for layer in range(1000):\n",
        "    W = np.random.normal(size=(100, 100), scale=np.sqrt(1 / 100)) # LeCun initialization\n",
        "    Z = selu(np.dot(Z, W))\n",
        "    means = np.mean(Z, axis=0).mean()\n",
        "    stds = np.std(Z, axis=0).mean()\n",
        "    if layer % 100 == 0:\n",
        "        print(\"Layer {}: mean {:.2f}, std deviation {:.2f}\".format(layer, means, stds))"
      ],
      "execution_count": null,
      "outputs": [
        {
          "output_type": "stream",
          "text": [
            "Layer 0: mean -0.00, std deviation 1.00\n",
            "Layer 100: mean 0.02, std deviation 0.96\n",
            "Layer 200: mean 0.01, std deviation 0.90\n",
            "Layer 300: mean -0.02, std deviation 0.92\n",
            "Layer 400: mean 0.05, std deviation 0.89\n",
            "Layer 500: mean 0.01, std deviation 0.93\n",
            "Layer 600: mean 0.02, std deviation 0.92\n",
            "Layer 700: mean -0.02, std deviation 0.90\n",
            "Layer 800: mean 0.05, std deviation 0.83\n",
            "Layer 900: mean 0.02, std deviation 1.00\n"
          ],
          "name": "stdout"
        }
      ]
    },
    {
      "cell_type": "markdown",
      "metadata": {
        "id": "l-kksdjTpqi0"
      },
      "source": [
        "Using SELU is easy:"
      ]
    },
    {
      "cell_type": "code",
      "metadata": {
        "id": "RCbAP-ixpqi1",
        "outputId": "492a39a8-3ef6-469a-80a2-617945da6a4e"
      },
      "source": [
        "keras.layers.Dense(10, activation=\"selu\",\n",
        "                   kernel_initializer=\"lecun_normal\")"
      ],
      "execution_count": null,
      "outputs": [
        {
          "output_type": "execute_result",
          "data": {
            "text/plain": [
              "<tensorflow.python.keras.layers.core.Dense at 0x7ff190832b10>"
            ]
          },
          "metadata": {
            "tags": []
          },
          "execution_count": 25
        }
      ]
    },
    {
      "cell_type": "markdown",
      "metadata": {
        "id": "SpPFOxMqpqi1"
      },
      "source": [
        "Let's create a neural net for Fashion MNIST with 100 hidden layers, using the SELU activation function:"
      ]
    },
    {
      "cell_type": "code",
      "metadata": {
        "id": "Sy7WtqrSpqi1"
      },
      "source": [
        "np.random.seed(42)\n",
        "tf.random.set_seed(42)"
      ],
      "execution_count": null,
      "outputs": []
    },
    {
      "cell_type": "code",
      "metadata": {
        "id": "LhKnOKRSpqi1"
      },
      "source": [
        "model = keras.models.Sequential()\n",
        "model.add(keras.layers.Flatten(input_shape=[28, 28]))\n",
        "model.add(keras.layers.Dense(300, activation=\"selu\",\n",
        "                             kernel_initializer=\"lecun_normal\"))\n",
        "for layer in range(99):\n",
        "    model.add(keras.layers.Dense(100, activation=\"selu\",\n",
        "                                 kernel_initializer=\"lecun_normal\"))\n",
        "model.add(keras.layers.Dense(10, activation=\"softmax\"))"
      ],
      "execution_count": null,
      "outputs": []
    },
    {
      "cell_type": "code",
      "metadata": {
        "id": "yjmDh8LYpqi2"
      },
      "source": [
        "model.compile(loss=\"sparse_categorical_crossentropy\",\n",
        "              optimizer=keras.optimizers.SGD(lr=1e-3),\n",
        "              metrics=[\"accuracy\"])"
      ],
      "execution_count": null,
      "outputs": []
    },
    {
      "cell_type": "markdown",
      "metadata": {
        "id": "NWVn6CFopqi2"
      },
      "source": [
        "Now let's train it. Do not forget to scale the inputs to mean 0 and standard deviation 1:"
      ]
    },
    {
      "cell_type": "code",
      "metadata": {
        "id": "uZ2ZeXH0pqi2"
      },
      "source": [
        "pixel_means = X_train.mean(axis=0, keepdims=True)\n",
        "pixel_stds = X_train.std(axis=0, keepdims=True)\n",
        "X_train_scaled = (X_train - pixel_means) / pixel_stds\n",
        "X_valid_scaled = (X_valid - pixel_means) / pixel_stds\n",
        "X_test_scaled = (X_test - pixel_means) / pixel_stds"
      ],
      "execution_count": null,
      "outputs": []
    },
    {
      "cell_type": "code",
      "metadata": {
        "id": "XJGBqqfipqi2",
        "outputId": "63858933-b83f-4e65-a5bc-a15510e9dd04"
      },
      "source": [
        "history = model.fit(X_train_scaled, y_train, epochs=5,\n",
        "                    validation_data=(X_valid_scaled, y_valid))"
      ],
      "execution_count": null,
      "outputs": [
        {
          "output_type": "stream",
          "text": [
            "Epoch 1/5\n",
            "1719/1719 [==============================] - 12s 6ms/step - loss: 1.3556 - accuracy: 0.4808 - val_loss: 0.7711 - val_accuracy: 0.6858\n",
            "Epoch 2/5\n",
            "1719/1719 [==============================] - 9s 5ms/step - loss: 0.7537 - accuracy: 0.7235 - val_loss: 0.7534 - val_accuracy: 0.7384\n",
            "Epoch 3/5\n",
            "1719/1719 [==============================] - 9s 5ms/step - loss: 0.7451 - accuracy: 0.7357 - val_loss: 0.5943 - val_accuracy: 0.7834\n",
            "Epoch 4/5\n",
            "1719/1719 [==============================] - 9s 5ms/step - loss: 0.5699 - accuracy: 0.7906 - val_loss: 0.5434 - val_accuracy: 0.8066\n",
            "Epoch 5/5\n",
            "1719/1719 [==============================] - 9s 5ms/step - loss: 0.5569 - accuracy: 0.8051 - val_loss: 0.4907 - val_accuracy: 0.8218\n"
          ],
          "name": "stdout"
        }
      ]
    },
    {
      "cell_type": "markdown",
      "metadata": {
        "id": "6gC5sABypqi3"
      },
      "source": [
        "Now look at what happens if we try to use the ReLU activation function instead:"
      ]
    },
    {
      "cell_type": "code",
      "metadata": {
        "id": "v0hs7ZpIpqi3"
      },
      "source": [
        "np.random.seed(42)\n",
        "tf.random.set_seed(42)"
      ],
      "execution_count": null,
      "outputs": []
    },
    {
      "cell_type": "code",
      "metadata": {
        "id": "fTcHyetlpqi3"
      },
      "source": [
        "model = keras.models.Sequential()\n",
        "model.add(keras.layers.Flatten(input_shape=[28, 28]))\n",
        "model.add(keras.layers.Dense(300, activation=\"relu\", kernel_initializer=\"he_normal\"))\n",
        "for layer in range(99):\n",
        "    model.add(keras.layers.Dense(100, activation=\"relu\", kernel_initializer=\"he_normal\"))\n",
        "model.add(keras.layers.Dense(10, activation=\"softmax\"))"
      ],
      "execution_count": null,
      "outputs": []
    },
    {
      "cell_type": "code",
      "metadata": {
        "id": "P-qynprppqi3"
      },
      "source": [
        "model.compile(loss=\"sparse_categorical_crossentropy\",\n",
        "              optimizer=keras.optimizers.SGD(lr=1e-3),\n",
        "              metrics=[\"accuracy\"])"
      ],
      "execution_count": null,
      "outputs": []
    },
    {
      "cell_type": "code",
      "metadata": {
        "id": "F-QabRlCpqi3",
        "outputId": "c4eebd11-e7ab-4b7a-ddb0-b5a73903639c"
      },
      "source": [
        "history = model.fit(X_train_scaled, y_train, epochs=5,\n",
        "                    validation_data=(X_valid_scaled, y_valid))"
      ],
      "execution_count": null,
      "outputs": [
        {
          "output_type": "stream",
          "text": [
            "Epoch 1/5\n",
            "1719/1719 [==============================] - 11s 5ms/step - loss: 2.0460 - accuracy: 0.1919 - val_loss: 1.5971 - val_accuracy: 0.3048\n",
            "Epoch 2/5\n",
            "1719/1719 [==============================] - 8s 5ms/step - loss: 1.2654 - accuracy: 0.4591 - val_loss: 0.9156 - val_accuracy: 0.6372\n",
            "Epoch 3/5\n",
            "1719/1719 [==============================] - 8s 5ms/step - loss: 0.9312 - accuracy: 0.6169 - val_loss: 0.8928 - val_accuracy: 0.6246\n",
            "Epoch 4/5\n",
            "1719/1719 [==============================] - 8s 5ms/step - loss: 0.8188 - accuracy: 0.6710 - val_loss: 0.6914 - val_accuracy: 0.7396\n",
            "Epoch 5/5\n",
            "1719/1719 [==============================] - 8s 5ms/step - loss: 0.7288 - accuracy: 0.7152 - val_loss: 0.6638 - val_accuracy: 0.7380\n"
          ],
          "name": "stdout"
        }
      ]
    },
    {
      "cell_type": "markdown",
      "metadata": {
        "id": "w6Kq4Zempqi7"
      },
      "source": [
        "Not great at all, we suffered from the vanishing/exploding gradients problem."
      ]
    },
    {
      "cell_type": "markdown",
      "metadata": {
        "id": "PRQHZILNpqi7"
      },
      "source": [
        "# Batch Normalization"
      ]
    },
    {
      "cell_type": "code",
      "metadata": {
        "id": "U5Srakx4pqi8"
      },
      "source": [
        "model = keras.models.Sequential([\n",
        "    keras.layers.Flatten(input_shape=[28, 28]),\n",
        "    keras.layers.BatchNormalization(),\n",
        "    keras.layers.Dense(300, activation=\"relu\"),\n",
        "    keras.layers.BatchNormalization(),\n",
        "    keras.layers.Dense(100, activation=\"relu\"),\n",
        "    keras.layers.BatchNormalization(),\n",
        "    keras.layers.Dense(10, activation=\"softmax\")\n",
        "])"
      ],
      "execution_count": null,
      "outputs": []
    },
    {
      "cell_type": "code",
      "metadata": {
        "id": "vENwDWcopqi8",
        "outputId": "d0cfb49a-a1e4-46e0-b663-91631279712e"
      },
      "source": [
        "model.summary()"
      ],
      "execution_count": null,
      "outputs": [
        {
          "output_type": "stream",
          "text": [
            "Model: \"sequential_4\"\n",
            "_________________________________________________________________\n",
            "Layer (type)                 Output Shape              Param #   \n",
            "=================================================================\n",
            "flatten_4 (Flatten)          (None, 784)               0         \n",
            "_________________________________________________________________\n",
            "batch_normalization (BatchNo (None, 784)               3136      \n",
            "_________________________________________________________________\n",
            "dense_212 (Dense)            (None, 300)               235500    \n",
            "_________________________________________________________________\n",
            "batch_normalization_1 (Batch (None, 300)               1200      \n",
            "_________________________________________________________________\n",
            "dense_213 (Dense)            (None, 100)               30100     \n",
            "_________________________________________________________________\n",
            "batch_normalization_2 (Batch (None, 100)               400       \n",
            "_________________________________________________________________\n",
            "dense_214 (Dense)            (None, 10)                1010      \n",
            "=================================================================\n",
            "Total params: 271,346\n",
            "Trainable params: 268,978\n",
            "Non-trainable params: 2,368\n",
            "_________________________________________________________________\n"
          ],
          "name": "stdout"
        }
      ]
    },
    {
      "cell_type": "code",
      "metadata": {
        "id": "ZS2Uq07Npqi9",
        "outputId": "bd42f1dc-f9d8-43ee-f20c-614f33129a9d"
      },
      "source": [
        "bn1 = model.layers[1]\n",
        "[(var.name, var.trainable) for var in bn1.variables]"
      ],
      "execution_count": null,
      "outputs": [
        {
          "output_type": "execute_result",
          "data": {
            "text/plain": [
              "[('batch_normalization/gamma:0', True),\n",
              " ('batch_normalization/beta:0', True),\n",
              " ('batch_normalization/moving_mean:0', False),\n",
              " ('batch_normalization/moving_variance:0', False)]"
            ]
          },
          "metadata": {
            "tags": []
          },
          "execution_count": 37
        }
      ]
    },
    {
      "cell_type": "code",
      "metadata": {
        "id": "y-3gU_l_pqi9"
      },
      "source": [
        "#bn1.updates #deprecated"
      ],
      "execution_count": null,
      "outputs": []
    },
    {
      "cell_type": "code",
      "metadata": {
        "id": "VhYHq5Yzpqi9"
      },
      "source": [
        "model.compile(loss=\"sparse_categorical_crossentropy\",\n",
        "              optimizer=keras.optimizers.SGD(lr=1e-3),\n",
        "              metrics=[\"accuracy\"])"
      ],
      "execution_count": null,
      "outputs": []
    },
    {
      "cell_type": "code",
      "metadata": {
        "id": "Xqwe8OCIpqi-",
        "outputId": "c14ee390-b3d1-4f8d-f993-081bca9b995a"
      },
      "source": [
        "history = model.fit(X_train, y_train, epochs=10,\n",
        "                    validation_data=(X_valid, y_valid))"
      ],
      "execution_count": null,
      "outputs": [
        {
          "output_type": "stream",
          "text": [
            "Epoch 1/10\n",
            "1719/1719 [==============================] - 3s 1ms/step - loss: 1.2287 - accuracy: 0.5993 - val_loss: 0.5526 - val_accuracy: 0.8230\n",
            "Epoch 2/10\n",
            "1719/1719 [==============================] - 2s 1ms/step - loss: 0.5996 - accuracy: 0.7959 - val_loss: 0.4725 - val_accuracy: 0.8468\n",
            "Epoch 3/10\n",
            "1719/1719 [==============================] - 2s 1ms/step - loss: 0.5312 - accuracy: 0.8168 - val_loss: 0.4375 - val_accuracy: 0.8558\n",
            "Epoch 4/10\n",
            "1719/1719 [==============================] - 2s 1ms/step - loss: 0.4884 - accuracy: 0.8294 - val_loss: 0.4153 - val_accuracy: 0.8596\n",
            "Epoch 5/10\n",
            "1719/1719 [==============================] - 2s 1ms/step - loss: 0.4717 - accuracy: 0.8343 - val_loss: 0.3997 - val_accuracy: 0.8640\n",
            "Epoch 6/10\n",
            "1719/1719 [==============================] - 2s 1ms/step - loss: 0.4420 - accuracy: 0.8461 - val_loss: 0.3867 - val_accuracy: 0.8694\n",
            "Epoch 7/10\n",
            "1719/1719 [==============================] - 2s 1ms/step - loss: 0.4285 - accuracy: 0.8496 - val_loss: 0.3763 - val_accuracy: 0.8710\n",
            "Epoch 8/10\n",
            "1719/1719 [==============================] - 2s 1ms/step - loss: 0.4086 - accuracy: 0.8552 - val_loss: 0.3711 - val_accuracy: 0.8740\n",
            "Epoch 9/10\n",
            "1719/1719 [==============================] - 2s 1ms/step - loss: 0.4079 - accuracy: 0.8566 - val_loss: 0.3631 - val_accuracy: 0.8752\n",
            "Epoch 10/10\n",
            "1719/1719 [==============================] - 2s 1ms/step - loss: 0.3903 - accuracy: 0.8617 - val_loss: 0.3573 - val_accuracy: 0.8750\n"
          ],
          "name": "stdout"
        }
      ]
    },
    {
      "cell_type": "markdown",
      "metadata": {
        "id": "3P6TqAvvpqi-"
      },
      "source": [
        "Sometimes applying BN before the activation function works better (there's a debate on this topic). Moreover, the layer before a `BatchNormalization` layer does not need to have bias terms, since the `BatchNormalization` layer some as well, it would be a waste of parameters, so you can set `use_bias=False` when creating those layers:"
      ]
    },
    {
      "cell_type": "code",
      "metadata": {
        "id": "a2Ab0T2jpqi_"
      },
      "source": [
        "model = keras.models.Sequential([\n",
        "    keras.layers.Flatten(input_shape=[28, 28]),\n",
        "    keras.layers.BatchNormalization(),\n",
        "    keras.layers.Dense(300, use_bias=False),\n",
        "    keras.layers.BatchNormalization(),\n",
        "    keras.layers.Activation(\"relu\"),\n",
        "    keras.layers.Dense(100, use_bias=False),\n",
        "    keras.layers.BatchNormalization(),\n",
        "    keras.layers.Activation(\"relu\"),\n",
        "    keras.layers.Dense(10, activation=\"softmax\")\n",
        "])"
      ],
      "execution_count": null,
      "outputs": []
    },
    {
      "cell_type": "code",
      "metadata": {
        "id": "khsDpq-npqi_"
      },
      "source": [
        "model.compile(loss=\"sparse_categorical_crossentropy\",\n",
        "              optimizer=keras.optimizers.SGD(lr=1e-3),\n",
        "              metrics=[\"accuracy\"])"
      ],
      "execution_count": null,
      "outputs": []
    },
    {
      "cell_type": "code",
      "metadata": {
        "id": "omYeQPHGpqi_",
        "outputId": "e7094815-333f-4f3e-a7bd-a58aa3dc15f0"
      },
      "source": [
        "history = model.fit(X_train, y_train, epochs=10,\n",
        "                    validation_data=(X_valid, y_valid))"
      ],
      "execution_count": null,
      "outputs": [
        {
          "output_type": "stream",
          "text": [
            "Epoch 1/10\n",
            "1719/1719 [==============================] - 3s 1ms/step - loss: 1.3677 - accuracy: 0.5604 - val_loss: 0.6767 - val_accuracy: 0.7812\n",
            "Epoch 2/10\n",
            "1719/1719 [==============================] - 2s 1ms/step - loss: 0.7136 - accuracy: 0.7702 - val_loss: 0.5566 - val_accuracy: 0.8184\n",
            "Epoch 3/10\n",
            "1719/1719 [==============================] - 2s 1ms/step - loss: 0.6123 - accuracy: 0.7990 - val_loss: 0.5007 - val_accuracy: 0.8360\n",
            "Epoch 4/10\n",
            "1719/1719 [==============================] - 2s 1ms/step - loss: 0.5547 - accuracy: 0.8148 - val_loss: 0.4666 - val_accuracy: 0.8448\n",
            "Epoch 5/10\n",
            "1719/1719 [==============================] - 2s 1ms/step - loss: 0.5255 - accuracy: 0.8230 - val_loss: 0.4434 - val_accuracy: 0.8534\n",
            "Epoch 6/10\n",
            "1719/1719 [==============================] - 2s 1ms/step - loss: 0.4947 - accuracy: 0.8328 - val_loss: 0.4263 - val_accuracy: 0.8550\n",
            "Epoch 7/10\n",
            "1719/1719 [==============================] - 2s 1ms/step - loss: 0.4736 - accuracy: 0.8385 - val_loss: 0.4130 - val_accuracy: 0.8566\n",
            "Epoch 8/10\n",
            "1719/1719 [==============================] - 2s 1ms/step - loss: 0.4550 - accuracy: 0.8446 - val_loss: 0.4035 - val_accuracy: 0.8612\n",
            "Epoch 9/10\n",
            "1719/1719 [==============================] - 2s 1ms/step - loss: 0.4495 - accuracy: 0.8440 - val_loss: 0.3943 - val_accuracy: 0.8638\n",
            "Epoch 10/10\n",
            "1719/1719 [==============================] - 2s 1ms/step - loss: 0.4333 - accuracy: 0.8494 - val_loss: 0.3875 - val_accuracy: 0.8660\n"
          ],
          "name": "stdout"
        }
      ]
    },
    {
      "cell_type": "markdown",
      "metadata": {
        "id": "VmVnjhjYpqjA"
      },
      "source": [
        "## Gradient Clipping"
      ]
    },
    {
      "cell_type": "markdown",
      "metadata": {
        "id": "pUTwgeXopqjA"
      },
      "source": [
        "All Keras optimizers accept `clipnorm` or `clipvalue` arguments:"
      ]
    },
    {
      "cell_type": "code",
      "metadata": {
        "id": "HyGaaKLgpqjA"
      },
      "source": [
        "optimizer = keras.optimizers.SGD(clipvalue=1.0)"
      ],
      "execution_count": null,
      "outputs": []
    },
    {
      "cell_type": "code",
      "metadata": {
        "id": "t_58hNz4pqjA"
      },
      "source": [
        "optimizer = keras.optimizers.SGD(clipnorm=1.0)"
      ],
      "execution_count": null,
      "outputs": []
    },
    {
      "cell_type": "markdown",
      "metadata": {
        "id": "zYcp6OOFpqjA"
      },
      "source": [
        "## Reusing Pretrained Layers"
      ]
    },
    {
      "cell_type": "markdown",
      "metadata": {
        "id": "9TPjN8JEpqjA"
      },
      "source": [
        "### Reusing a Keras model"
      ]
    },
    {
      "cell_type": "markdown",
      "metadata": {
        "id": "RXKEDPznpqjA"
      },
      "source": [
        "Let's split the fashion MNIST training set in two:\n",
        "* `X_train_A`: all images of all items except for sandals and shirts (classes 5 and 6).\n",
        "* `X_train_B`: a much smaller training set of just the first 200 images of sandals or shirts.\n",
        "\n",
        "The validation set and the test set are also split this way, but without restricting the number of images.\n",
        "\n",
        "We will train a model on set A (classification task with 8 classes), and try to reuse it to tackle set B (binary classification). We hope to transfer a little bit of knowledge from task A to task B, since classes in set A (sneakers, ankle boots, coats, t-shirts, etc.) are somewhat similar to classes in set B (sandals and shirts). However, since we are using `Dense` layers, only patterns that occur at the same location can be reused (in contrast, convolutional layers will transfer much better, since learned patterns can be detected anywhere on the image, as we will see in the CNN chapter)."
      ]
    },
    {
      "cell_type": "code",
      "metadata": {
        "id": "-wog-jNlpqjB"
      },
      "source": [
        "def split_dataset(X, y):\n",
        "    y_5_or_6 = (y == 5) | (y == 6) # sandals or shirts\n",
        "    y_A = y[~y_5_or_6]\n",
        "    y_A[y_A > 6] -= 2 # class indices 7, 8, 9 should be moved to 5, 6, 7\n",
        "    y_B = (y[y_5_or_6] == 6).astype(np.float32) # binary classification task: is it a shirt (class 6)?\n",
        "    return ((X[~y_5_or_6], y_A),\n",
        "            (X[y_5_or_6], y_B))\n",
        "\n",
        "(X_train_A, y_train_A), (X_train_B, y_train_B) = split_dataset(X_train, y_train)\n",
        "(X_valid_A, y_valid_A), (X_valid_B, y_valid_B) = split_dataset(X_valid, y_valid)\n",
        "(X_test_A, y_test_A), (X_test_B, y_test_B) = split_dataset(X_test, y_test)\n",
        "X_train_B = X_train_B[:200]\n",
        "y_train_B = y_train_B[:200]"
      ],
      "execution_count": null,
      "outputs": []
    },
    {
      "cell_type": "code",
      "metadata": {
        "id": "Z27s-6q3pqjB",
        "outputId": "10f62776-16e5-4eab-8f28-81415534125d"
      },
      "source": [
        "X_train_A.shape"
      ],
      "execution_count": null,
      "outputs": [
        {
          "output_type": "execute_result",
          "data": {
            "text/plain": [
              "(43986, 28, 28)"
            ]
          },
          "metadata": {
            "tags": []
          },
          "execution_count": 47
        }
      ]
    },
    {
      "cell_type": "code",
      "metadata": {
        "id": "2cIM0a5OpqjB",
        "outputId": "f0bc2293-637e-4c7b-f9ba-48352c19a900"
      },
      "source": [
        "X_train_B.shape"
      ],
      "execution_count": null,
      "outputs": [
        {
          "output_type": "execute_result",
          "data": {
            "text/plain": [
              "(200, 28, 28)"
            ]
          },
          "metadata": {
            "tags": []
          },
          "execution_count": 48
        }
      ]
    },
    {
      "cell_type": "code",
      "metadata": {
        "id": "o-0twTAgpqjC",
        "outputId": "7113f2fe-93fb-4af8-a266-1e5d4359302b"
      },
      "source": [
        "y_train_A[:30]"
      ],
      "execution_count": null,
      "outputs": [
        {
          "output_type": "execute_result",
          "data": {
            "text/plain": [
              "array([4, 0, 5, 7, 7, 7, 4, 4, 3, 4, 0, 1, 6, 3, 4, 3, 2, 6, 5, 3, 4, 5,\n",
              "       1, 3, 4, 2, 0, 6, 7, 1], dtype=uint8)"
            ]
          },
          "metadata": {
            "tags": []
          },
          "execution_count": 49
        }
      ]
    },
    {
      "cell_type": "code",
      "metadata": {
        "id": "KlACA9hvpqjC",
        "outputId": "b601cb88-52cb-4847-84ba-25e9d786e2c6"
      },
      "source": [
        "y_train_B[:30]"
      ],
      "execution_count": null,
      "outputs": [
        {
          "output_type": "execute_result",
          "data": {
            "text/plain": [
              "array([1., 1., 0., 0., 0., 0., 1., 1., 1., 0., 0., 1., 1., 0., 0., 0., 0.,\n",
              "       0., 0., 1., 1., 0., 0., 1., 1., 0., 1., 1., 1., 1.], dtype=float32)"
            ]
          },
          "metadata": {
            "tags": []
          },
          "execution_count": 50
        }
      ]
    },
    {
      "cell_type": "code",
      "metadata": {
        "id": "diF1jzc8pqjC"
      },
      "source": [
        "tf.random.set_seed(42)\n",
        "np.random.seed(42)"
      ],
      "execution_count": null,
      "outputs": []
    },
    {
      "cell_type": "code",
      "metadata": {
        "id": "-SX5fjSIpqjC"
      },
      "source": [
        "model_A = keras.models.Sequential()\n",
        "model_A.add(keras.layers.Flatten(input_shape=[28, 28]))\n",
        "for n_hidden in (300, 100, 50, 50, 50):\n",
        "    model_A.add(keras.layers.Dense(n_hidden, activation=\"selu\"))\n",
        "model_A.add(keras.layers.Dense(8, activation=\"softmax\"))"
      ],
      "execution_count": null,
      "outputs": []
    },
    {
      "cell_type": "code",
      "metadata": {
        "id": "B7F8nuh2pqjC"
      },
      "source": [
        "model_A.compile(loss=\"sparse_categorical_crossentropy\",\n",
        "                optimizer=keras.optimizers.SGD(lr=1e-3),\n",
        "                metrics=[\"accuracy\"])"
      ],
      "execution_count": null,
      "outputs": []
    },
    {
      "cell_type": "code",
      "metadata": {
        "id": "RCrD5ZZjpqjD",
        "outputId": "ac6e6820-ea78-43b8-b4e9-9fd253900d2a"
      },
      "source": [
        "history = model_A.fit(X_train_A, y_train_A, epochs=20,\n",
        "                    validation_data=(X_valid_A, y_valid_A))"
      ],
      "execution_count": null,
      "outputs": [
        {
          "output_type": "stream",
          "text": [
            "Epoch 1/20\n",
            "1375/1375 [==============================] - 2s 1ms/step - loss: 0.9249 - accuracy: 0.6994 - val_loss: 0.3896 - val_accuracy: 0.8662\n",
            "Epoch 2/20\n",
            "1375/1375 [==============================] - 2s 1ms/step - loss: 0.3651 - accuracy: 0.8745 - val_loss: 0.3288 - val_accuracy: 0.8827\n",
            "Epoch 3/20\n",
            "1375/1375 [==============================] - 1s 1ms/step - loss: 0.3182 - accuracy: 0.8897 - val_loss: 0.3013 - val_accuracy: 0.8991\n",
            "Epoch 4/20\n",
            "1375/1375 [==============================] - 1s 1ms/step - loss: 0.3048 - accuracy: 0.8954 - val_loss: 0.2896 - val_accuracy: 0.9021\n",
            "Epoch 5/20\n",
            "1375/1375 [==============================] - 1s 1ms/step - loss: 0.2804 - accuracy: 0.9029 - val_loss: 0.2773 - val_accuracy: 0.9061\n",
            "Epoch 6/20\n",
            "1375/1375 [==============================] - 1s 1ms/step - loss: 0.2701 - accuracy: 0.9075 - val_loss: 0.2735 - val_accuracy: 0.9066\n",
            "Epoch 7/20\n",
            "1375/1375 [==============================] - 1s 1ms/step - loss: 0.2627 - accuracy: 0.9093 - val_loss: 0.2721 - val_accuracy: 0.9081\n",
            "Epoch 8/20\n",
            "1375/1375 [==============================] - 1s 1ms/step - loss: 0.2609 - accuracy: 0.9122 - val_loss: 0.2589 - val_accuracy: 0.9141\n",
            "Epoch 9/20\n",
            "1375/1375 [==============================] - 1s 1ms/step - loss: 0.2558 - accuracy: 0.9110 - val_loss: 0.2562 - val_accuracy: 0.9136\n",
            "Epoch 10/20\n",
            "1375/1375 [==============================] - 1s 1ms/step - loss: 0.2512 - accuracy: 0.9138 - val_loss: 0.2544 - val_accuracy: 0.9160\n",
            "Epoch 11/20\n",
            "1375/1375 [==============================] - 1s 1ms/step - loss: 0.2431 - accuracy: 0.9170 - val_loss: 0.2495 - val_accuracy: 0.9153\n",
            "Epoch 12/20\n",
            "1375/1375 [==============================] - 1s 1ms/step - loss: 0.2422 - accuracy: 0.9168 - val_loss: 0.2515 - val_accuracy: 0.9126\n",
            "Epoch 13/20\n",
            "1375/1375 [==============================] - 1s 1ms/step - loss: 0.2360 - accuracy: 0.9181 - val_loss: 0.2446 - val_accuracy: 0.9160\n",
            "Epoch 14/20\n",
            "1375/1375 [==============================] - 1s 1ms/step - loss: 0.2266 - accuracy: 0.9232 - val_loss: 0.2415 - val_accuracy: 0.9178\n",
            "Epoch 15/20\n",
            "1375/1375 [==============================] - 1s 1ms/step - loss: 0.2225 - accuracy: 0.9239 - val_loss: 0.2447 - val_accuracy: 0.9195\n",
            "Epoch 16/20\n",
            "1375/1375 [==============================] - 1s 1ms/step - loss: 0.2261 - accuracy: 0.9216 - val_loss: 0.2384 - val_accuracy: 0.9198\n",
            "Epoch 17/20\n",
            "1375/1375 [==============================] - 1s 1ms/step - loss: 0.2191 - accuracy: 0.9251 - val_loss: 0.2412 - val_accuracy: 0.9175\n",
            "Epoch 18/20\n",
            "1375/1375 [==============================] - 1s 1ms/step - loss: 0.2171 - accuracy: 0.9254 - val_loss: 0.2429 - val_accuracy: 0.9158\n",
            "Epoch 19/20\n",
            "1375/1375 [==============================] - 1s 1ms/step - loss: 0.2180 - accuracy: 0.9252 - val_loss: 0.2330 - val_accuracy: 0.9205\n",
            "Epoch 20/20\n",
            "1375/1375 [==============================] - 1s 1ms/step - loss: 0.2112 - accuracy: 0.9274 - val_loss: 0.2333 - val_accuracy: 0.9200\n"
          ],
          "name": "stdout"
        }
      ]
    },
    {
      "cell_type": "code",
      "metadata": {
        "id": "LhIdur-6pqjD"
      },
      "source": [
        "model_A.save(\"my_model_A.h5\")"
      ],
      "execution_count": null,
      "outputs": []
    },
    {
      "cell_type": "code",
      "metadata": {
        "id": "HYUzsde6pqjD"
      },
      "source": [
        "model_B = keras.models.Sequential()\n",
        "model_B.add(keras.layers.Flatten(input_shape=[28, 28]))\n",
        "for n_hidden in (300, 100, 50, 50, 50):\n",
        "    model_B.add(keras.layers.Dense(n_hidden, activation=\"selu\"))\n",
        "model_B.add(keras.layers.Dense(1, activation=\"sigmoid\"))"
      ],
      "execution_count": null,
      "outputs": []
    },
    {
      "cell_type": "code",
      "metadata": {
        "id": "MG_E4at7pqjD"
      },
      "source": [
        "model_B.compile(loss=\"binary_crossentropy\",\n",
        "                optimizer=keras.optimizers.SGD(lr=1e-3),\n",
        "                metrics=[\"accuracy\"])"
      ],
      "execution_count": null,
      "outputs": []
    },
    {
      "cell_type": "code",
      "metadata": {
        "id": "daot65QbpqjD",
        "outputId": "38398a4f-9b32-49b2-eb2f-c7cec8975027"
      },
      "source": [
        "history = model_B.fit(X_train_B, y_train_B, epochs=20,\n",
        "                      validation_data=(X_valid_B, y_valid_B))"
      ],
      "execution_count": null,
      "outputs": [
        {
          "output_type": "stream",
          "text": [
            "Epoch 1/20\n",
            "7/7 [==============================] - 0s 30ms/step - loss: 1.0360 - accuracy: 0.4975 - val_loss: 0.6314 - val_accuracy: 0.6004\n",
            "Epoch 2/20\n",
            "7/7 [==============================] - 0s 9ms/step - loss: 0.5883 - accuracy: 0.6971 - val_loss: 0.4784 - val_accuracy: 0.8529\n",
            "Epoch 3/20\n",
            "7/7 [==============================] - 0s 10ms/step - loss: 0.4380 - accuracy: 0.8854 - val_loss: 0.4102 - val_accuracy: 0.8945\n",
            "Epoch 4/20\n",
            "7/7 [==============================] - 0s 11ms/step - loss: 0.4021 - accuracy: 0.8712 - val_loss: 0.3647 - val_accuracy: 0.9178\n",
            "Epoch 5/20\n",
            "7/7 [==============================] - 0s 11ms/step - loss: 0.3361 - accuracy: 0.9348 - val_loss: 0.3300 - val_accuracy: 0.9320\n",
            "Epoch 6/20\n",
            "7/7 [==============================] - 0s 10ms/step - loss: 0.3113 - accuracy: 0.9233 - val_loss: 0.3019 - val_accuracy: 0.9402\n",
            "Epoch 7/20\n",
            "7/7 [==============================] - 0s 11ms/step - loss: 0.2817 - accuracy: 0.9299 - val_loss: 0.2804 - val_accuracy: 0.9422\n",
            "Epoch 8/20\n",
            "7/7 [==============================] - 0s 11ms/step - loss: 0.2632 - accuracy: 0.9379 - val_loss: 0.2606 - val_accuracy: 0.9473\n",
            "Epoch 9/20\n",
            "7/7 [==============================] - 0s 11ms/step - loss: 0.2373 - accuracy: 0.9481 - val_loss: 0.2428 - val_accuracy: 0.9523\n",
            "Epoch 10/20\n",
            "7/7 [==============================] - 0s 11ms/step - loss: 0.2229 - accuracy: 0.9657 - val_loss: 0.2281 - val_accuracy: 0.9544\n",
            "Epoch 11/20\n",
            "7/7 [==============================] - 0s 11ms/step - loss: 0.2155 - accuracy: 0.9590 - val_loss: 0.2150 - val_accuracy: 0.9584\n",
            "Epoch 12/20\n",
            "7/7 [==============================] - 0s 11ms/step - loss: 0.1834 - accuracy: 0.9738 - val_loss: 0.2036 - val_accuracy: 0.9584\n",
            "Epoch 13/20\n",
            "7/7 [==============================] - 0s 10ms/step - loss: 0.1671 - accuracy: 0.9828 - val_loss: 0.1931 - val_accuracy: 0.9615\n",
            "Epoch 14/20\n",
            "7/7 [==============================] - 0s 11ms/step - loss: 0.1527 - accuracy: 0.9915 - val_loss: 0.1838 - val_accuracy: 0.9635\n",
            "Epoch 15/20\n",
            "7/7 [==============================] - 0s 10ms/step - loss: 0.1595 - accuracy: 0.9904 - val_loss: 0.1746 - val_accuracy: 0.9686\n",
            "Epoch 16/20\n",
            "7/7 [==============================] - 0s 10ms/step - loss: 0.1473 - accuracy: 0.9937 - val_loss: 0.1674 - val_accuracy: 0.9686\n",
            "Epoch 17/20\n",
            "7/7 [==============================] - 0s 10ms/step - loss: 0.1412 - accuracy: 0.9944 - val_loss: 0.1604 - val_accuracy: 0.9706\n",
            "Epoch 18/20\n",
            "7/7 [==============================] - 0s 10ms/step - loss: 0.1242 - accuracy: 0.9931 - val_loss: 0.1539 - val_accuracy: 0.9706\n",
            "Epoch 19/20\n",
            "7/7 [==============================] - 0s 10ms/step - loss: 0.1224 - accuracy: 0.9931 - val_loss: 0.1482 - val_accuracy: 0.9716\n",
            "Epoch 20/20\n",
            "7/7 [==============================] - 0s 10ms/step - loss: 0.1096 - accuracy: 0.9912 - val_loss: 0.1431 - val_accuracy: 0.9716\n"
          ],
          "name": "stdout"
        }
      ]
    },
    {
      "cell_type": "code",
      "metadata": {
        "id": "cpuSBfZspqjD",
        "outputId": "7f8649a2-93c0-428b-be65-0171eaa088cc"
      },
      "source": [
        "model_B.summary()"
      ],
      "execution_count": null,
      "outputs": [
        {
          "output_type": "stream",
          "text": [
            "Model: \"sequential_7\"\n",
            "_________________________________________________________________\n",
            "Layer (type)                 Output Shape              Param #   \n",
            "=================================================================\n",
            "flatten_7 (Flatten)          (None, 784)               0         \n",
            "_________________________________________________________________\n",
            "dense_224 (Dense)            (None, 300)               235500    \n",
            "_________________________________________________________________\n",
            "dense_225 (Dense)            (None, 100)               30100     \n",
            "_________________________________________________________________\n",
            "dense_226 (Dense)            (None, 50)                5050      \n",
            "_________________________________________________________________\n",
            "dense_227 (Dense)            (None, 50)                2550      \n",
            "_________________________________________________________________\n",
            "dense_228 (Dense)            (None, 50)                2550      \n",
            "_________________________________________________________________\n",
            "dense_229 (Dense)            (None, 1)                 51        \n",
            "=================================================================\n",
            "Total params: 275,801\n",
            "Trainable params: 275,801\n",
            "Non-trainable params: 0\n",
            "_________________________________________________________________\n"
          ],
          "name": "stdout"
        }
      ]
    },
    {
      "cell_type": "code",
      "metadata": {
        "id": "hysbrtlXpqjE"
      },
      "source": [
        "model_A = keras.models.load_model(\"my_model_A.h5\")\n",
        "model_B_on_A = keras.models.Sequential(model_A.layers[:-1])\n",
        "model_B_on_A.add(keras.layers.Dense(1, activation=\"sigmoid\"))"
      ],
      "execution_count": null,
      "outputs": []
    },
    {
      "cell_type": "code",
      "metadata": {
        "id": "6iwAMtCgpqjE"
      },
      "source": [
        "model_A_clone = keras.models.clone_model(model_A)\n",
        "model_A_clone.set_weights(model_A.get_weights())"
      ],
      "execution_count": null,
      "outputs": []
    },
    {
      "cell_type": "code",
      "metadata": {
        "id": "Vr49Dz1tpqjE"
      },
      "source": [
        "for layer in model_B_on_A.layers[:-1]:\n",
        "    layer.trainable = False\n",
        "\n",
        "model_B_on_A.compile(loss=\"binary_crossentropy\",\n",
        "                     optimizer=keras.optimizers.SGD(lr=1e-3),\n",
        "                     metrics=[\"accuracy\"])"
      ],
      "execution_count": null,
      "outputs": []
    },
    {
      "cell_type": "code",
      "metadata": {
        "id": "aTQTpD5upqjE",
        "outputId": "dee7b9bc-8f58-4ec8-bf78-64eaa59f0172"
      },
      "source": [
        "history = model_B_on_A.fit(X_train_B, y_train_B, epochs=4,\n",
        "                           validation_data=(X_valid_B, y_valid_B))\n",
        "\n",
        "for layer in model_B_on_A.layers[:-1]:\n",
        "    layer.trainable = True\n",
        "\n",
        "model_B_on_A.compile(loss=\"binary_crossentropy\",\n",
        "                     optimizer=keras.optimizers.SGD(lr=1e-3),\n",
        "                     metrics=[\"accuracy\"])\n",
        "history = model_B_on_A.fit(X_train_B, y_train_B, epochs=16,\n",
        "                           validation_data=(X_valid_B, y_valid_B))"
      ],
      "execution_count": null,
      "outputs": [
        {
          "output_type": "stream",
          "text": [
            "Epoch 1/4\n",
            "7/7 [==============================] - 1s 83ms/step - loss: 0.6155 - accuracy: 0.6184 - val_loss: 0.5843 - val_accuracy: 0.6329\n",
            "Epoch 2/4\n",
            "7/7 [==============================] - 0s 9ms/step - loss: 0.5550 - accuracy: 0.6638 - val_loss: 0.5467 - val_accuracy: 0.6805\n",
            "Epoch 3/4\n",
            "7/7 [==============================] - 0s 8ms/step - loss: 0.4897 - accuracy: 0.7482 - val_loss: 0.5146 - val_accuracy: 0.7089\n",
            "Epoch 4/4\n",
            "7/7 [==============================] - 0s 8ms/step - loss: 0.4899 - accuracy: 0.7405 - val_loss: 0.4859 - val_accuracy: 0.7323\n",
            "Epoch 1/16\n",
            "7/7 [==============================] - 0s 28ms/step - loss: 0.4380 - accuracy: 0.7774 - val_loss: 0.3460 - val_accuracy: 0.8661\n",
            "Epoch 2/16\n",
            "7/7 [==============================] - 0s 9ms/step - loss: 0.2971 - accuracy: 0.9143 - val_loss: 0.2603 - val_accuracy: 0.9310\n",
            "Epoch 3/16\n",
            "7/7 [==============================] - 0s 9ms/step - loss: 0.2034 - accuracy: 0.9777 - val_loss: 0.2110 - val_accuracy: 0.9554\n",
            "Epoch 4/16\n",
            "7/7 [==============================] - 0s 9ms/step - loss: 0.1754 - accuracy: 0.9719 - val_loss: 0.1790 - val_accuracy: 0.9696\n",
            "Epoch 5/16\n",
            "7/7 [==============================] - 0s 9ms/step - loss: 0.1348 - accuracy: 0.9809 - val_loss: 0.1561 - val_accuracy: 0.9757\n",
            "Epoch 6/16\n",
            "7/7 [==============================] - 0s 9ms/step - loss: 0.1172 - accuracy: 0.9973 - val_loss: 0.1392 - val_accuracy: 0.9797\n",
            "Epoch 7/16\n",
            "7/7 [==============================] - 0s 9ms/step - loss: 0.1137 - accuracy: 0.9931 - val_loss: 0.1266 - val_accuracy: 0.9838\n",
            "Epoch 8/16\n",
            "7/7 [==============================] - 0s 9ms/step - loss: 0.1000 - accuracy: 0.9931 - val_loss: 0.1163 - val_accuracy: 0.9858\n",
            "Epoch 9/16\n",
            "7/7 [==============================] - 0s 9ms/step - loss: 0.0834 - accuracy: 1.0000 - val_loss: 0.1065 - val_accuracy: 0.9888\n",
            "Epoch 10/16\n",
            "7/7 [==============================] - 0s 9ms/step - loss: 0.0775 - accuracy: 1.0000 - val_loss: 0.0999 - val_accuracy: 0.9899\n",
            "Epoch 11/16\n",
            "7/7 [==============================] - 0s 9ms/step - loss: 0.0689 - accuracy: 1.0000 - val_loss: 0.0939 - val_accuracy: 0.9899\n",
            "Epoch 12/16\n",
            "7/7 [==============================] - 0s 9ms/step - loss: 0.0719 - accuracy: 1.0000 - val_loss: 0.0888 - val_accuracy: 0.9899\n",
            "Epoch 13/16\n",
            "7/7 [==============================] - 0s 9ms/step - loss: 0.0565 - accuracy: 1.0000 - val_loss: 0.0839 - val_accuracy: 0.9899\n",
            "Epoch 14/16\n",
            "7/7 [==============================] - 0s 9ms/step - loss: 0.0494 - accuracy: 1.0000 - val_loss: 0.0802 - val_accuracy: 0.9899\n",
            "Epoch 15/16\n",
            "7/7 [==============================] - 0s 9ms/step - loss: 0.0544 - accuracy: 1.0000 - val_loss: 0.0768 - val_accuracy: 0.9899\n",
            "Epoch 16/16\n",
            "7/7 [==============================] - 0s 9ms/step - loss: 0.0472 - accuracy: 1.0000 - val_loss: 0.0738 - val_accuracy: 0.9899\n"
          ],
          "name": "stdout"
        }
      ]
    },
    {
      "cell_type": "markdown",
      "metadata": {
        "id": "DlvgCpbKpqjE"
      },
      "source": [
        "So, what's the final verdict?"
      ]
    },
    {
      "cell_type": "code",
      "metadata": {
        "id": "l0c9poLJpqjF",
        "outputId": "29c1843e-15a8-42c0-ab22-d0e704e22f57"
      },
      "source": [
        "model_B.evaluate(X_test_B, y_test_B)"
      ],
      "execution_count": null,
      "outputs": [
        {
          "output_type": "stream",
          "text": [
            "63/63 [==============================] - 0s 723us/step - loss: 0.1408 - accuracy: 0.9705\n"
          ],
          "name": "stdout"
        },
        {
          "output_type": "execute_result",
          "data": {
            "text/plain": [
              "[0.1408407837152481, 0.9704999923706055]"
            ]
          },
          "metadata": {
            "tags": []
          },
          "execution_count": 64
        }
      ]
    },
    {
      "cell_type": "code",
      "metadata": {
        "id": "CXrQDHVBpqjF",
        "outputId": "5dd7cb7d-645a-477a-8119-227b35695073"
      },
      "source": [
        "model_B_on_A.evaluate(X_test_B, y_test_B)"
      ],
      "execution_count": null,
      "outputs": [
        {
          "output_type": "stream",
          "text": [
            "63/63 [==============================] - 0s 705us/step - loss: 0.0682 - accuracy: 0.9935\n"
          ],
          "name": "stdout"
        },
        {
          "output_type": "execute_result",
          "data": {
            "text/plain": [
              "[0.0681881457567215, 0.9934999942779541]"
            ]
          },
          "metadata": {
            "tags": []
          },
          "execution_count": 65
        }
      ]
    },
    {
      "cell_type": "markdown",
      "metadata": {
        "id": "QJgIbzGvpqjF"
      },
      "source": [
        "Great! We got quite a bit of transfer: the error rate dropped by a factor of 4.5!"
      ]
    },
    {
      "cell_type": "code",
      "metadata": {
        "id": "Y0DGeprspqjF",
        "outputId": "71402bb5-2508-4e6f-f7e4-45b6173b23c1"
      },
      "source": [
        "(100 - 97.05) / (100 - 99.35)"
      ],
      "execution_count": null,
      "outputs": [
        {
          "output_type": "execute_result",
          "data": {
            "text/plain": [
              "4.538461538461503"
            ]
          },
          "metadata": {
            "tags": []
          },
          "execution_count": 66
        }
      ]
    },
    {
      "cell_type": "markdown",
      "metadata": {
        "id": "6ilTyzgWpqjF"
      },
      "source": [
        "# Faster Optimizers"
      ]
    },
    {
      "cell_type": "markdown",
      "metadata": {
        "id": "QeS_aOPvpqjG"
      },
      "source": [
        "## Momentum optimization"
      ]
    },
    {
      "cell_type": "code",
      "metadata": {
        "id": "dtZNmsv_pqjG"
      },
      "source": [
        "optimizer = keras.optimizers.SGD(lr=0.001, momentum=0.9)"
      ],
      "execution_count": null,
      "outputs": []
    },
    {
      "cell_type": "markdown",
      "metadata": {
        "id": "74z81FzmpqjG"
      },
      "source": [
        "## Nesterov Accelerated Gradient"
      ]
    },
    {
      "cell_type": "code",
      "metadata": {
        "id": "zycN01DcpqjG"
      },
      "source": [
        "optimizer = keras.optimizers.SGD(lr=0.001, momentum=0.9, nesterov=True)"
      ],
      "execution_count": null,
      "outputs": []
    },
    {
      "cell_type": "markdown",
      "metadata": {
        "id": "YEDVuXrGAaMW"
      },
      "source": [
        "![image.png](data:image/png;base64,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)"
      ]
    },
    {
      "cell_type": "markdown",
      "metadata": {
        "id": "31R8bQ2gpqjG"
      },
      "source": [
        "## AdaGrad"
      ]
    },
    {
      "cell_type": "code",
      "metadata": {
        "id": "unSeHZNWpqjG"
      },
      "source": [
        "optimizer = keras.optimizers.Adagrad(lr=0.001)"
      ],
      "execution_count": null,
      "outputs": []
    },
    {
      "cell_type": "markdown",
      "metadata": {
        "id": "3YAmz4L6pqjH"
      },
      "source": [
        "## RMSProp"
      ]
    },
    {
      "cell_type": "code",
      "metadata": {
        "id": "5o9GTRgCpqjH"
      },
      "source": [
        "optimizer = keras.optimizers.RMSprop(lr=0.001, rho=0.9)"
      ],
      "execution_count": null,
      "outputs": []
    },
    {
      "cell_type": "markdown",
      "metadata": {
        "id": "aeJR9jJwpqjH"
      },
      "source": [
        "## Adam Optimization"
      ]
    },
    {
      "cell_type": "code",
      "metadata": {
        "id": "_tSMV1RMpqjH"
      },
      "source": [
        "optimizer = keras.optimizers.Adam(lr=0.001, beta_1=0.9, beta_2=0.999)"
      ],
      "execution_count": null,
      "outputs": []
    },
    {
      "cell_type": "markdown",
      "metadata": {
        "id": "GwU_9YttpqjH"
      },
      "source": [
        "## Adamax Optimization"
      ]
    },
    {
      "cell_type": "code",
      "metadata": {
        "id": "qC9K-mO2pqjH"
      },
      "source": [
        "optimizer = keras.optimizers.Adamax(lr=0.001, beta_1=0.9, beta_2=0.999)"
      ],
      "execution_count": null,
      "outputs": []
    },
    {
      "cell_type": "markdown",
      "metadata": {
        "id": "dc_PjdjXpqjI"
      },
      "source": [
        "## Nadam Optimization"
      ]
    },
    {
      "cell_type": "code",
      "metadata": {
        "id": "kr4o5gJhpqjI"
      },
      "source": [
        "optimizer = keras.optimizers.Nadam(lr=0.001, beta_1=0.9, beta_2=0.999)"
      ],
      "execution_count": null,
      "outputs": []
    },
    {
      "cell_type": "markdown",
      "metadata": {
        "id": "uI-FQTFPpqjI"
      },
      "source": [
        "## Learning Rate Scheduling"
      ]
    },
    {
      "cell_type": "markdown",
      "metadata": {
        "id": "b1mXeAdupqjI"
      },
      "source": [
        "### Power Scheduling"
      ]
    },
    {
      "cell_type": "markdown",
      "metadata": {
        "id": "tivbIPCKpqjI"
      },
      "source": [
        "```lr = lr0 / (1 + steps / s)**c```\n",
        "* Keras uses `c=1` and `s = 1 / decay`"
      ]
    },
    {
      "cell_type": "code",
      "metadata": {
        "id": "Pvm9w6yHpqjI"
      },
      "source": [
        "optimizer = keras.optimizers.SGD(lr=0.01, decay=1e-4)"
      ],
      "execution_count": null,
      "outputs": []
    },
    {
      "cell_type": "code",
      "metadata": {
        "id": "3Q_Ng24wpqjI"
      },
      "source": [
        "model = keras.models.Sequential([\n",
        "    keras.layers.Flatten(input_shape=[28, 28]),\n",
        "    keras.layers.Dense(300, activation=\"selu\", kernel_initializer=\"lecun_normal\"),\n",
        "    keras.layers.Dense(100, activation=\"selu\", kernel_initializer=\"lecun_normal\"),\n",
        "    keras.layers.Dense(10, activation=\"softmax\")\n",
        "])\n",
        "model.compile(loss=\"sparse_categorical_crossentropy\", optimizer=optimizer, metrics=[\"accuracy\"])"
      ],
      "execution_count": null,
      "outputs": []
    },
    {
      "cell_type": "code",
      "metadata": {
        "id": "0vsPhtzHpqjJ",
        "outputId": "be73aaa6-d5bf-40be-c58d-c2b242a57022"
      },
      "source": [
        "n_epochs = 25\n",
        "history = model.fit(X_train_scaled, y_train, epochs=n_epochs,\n",
        "                    validation_data=(X_valid_scaled, y_valid))"
      ],
      "execution_count": null,
      "outputs": [
        {
          "output_type": "stream",
          "text": [
            "Epoch 1/25\n",
            "1719/1719 [==============================] - 2s 1ms/step - loss: 0.5980 - accuracy: 0.7933 - val_loss: 0.4031 - val_accuracy: 0.8598\n",
            "Epoch 2/25\n",
            "1719/1719 [==============================] - 2s 954us/step - loss: 0.3829 - accuracy: 0.8636 - val_loss: 0.3714 - val_accuracy: 0.8720\n",
            "Epoch 3/25\n",
            "1719/1719 [==============================] - 2s 943us/step - loss: 0.3491 - accuracy: 0.8771 - val_loss: 0.3746 - val_accuracy: 0.8738\n",
            "Epoch 4/25\n",
            "1719/1719 [==============================] - 2s 954us/step - loss: 0.3277 - accuracy: 0.8814 - val_loss: 0.3502 - val_accuracy: 0.8798\n",
            "Epoch 5/25\n",
            "1719/1719 [==============================] - 2s 934us/step - loss: 0.3172 - accuracy: 0.8856 - val_loss: 0.3453 - val_accuracy: 0.8780\n",
            "Epoch 6/25\n",
            "1719/1719 [==============================] - 2s 919us/step - loss: 0.2922 - accuracy: 0.8940 - val_loss: 0.3419 - val_accuracy: 0.8820\n",
            "Epoch 7/25\n",
            "1719/1719 [==============================] - 2s 921us/step - loss: 0.2870 - accuracy: 0.8973 - val_loss: 0.3362 - val_accuracy: 0.8872\n",
            "Epoch 8/25\n",
            "1719/1719 [==============================] - 2s 925us/step - loss: 0.2720 - accuracy: 0.9032 - val_loss: 0.3415 - val_accuracy: 0.8830\n",
            "Epoch 9/25\n",
            "1719/1719 [==============================] - 2s 929us/step - loss: 0.2730 - accuracy: 0.9004 - val_loss: 0.3297 - val_accuracy: 0.8864\n",
            "Epoch 10/25\n",
            "1719/1719 [==============================] - 2s 928us/step - loss: 0.2585 - accuracy: 0.9068 - val_loss: 0.3269 - val_accuracy: 0.8888\n",
            "Epoch 11/25\n",
            "1719/1719 [==============================] - 2s 932us/step - loss: 0.2529 - accuracy: 0.9100 - val_loss: 0.3280 - val_accuracy: 0.8878\n",
            "Epoch 12/25\n",
            "1719/1719 [==============================] - 2s 954us/step - loss: 0.2485 - accuracy: 0.9101 - val_loss: 0.3343 - val_accuracy: 0.8822\n",
            "Epoch 13/25\n",
            "1719/1719 [==============================] - 2s 964us/step - loss: 0.2420 - accuracy: 0.9148 - val_loss: 0.3266 - val_accuracy: 0.8890\n",
            "Epoch 14/25\n",
            "1719/1719 [==============================] - 2s 1ms/step - loss: 0.2373 - accuracy: 0.9144 - val_loss: 0.3299 - val_accuracy: 0.8890\n",
            "Epoch 15/25\n",
            "1719/1719 [==============================] - 2s 1ms/step - loss: 0.2363 - accuracy: 0.9154 - val_loss: 0.3255 - val_accuracy: 0.8874\n",
            "Epoch 16/25\n",
            "1719/1719 [==============================] - 2s 1ms/step - loss: 0.2309 - accuracy: 0.9181 - val_loss: 0.3217 - val_accuracy: 0.8910\n",
            "Epoch 17/25\n",
            "1719/1719 [==============================] - 2s 1ms/step - loss: 0.2235 - accuracy: 0.9211 - val_loss: 0.3248 - val_accuracy: 0.8914\n",
            "Epoch 18/25\n",
            "1719/1719 [==============================] - 2s 1ms/step - loss: 0.2247 - accuracy: 0.9194 - val_loss: 0.3202 - val_accuracy: 0.8934\n",
            "Epoch 19/25\n",
            "1719/1719 [==============================] - 2s 1ms/step - loss: 0.2235 - accuracy: 0.9218 - val_loss: 0.3243 - val_accuracy: 0.8906\n",
            "Epoch 20/25\n",
            "1719/1719 [==============================] - 2s 1ms/step - loss: 0.2227 - accuracy: 0.9225 - val_loss: 0.3224 - val_accuracy: 0.8900\n",
            "Epoch 21/25\n",
            "1719/1719 [==============================] - 2s 1ms/step - loss: 0.2193 - accuracy: 0.9230 - val_loss: 0.3221 - val_accuracy: 0.8912\n",
            "Epoch 22/25\n",
            "1719/1719 [==============================] - 2s 1ms/step - loss: 0.2163 - accuracy: 0.9227 - val_loss: 0.3195 - val_accuracy: 0.8948\n",
            "Epoch 23/25\n",
            "1719/1719 [==============================] - 2s 997us/step - loss: 0.2127 - accuracy: 0.9252 - val_loss: 0.3208 - val_accuracy: 0.8908\n",
            "Epoch 24/25\n",
            "1719/1719 [==============================] - 2s 1ms/step - loss: 0.2076 - accuracy: 0.9273 - val_loss: 0.3226 - val_accuracy: 0.8902\n",
            "Epoch 25/25\n",
            "1719/1719 [==============================] - 2s 999us/step - loss: 0.2104 - accuracy: 0.9250 - val_loss: 0.3225 - val_accuracy: 0.8924\n"
          ],
          "name": "stdout"
        }
      ]
    },
    {
      "cell_type": "code",
      "metadata": {
        "id": "no2kPKeppqjJ",
        "outputId": "463c7461-7833-4d74-ebf7-d9c4d528fea9"
      },
      "source": [
        "import math\n",
        "\n",
        "learning_rate = 0.01\n",
        "decay = 1e-4\n",
        "batch_size = 32\n",
        "n_steps_per_epoch = math.ceil(len(X_train) / batch_size)\n",
        "epochs = np.arange(n_epochs)\n",
        "lrs = learning_rate / (1 + decay * epochs * n_steps_per_epoch)\n",
        "\n",
        "plt.plot(epochs, lrs,  \"o-\")\n",
        "plt.axis([0, n_epochs - 1, 0, 0.01])\n",
        "plt.xlabel(\"Epoch\")\n",
        "plt.ylabel(\"Learning Rate\")\n",
        "plt.title(\"Power Scheduling\", fontsize=14)\n",
        "plt.grid(True)\n",
        "plt.show()"
      ],
      "execution_count": null,
      "outputs": [
        {
          "output_type": "display_data",
          "data": {
            "image/png": "[encoded data removed]",
            "text/plain": [
              "<Figure size 432x288 with 1 Axes>"
            ]
          },
          "metadata": {
            "tags": [],
            "needs_background": "light"
          }
        }
      ]
    },
    {
      "cell_type": "markdown",
      "metadata": {
        "id": "sK4MARpnpqjJ"
      },
      "source": [
        "### Exponential Scheduling"
      ]
    },
    {
      "cell_type": "markdown",
      "metadata": {
        "id": "xOtlUf2SpqjJ"
      },
      "source": [
        "```lr = lr0 * 0.1**(epoch / s)```"
      ]
    },
    {
      "cell_type": "code",
      "metadata": {
        "id": "MC0d9LESpqjJ"
      },
      "source": [
        "def exponential_decay_fn(epoch):\n",
        "    return 0.01 * 0.1**(epoch / 20)"
      ],
      "execution_count": null,
      "outputs": []
    },
    {
      "cell_type": "code",
      "metadata": {
        "id": "7KOgvcespqjK"
      },
      "source": [
        "def exponential_decay(lr0, s):\n",
        "    def exponential_decay_fn(epoch):\n",
        "        return lr0 * 0.1**(epoch / s)\n",
        "    return exponential_decay_fn\n",
        "\n",
        "exponential_decay_fn = exponential_decay(lr0=0.01, s=20)"
      ],
      "execution_count": null,
      "outputs": []
    },
    {
      "cell_type": "code",
      "metadata": {
        "id": "hpKK-fQSpqjK"
      },
      "source": [
        "model = keras.models.Sequential([\n",
        "    keras.layers.Flatten(input_shape=[28, 28]),\n",
        "    keras.layers.Dense(300, activation=\"selu\", kernel_initializer=\"lecun_normal\"),\n",
        "    keras.layers.Dense(100, activation=\"selu\", kernel_initializer=\"lecun_normal\"),\n",
        "    keras.layers.Dense(10, activation=\"softmax\")\n",
        "])\n",
        "model.compile(loss=\"sparse_categorical_crossentropy\", optimizer=\"nadam\", metrics=[\"accuracy\"])\n",
        "n_epochs = 25"
      ],
      "execution_count": null,
      "outputs": []
    },
    {
      "cell_type": "code",
      "metadata": {
        "id": "J6CjMe4JpqjK",
        "outputId": "5e957174-cd67-43e6-cdc4-54b5d0400608"
      },
      "source": [
        "lr_scheduler = keras.callbacks.LearningRateScheduler(exponential_decay_fn)\n",
        "history = model.fit(X_train_scaled, y_train, epochs=n_epochs,\n",
        "                    validation_data=(X_valid_scaled, y_valid),\n",
        "                    callbacks=[lr_scheduler])"
      ],
      "execution_count": null,
      "outputs": [
        {
          "output_type": "stream",
          "text": [
            "Epoch 1/25\n",
            "1719/1719 [==============================] - 4s 2ms/step - loss: 1.1122 - accuracy: 0.7363 - val_loss: 0.8947 - val_accuracy: 0.7496\n",
            "Epoch 2/25\n",
            "1719/1719 [==============================] - 3s 2ms/step - loss: 0.7354 - accuracy: 0.7825 - val_loss: 0.6059 - val_accuracy: 0.8122\n",
            "Epoch 3/25\n",
            "1719/1719 [==============================] - 3s 2ms/step - loss: 0.5973 - accuracy: 0.8175 - val_loss: 0.8195 - val_accuracy: 0.7754\n",
            "Epoch 4/25\n",
            "1719/1719 [==============================] - 3s 2ms/step - loss: 0.6040 - accuracy: 0.8148 - val_loss: 0.6135 - val_accuracy: 0.8398\n",
            "Epoch 5/25\n",
            "1719/1719 [==============================] - 3s 2ms/step - loss: 0.5462 - accuracy: 0.8323 - val_loss: 0.5075 - val_accuracy: 0.8490\n",
            "Epoch 6/25\n",
            "1719/1719 [==============================] - 4s 2ms/step - loss: 0.4479 - accuracy: 0.8555 - val_loss: 0.4538 - val_accuracy: 0.8502\n",
            "Epoch 7/25\n",
            "1719/1719 [==============================] - 4s 2ms/step - loss: 0.4225 - accuracy: 0.8622 - val_loss: 0.4792 - val_accuracy: 0.8524\n",
            "Epoch 8/25\n",
            "1719/1719 [==============================] - 4s 2ms/step - loss: 0.3873 - accuracy: 0.8678 - val_loss: 0.5517 - val_accuracy: 0.8448\n",
            "Epoch 9/25\n",
            "1719/1719 [==============================] - 3s 2ms/step - loss: 0.3635 - accuracy: 0.8767 - val_loss: 0.5312 - val_accuracy: 0.8600\n",
            "Epoch 10/25\n",
            "1719/1719 [==============================] - 3s 2ms/step - loss: 0.3353 - accuracy: 0.8840 - val_loss: 0.4671 - val_accuracy: 0.8660\n",
            "Epoch 11/25\n",
            "1719/1719 [==============================] - 4s 2ms/step - loss: 0.3108 - accuracy: 0.8927 - val_loss: 0.4885 - val_accuracy: 0.8670\n",
            "Epoch 12/25\n",
            "1719/1719 [==============================] - 4s 2ms/step - loss: 0.2895 - accuracy: 0.8987 - val_loss: 0.4698 - val_accuracy: 0.8636\n",
            "Epoch 13/25\n",
            "1719/1719 [==============================] - 4s 2ms/step - loss: 0.2660 - accuracy: 0.9071 - val_loss: 0.4558 - val_accuracy: 0.8820\n",
            "Epoch 14/25\n",
            "1719/1719 [==============================] - 4s 2ms/step - loss: 0.2442 - accuracy: 0.9153 - val_loss: 0.4325 - val_accuracy: 0.8774\n",
            "Epoch 15/25\n",
            "1719/1719 [==============================] - 4s 2ms/step - loss: 0.2375 - accuracy: 0.9177 - val_loss: 0.4703 - val_accuracy: 0.8800\n",
            "Epoch 16/25\n",
            "1719/1719 [==============================] - 4s 2ms/step - loss: 0.2196 - accuracy: 0.9231 - val_loss: 0.4657 - val_accuracy: 0.8870\n",
            "Epoch 17/25\n",
            "1719/1719 [==============================] - 4s 2ms/step - loss: 0.2013 - accuracy: 0.9312 - val_loss: 0.5023 - val_accuracy: 0.8760\n",
            "Epoch 18/25\n",
            "1719/1719 [==============================] - 4s 2ms/step - loss: 0.1938 - accuracy: 0.9331 - val_loss: 0.4782 - val_accuracy: 0.8856\n",
            "Epoch 19/25\n",
            "1719/1719 [==============================] - 4s 2ms/step - loss: 0.1774 - accuracy: 0.9394 - val_loss: 0.4815 - val_accuracy: 0.8898\n",
            "Epoch 20/25\n",
            "1719/1719 [==============================] - 4s 2ms/step - loss: 0.1703 - accuracy: 0.9418 - val_loss: 0.4674 - val_accuracy: 0.8902\n",
            "Epoch 21/25\n",
            "1719/1719 [==============================] - 3s 2ms/step - loss: 0.1611 - accuracy: 0.9462 - val_loss: 0.5116 - val_accuracy: 0.8930\n",
            "Epoch 22/25\n",
            "1719/1719 [==============================] - 4s 2ms/step - loss: 0.1530 - accuracy: 0.9481 - val_loss: 0.5326 - val_accuracy: 0.8934\n",
            "Epoch 23/25\n",
            "1719/1719 [==============================] - 3s 2ms/step - loss: 0.1436 - accuracy: 0.9519 - val_loss: 0.5297 - val_accuracy: 0.8902\n",
            "Epoch 24/25\n",
            "1719/1719 [==============================] - 4s 2ms/step - loss: 0.1326 - accuracy: 0.9560 - val_loss: 0.5526 - val_accuracy: 0.8930\n",
            "Epoch 25/25\n",
            "1719/1719 [==============================] - 4s 2ms/step - loss: 0.1308 - accuracy: 0.9560 - val_loss: 0.5699 - val_accuracy: 0.8928\n"
          ],
          "name": "stdout"
        }
      ]
    },
    {
      "cell_type": "code",
      "metadata": {
        "id": "0xWNUS-ypqjK",
        "outputId": "52f6a835-712d-4cd6-ab5d-43228ec40ece"
      },
      "source": [
        "plt.plot(history.epoch, history.history[\"lr\"], \"o-\")\n",
        "plt.axis([0, n_epochs - 1, 0, 0.011])\n",
        "plt.xlabel(\"Epoch\")\n",
        "plt.ylabel(\"Learning Rate\")\n",
        "plt.title(\"Exponential Scheduling\", fontsize=14)\n",
        "plt.grid(True)\n",
        "plt.show()"
      ],
      "execution_count": null,
      "outputs": [
        {
          "output_type": "display_data",
          "data": {
            "image/png": "[encoded data removed]",
            "text/plain": [
              "<Figure size 432x288 with 1 Axes>"
            ]
          },
          "metadata": {
            "tags": [],
            "needs_background": "light"
          }
        }
      ]
    },
    {
      "cell_type": "markdown",
      "metadata": {
        "id": "8ocTc7LcpqjK"
      },
      "source": [
        "The schedule function can take the current learning rate as a second argument:"
      ]
    },
    {
      "cell_type": "code",
      "metadata": {
        "id": "L8ynHkLmpqjL"
      },
      "source": [
        "def exponential_decay_fn(epoch, lr):\n",
        "    return lr * 0.1**(1 / 20)"
      ],
      "execution_count": null,
      "outputs": []
    },
    {
      "cell_type": "markdown",
      "metadata": {
        "id": "XP76LMfhpqjL"
      },
      "source": [
        "If you want to update the learning rate at each iteration rather than at each epoch, you must write your own callback class:"
      ]
    },
    {
      "cell_type": "code",
      "metadata": {
        "id": "f87tbMirpqjL",
        "outputId": "c3b73816-0b97-4889-e172-abc389da6757"
      },
      "source": [
        "K = keras.backend\n",
        "\n",
        "class ExponentialDecay(keras.callbacks.Callback):\n",
        "    def __init__(self, s=40000):\n",
        "        super().__init__()\n",
        "        self.s = s\n",
        "\n",
        "    def on_batch_begin(self, batch, logs=None):\n",
        "        # Note: the `batch` argument is reset at each epoch\n",
        "        lr = K.get_value(self.model.optimizer.lr)\n",
        "        K.set_value(self.model.optimizer.lr, lr * 0.1**(1 / s))\n",
        "\n",
        "    def on_epoch_end(self, epoch, logs=None):\n",
        "        logs = logs or {}\n",
        "        logs['lr'] = K.get_value(self.model.optimizer.lr)\n",
        "\n",
        "model = keras.models.Sequential([\n",
        "    keras.layers.Flatten(input_shape=[28, 28]),\n",
        "    keras.layers.Dense(300, activation=\"selu\", kernel_initializer=\"lecun_normal\"),\n",
        "    keras.layers.Dense(100, activation=\"selu\", kernel_initializer=\"lecun_normal\"),\n",
        "    keras.layers.Dense(10, activation=\"softmax\")\n",
        "])\n",
        "lr0 = 0.01\n",
        "optimizer = keras.optimizers.Nadam(lr=lr0)\n",
        "model.compile(loss=\"sparse_categorical_crossentropy\", optimizer=optimizer, metrics=[\"accuracy\"])\n",
        "n_epochs = 25\n",
        "\n",
        "s = 20 * len(X_train) // 32 # number of steps in 20 epochs (batch size = 32)\n",
        "exp_decay = ExponentialDecay(s)\n",
        "history = model.fit(X_train_scaled, y_train, epochs=n_epochs,\n",
        "                    validation_data=(X_valid_scaled, y_valid),\n",
        "                    callbacks=[exp_decay])"
      ],
      "execution_count": null,
      "outputs": [
        {
          "output_type": "stream",
          "text": [
            "Epoch 1/25\n",
            "1719/1719 [==============================] - 5s 3ms/step - loss: 1.1153 - accuracy: 0.7390 - val_loss: 0.9588 - val_accuracy: 0.7338\n",
            "Epoch 2/25\n",
            "1719/1719 [==============================] - 4s 2ms/step - loss: 0.6929 - accuracy: 0.7934 - val_loss: 0.5328 - val_accuracy: 0.8318\n",
            "Epoch 3/25\n",
            "1719/1719 [==============================] - 4s 2ms/step - loss: 0.6317 - accuracy: 0.8097 - val_loss: 0.7656 - val_accuracy: 0.8278\n",
            "Epoch 4/25\n",
            "1719/1719 [==============================] - 4s 2ms/step - loss: 0.5827 - accuracy: 0.8258 - val_loss: 0.5585 - val_accuracy: 0.8382\n",
            "Epoch 5/25\n",
            "1719/1719 [==============================] - 4s 2ms/step - loss: 0.5041 - accuracy: 0.8407 - val_loss: 0.5367 - val_accuracy: 0.8574\n",
            "Epoch 6/25\n",
            "1719/1719 [==============================] - 4s 3ms/step - loss: 0.4595 - accuracy: 0.8588 - val_loss: 0.6000 - val_accuracy: 0.8516\n",
            "Epoch 7/25\n",
            "1719/1719 [==============================] - 4s 2ms/step - loss: 0.4490 - accuracy: 0.8644 - val_loss: 0.4605 - val_accuracy: 0.8648\n",
            "Epoch 8/25\n",
            "1719/1719 [==============================] - 4s 3ms/step - loss: 0.3925 - accuracy: 0.8783 - val_loss: 0.5076 - val_accuracy: 0.8616\n",
            "Epoch 9/25\n",
            "1719/1719 [==============================] - 4s 2ms/step - loss: 0.4085 - accuracy: 0.8797 - val_loss: 0.4577 - val_accuracy: 0.8650\n",
            "Epoch 10/25\n",
            "1719/1719 [==============================] - 4s 3ms/step - loss: 0.3440 - accuracy: 0.8927 - val_loss: 0.5309 - val_accuracy: 0.8762\n",
            "Epoch 11/25\n",
            "1719/1719 [==============================] - 4s 3ms/step - loss: 0.3267 - accuracy: 0.8948 - val_loss: 0.4652 - val_accuracy: 0.8792\n",
            "Epoch 12/25\n",
            "1719/1719 [==============================] - 4s 3ms/step - loss: 0.3046 - accuracy: 0.9033 - val_loss: 0.4863 - val_accuracy: 0.8692\n",
            "Epoch 13/25\n",
            "1719/1719 [==============================] - 5s 3ms/step - loss: 0.2811 - accuracy: 0.9087 - val_loss: 0.4726 - val_accuracy: 0.8770\n",
            "Epoch 14/25\n",
            "1719/1719 [==============================] - 5s 3ms/step - loss: 0.2684 - accuracy: 0.9145 - val_loss: 0.4526 - val_accuracy: 0.8760\n",
            "Epoch 15/25\n",
            "1719/1719 [==============================] - 5s 3ms/step - loss: 0.2478 - accuracy: 0.9209 - val_loss: 0.4926 - val_accuracy: 0.8838\n",
            "Epoch 16/25\n",
            "1719/1719 [==============================] - 5s 3ms/step - loss: 0.2315 - accuracy: 0.9253 - val_loss: 0.4686 - val_accuracy: 0.8840\n",
            "Epoch 17/25\n",
            "1719/1719 [==============================] - 5s 3ms/step - loss: 0.2164 - accuracy: 0.9318 - val_loss: 0.4845 - val_accuracy: 0.8858\n",
            "Epoch 18/25\n",
            "1719/1719 [==============================] - 4s 3ms/step - loss: 0.2093 - accuracy: 0.9346 - val_loss: 0.4923 - val_accuracy: 0.8834\n",
            "Epoch 19/25\n",
            "1719/1719 [==============================] - 5s 3ms/step - loss: 0.1929 - accuracy: 0.9396 - val_loss: 0.4779 - val_accuracy: 0.8880\n",
            "Epoch 20/25\n",
            "1719/1719 [==============================] - 5s 3ms/step - loss: 0.1852 - accuracy: 0.9439 - val_loss: 0.4886 - val_accuracy: 0.8868\n",
            "Epoch 21/25\n",
            "1719/1719 [==============================] - 5s 3ms/step - loss: 0.1740 - accuracy: 0.9470 - val_loss: 0.5097 - val_accuracy: 0.8852\n",
            "Epoch 22/25\n",
            "1719/1719 [==============================] - 5s 3ms/step - loss: 0.1668 - accuracy: 0.9474 - val_loss: 0.5161 - val_accuracy: 0.8898\n",
            "Epoch 23/25\n",
            "1719/1719 [==============================] - 4s 2ms/step - loss: 0.1571 - accuracy: 0.9530 - val_loss: 0.5381 - val_accuracy: 0.8886\n",
            "Epoch 24/25\n",
            "1719/1719 [==============================] - 4s 2ms/step - loss: 0.1444 - accuracy: 0.9575 - val_loss: 0.5415 - val_accuracy: 0.8910\n",
            "Epoch 25/25\n",
            "1719/1719 [==============================] - 5s 3ms/step - loss: 0.1447 - accuracy: 0.9569 - val_loss: 0.5833 - val_accuracy: 0.8880\n"
          ],
          "name": "stdout"
        }
      ]
    },
    {
      "cell_type": "code",
      "metadata": {
        "id": "9QveMsEgpqjL"
      },
      "source": [
        "n_steps = n_epochs * len(X_train) // 32\n",
        "steps = np.arange(n_steps)\n",
        "lrs = lr0 * 0.1**(steps / s)"
      ],
      "execution_count": null,
      "outputs": []
    },
    {
      "cell_type": "code",
      "metadata": {
        "scrolled": true,
        "id": "7ARq3MZJpqjL",
        "outputId": "4349d076-e801-44d5-da18-b9b4c50cfd7c"
      },
      "source": [
        "plt.plot(steps, lrs, \"-\", linewidth=2)\n",
        "plt.axis([0, n_steps - 1, 0, lr0 * 1.1])\n",
        "plt.xlabel(\"Batch\")\n",
        "plt.ylabel(\"Learning Rate\")\n",
        "plt.title(\"Exponential Scheduling (per batch)\", fontsize=14)\n",
        "plt.grid(True)\n",
        "plt.show()"
      ],
      "execution_count": null,
      "outputs": [
        {
          "output_type": "display_data",
          "data": {
            "image/png": "[encoded data removed]",
            "text/plain": [
              "<Figure size 432x288 with 1 Axes>"
            ]
          },
          "metadata": {
            "tags": [],
            "needs_background": "light"
          }
        }
      ]
    },
    {
      "cell_type": "markdown",
      "metadata": {
        "id": "D-R560ynpqjM"
      },
      "source": [
        "### Piecewise Constant Scheduling"
      ]
    },
    {
      "cell_type": "code",
      "metadata": {
        "id": "h27Pcn7HpqjM"
      },
      "source": [
        "def piecewise_constant_fn(epoch):\n",
        "    if epoch < 5:\n",
        "        return 0.01\n",
        "    elif epoch < 15:\n",
        "        return 0.005\n",
        "    else:\n",
        "        return 0.001"
      ],
      "execution_count": null,
      "outputs": []
    },
    {
      "cell_type": "code",
      "metadata": {
        "id": "wz41aEXMpqjM"
      },
      "source": [
        "def piecewise_constant(boundaries, values):\n",
        "    boundaries = np.array([0] + boundaries)\n",
        "    values = np.array(values)\n",
        "    def piecewise_constant_fn(epoch):\n",
        "        return values[np.argmax(boundaries > epoch) - 1]\n",
        "    return piecewise_constant_fn\n",
        "\n",
        "piecewise_constant_fn = piecewise_constant([5, 15], [0.01, 0.005, 0.001])"
      ],
      "execution_count": null,
      "outputs": []
    },
    {
      "cell_type": "code",
      "metadata": {
        "id": "v0ljxls5pqjM",
        "outputId": "a4b9ac60-a009-4798-bc3f-06a4ed7488b4"
      },
      "source": [
        "lr_scheduler = keras.callbacks.LearningRateScheduler(piecewise_constant_fn)\n",
        "\n",
        "model = keras.models.Sequential([\n",
        "    keras.layers.Flatten(input_shape=[28, 28]),\n",
        "    keras.layers.Dense(300, activation=\"selu\", kernel_initializer=\"lecun_normal\"),\n",
        "    keras.layers.Dense(100, activation=\"selu\", kernel_initializer=\"lecun_normal\"),\n",
        "    keras.layers.Dense(10, activation=\"softmax\")\n",
        "])\n",
        "model.compile(loss=\"sparse_categorical_crossentropy\", optimizer=\"nadam\", metrics=[\"accuracy\"])\n",
        "n_epochs = 25\n",
        "history = model.fit(X_train_scaled, y_train, epochs=n_epochs,\n",
        "                    validation_data=(X_valid_scaled, y_valid),\n",
        "                    callbacks=[lr_scheduler])"
      ],
      "execution_count": null,
      "outputs": [
        {
          "output_type": "stream",
          "text": [
            "Epoch 1/25\n",
            "1719/1719 [==============================] - 4s 2ms/step - loss: 1.1511 - accuracy: 0.7326 - val_loss: 0.8456 - val_accuracy: 0.7410\n",
            "Epoch 2/25\n",
            "1719/1719 [==============================] - 4s 2ms/step - loss: 0.7371 - accuracy: 0.7786 - val_loss: 0.6796 - val_accuracy: 0.8092\n",
            "Epoch 3/25\n",
            "1719/1719 [==============================] - 4s 2ms/step - loss: 0.8055 - accuracy: 0.7700 - val_loss: 1.7429 - val_accuracy: 0.4514\n",
            "Epoch 4/25\n",
            "1719/1719 [==============================] - 4s 2ms/step - loss: 1.0351 - accuracy: 0.6826 - val_loss: 0.9870 - val_accuracy: 0.6928\n",
            "Epoch 5/25\n",
            "1719/1719 [==============================] - 4s 2ms/step - loss: 0.9185 - accuracy: 0.7098 - val_loss: 0.8727 - val_accuracy: 0.6932\n",
            "Epoch 6/25\n",
            "1719/1719 [==============================] - 4s 2ms/step - loss: 0.6905 - accuracy: 0.7481 - val_loss: 0.6694 - val_accuracy: 0.7696\n",
            "Epoch 7/25\n",
            "1719/1719 [==============================] - 4s 2ms/step - loss: 0.6115 - accuracy: 0.7713 - val_loss: 0.6956 - val_accuracy: 0.7306\n",
            "Epoch 8/25\n",
            "1719/1719 [==============================] - 4s 2ms/step - loss: 0.5791 - accuracy: 0.7793 - val_loss: 0.6659 - val_accuracy: 0.7738\n",
            "Epoch 9/25\n",
            "1719/1719 [==============================] - 4s 2ms/step - loss: 0.5622 - accuracy: 0.7881 - val_loss: 0.7363 - val_accuracy: 0.7850\n",
            "Epoch 10/25\n",
            "1719/1719 [==============================] - 4s 2ms/step - loss: 0.5253 - accuracy: 0.8470 - val_loss: 0.5484 - val_accuracy: 0.8578\n",
            "Epoch 11/25\n",
            "1719/1719 [==============================] - 4s 2ms/step - loss: 0.4401 - accuracy: 0.8694 - val_loss: 0.6724 - val_accuracy: 0.8602\n",
            "Epoch 12/25\n",
            "1719/1719 [==============================] - 4s 3ms/step - loss: 0.4334 - accuracy: 0.8732 - val_loss: 0.5551 - val_accuracy: 0.8504\n",
            "Epoch 13/25\n",
            "1719/1719 [==============================] - 5s 3ms/step - loss: 0.4179 - accuracy: 0.8771 - val_loss: 0.6685 - val_accuracy: 0.8554\n",
            "Epoch 14/25\n",
            "1719/1719 [==============================] - 5s 3ms/step - loss: 0.4300 - accuracy: 0.8775 - val_loss: 0.5340 - val_accuracy: 0.8584\n",
            "Epoch 15/25\n",
            "1719/1719 [==============================] - 4s 2ms/step - loss: 0.4069 - accuracy: 0.8777 - val_loss: 0.6519 - val_accuracy: 0.8478\n",
            "Epoch 16/25\n",
            "1719/1719 [==============================] - 5s 3ms/step - loss: 0.3349 - accuracy: 0.8953 - val_loss: 0.4801 - val_accuracy: 0.8778\n",
            "Epoch 17/25\n",
            "1719/1719 [==============================] - 4s 3ms/step - loss: 0.2695 - accuracy: 0.9109 - val_loss: 0.4880 - val_accuracy: 0.8786\n",
            "Epoch 18/25\n",
            "1719/1719 [==============================] - 5s 3ms/step - loss: 0.2568 - accuracy: 0.9136 - val_loss: 0.4726 - val_accuracy: 0.8822\n",
            "Epoch 19/25\n",
            "1719/1719 [==============================] - 5s 3ms/step - loss: 0.2436 - accuracy: 0.9203 - val_loss: 0.4792 - val_accuracy: 0.8842\n",
            "Epoch 20/25\n",
            "1719/1719 [==============================] - 4s 3ms/step - loss: 0.2421 - accuracy: 0.9212 - val_loss: 0.5088 - val_accuracy: 0.8838\n",
            "Epoch 21/25\n",
            "1719/1719 [==============================] - 4s 3ms/step - loss: 0.2288 - accuracy: 0.9246 - val_loss: 0.5083 - val_accuracy: 0.8830\n",
            "Epoch 22/25\n",
            "1719/1719 [==============================] - 4s 2ms/step - loss: 0.2215 - accuracy: 0.9270 - val_loss: 0.5217 - val_accuracy: 0.8846\n",
            "Epoch 23/25\n",
            "1719/1719 [==============================] - 4s 2ms/step - loss: 0.2106 - accuracy: 0.9297 - val_loss: 0.5297 - val_accuracy: 0.8834\n",
            "Epoch 24/25\n",
            "1719/1719 [==============================] - 4s 2ms/step - loss: 0.2002 - accuracy: 0.9334 - val_loss: 0.5597 - val_accuracy: 0.8864\n",
            "Epoch 25/25\n",
            "1719/1719 [==============================] - 4s 2ms/step - loss: 0.2005 - accuracy: 0.9350 - val_loss: 0.5533 - val_accuracy: 0.8868\n"
          ],
          "name": "stdout"
        }
      ]
    },
    {
      "cell_type": "code",
      "metadata": {
        "id": "1_DU_xk9pqjM",
        "outputId": "27d5e615-00c1-45a1-8334-3a9160a620da"
      },
      "source": [
        "plt.plot(history.epoch, [piecewise_constant_fn(epoch) for epoch in history.epoch], \"o-\")\n",
        "plt.axis([0, n_epochs - 1, 0, 0.011])\n",
        "plt.xlabel(\"Epoch\")\n",
        "plt.ylabel(\"Learning Rate\")\n",
        "plt.title(\"Piecewise Constant Scheduling\", fontsize=14)\n",
        "plt.grid(True)\n",
        "plt.show()"
      ],
      "execution_count": null,
      "outputs": [
        {
          "output_type": "display_data",
          "data": {
            "image/png": "[encoded data removed]",
            "text/plain": [
              "<Figure size 432x288 with 1 Axes>"
            ]
          },
          "metadata": {
            "tags": [],
            "needs_background": "light"
          }
        }
      ]
    },
    {
      "cell_type": "markdown",
      "metadata": {
        "id": "K7lW1kQcpqjN"
      },
      "source": [
        "### Performance Scheduling"
      ]
    },
    {
      "cell_type": "code",
      "metadata": {
        "id": "u7uE_DhIpqjN"
      },
      "source": [
        "tf.random.set_seed(42)\n",
        "np.random.seed(42)"
      ],
      "execution_count": null,
      "outputs": []
    },
    {
      "cell_type": "code",
      "metadata": {
        "id": "C_ebfL9hpqjN",
        "outputId": "8a45ff01-bfec-47f3-fcea-ac9318fc3965"
      },
      "source": [
        "lr_scheduler = keras.callbacks.ReduceLROnPlateau(factor=0.5, patience=5)\n",
        "\n",
        "model = keras.models.Sequential([\n",
        "    keras.layers.Flatten(input_shape=[28, 28]),\n",
        "    keras.layers.Dense(300, activation=\"selu\", kernel_initializer=\"lecun_normal\"),\n",
        "    keras.layers.Dense(100, activation=\"selu\", kernel_initializer=\"lecun_normal\"),\n",
        "    keras.layers.Dense(10, activation=\"softmax\")\n",
        "])\n",
        "optimizer = keras.optimizers.SGD(lr=0.02, momentum=0.9)\n",
        "model.compile(loss=\"sparse_categorical_crossentropy\", optimizer=optimizer, metrics=[\"accuracy\"])\n",
        "n_epochs = 25\n",
        "history = model.fit(X_train_scaled, y_train, epochs=n_epochs,\n",
        "                    validation_data=(X_valid_scaled, y_valid),\n",
        "                    callbacks=[lr_scheduler])"
      ],
      "execution_count": null,
      "outputs": [
        {
          "output_type": "stream",
          "text": [
            "Epoch 1/25\n",
            "1719/1719 [==============================] - 2s 1ms/step - loss: 0.7116 - accuracy: 0.7769 - val_loss: 0.4869 - val_accuracy: 0.8478\n",
            "Epoch 2/25\n",
            "1719/1719 [==============================] - 2s 947us/step - loss: 0.4912 - accuracy: 0.8390 - val_loss: 0.5958 - val_accuracy: 0.8270\n",
            "Epoch 3/25\n",
            "1719/1719 [==============================] - 2s 987us/step - loss: 0.5222 - accuracy: 0.8379 - val_loss: 0.4869 - val_accuracy: 0.8584\n",
            "Epoch 4/25\n",
            "1719/1719 [==============================] - 2s 1ms/step - loss: 0.5061 - accuracy: 0.8467 - val_loss: 0.4588 - val_accuracy: 0.8548\n",
            "Epoch 5/25\n",
            "1719/1719 [==============================] - 2s 1ms/step - loss: 0.5216 - accuracy: 0.8469 - val_loss: 0.6096 - val_accuracy: 0.8300\n",
            "Epoch 6/25\n",
            "1719/1719 [==============================] - 2s 1ms/step - loss: 0.4984 - accuracy: 0.8546 - val_loss: 0.5359 - val_accuracy: 0.8498\n",
            "Epoch 7/25\n",
            "1719/1719 [==============================] - 2s 1ms/step - loss: 0.5104 - accuracy: 0.8579 - val_loss: 0.5457 - val_accuracy: 0.8522\n",
            "Epoch 8/25\n",
            "1719/1719 [==============================] - 2s 1ms/step - loss: 0.5375 - accuracy: 0.8538 - val_loss: 0.6445 - val_accuracy: 0.8218\n",
            "Epoch 9/25\n",
            "1719/1719 [==============================] - 2s 1ms/step - loss: 0.5333 - accuracy: 0.8522 - val_loss: 0.5472 - val_accuracy: 0.8560\n",
            "Epoch 10/25\n",
            "1719/1719 [==============================] - 2s 1ms/step - loss: 0.3280 - accuracy: 0.8902 - val_loss: 0.3826 - val_accuracy: 0.8876\n",
            "Epoch 11/25\n",
            "1719/1719 [==============================] - 2s 1ms/step - loss: 0.2410 - accuracy: 0.9135 - val_loss: 0.4025 - val_accuracy: 0.8876\n",
            "Epoch 12/25\n",
            "1719/1719 [==============================] - 2s 1ms/step - loss: 0.2266 - accuracy: 0.9180 - val_loss: 0.4540 - val_accuracy: 0.8694\n",
            "Epoch 13/25\n",
            "1719/1719 [==============================] - 2s 1ms/step - loss: 0.2129 - accuracy: 0.9221 - val_loss: 0.4310 - val_accuracy: 0.8866\n",
            "Epoch 14/25\n",
            "1719/1719 [==============================] - 2s 1ms/step - loss: 0.1959 - accuracy: 0.9270 - val_loss: 0.4406 - val_accuracy: 0.8814\n",
            "Epoch 15/25\n",
            "1719/1719 [==============================] - 2s 1ms/step - loss: 0.1975 - accuracy: 0.9277 - val_loss: 0.4341 - val_accuracy: 0.8840\n",
            "Epoch 16/25\n",
            "1719/1719 [==============================] - 2s 1ms/step - loss: 0.1409 - accuracy: 0.9464 - val_loss: 0.4220 - val_accuracy: 0.8932\n",
            "Epoch 17/25\n",
            "1719/1719 [==============================] - 2s 1ms/step - loss: 0.1181 - accuracy: 0.9542 - val_loss: 0.4409 - val_accuracy: 0.8948\n",
            "Epoch 18/25\n",
            "1719/1719 [==============================] - 2s 1ms/step - loss: 0.1124 - accuracy: 0.9560 - val_loss: 0.4480 - val_accuracy: 0.8898\n",
            "Epoch 19/25\n",
            "1719/1719 [==============================] - 2s 1ms/step - loss: 0.1070 - accuracy: 0.9579 - val_loss: 0.4610 - val_accuracy: 0.8932\n",
            "Epoch 20/25\n",
            "1719/1719 [==============================] - 2s 1ms/step - loss: 0.1016 - accuracy: 0.9606 - val_loss: 0.4845 - val_accuracy: 0.8918\n",
            "Epoch 21/25\n",
            "1719/1719 [==============================] - 2s 1ms/step - loss: 0.0848 - accuracy: 0.9686 - val_loss: 0.4829 - val_accuracy: 0.8934\n",
            "Epoch 22/25\n",
            "1719/1719 [==============================] - 2s 1ms/step - loss: 0.0792 - accuracy: 0.9700 - val_loss: 0.4906 - val_accuracy: 0.8952\n",
            "Epoch 23/25\n",
            "1719/1719 [==============================] - 2s 1ms/step - loss: 0.0751 - accuracy: 0.9720 - val_loss: 0.4951 - val_accuracy: 0.8950\n",
            "Epoch 24/25\n",
            "1719/1719 [==============================] - 2s 1ms/step - loss: 0.0687 - accuracy: 0.9739 - val_loss: 0.5109 - val_accuracy: 0.8948\n",
            "Epoch 25/25\n",
            "1719/1719 [==============================] - 2s 1ms/step - loss: 0.0683 - accuracy: 0.9752 - val_loss: 0.5241 - val_accuracy: 0.8936\n"
          ],
          "name": "stdout"
        }
      ]
    },
    {
      "cell_type": "code",
      "metadata": {
        "id": "YVTFqreCpqjN",
        "outputId": "2e84fb2d-560a-4273-887f-0d85c344f79f"
      },
      "source": [
        "plt.plot(history.epoch, history.history[\"lr\"], \"bo-\")\n",
        "plt.xlabel(\"Epoch\")\n",
        "plt.ylabel(\"Learning Rate\", color='b')\n",
        "plt.tick_params('y', colors='b')\n",
        "plt.gca().set_xlim(0, n_epochs - 1)\n",
        "plt.grid(True)\n",
        "\n",
        "ax2 = plt.gca().twinx()\n",
        "ax2.plot(history.epoch, history.history[\"val_loss\"], \"r^-\")\n",
        "ax2.set_ylabel('Validation Loss', color='r')\n",
        "ax2.tick_params('y', colors='r')\n",
        "\n",
        "plt.title(\"Reduce LR on Plateau\", fontsize=14)\n",
        "plt.show()"
      ],
      "execution_count": null,
      "outputs": [
        {
          "output_type": "display_data",
          "data": {
            "image/png": "[encoded data removed]",
            "text/plain": [
              "<Figure size 432x288 with 2 Axes>"
            ]
          },
          "metadata": {
            "tags": [],
            "needs_background": "light"
          }
        }
      ]
    },
    {
      "cell_type": "markdown",
      "metadata": {
        "id": "xTrcxLHFpqjO"
      },
      "source": [
        "### tf.keras schedulers"
      ]
    },
    {
      "cell_type": "code",
      "metadata": {
        "id": "bgAiKFeapqjO",
        "outputId": "9b92afcd-0a75-4f43-990a-b5c338e86921"
      },
      "source": [
        "model = keras.models.Sequential([\n",
        "    keras.layers.Flatten(input_shape=[28, 28]),\n",
        "    keras.layers.Dense(300, activation=\"selu\", kernel_initializer=\"lecun_normal\"),\n",
        "    keras.layers.Dense(100, activation=\"selu\", kernel_initializer=\"lecun_normal\"),\n",
        "    keras.layers.Dense(10, activation=\"softmax\")\n",
        "])\n",
        "s = 20 * len(X_train) // 32 # number of steps in 20 epochs (batch size = 32)\n",
        "learning_rate = keras.optimizers.schedules.ExponentialDecay(0.01, s, 0.1)\n",
        "optimizer = keras.optimizers.SGD(learning_rate)\n",
        "model.compile(loss=\"sparse_categorical_crossentropy\", optimizer=optimizer, metrics=[\"accuracy\"])\n",
        "n_epochs = 25\n",
        "history = model.fit(X_train_scaled, y_train, epochs=n_epochs,\n",
        "                    validation_data=(X_valid_scaled, y_valid))"
      ],
      "execution_count": null,
      "outputs": [
        {
          "output_type": "stream",
          "text": [
            "Epoch 1/25\n",
            "1719/1719 [==============================] - 2s 1ms/step - loss: 0.5995 - accuracy: 0.7923 - val_loss: 0.4095 - val_accuracy: 0.8606\n",
            "Epoch 2/25\n",
            "1719/1719 [==============================] - 2s 1ms/step - loss: 0.3890 - accuracy: 0.8613 - val_loss: 0.3738 - val_accuracy: 0.8692\n",
            "Epoch 3/25\n",
            "1719/1719 [==============================] - 2s 1ms/step - loss: 0.3530 - accuracy: 0.8772 - val_loss: 0.3735 - val_accuracy: 0.8692\n",
            "Epoch 4/25\n",
            "1719/1719 [==============================] - 2s 1ms/step - loss: 0.3296 - accuracy: 0.8813 - val_loss: 0.3494 - val_accuracy: 0.8798\n",
            "Epoch 5/25\n",
            "1719/1719 [==============================] - 2s 1ms/step - loss: 0.3178 - accuracy: 0.8867 - val_loss: 0.3430 - val_accuracy: 0.8794\n",
            "Epoch 6/25\n",
            "1719/1719 [==============================] - 2s 1ms/step - loss: 0.2930 - accuracy: 0.8951 - val_loss: 0.3414 - val_accuracy: 0.8826\n",
            "Epoch 7/25\n",
            "1719/1719 [==============================] - 2s 1ms/step - loss: 0.2854 - accuracy: 0.8985 - val_loss: 0.3354 - val_accuracy: 0.8810\n",
            "Epoch 8/25\n",
            "1719/1719 [==============================] - 2s 1ms/step - loss: 0.2714 - accuracy: 0.9039 - val_loss: 0.3364 - val_accuracy: 0.8824\n",
            "Epoch 9/25\n",
            "1719/1719 [==============================] - 2s 1ms/step - loss: 0.2714 - accuracy: 0.9047 - val_loss: 0.3265 - val_accuracy: 0.8846\n",
            "Epoch 10/25\n",
            "1719/1719 [==============================] - 2s 1ms/step - loss: 0.2570 - accuracy: 0.9084 - val_loss: 0.3238 - val_accuracy: 0.8854\n",
            "Epoch 11/25\n",
            "1719/1719 [==============================] - 2s 1ms/step - loss: 0.2502 - accuracy: 0.9117 - val_loss: 0.3250 - val_accuracy: 0.8862\n",
            "Epoch 12/25\n",
            "1719/1719 [==============================] - 2s 1ms/step - loss: 0.2453 - accuracy: 0.9145 - val_loss: 0.3299 - val_accuracy: 0.8830\n",
            "Epoch 13/25\n",
            "1719/1719 [==============================] - 2s 1ms/step - loss: 0.2408 - accuracy: 0.9154 - val_loss: 0.3219 - val_accuracy: 0.8870\n",
            "Epoch 14/25\n",
            "1719/1719 [==============================] - 2s 1ms/step - loss: 0.2380 - accuracy: 0.9154 - val_loss: 0.3221 - val_accuracy: 0.8860\n",
            "Epoch 15/25\n",
            "1719/1719 [==============================] - 2s 1ms/step - loss: 0.2378 - accuracy: 0.9166 - val_loss: 0.3208 - val_accuracy: 0.8864\n",
            "Epoch 16/25\n",
            "1719/1719 [==============================] - 2s 1ms/step - loss: 0.2318 - accuracy: 0.9191 - val_loss: 0.3184 - val_accuracy: 0.8892\n",
            "Epoch 17/25\n",
            "1719/1719 [==============================] - 2s 1ms/step - loss: 0.2266 - accuracy: 0.9212 - val_loss: 0.3197 - val_accuracy: 0.8906\n",
            "Epoch 18/25\n",
            "1719/1719 [==============================] - 2s 1ms/step - loss: 0.2284 - accuracy: 0.9185 - val_loss: 0.3169 - val_accuracy: 0.8906\n",
            "Epoch 19/25\n",
            "1719/1719 [==============================] - 2s 1ms/step - loss: 0.2286 - accuracy: 0.9205 - val_loss: 0.3197 - val_accuracy: 0.8884\n",
            "Epoch 20/25\n",
            "1719/1719 [==============================] - 2s 1ms/step - loss: 0.2288 - accuracy: 0.9211 - val_loss: 0.3169 - val_accuracy: 0.8906\n",
            "Epoch 21/25\n",
            "1719/1719 [==============================] - 2s 1ms/step - loss: 0.2265 - accuracy: 0.9212 - val_loss: 0.3179 - val_accuracy: 0.8904\n",
            "Epoch 22/25\n",
            "1719/1719 [==============================] - 2s 1ms/step - loss: 0.2258 - accuracy: 0.9205 - val_loss: 0.3163 - val_accuracy: 0.8914\n",
            "Epoch 23/25\n",
            "1719/1719 [==============================] - 2s 1ms/step - loss: 0.2224 - accuracy: 0.9226 - val_loss: 0.3170 - val_accuracy: 0.8904\n",
            "Epoch 24/25\n",
            "1719/1719 [==============================] - 2s 1ms/step - loss: 0.2182 - accuracy: 0.9244 - val_loss: 0.3165 - val_accuracy: 0.8898\n",
            "Epoch 25/25\n",
            "1719/1719 [==============================] - 2s 1ms/step - loss: 0.2224 - accuracy: 0.9229 - val_loss: 0.3164 - val_accuracy: 0.8904\n"
          ],
          "name": "stdout"
        }
      ]
    },
    {
      "cell_type": "markdown",
      "metadata": {
        "id": "ky-nimLVpqjO"
      },
      "source": [
        "For piecewise constant scheduling, try this:"
      ]
    },
    {
      "cell_type": "code",
      "metadata": {
        "id": "g82xv3YZpqjO"
      },
      "source": [
        "learning_rate = keras.optimizers.schedules.PiecewiseConstantDecay(\n",
        "    boundaries=[5. * n_steps_per_epoch, 15. * n_steps_per_epoch],\n",
        "    values=[0.01, 0.005, 0.001])"
      ],
      "execution_count": null,
      "outputs": []
    },
    {
      "cell_type": "markdown",
      "metadata": {
        "id": "q2cIxEfTpqjO"
      },
      "source": [
        "### 1Cycle scheduling"
      ]
    },
    {
      "cell_type": "code",
      "metadata": {
        "id": "3jLlsZUNpqjP"
      },
      "source": [
        "K = keras.backend\n",
        "\n",
        "class ExponentialLearningRate(keras.callbacks.Callback):\n",
        "    def __init__(self, factor):\n",
        "        self.factor = factor\n",
        "        self.rates = []\n",
        "        self.losses = []\n",
        "    def on_batch_end(self, batch, logs):\n",
        "        self.rates.append(K.get_value(self.model.optimizer.lr))\n",
        "        self.losses.append(logs[\"loss\"])\n",
        "        K.set_value(self.model.optimizer.lr, self.model.optimizer.lr * self.factor)\n",
        "\n",
        "def find_learning_rate(model, X, y, epochs=1, batch_size=32, min_rate=10**-5, max_rate=10):\n",
        "    init_weights = model.get_weights()\n",
        "    iterations = math.ceil(len(X) / batch_size) * epochs\n",
        "    factor = np.exp(np.log(max_rate / min_rate) / iterations)\n",
        "    init_lr = K.get_value(model.optimizer.lr)\n",
        "    K.set_value(model.optimizer.lr, min_rate)\n",
        "    exp_lr = ExponentialLearningRate(factor)\n",
        "    history = model.fit(X, y, epochs=epochs, batch_size=batch_size,\n",
        "                        callbacks=[exp_lr])\n",
        "    K.set_value(model.optimizer.lr, init_lr)\n",
        "    model.set_weights(init_weights)\n",
        "    return exp_lr.rates, exp_lr.losses\n",
        "\n",
        "def plot_lr_vs_loss(rates, losses):\n",
        "    plt.plot(rates, losses)\n",
        "    plt.gca().set_xscale('log')\n",
        "    plt.hlines(min(losses), min(rates), max(rates))\n",
        "    plt.axis([min(rates), max(rates), min(losses), (losses[0] + min(losses)) / 2])\n",
        "    plt.xlabel(\"Learning rate\")\n",
        "    plt.ylabel(\"Loss\")"
      ],
      "execution_count": null,
      "outputs": []
    },
    {
      "cell_type": "markdown",
      "metadata": {
        "id": "1DrYTGWcpqjP"
      },
      "source": [
        "**Warning**: In the `on_batch_end()` method, `logs[\"loss\"]` used to contain the batch loss, but in TensorFlow 2.2.0 it was replaced with the mean loss (since the start of the epoch). This explains why the graph below is much smoother than in the book (if you are using TF 2.2 or above). It also means that there is a lag between the moment the batch loss starts exploding and the moment the explosion becomes clear in the graph. So you should choose a slightly smaller learning rate than you would have chosen with the \"noisy\" graph. Alternatively, you can tweak the `ExponentialLearningRate` callback above so it computes the batch loss (based on the current mean loss and the previous mean loss):\n",
        "\n",
        "```python\n",
        "class ExponentialLearningRate(keras.callbacks.Callback):\n",
        "    def __init__(self, factor):\n",
        "        self.factor = factor\n",
        "        self.rates = []\n",
        "        self.losses = []\n",
        "    def on_epoch_begin(self, epoch, logs=None):\n",
        "        self.prev_loss = 0\n",
        "    def on_batch_end(self, batch, logs=None):\n",
        "        batch_loss = logs[\"loss\"] * (batch + 1) - self.prev_loss * batch\n",
        "        self.prev_loss = logs[\"loss\"]\n",
        "        self.rates.append(K.get_value(self.model.optimizer.lr))\n",
        "        self.losses.append(batch_loss)\n",
        "        K.set_value(self.model.optimizer.lr, self.model.optimizer.lr * self.factor)\n",
        "```"
      ]
    },
    {
      "cell_type": "code",
      "metadata": {
        "id": "wXrit54RpqjP"
      },
      "source": [
        "tf.random.set_seed(42)\n",
        "np.random.seed(42)\n",
        "\n",
        "model = keras.models.Sequential([\n",
        "    keras.layers.Flatten(input_shape=[28, 28]),\n",
        "    keras.layers.Dense(300, activation=\"selu\", kernel_initializer=\"lecun_normal\"),\n",
        "    keras.layers.Dense(100, activation=\"selu\", kernel_initializer=\"lecun_normal\"),\n",
        "    keras.layers.Dense(10, activation=\"softmax\")\n",
        "])\n",
        "model.compile(loss=\"sparse_categorical_crossentropy\",\n",
        "              optimizer=keras.optimizers.SGD(lr=1e-3),\n",
        "              metrics=[\"accuracy\"])"
      ],
      "execution_count": null,
      "outputs": []
    },
    {
      "cell_type": "code",
      "metadata": {
        "id": "mSVWjGtEpqjP",
        "outputId": "db0c13ec-8d0b-4001-8166-78f6a344ab5e"
      },
      "source": [
        "batch_size = 128\n",
        "rates, losses = find_learning_rate(model, X_train_scaled, y_train, epochs=1, batch_size=batch_size)\n",
        "plot_lr_vs_loss(rates, losses)"
      ],
      "execution_count": null,
      "outputs": [
        {
          "output_type": "stream",
          "text": [
            "430/430 [==============================] - 1s 2ms/step - loss: nan - accuracy: 0.3120\n"
          ],
          "name": "stdout"
        },
        {
          "output_type": "display_data",
          "data": {
            "image/png": "[encoded data removed]",
            "text/plain": [
              "<Figure size 432x288 with 1 Axes>"
            ]
          },
          "metadata": {
            "tags": [],
            "needs_background": "light"
          }
        }
      ]
    },
    {
      "cell_type": "code",
      "metadata": {
        "id": "YfVE1adtpqjP"
      },
      "source": [
        "class OneCycleScheduler(keras.callbacks.Callback):\n",
        "    def __init__(self, iterations, max_rate, start_rate=None,\n",
        "                 last_iterations=None, last_rate=None):\n",
        "        self.iterations = iterations\n",
        "        self.max_rate = max_rate\n",
        "        self.start_rate = start_rate or max_rate / 10\n",
        "        self.last_iterations = last_iterations or iterations // 10 + 1\n",
        "        self.half_iteration = (iterations - self.last_iterations) // 2\n",
        "        self.last_rate = last_rate or self.start_rate / 1000\n",
        "        self.iteration = 0\n",
        "    def _interpolate(self, iter1, iter2, rate1, rate2):\n",
        "        return ((rate2 - rate1) * (self.iteration - iter1)\n",
        "                / (iter2 - iter1) + rate1)\n",
        "    def on_batch_begin(self, batch, logs):\n",
        "        if self.iteration < self.half_iteration:\n",
        "            rate = self._interpolate(0, self.half_iteration, self.start_rate, self.max_rate)\n",
        "        elif self.iteration < 2 * self.half_iteration:\n",
        "            rate = self._interpolate(self.half_iteration, 2 * self.half_iteration,\n",
        "                                     self.max_rate, self.start_rate)\n",
        "        else:\n",
        "            rate = self._interpolate(2 * self.half_iteration, self.iterations,\n",
        "                                     self.start_rate, self.last_rate)\n",
        "        self.iteration += 1\n",
        "        K.set_value(self.model.optimizer.lr, rate)"
      ],
      "execution_count": null,
      "outputs": []
    },
    {
      "cell_type": "code",
      "metadata": {
        "id": "-KPyhRBZpqjQ",
        "outputId": "43fabc82-05d1-4827-b6ab-84f929b1a56c"
      },
      "source": [
        "n_epochs = 25\n",
        "onecycle = OneCycleScheduler(math.ceil(len(X_train) / batch_size) * n_epochs, max_rate=0.05)\n",
        "history = model.fit(X_train_scaled, y_train, epochs=n_epochs, batch_size=batch_size,\n",
        "                    validation_data=(X_valid_scaled, y_valid),\n",
        "                    callbacks=[onecycle])"
      ],
      "execution_count": null,
      "outputs": [
        {
          "output_type": "stream",
          "text": [
            "Epoch 1/25\n",
            "430/430 [==============================] - 1s 2ms/step - loss: 0.6572 - accuracy: 0.7740 - val_loss: 0.4872 - val_accuracy: 0.8338\n",
            "Epoch 2/25\n",
            "430/430 [==============================] - 1s 2ms/step - loss: 0.4580 - accuracy: 0.8397 - val_loss: 0.4274 - val_accuracy: 0.8520\n",
            "Epoch 3/25\n",
            "430/430 [==============================] - 1s 2ms/step - loss: 0.4121 - accuracy: 0.8545 - val_loss: 0.4116 - val_accuracy: 0.8588\n",
            "Epoch 4/25\n",
            "430/430 [==============================] - 1s 2ms/step - loss: 0.3837 - accuracy: 0.8642 - val_loss: 0.3868 - val_accuracy: 0.8688\n",
            "Epoch 5/25\n",
            "430/430 [==============================] - 1s 2ms/step - loss: 0.3639 - accuracy: 0.8719 - val_loss: 0.3766 - val_accuracy: 0.8688\n",
            "Epoch 6/25\n",
            "430/430 [==============================] - 1s 2ms/step - loss: 0.3456 - accuracy: 0.8775 - val_loss: 0.3739 - val_accuracy: 0.8706\n",
            "Epoch 7/25\n",
            "430/430 [==============================] - 1s 2ms/step - loss: 0.3330 - accuracy: 0.8811 - val_loss: 0.3635 - val_accuracy: 0.8708\n",
            "Epoch 8/25\n",
            "430/430 [==============================] - 1s 2ms/step - loss: 0.3184 - accuracy: 0.8861 - val_loss: 0.3959 - val_accuracy: 0.8610\n",
            "Epoch 9/25\n",
            "430/430 [==============================] - 1s 2ms/step - loss: 0.3065 - accuracy: 0.8890 - val_loss: 0.3475 - val_accuracy: 0.8770\n",
            "Epoch 10/25\n",
            "430/430 [==============================] - 1s 2ms/step - loss: 0.2943 - accuracy: 0.8927 - val_loss: 0.3392 - val_accuracy: 0.8806\n",
            "Epoch 11/25\n",
            "430/430 [==============================] - 1s 2ms/step - loss: 0.2838 - accuracy: 0.8963 - val_loss: 0.3467 - val_accuracy: 0.8800\n",
            "Epoch 12/25\n",
            "430/430 [==============================] - 1s 2ms/step - loss: 0.2707 - accuracy: 0.9024 - val_loss: 0.3646 - val_accuracy: 0.8696\n",
            "Epoch 13/25\n",
            "430/430 [==============================] - 1s 2ms/step - loss: 0.2536 - accuracy: 0.9079 - val_loss: 0.3350 - val_accuracy: 0.8842\n",
            "Epoch 14/25\n",
            "430/430 [==============================] - 1s 2ms/step - loss: 0.2405 - accuracy: 0.9135 - val_loss: 0.3465 - val_accuracy: 0.8794\n",
            "Epoch 15/25\n",
            "430/430 [==============================] - 1s 2ms/step - loss: 0.2279 - accuracy: 0.9185 - val_loss: 0.3257 - val_accuracy: 0.8830\n",
            "Epoch 16/25\n",
            "430/430 [==============================] - 1s 2ms/step - loss: 0.2159 - accuracy: 0.9232 - val_loss: 0.3294 - val_accuracy: 0.8824\n",
            "Epoch 17/25\n",
            "430/430 [==============================] - 1s 2ms/step - loss: 0.2062 - accuracy: 0.9263 - val_loss: 0.3333 - val_accuracy: 0.8882\n",
            "Epoch 18/25\n",
            "430/430 [==============================] - 1s 2ms/step - loss: 0.1978 - accuracy: 0.9301 - val_loss: 0.3235 - val_accuracy: 0.8898\n",
            "Epoch 19/25\n",
            "430/430 [==============================] - 1s 2ms/step - loss: 0.1892 - accuracy: 0.9337 - val_loss: 0.3233 - val_accuracy: 0.8906\n",
            "Epoch 20/25\n",
            "430/430 [==============================] - 1s 2ms/step - loss: 0.1821 - accuracy: 0.9365 - val_loss: 0.3224 - val_accuracy: 0.8928\n",
            "Epoch 21/25\n",
            "430/430 [==============================] - 1s 2ms/step - loss: 0.1752 - accuracy: 0.9400 - val_loss: 0.3220 - val_accuracy: 0.8908\n",
            "Epoch 22/25\n",
            "430/430 [==============================] - 1s 2ms/step - loss: 0.1700 - accuracy: 0.9416 - val_loss: 0.3180 - val_accuracy: 0.8962\n",
            "Epoch 23/25\n",
            "430/430 [==============================] - 1s 2ms/step - loss: 0.1655 - accuracy: 0.9438 - val_loss: 0.3187 - val_accuracy: 0.8940\n",
            "Epoch 24/25\n",
            "430/430 [==============================] - 1s 2ms/step - loss: 0.1627 - accuracy: 0.9454 - val_loss: 0.3177 - val_accuracy: 0.8932\n",
            "Epoch 25/25\n",
            "430/430 [==============================] - 1s 2ms/step - loss: 0.1610 - accuracy: 0.9462 - val_loss: 0.3170 - val_accuracy: 0.8934\n"
          ],
          "name": "stdout"
        }
      ]
    },
    {
      "cell_type": "markdown",
      "metadata": {
        "id": "pmvH3NvcpqjQ"
      },
      "source": [
        "# Avoiding Overfitting Through Regularization"
      ]
    },
    {
      "cell_type": "markdown",
      "metadata": {
        "id": "TEMu83HopqjQ"
      },
      "source": [
        "## $\\ell_1$ and $\\ell_2$ regularization"
      ]
    },
    {
      "cell_type": "code",
      "metadata": {
        "id": "EAnGZ28ypqjQ"
      },
      "source": [
        "layer = keras.layers.Dense(100, activation=\"elu\",\n",
        "                           kernel_initializer=\"he_normal\",\n",
        "                           kernel_regularizer=keras.regularizers.l2(0.01))\n",
        "# or l1(0.1) for ℓ1 regularization with a factor or 0.1\n",
        "# or l1_l2(0.1, 0.01) for both ℓ1 and ℓ2 regularization, with factors 0.1 and 0.01 respectively"
      ],
      "execution_count": null,
      "outputs": []
    },
    {
      "cell_type": "code",
      "metadata": {
        "id": "sIru2aYxpqjQ",
        "outputId": "ac9688cb-76c6-45c4-b92b-9cd638265e25"
      },
      "source": [
        "model = keras.models.Sequential([\n",
        "    keras.layers.Flatten(input_shape=[28, 28]),\n",
        "    keras.layers.Dense(300, activation=\"elu\",\n",
        "                       kernel_initializer=\"he_normal\",\n",
        "                       kernel_regularizer=keras.regularizers.l2(0.01)),\n",
        "    keras.layers.Dense(100, activation=\"elu\",\n",
        "                       kernel_initializer=\"he_normal\",\n",
        "                       kernel_regularizer=keras.regularizers.l2(0.01)),\n",
        "    keras.layers.Dense(10, activation=\"softmax\",\n",
        "                       kernel_regularizer=keras.regularizers.l2(0.01))\n",
        "])\n",
        "model.compile(loss=\"sparse_categorical_crossentropy\", optimizer=\"nadam\", metrics=[\"accuracy\"])\n",
        "n_epochs = 2\n",
        "history = model.fit(X_train_scaled, y_train, epochs=n_epochs,\n",
        "                    validation_data=(X_valid_scaled, y_valid))"
      ],
      "execution_count": null,
      "outputs": [
        {
          "output_type": "stream",
          "text": [
            "Epoch 1/2\n",
            "1719/1719 [==============================] - 6s 3ms/step - loss: 3.2189 - accuracy: 0.7967 - val_loss: 0.7169 - val_accuracy: 0.8340\n",
            "Epoch 2/2\n",
            "1719/1719 [==============================] - 5s 3ms/step - loss: 0.7280 - accuracy: 0.8247 - val_loss: 0.6850 - val_accuracy: 0.8376\n"
          ],
          "name": "stdout"
        }
      ]
    },
    {
      "cell_type": "code",
      "metadata": {
        "id": "n1UfSRuupqjR",
        "outputId": "f3bbde35-8ddf-4054-a623-c8f03455ef2f"
      },
      "source": [
        "from functools import partial\n",
        "\n",
        "RegularizedDense = partial(keras.layers.Dense,\n",
        "                           activation=\"elu\",\n",
        "                           kernel_initializer=\"he_normal\",\n",
        "                           kernel_regularizer=keras.regularizers.l2(0.01))\n",
        "\n",
        "model = keras.models.Sequential([\n",
        "    keras.layers.Flatten(input_shape=[28, 28]),\n",
        "    RegularizedDense(300),\n",
        "    RegularizedDense(100),\n",
        "    RegularizedDense(10, activation=\"softmax\")\n",
        "])\n",
        "model.compile(loss=\"sparse_categorical_crossentropy\", optimizer=\"nadam\", metrics=[\"accuracy\"])\n",
        "n_epochs = 2\n",
        "history = model.fit(X_train_scaled, y_train, epochs=n_epochs,\n",
        "                    validation_data=(X_valid_scaled, y_valid))"
      ],
      "execution_count": null,
      "outputs": [
        {
          "output_type": "stream",
          "text": [
            "Epoch 1/2\n",
            "1719/1719 [==============================] - 6s 3ms/step - loss: 3.2911 - accuracy: 0.7924 - val_loss: 0.7218 - val_accuracy: 0.8310\n",
            "Epoch 2/2\n",
            "1719/1719 [==============================] - 5s 3ms/step - loss: 0.7282 - accuracy: 0.8245 - val_loss: 0.6826 - val_accuracy: 0.8382\n"
          ],
          "name": "stdout"
        }
      ]
    },
    {
      "cell_type": "markdown",
      "metadata": {
        "id": "HoS07anQpqjR"
      },
      "source": [
        "## Dropout"
      ]
    },
    {
      "cell_type": "code",
      "metadata": {
        "id": "u8EDQhrfpqjR",
        "outputId": "ad3d10dd-1592-46e6-c827-b7c166cf6626"
      },
      "source": [
        "model = keras.models.Sequential([\n",
        "    keras.layers.Flatten(input_shape=[28, 28]),\n",
        "    keras.layers.Dropout(rate=0.2),\n",
        "    keras.layers.Dense(300, activation=\"elu\", kernel_initializer=\"he_normal\"),\n",
        "    keras.layers.Dropout(rate=0.2),\n",
        "    keras.layers.Dense(100, activation=\"elu\", kernel_initializer=\"he_normal\"),\n",
        "    keras.layers.Dropout(rate=0.2),\n",
        "    keras.layers.Dense(10, activation=\"softmax\")\n",
        "])\n",
        "model.compile(loss=\"sparse_categorical_crossentropy\", optimizer=\"nadam\", metrics=[\"accuracy\"])\n",
        "n_epochs = 2\n",
        "history = model.fit(X_train_scaled, y_train, epochs=n_epochs,\n",
        "                    validation_data=(X_valid_scaled, y_valid))"
      ],
      "execution_count": null,
      "outputs": [
        {
          "output_type": "stream",
          "text": [
            "Epoch 1/2\n",
            "1719/1719 [==============================] - 6s 3ms/step - loss: 0.7611 - accuracy: 0.7576 - val_loss: 0.3730 - val_accuracy: 0.8644\n",
            "Epoch 2/2\n",
            "1719/1719 [==============================] - 5s 3ms/step - loss: 0.4306 - accuracy: 0.8401 - val_loss: 0.3395 - val_accuracy: 0.8722\n"
          ],
          "name": "stdout"
        }
      ]
    },
    {
      "cell_type": "markdown",
      "metadata": {
        "id": "a5XM1PUVpqjR"
      },
      "source": [
        "## Alpha Dropout"
      ]
    },
    {
      "cell_type": "code",
      "metadata": {
        "id": "LzbI0IwupqjR"
      },
      "source": [
        "tf.random.set_seed(42)\n",
        "np.random.seed(42)"
      ],
      "execution_count": null,
      "outputs": []
    },
    {
      "cell_type": "code",
      "metadata": {
        "id": "Xg9kdiC6pqjS",
        "outputId": "5c308a2a-f1cc-4f91-d4b8-1cf237da6a3f"
      },
      "source": [
        "model = keras.models.Sequential([\n",
        "    keras.layers.Flatten(input_shape=[28, 28]),\n",
        "    keras.layers.AlphaDropout(rate=0.2),\n",
        "    keras.layers.Dense(300, activation=\"selu\", kernel_initializer=\"lecun_normal\"),\n",
        "    keras.layers.AlphaDropout(rate=0.2),\n",
        "    keras.layers.Dense(100, activation=\"selu\", kernel_initializer=\"lecun_normal\"),\n",
        "    keras.layers.AlphaDropout(rate=0.2),\n",
        "    keras.layers.Dense(10, activation=\"softmax\")\n",
        "])\n",
        "optimizer = keras.optimizers.SGD(lr=0.01, momentum=0.9, nesterov=True)\n",
        "model.compile(loss=\"sparse_categorical_crossentropy\", optimizer=optimizer, metrics=[\"accuracy\"])\n",
        "n_epochs = 20\n",
        "history = model.fit(X_train_scaled, y_train, epochs=n_epochs,\n",
        "                    validation_data=(X_valid_scaled, y_valid))"
      ],
      "execution_count": null,
      "outputs": [
        {
          "output_type": "stream",
          "text": [
            "Epoch 1/20\n",
            "1719/1719 [==============================] - 3s 2ms/step - loss: 0.8023 - accuracy: 0.7146 - val_loss: 0.5781 - val_accuracy: 0.8442\n",
            "Epoch 2/20\n",
            "1719/1719 [==============================] - 3s 1ms/step - loss: 0.5663 - accuracy: 0.7905 - val_loss: 0.5182 - val_accuracy: 0.8520\n",
            "Epoch 3/20\n",
            "1719/1719 [==============================] - 3s 2ms/step - loss: 0.5264 - accuracy: 0.8054 - val_loss: 0.4874 - val_accuracy: 0.8600\n",
            "Epoch 4/20\n",
            "1719/1719 [==============================] - 3s 2ms/step - loss: 0.5126 - accuracy: 0.8092 - val_loss: 0.4890 - val_accuracy: 0.8598\n",
            "Epoch 5/20\n",
            "1719/1719 [==============================] - 3s 2ms/step - loss: 0.5071 - accuracy: 0.8133 - val_loss: 0.4266 - val_accuracy: 0.8696\n",
            "Epoch 6/20\n",
            "1719/1719 [==============================] - 3s 1ms/step - loss: 0.4793 - accuracy: 0.8198 - val_loss: 0.4585 - val_accuracy: 0.8640\n",
            "Epoch 7/20\n",
            "1719/1719 [==============================] - 3s 1ms/step - loss: 0.4724 - accuracy: 0.8262 - val_loss: 0.4740 - val_accuracy: 0.8612\n",
            "Epoch 8/20\n",
            "1719/1719 [==============================] - 3s 2ms/step - loss: 0.4570 - accuracy: 0.8297 - val_loss: 0.4295 - val_accuracy: 0.8656\n",
            "Epoch 9/20\n",
            "1719/1719 [==============================] - 3s 2ms/step - loss: 0.4632 - accuracy: 0.8286 - val_loss: 0.4357 - val_accuracy: 0.8736\n",
            "Epoch 10/20\n",
            "1719/1719 [==============================] - 3s 2ms/step - loss: 0.4552 - accuracy: 0.8340 - val_loss: 0.4366 - val_accuracy: 0.8674\n",
            "Epoch 11/20\n",
            "1719/1719 [==============================] - 3s 1ms/step - loss: 0.4461 - accuracy: 0.8346 - val_loss: 0.4278 - val_accuracy: 0.8684\n",
            "Epoch 12/20\n",
            "1719/1719 [==============================] - 3s 2ms/step - loss: 0.4419 - accuracy: 0.8351 - val_loss: 0.5086 - val_accuracy: 0.8558\n",
            "Epoch 13/20\n",
            "1719/1719 [==============================] - 3s 2ms/step - loss: 0.4329 - accuracy: 0.8385 - val_loss: 0.4280 - val_accuracy: 0.8728\n",
            "Epoch 14/20\n",
            "1719/1719 [==============================] - 3s 2ms/step - loss: 0.4305 - accuracy: 0.8399 - val_loss: 0.4460 - val_accuracy: 0.8628\n",
            "Epoch 15/20\n",
            "1719/1719 [==============================] - 3s 2ms/step - loss: 0.4315 - accuracy: 0.8397 - val_loss: 0.4361 - val_accuracy: 0.8706\n",
            "Epoch 16/20\n",
            "1719/1719 [==============================] - 3s 2ms/step - loss: 0.4251 - accuracy: 0.8403 - val_loss: 0.4280 - val_accuracy: 0.8758\n",
            "Epoch 17/20\n",
            "1719/1719 [==============================] - 3s 2ms/step - loss: 0.4207 - accuracy: 0.8427 - val_loss: 0.5336 - val_accuracy: 0.8584\n",
            "Epoch 18/20\n",
            "1719/1719 [==============================] - 3s 2ms/step - loss: 0.4365 - accuracy: 0.8387 - val_loss: 0.4769 - val_accuracy: 0.8736\n",
            "Epoch 19/20\n",
            "1719/1719 [==============================] - 3s 1ms/step - loss: 0.4262 - accuracy: 0.8409 - val_loss: 0.4636 - val_accuracy: 0.8706\n",
            "Epoch 20/20\n",
            "1719/1719 [==============================] - 3s 1ms/step - loss: 0.4189 - accuracy: 0.8421 - val_loss: 0.4388 - val_accuracy: 0.8760\n"
          ],
          "name": "stdout"
        }
      ]
    },
    {
      "cell_type": "code",
      "metadata": {
        "id": "JJ3fUPm4pqjS",
        "outputId": "daf6716a-534f-4a0a-be9d-62b537e3d95d"
      },
      "source": [
        "model.evaluate(X_test_scaled, y_test)"
      ],
      "execution_count": null,
      "outputs": [
        {
          "output_type": "stream",
          "text": [
            "313/313 [==============================] - 0s 834us/step - loss: 0.4723 - accuracy: 0.8639\n"
          ],
          "name": "stdout"
        },
        {
          "output_type": "execute_result",
          "data": {
            "text/plain": [
              "[0.47229740023612976, 0.8639000058174133]"
            ]
          },
          "metadata": {
            "tags": []
          },
          "execution_count": 107
        }
      ]
    },
    {
      "cell_type": "code",
      "metadata": {
        "id": "dEp_qmuNpqjS",
        "outputId": "ffc178a9-ae1d-46be-ec2e-68d0bcde8394"
      },
      "source": [
        "model.evaluate(X_train_scaled, y_train)"
      ],
      "execution_count": null,
      "outputs": [
        {
          "output_type": "stream",
          "text": [
            "1719/1719 [==============================] - 1s 782us/step - loss: 0.3501 - accuracy: 0.8840\n"
          ],
          "name": "stdout"
        },
        {
          "output_type": "execute_result",
          "data": {
            "text/plain": [
              "[0.3501231074333191, 0.8840363621711731]"
            ]
          },
          "metadata": {
            "tags": []
          },
          "execution_count": 108
        }
      ]
    },
    {
      "cell_type": "code",
      "metadata": {
        "id": "BRsbQgB1pqjS",
        "outputId": "bfab4f71-e043-4589-d469-05f8b794a828"
      },
      "source": [
        "history = model.fit(X_train_scaled, y_train)"
      ],
      "execution_count": null,
      "outputs": [
        {
          "output_type": "stream",
          "text": [
            "1719/1719 [==============================] - 2s 1ms/step - loss: 0.4225 - accuracy: 0.8432\n"
          ],
          "name": "stdout"
        }
      ]
    },
    {
      "cell_type": "markdown",
      "metadata": {
        "id": "d8uhM3nDpqjT"
      },
      "source": [
        "## MC Dropout"
      ]
    },
    {
      "cell_type": "code",
      "metadata": {
        "id": "XorY2sdPpqjT"
      },
      "source": [
        "tf.random.set_seed(42)\n",
        "np.random.seed(42)"
      ],
      "execution_count": null,
      "outputs": []
    },
    {
      "cell_type": "code",
      "metadata": {
        "id": "kPgxxGvhpqjT"
      },
      "source": [
        "y_probas = np.stack([model(X_test_scaled, training=True)\n",
        "                     for sample in range(100)])\n",
        "y_proba = y_probas.mean(axis=0)\n",
        "y_std = y_probas.std(axis=0)"
      ],
      "execution_count": null,
      "outputs": []
    },
    {
      "cell_type": "code",
      "metadata": {
        "id": "zd85KSzlpqjT",
        "outputId": "bea1b074-dd89-419e-dfd1-3e323d82200d"
      },
      "source": [
        "np.round(model.predict(X_test_scaled[:1]), 2)"
      ],
      "execution_count": null,
      "outputs": [
        {
          "output_type": "execute_result",
          "data": {
            "text/plain": [
              "array([[0.  , 0.  , 0.  , 0.  , 0.  , 0.  , 0.  , 0.04, 0.  , 0.96]],\n",
              "      dtype=float32)"
            ]
          },
          "metadata": {
            "tags": []
          },
          "execution_count": 112
        }
      ]
    },
    {
      "cell_type": "code",
      "metadata": {
        "id": "mHM2b5JfpqjT",
        "outputId": "69a77603-c5ab-40cd-de08-c44fc6739ca6"
      },
      "source": [
        "np.round(y_probas[:, :1], 2)"
      ],
      "execution_count": null,
      "outputs": [
        {
          "output_type": "execute_result",
          "data": {
            "text/plain": [
              "array([[[0.  , 0.  , 0.  , 0.  , 0.  , 0.01, 0.  , 0.57, 0.  , 0.42]],\n",
              "\n",
              "       [[0.  , 0.  , 0.  , 0.  , 0.  , 0.03, 0.  , 0.93, 0.  , 0.05]],\n",
              "\n",
              "       [[0.  , 0.  , 0.  , 0.  , 0.  , 0.01, 0.  , 0.  , 0.  , 0.99]],\n",
              "\n",
              "       [[0.  , 0.  , 0.  , 0.  , 0.  , 0.  , 0.  , 0.08, 0.  , 0.92]],\n",
              "\n",
              "       [[0.  , 0.  , 0.  , 0.  , 0.  , 0.  , 0.  , 0.46, 0.  , 0.53]],\n",
              "\n",
              "       [[0.  , 0.  , 0.  , 0.  , 0.  , 0.  , 0.  , 0.75, 0.  , 0.24]],\n",
              "\n",
              "       [[0.  , 0.  , 0.  , 0.  , 0.  , 0.06, 0.  , 0.43, 0.  , 0.51]],\n",
              "\n",
              "       [[0.  , 0.  , 0.  , 0.  , 0.  , 0.13, 0.  , 0.28, 0.  , 0.59]],\n",
              "\n",
              "       [[0.  , 0.  , 0.  , 0.  , 0.  , 0.12, 0.  , 0.06, 0.  , 0.81]],\n",
              "\n",
              "       [[0.  , 0.  , 0.  , 0.  , 0.  , 0.01, 0.  , 0.02, 0.  , 0.98]],\n",
              "\n",
              "       [[0.  , 0.  , 0.  , 0.  , 0.  , 0.01, 0.  , 0.07, 0.  , 0.92]],\n",
              "\n",
              "       [[0.  , 0.  , 0.  , 0.  , 0.  , 0.08, 0.  , 0.28, 0.  , 0.64]],\n",
              "\n",
              "       [[0.  , 0.  , 0.  , 0.  , 0.  , 0.01, 0.  , 0.29, 0.  , 0.7 ]],\n",
              "\n",
              "       [[0.  , 0.  , 0.  , 0.  , 0.  , 0.26, 0.  , 0.22, 0.  , 0.52]],\n",
              "\n",
              "       [[0.  , 0.  , 0.  , 0.  , 0.  , 0.03, 0.  , 0.25, 0.  , 0.72]],\n",
              "\n",
              "       [[0.  , 0.  , 0.  , 0.  , 0.  , 0.3 , 0.  , 0.06, 0.  , 0.65]],\n",
              "\n",
              "       [[0.  , 0.  , 0.  , 0.  , 0.  , 0.04, 0.  , 0.  , 0.  , 0.96]],\n",
              "\n",
              "       [[0.  , 0.  , 0.  , 0.  , 0.  , 0.02, 0.  , 0.81, 0.  , 0.17]],\n",
              "\n",
              "       [[0.  , 0.  , 0.  , 0.  , 0.  , 0.01, 0.  , 0.25, 0.  , 0.75]],\n",
              "\n",
              "       [[0.  , 0.  , 0.  , 0.  , 0.  , 0.04, 0.  , 0.03, 0.  , 0.93]],\n",
              "\n",
              "       [[0.  , 0.  , 0.  , 0.  , 0.  , 0.84, 0.04, 0.01, 0.  , 0.1 ]],\n",
              "\n",
              "       [[0.  , 0.  , 0.  , 0.  , 0.  , 0.2 , 0.  , 0.1 , 0.  , 0.7 ]],\n",
              "\n",
              "       [[0.  , 0.  , 0.  , 0.  , 0.  , 0.  , 0.  , 0.  , 0.  , 1.  ]],\n",
              "\n",
              "       [[0.  , 0.  , 0.  , 0.  , 0.  , 0.01, 0.  , 0.28, 0.  , 0.72]],\n",
              "\n",
              "       [[0.  , 0.  , 0.  , 0.  , 0.  , 0.12, 0.  , 0.12, 0.  , 0.76]],\n",
              "\n",
              "       [[0.  , 0.  , 0.  , 0.  , 0.  , 0.04, 0.  , 0.75, 0.  , 0.21]],\n",
              "\n",
              "       [[0.  , 0.  , 0.  , 0.  , 0.  , 0.02, 0.  , 0.11, 0.  , 0.87]],\n",
              "\n",
              "       [[0.  , 0.  , 0.  , 0.  , 0.  , 0.28, 0.  , 0.39, 0.  , 0.34]],\n",
              "\n",
              "       [[0.  , 0.  , 0.  , 0.  , 0.  , 0.02, 0.  , 0.04, 0.  , 0.95]],\n",
              "\n",
              "       [[0.  , 0.  , 0.  , 0.  , 0.  , 0.18, 0.  , 0.51, 0.01, 0.3 ]],\n",
              "\n",
              "       [[0.  , 0.  , 0.  , 0.  , 0.  , 0.01, 0.  , 0.01, 0.  , 0.99]],\n",
              "\n",
              "       [[0.  , 0.  , 0.  , 0.  , 0.  , 0.  , 0.  , 0.  , 0.  , 1.  ]],\n",
              "\n",
              "       [[0.  , 0.  , 0.  , 0.  , 0.  , 0.59, 0.  , 0.01, 0.  , 0.39]],\n",
              "\n",
              "       [[0.  , 0.  , 0.  , 0.  , 0.  , 0.12, 0.  , 0.8 , 0.  , 0.08]],\n",
              "\n",
              "       [[0.  , 0.  , 0.  , 0.  , 0.  , 0.05, 0.  , 0.27, 0.  , 0.67]],\n",
              "\n",
              "       [[0.  , 0.  , 0.  , 0.  , 0.  , 0.07, 0.  , 0.77, 0.  , 0.16]],\n",
              "\n",
              "       [[0.  , 0.  , 0.  , 0.  , 0.  , 0.  , 0.  , 0.01, 0.  , 0.99]],\n",
              "\n",
              "       [[0.  , 0.  , 0.  , 0.  , 0.  , 0.01, 0.  , 0.18, 0.  , 0.81]],\n",
              "\n",
              "       [[0.  , 0.  , 0.  , 0.  , 0.  , 0.04, 0.  , 0.32, 0.  , 0.64]],\n",
              "\n",
              "       [[0.  , 0.  , 0.  , 0.  , 0.  , 0.75, 0.  , 0.04, 0.  , 0.21]],\n",
              "\n",
              "       [[0.  , 0.  , 0.  , 0.  , 0.  , 0.01, 0.  , 0.24, 0.  , 0.75]],\n",
              "\n",
              "       [[0.  , 0.  , 0.  , 0.  , 0.  , 0.  , 0.  , 0.04, 0.  , 0.96]],\n",
              "\n",
              "       [[0.  , 0.  , 0.  , 0.  , 0.  , 0.44, 0.  , 0.38, 0.  , 0.17]],\n",
              "\n",
              "       [[0.  , 0.  , 0.  , 0.  , 0.  , 0.  , 0.  , 0.02, 0.  , 0.98]],\n",
              "\n",
              "       [[0.  , 0.  , 0.  , 0.  , 0.  , 0.01, 0.  , 0.02, 0.  , 0.96]],\n",
              "\n",
              "       [[0.  , 0.  , 0.  , 0.  , 0.  , 0.  , 0.  , 0.01, 0.  , 0.99]],\n",
              "\n",
              "       [[0.  , 0.  , 0.  , 0.  , 0.  , 0.06, 0.  , 0.12, 0.  , 0.82]],\n",
              "\n",
              "       [[0.  , 0.  , 0.  , 0.  , 0.  , 0.  , 0.  , 0.02, 0.  , 0.97]],\n",
              "\n",
              "       [[0.  , 0.  , 0.  , 0.  , 0.  , 0.  , 0.  , 0.28, 0.  , 0.71]],\n",
              "\n",
              "       [[0.  , 0.  , 0.  , 0.  , 0.  , 0.02, 0.  , 0.17, 0.  , 0.82]],\n",
              "\n",
              "       [[0.  , 0.  , 0.  , 0.  , 0.  , 0.23, 0.  , 0.27, 0.  , 0.5 ]],\n",
              "\n",
              "       [[0.  , 0.  , 0.  , 0.  , 0.  , 0.06, 0.  , 0.78, 0.  , 0.16]],\n",
              "\n",
              "       [[0.  , 0.  , 0.  , 0.  , 0.  , 0.  , 0.  , 0.01, 0.  , 0.99]],\n",
              "\n",
              "       [[0.  , 0.  , 0.  , 0.  , 0.  , 0.03, 0.  , 0.03, 0.  , 0.94]],\n",
              "\n",
              "       [[0.  , 0.  , 0.01, 0.  , 0.02, 0.21, 0.01, 0.01, 0.  , 0.75]],\n",
              "\n",
              "       [[0.  , 0.  , 0.  , 0.  , 0.  , 0.01, 0.  , 0.06, 0.  , 0.93]],\n",
              "\n",
              "       [[0.  , 0.  , 0.  , 0.  , 0.  , 0.  , 0.  , 0.4 , 0.  , 0.6 ]],\n",
              "\n",
              "       [[0.  , 0.  , 0.  , 0.  , 0.  , 0.12, 0.  , 0.18, 0.01, 0.69]],\n",
              "\n",
              "       [[0.  , 0.  , 0.  , 0.  , 0.  , 0.02, 0.  , 0.15, 0.  , 0.83]],\n",
              "\n",
              "       [[0.  , 0.  , 0.  , 0.  , 0.  , 0.24, 0.  , 0.24, 0.  , 0.52]],\n",
              "\n",
              "       [[0.  , 0.  , 0.  , 0.  , 0.  , 0.11, 0.  , 0.01, 0.  , 0.88]],\n",
              "\n",
              "       [[0.  , 0.  , 0.  , 0.  , 0.  , 0.  , 0.  , 0.2 , 0.  , 0.8 ]],\n",
              "\n",
              "       [[0.  , 0.  , 0.  , 0.  , 0.  , 0.05, 0.  , 0.04, 0.  , 0.91]],\n",
              "\n",
              "       [[0.  , 0.  , 0.  , 0.  , 0.  , 0.02, 0.  , 0.21, 0.  , 0.77]],\n",
              "\n",
              "       [[0.  , 0.  , 0.  , 0.  , 0.  , 0.26, 0.  , 0.67, 0.  , 0.07]],\n",
              "\n",
              "       [[0.  , 0.  , 0.  , 0.  , 0.  , 0.27, 0.  , 0.55, 0.  , 0.19]],\n",
              "\n",
              "       [[0.  , 0.  , 0.  , 0.  , 0.  , 0.09, 0.  , 0.47, 0.  , 0.43]],\n",
              "\n",
              "       [[0.  , 0.  , 0.  , 0.  , 0.  , 0.  , 0.  , 0.01, 0.  , 0.99]],\n",
              "\n",
              "       [[0.  , 0.  , 0.  , 0.  , 0.  , 0.07, 0.  , 0.71, 0.  , 0.22]],\n",
              "\n",
              "       [[0.  , 0.  , 0.  , 0.  , 0.  , 0.1 , 0.  , 0.63, 0.01, 0.26]],\n",
              "\n",
              "       [[0.  , 0.  , 0.  , 0.  , 0.  , 0.  , 0.  , 0.  , 0.  , 1.  ]],\n",
              "\n",
              "       [[0.  , 0.  , 0.  , 0.  , 0.  , 0.03, 0.  , 0.16, 0.  , 0.81]],\n",
              "\n",
              "       [[0.  , 0.  , 0.  , 0.  , 0.  , 0.04, 0.  , 0.15, 0.  , 0.8 ]],\n",
              "\n",
              "       [[0.  , 0.  , 0.  , 0.  , 0.  , 0.01, 0.  , 0.24, 0.  , 0.75]],\n",
              "\n",
              "       [[0.  , 0.  , 0.  , 0.  , 0.  , 0.06, 0.  , 0.13, 0.  , 0.81]],\n",
              "\n",
              "       [[0.  , 0.  , 0.  , 0.  , 0.  , 0.42, 0.  , 0.01, 0.  , 0.58]],\n",
              "\n",
              "       [[0.  , 0.  , 0.  , 0.  , 0.  , 0.02, 0.  , 0.15, 0.  , 0.83]],\n",
              "\n",
              "       [[0.  , 0.  , 0.  , 0.  , 0.  , 0.01, 0.  , 0.79, 0.  , 0.19]],\n",
              "\n",
              "       [[0.  , 0.  , 0.  , 0.  , 0.  , 0.  , 0.  , 0.21, 0.  , 0.79]],\n",
              "\n",
              "       [[0.  , 0.  , 0.  , 0.  , 0.  , 0.  , 0.  , 0.06, 0.  , 0.93]],\n",
              "\n",
              "       [[0.  , 0.  , 0.  , 0.  , 0.  , 0.01, 0.  , 0.12, 0.  , 0.87]],\n",
              "\n",
              "       [[0.  , 0.  , 0.  , 0.  , 0.  , 0.04, 0.  , 0.06, 0.  , 0.9 ]],\n",
              "\n",
              "       [[0.  , 0.  , 0.  , 0.  , 0.  , 0.  , 0.  , 0.  , 0.  , 1.  ]],\n",
              "\n",
              "       [[0.  , 0.  , 0.  , 0.  , 0.  , 0.01, 0.  , 0.01, 0.  , 0.98]],\n",
              "\n",
              "       [[0.  , 0.  , 0.  , 0.  , 0.  , 0.05, 0.  , 0.08, 0.  , 0.87]],\n",
              "\n",
              "       [[0.  , 0.  , 0.  , 0.  , 0.  , 0.03, 0.  , 0.51, 0.  , 0.46]],\n",
              "\n",
              "       [[0.  , 0.  , 0.  , 0.  , 0.  , 0.96, 0.  , 0.02, 0.  , 0.02]],\n",
              "\n",
              "       [[0.  , 0.  , 0.  , 0.  , 0.  , 0.38, 0.  , 0.05, 0.  , 0.57]],\n",
              "\n",
              "       [[0.  , 0.  , 0.  , 0.  , 0.  , 0.01, 0.  , 0.07, 0.  , 0.92]],\n",
              "\n",
              "       [[0.  , 0.  , 0.  , 0.  , 0.  , 0.  , 0.  , 0.02, 0.  , 0.98]],\n",
              "\n",
              "       [[0.  , 0.  , 0.  , 0.  , 0.  , 0.05, 0.  , 0.06, 0.  , 0.89]],\n",
              "\n",
              "       [[0.  , 0.  , 0.  , 0.  , 0.  , 0.01, 0.  , 0.05, 0.  , 0.94]],\n",
              "\n",
              "       [[0.  , 0.  , 0.  , 0.  , 0.  , 0.37, 0.  , 0.37, 0.  , 0.26]],\n",
              "\n",
              "       [[0.  , 0.  , 0.  , 0.  , 0.  , 0.37, 0.  , 0.19, 0.  , 0.44]],\n",
              "\n",
              "       [[0.  , 0.  , 0.  , 0.  , 0.  , 0.02, 0.  , 0.11, 0.  , 0.87]],\n",
              "\n",
              "       [[0.  , 0.  , 0.  , 0.  , 0.  , 0.01, 0.  , 0.01, 0.  , 0.98]],\n",
              "\n",
              "       [[0.  , 0.  , 0.  , 0.  , 0.  , 0.01, 0.  , 0.41, 0.  , 0.59]],\n",
              "\n",
              "       [[0.  , 0.  , 0.  , 0.  , 0.  , 0.  , 0.  , 0.12, 0.  , 0.87]],\n",
              "\n",
              "       [[0.  , 0.  , 0.  , 0.  , 0.  , 0.08, 0.  , 0.21, 0.  , 0.71]],\n",
              "\n",
              "       [[0.  , 0.  , 0.  , 0.  , 0.  , 0.12, 0.  , 0.13, 0.  , 0.75]]],\n",
              "      dtype=float32)"
            ]
          },
          "metadata": {
            "tags": []
          },
          "execution_count": 113
        }
      ]
    },
    {
      "cell_type": "code",
      "metadata": {
        "id": "C5fLwL-hpqjU",
        "outputId": "7ad16c83-7810-4a0d-92b0-f3836c27d7e2"
      },
      "source": [
        "np.round(y_proba[:1], 2)"
      ],
      "execution_count": null,
      "outputs": [
        {
          "output_type": "execute_result",
          "data": {
            "text/plain": [
              "array([[0.  , 0.  , 0.  , 0.  , 0.  , 0.1 , 0.  , 0.22, 0.  , 0.68]],\n",
              "      dtype=float32)"
            ]
          },
          "metadata": {
            "tags": []
          },
          "execution_count": 114
        }
      ]
    },
    {
      "cell_type": "code",
      "metadata": {
        "id": "OcW_hB7_pqjU",
        "outputId": "f8ef0bf6-c30f-4243-f388-f97c59a09343"
      },
      "source": [
        "y_std = y_probas.std(axis=0)\n",
        "np.round(y_std[:1], 2)"
      ],
      "execution_count": null,
      "outputs": [
        {
          "output_type": "execute_result",
          "data": {
            "text/plain": [
              "array([[0.  , 0.  , 0.  , 0.  , 0.  , 0.18, 0.  , 0.24, 0.  , 0.29]],\n",
              "      dtype=float32)"
            ]
          },
          "metadata": {
            "tags": []
          },
          "execution_count": 115
        }
      ]
    },
    {
      "cell_type": "code",
      "metadata": {
        "id": "_-4r8ZtrpqjU"
      },
      "source": [
        "y_pred = np.argmax(y_proba, axis=1)"
      ],
      "execution_count": null,
      "outputs": []
    },
    {
      "cell_type": "code",
      "metadata": {
        "id": "RsdrKzuKpqjU",
        "outputId": "a02d86c3-ba41-476e-d240-86f3b3ac6b95"
      },
      "source": [
        "accuracy = np.sum(y_pred == y_test) / len(y_test)\n",
        "accuracy"
      ],
      "execution_count": null,
      "outputs": [
        {
          "output_type": "execute_result",
          "data": {
            "text/plain": [
              "0.8661"
            ]
          },
          "metadata": {
            "tags": []
          },
          "execution_count": 117
        }
      ]
    },
    {
      "cell_type": "code",
      "metadata": {
        "id": "5r7egNb_pqjV"
      },
      "source": [
        "class MCDropout(keras.layers.Dropout):\n",
        "    def call(self, inputs):\n",
        "        return super().call(inputs, training=True)\n",
        "\n",
        "class MCAlphaDropout(keras.layers.AlphaDropout):\n",
        "    def call(self, inputs):\n",
        "        return super().call(inputs, training=True)"
      ],
      "execution_count": null,
      "outputs": []
    },
    {
      "cell_type": "code",
      "metadata": {
        "id": "a1FfJJ2bpqjV"
      },
      "source": [
        "tf.random.set_seed(42)\n",
        "np.random.seed(42)"
      ],
      "execution_count": null,
      "outputs": []
    },
    {
      "cell_type": "code",
      "metadata": {
        "id": "aWB5pZoXpqjV"
      },
      "source": [
        "mc_model = keras.models.Sequential([\n",
        "    MCAlphaDropout(layer.rate) if isinstance(layer, keras.layers.AlphaDropout) else layer\n",
        "    for layer in model.layers\n",
        "])"
      ],
      "execution_count": null,
      "outputs": []
    },
    {
      "cell_type": "code",
      "metadata": {
        "id": "xA7x5cMdpqjV",
        "outputId": "885e8dfb-968e-45c3-de17-b7550748e31f"
      },
      "source": [
        "mc_model.summary()"
      ],
      "execution_count": null,
      "outputs": [
        {
          "output_type": "stream",
          "text": [
            "Model: \"sequential_20\"\n",
            "_________________________________________________________________\n",
            "Layer (type)                 Output Shape              Param #   \n",
            "=================================================================\n",
            "flatten_18 (Flatten)         (None, 784)               0         \n",
            "_________________________________________________________________\n",
            "mc_alpha_dropout (MCAlphaDro (None, 784)               0         \n",
            "_________________________________________________________________\n",
            "dense_262 (Dense)            (None, 300)               235500    \n",
            "_________________________________________________________________\n",
            "mc_alpha_dropout_1 (MCAlphaD (None, 300)               0         \n",
            "_________________________________________________________________\n",
            "dense_263 (Dense)            (None, 100)               30100     \n",
            "_________________________________________________________________\n",
            "mc_alpha_dropout_2 (MCAlphaD (None, 100)               0         \n",
            "_________________________________________________________________\n",
            "dense_264 (Dense)            (None, 10)                1010      \n",
            "=================================================================\n",
            "Total params: 266,610\n",
            "Trainable params: 266,610\n",
            "Non-trainable params: 0\n",
            "_________________________________________________________________\n"
          ],
          "name": "stdout"
        }
      ]
    },
    {
      "cell_type": "code",
      "metadata": {
        "id": "Z0FU_UTJpqjV"
      },
      "source": [
        "optimizer = keras.optimizers.SGD(lr=0.01, momentum=0.9, nesterov=True)\n",
        "mc_model.compile(loss=\"sparse_categorical_crossentropy\", optimizer=optimizer, metrics=[\"accuracy\"])"
      ],
      "execution_count": null,
      "outputs": []
    },
    {
      "cell_type": "code",
      "metadata": {
        "id": "cim3c7LfpqjW"
      },
      "source": [
        "mc_model.set_weights(model.get_weights())"
      ],
      "execution_count": null,
      "outputs": []
    },
    {
      "cell_type": "markdown",
      "metadata": {
        "id": "unHG5EjjpqjW"
      },
      "source": [
        "Now we can use the model with MC Dropout:"
      ]
    },
    {
      "cell_type": "code",
      "metadata": {
        "id": "Gr_BguCUpqjW",
        "outputId": "35216886-8563-4f14-d7a9-b22f1373c623"
      },
      "source": [
        "np.round(np.mean([mc_model.predict(X_test_scaled[:1]) for sample in range(100)], axis=0), 2)"
      ],
      "execution_count": null,
      "outputs": [
        {
          "output_type": "execute_result",
          "data": {
            "text/plain": [
              "array([[0.  , 0.  , 0.  , 0.  , 0.  , 0.14, 0.  , 0.25, 0.01, 0.61]],\n",
              "      dtype=float32)"
            ]
          },
          "metadata": {
            "tags": []
          },
          "execution_count": 124
        }
      ]
    },
    {
      "cell_type": "markdown",
      "metadata": {
        "id": "_qP44DWBpqjW"
      },
      "source": [
        "## Max norm"
      ]
    },
    {
      "cell_type": "code",
      "metadata": {
        "id": "YQZMAkkdpqjW"
      },
      "source": [
        "layer = keras.layers.Dense(100, activation=\"selu\", kernel_initializer=\"lecun_normal\",\n",
        "                           kernel_constraint=keras.constraints.max_norm(1.))"
      ],
      "execution_count": null,
      "outputs": []
    },
    {
      "cell_type": "code",
      "metadata": {
        "id": "IFJPExFvpqjW",
        "outputId": "cd087fa5-b47e-4b1c-afee-a5dfb459ae6b"
      },
      "source": [
        "MaxNormDense = partial(keras.layers.Dense,\n",
        "                       activation=\"selu\", kernel_initializer=\"lecun_normal\",\n",
        "                       kernel_constraint=keras.constraints.max_norm(1.))\n",
        "\n",
        "model = keras.models.Sequential([\n",
        "    keras.layers.Flatten(input_shape=[28, 28]),\n",
        "    MaxNormDense(300),\n",
        "    MaxNormDense(100),\n",
        "    keras.layers.Dense(10, activation=\"softmax\")\n",
        "])\n",
        "model.compile(loss=\"sparse_categorical_crossentropy\", optimizer=\"nadam\", metrics=[\"accuracy\"])\n",
        "n_epochs = 2\n",
        "history = model.fit(X_train_scaled, y_train, epochs=n_epochs,\n",
        "                    validation_data=(X_valid_scaled, y_valid))"
      ],
      "execution_count": null,
      "outputs": [
        {
          "output_type": "stream",
          "text": [
            "Epoch 1/2\n",
            "1719/1719 [==============================] - 5s 3ms/step - loss: 0.5763 - accuracy: 0.8020 - val_loss: 0.3674 - val_accuracy: 0.8674\n",
            "Epoch 2/2\n",
            "1719/1719 [==============================] - 5s 3ms/step - loss: 0.3545 - accuracy: 0.8709 - val_loss: 0.3714 - val_accuracy: 0.8662\n"
          ],
          "name": "stdout"
        }
      ]
    },
    {
      "cell_type": "markdown",
      "metadata": {
        "id": "bKEqc1_3pqjX"
      },
      "source": [
        "# Exercises"
      ]
    },
    {
      "cell_type": "markdown",
      "metadata": {
        "id": "3tSHxns1pqjX"
      },
      "source": [
        "## 1. to 7."
      ]
    },
    {
      "cell_type": "markdown",
      "metadata": {
        "id": "efdXXzikpqjX"
      },
      "source": [
        "See appendix A."
      ]
    },
    {
      "cell_type": "markdown",
      "metadata": {
        "id": "Nk7whPYapqjX"
      },
      "source": [
        "## 8. Deep Learning on CIFAR10"
      ]
    },
    {
      "cell_type": "markdown",
      "metadata": {
        "id": "DWmlAl6PpqjX"
      },
      "source": [
        "### a.\n",
        "*Exercise: Build a DNN with 20 hidden layers of 100 neurons each (that's too many, but it's the point of this exercise). Use He initialization and the ELU activation function.*"
      ]
    },
    {
      "cell_type": "code",
      "metadata": {
        "id": "0Vi4v7R7pqjY"
      },
      "source": [
        "keras.backend.clear_session()\n",
        "tf.random.set_seed(42)\n",
        "np.random.seed(42)\n",
        "\n",
        "model = keras.models.Sequential()\n",
        "model.add(keras.layers.Flatten(input_shape=[32, 32, 3]))\n",
        "for _ in range(20):\n",
        "    model.add(keras.layers.Dense(100,\n",
        "                                 activation=\"elu\",\n",
        "                                 kernel_initializer=\"he_normal\"))"
      ],
      "execution_count": null,
      "outputs": []
    },
    {
      "cell_type": "markdown",
      "metadata": {
        "id": "Gb3UI_yHpqjY"
      },
      "source": [
        "### b.\n",
        "*Exercise: Using Nadam optimization and early stopping, train the network on the CIFAR10 dataset. You can load it with `keras.datasets.cifar10.load_data()`. The dataset is composed of 60,000 32 × 32–pixel color images (50,000 for training, 10,000 for testing) with 10 classes, so you'll need a softmax output layer with 10 neurons. Remember to search for the right learning rate each time you change the model's architecture or hyperparameters.*"
      ]
    },
    {
      "cell_type": "markdown",
      "metadata": {
        "id": "sJ63FRYApqjY"
      },
      "source": [
        "Let's add the output layer to the model:"
      ]
    },
    {
      "cell_type": "code",
      "metadata": {
        "id": "dI3G1KVDpqjY"
      },
      "source": [
        "model.add(keras.layers.Dense(10, activation=\"softmax\"))"
      ],
      "execution_count": null,
      "outputs": []
    },
    {
      "cell_type": "markdown",
      "metadata": {
        "id": "y8-rDsVXpqjY"
      },
      "source": [
        "Let's use a Nadam optimizer with a learning rate of 5e-5. I tried learning rates 1e-5, 3e-5, 1e-4, 3e-4, 1e-3, 3e-3 and 1e-2, and I compared their learning curves for 10 epochs each (using the TensorBoard callback, below). The learning rates 3e-5 and 1e-4 were pretty good, so I tried 5e-5, which turned out to be slightly better."
      ]
    },
    {
      "cell_type": "code",
      "metadata": {
        "id": "8BFHcQwWpqjY"
      },
      "source": [
        "optimizer = keras.optimizers.Nadam(lr=5e-5)\n",
        "model.compile(loss=\"sparse_categorical_crossentropy\",\n",
        "              optimizer=optimizer,\n",
        "              metrics=[\"accuracy\"])"
      ],
      "execution_count": null,
      "outputs": []
    },
    {
      "cell_type": "markdown",
      "metadata": {
        "id": "1sze5IcIpqjZ"
      },
      "source": [
        "Let's load the CIFAR10 dataset. We also want to use early stopping, so we need a validation set. Let's use the first 5,000 images of the original training set as the validation set:"
      ]
    },
    {
      "cell_type": "code",
      "metadata": {
        "id": "bC7g7nPfpqjZ"
      },
      "source": [
        "(X_train_full, y_train_full), (X_test, y_test) = keras.datasets.cifar10.load_data()\n",
        "\n",
        "X_train = X_train_full[5000:]\n",
        "y_train = y_train_full[5000:]\n",
        "X_valid = X_train_full[:5000]\n",
        "y_valid = y_train_full[:5000]"
      ],
      "execution_count": null,
      "outputs": []
    },
    {
      "cell_type": "markdown",
      "metadata": {
        "id": "1qEbF74jpqjZ"
      },
      "source": [
        "Now we can create the callbacks we need and train the model:"
      ]
    },
    {
      "cell_type": "code",
      "metadata": {
        "id": "qGLJ5vpGpqjZ"
      },
      "source": [
        "early_stopping_cb = keras.callbacks.EarlyStopping(patience=20)\n",
        "model_checkpoint_cb = keras.callbacks.ModelCheckpoint(\"my_cifar10_model.h5\", save_best_only=True)\n",
        "run_index = 1 # increment every time you train the model\n",
        "run_logdir = os.path.join(os.curdir, \"my_cifar10_logs\", \"run_{:03d}\".format(run_index))\n",
        "tensorboard_cb = keras.callbacks.TensorBoard(run_logdir)\n",
        "callbacks = [early_stopping_cb, model_checkpoint_cb, tensorboard_cb]"
      ],
      "execution_count": null,
      "outputs": []
    },
    {
      "cell_type": "code",
      "metadata": {
        "id": "8M8yRJaapqja",
        "outputId": "06e1db27-e5c7-4320-caca-883f78c0d219"
      },
      "source": [
        "%tensorboard --logdir=./my_cifar10_logs --port=6006"
      ],
      "execution_count": null,
      "outputs": [
        {
          "output_type": "display_data",
          "data": {
            "text/plain": [
              "ERROR: Failed to launch TensorBoard (exited with 255).\n",
              "Contents of stderr:\n",
              "E0213 19:12:55.493896 4621630912 program.py:311] TensorBoard could not bind to port 6006, it was already in use\n",
              "ERROR: TensorBoard could not bind to port 6006, it was already in use"
            ]
          },
          "metadata": {
            "tags": []
          }
        }
      ]
    },
    {
      "cell_type": "code",
      "metadata": {
        "id": "37rVXc1Ypqja",
        "outputId": "899d0c8a-71ac-4c40-b1fd-31090d419a1d"
      },
      "source": [
        "model.fit(X_train, y_train, epochs=100,\n",
        "          validation_data=(X_valid, y_valid),\n",
        "          callbacks=callbacks)"
      ],
      "execution_count": null,
      "outputs": [
        {
          "output_type": "stream",
          "text": [
            "Epoch 1/100\n",
            "1407/1407 [==============================] - 9s 5ms/step - loss: 9.4191 - accuracy: 0.1388 - val_loss: 2.2328 - val_accuracy: 0.2040\n",
            "Epoch 2/100\n",
            "1407/1407 [==============================] - 7s 5ms/step - loss: 2.1097 - accuracy: 0.2317 - val_loss: 2.0485 - val_accuracy: 0.2402\n",
            "Epoch 3/100\n",
            "1407/1407 [==============================] - 7s 5ms/step - loss: 1.9667 - accuracy: 0.2844 - val_loss: 1.9681 - val_accuracy: 0.2964\n",
            "Epoch 4/100\n",
            "1407/1407 [==============================] - 7s 5ms/step - loss: 1.8740 - accuracy: 0.3149 - val_loss: 1.9178 - val_accuracy: 0.3254\n",
            "Epoch 5/100\n",
            "1407/1407 [==============================] - 7s 5ms/step - loss: 1.8064 - accuracy: 0.3423 - val_loss: 1.8256 - val_accuracy: 0.3384\n",
            "Epoch 6/100\n",
            "1407/1407 [==============================] - 7s 5ms/step - loss: 1.7525 - accuracy: 0.3595 - val_loss: 1.7430 - val_accuracy: 0.3692\n",
            "Epoch 7/100\n",
            "1407/1407 [==============================] - 7s 5ms/step - loss: 1.7116 - accuracy: 0.3819 - val_loss: 1.7199 - val_accuracy: 0.3824\n",
            "Epoch 8/100\n",
            "1407/1407 [==============================] - 8s 5ms/step - loss: 1.6782 - accuracy: 0.3935 - val_loss: 1.6746 - val_accuracy: 0.3972\n",
            "Epoch 9/100\n",
            "1407/1407 [==============================] - 8s 5ms/step - loss: 1.6517 - accuracy: 0.4025 - val_loss: 1.6622 - val_accuracy: 0.4004\n",
            "Epoch 10/100\n",
            "1407/1407 [==============================] - 7s 5ms/step - loss: 1.6140 - accuracy: 0.4194 - val_loss: 1.7065 - val_accuracy: 0.3840\n",
            "Epoch 11/100\n",
            "1407/1407 [==============================] - 7s 5ms/step - loss: 1.5884 - accuracy: 0.4301 - val_loss: 1.6736 - val_accuracy: 0.3914\n",
            "Epoch 12/100\n",
            "1407/1407 [==============================] - 7s 5ms/step - loss: 1.5640 - accuracy: 0.4378 - val_loss: 1.6220 - val_accuracy: 0.4224\n",
            "Epoch 13/100\n",
            "1407/1407 [==============================] - 7s 5ms/step - loss: 1.5437 - accuracy: 0.4448 - val_loss: 1.6332 - val_accuracy: 0.4144\n",
            "Epoch 14/100\n",
            "1407/1407 [==============================] - 7s 5ms/step - loss: 1.5214 - accuracy: 0.4555 - val_loss: 1.5785 - val_accuracy: 0.4326\n",
            "Epoch 15/100\n",
            "1407/1407 [==============================] - 7s 5ms/step - loss: 1.5117 - accuracy: 0.4564 - val_loss: 1.6267 - val_accuracy: 0.4164\n",
            "Epoch 16/100\n",
            "1407/1407 [==============================] - 7s 5ms/step - loss: 1.4972 - accuracy: 0.4622 - val_loss: 1.5846 - val_accuracy: 0.4316\n",
            "Epoch 17/100\n",
            "1407/1407 [==============================] - 7s 5ms/step - loss: 1.4888 - accuracy: 0.4661 - val_loss: 1.5549 - val_accuracy: 0.4420\n",
            "Epoch 18/100\n",
            "<<24 more lines>>\n",
            "1407/1407 [==============================] - 8s 5ms/step - loss: 1.3362 - accuracy: 0.5212 - val_loss: 1.6025 - val_accuracy: 0.4500\n",
            "Epoch 31/100\n",
            "1407/1407 [==============================] - 7s 5ms/step - loss: 1.3360 - accuracy: 0.5207 - val_loss: 1.5175 - val_accuracy: 0.4602\n",
            "Epoch 32/100\n",
            "1407/1407 [==============================] - 8s 5ms/step - loss: 1.3031 - accuracy: 0.5302 - val_loss: 1.5397 - val_accuracy: 0.4572\n",
            "Epoch 33/100\n",
            "1407/1407 [==============================] - 8s 5ms/step - loss: 1.3082 - accuracy: 0.5308 - val_loss: 1.4997 - val_accuracy: 0.4776\n",
            "Epoch 34/100\n",
            "1407/1407 [==============================] - 8s 5ms/step - loss: 1.2882 - accuracy: 0.5338 - val_loss: 1.5482 - val_accuracy: 0.4620\n",
            "Epoch 35/100\n",
            "1407/1407 [==============================] - 8s 5ms/step - loss: 1.2889 - accuracy: 0.5355 - val_loss: 1.5474 - val_accuracy: 0.4604\n",
            "Epoch 36/100\n",
            "1407/1407 [==============================] - 7s 5ms/step - loss: 1.2761 - accuracy: 0.5410 - val_loss: 1.5434 - val_accuracy: 0.4658\n",
            "Epoch 37/100\n",
            "1407/1407 [==============================] - 7s 5ms/step - loss: 1.2658 - accuracy: 0.5481 - val_loss: 1.5502 - val_accuracy: 0.4706\n",
            "Epoch 38/100\n",
            "1407/1407 [==============================] - 7s 5ms/step - loss: 1.2554 - accuracy: 0.5489 - val_loss: 1.5527 - val_accuracy: 0.4624\n",
            "Epoch 39/100\n",
            "1407/1407 [==============================] - 7s 5ms/step - loss: 1.2504 - accuracy: 0.5471 - val_loss: 1.5482 - val_accuracy: 0.4602\n",
            "Epoch 40/100\n",
            "1407/1407 [==============================] - 7s 5ms/step - loss: 1.2516 - accuracy: 0.5545 - val_loss: 1.5881 - val_accuracy: 0.4574\n",
            "Epoch 41/100\n",
            "1407/1407 [==============================] - 7s 5ms/step - loss: 1.2401 - accuracy: 0.5566 - val_loss: 1.5403 - val_accuracy: 0.4670\n",
            "Epoch 42/100\n",
            "1407/1407 [==============================] - 8s 5ms/step - loss: 1.2305 - accuracy: 0.5570 - val_loss: 1.5343 - val_accuracy: 0.4790\n",
            "Epoch 43/100\n",
            "1407/1407 [==============================] - 7s 5ms/step - loss: 1.2228 - accuracy: 0.5615 - val_loss: 1.5344 - val_accuracy: 0.4708\n",
            "Epoch 44/100\n",
            "1407/1407 [==============================] - 7s 5ms/step - loss: 1.2161 - accuracy: 0.5619 - val_loss: 1.5782 - val_accuracy: 0.4526\n",
            "Epoch 45/100\n",
            "1407/1407 [==============================] - 7s 5ms/step - loss: 1.2124 - accuracy: 0.5641 - val_loss: 1.5182 - val_accuracy: 0.4794\n",
            "Epoch 46/100\n",
            "1407/1407 [==============================] - 7s 5ms/step - loss: 1.1870 - accuracy: 0.5766 - val_loss: 1.5435 - val_accuracy: 0.4650\n",
            "Epoch 47/100\n",
            "1407/1407 [==============================] - 7s 5ms/step - loss: 1.1925 - accuracy: 0.5701 - val_loss: 1.5532 - val_accuracy: 0.4686\n"
          ],
          "name": "stdout"
        },
        {
          "output_type": "execute_result",
          "data": {
            "text/plain": [
              "<tensorflow.python.keras.callbacks.History at 0x7fb1d8ef8790>"
            ]
          },
          "metadata": {
            "tags": []
          },
          "execution_count": 133
        }
      ]
    },
    {
      "cell_type": "code",
      "metadata": {
        "id": "ydgDhsPIpqja",
        "outputId": "89ed14ee-d478-4dde-c965-5ff279ac6be7"
      },
      "source": [
        "model = keras.models.load_model(\"my_cifar10_model.h5\")\n",
        "model.evaluate(X_valid, y_valid)"
      ],
      "execution_count": null,
      "outputs": [
        {
          "output_type": "stream",
          "text": [
            "157/157 [==============================] - 0s 1ms/step - loss: 1.4960 - accuracy: 0.4762\n"
          ],
          "name": "stdout"
        },
        {
          "output_type": "execute_result",
          "data": {
            "text/plain": [
              "[1.4960416555404663, 0.47620001435279846]"
            ]
          },
          "metadata": {
            "tags": []
          },
          "execution_count": 134
        }
      ]
    },
    {
      "cell_type": "markdown",
      "metadata": {
        "id": "HEFAmiMvpqja"
      },
      "source": [
        "The model with the lowest validation loss gets about 47.6% accuracy on the validation set. It took 27 epochs to reach the lowest validation loss, with roughly 8 seconds per epoch on my laptop (without a GPU). Let's see if we can improve performance using Batch Normalization."
      ]
    },
    {
      "cell_type": "markdown",
      "metadata": {
        "id": "-LbSo9oMpqjb"
      },
      "source": [
        "### c.\n",
        "*Exercise: Now try adding Batch Normalization and compare the learning curves: Is it converging faster than before? Does it produce a better model? How does it affect training speed?*"
      ]
    },
    {
      "cell_type": "markdown",
      "metadata": {
        "id": "yNtPfjpVpqjb"
      },
      "source": [
        "The code below is very similar to the code above, with a few changes:\n",
        "\n",
        "* I added a BN layer after every Dense layer (before the activation function), except for the output layer. I also added a BN layer before the first hidden layer.\n",
        "* I changed the learning rate to 5e-4. I experimented with 1e-5, 3e-5, 5e-5, 1e-4, 3e-4, 5e-4, 1e-3 and 3e-3, and I chose the one with the best validation performance after 20 epochs.\n",
        "* I renamed the run directories to run_bn_* and the model file name to my_cifar10_bn_model.h5."
      ]
    },
    {
      "cell_type": "code",
      "metadata": {
        "id": "0DzxPsJGpqjb",
        "outputId": "86d2066e-c7b6-41cb-859b-1182106d87d7"
      },
      "source": [
        "keras.backend.clear_session()\n",
        "tf.random.set_seed(42)\n",
        "np.random.seed(42)\n",
        "\n",
        "model = keras.models.Sequential()\n",
        "model.add(keras.layers.Flatten(input_shape=[32, 32, 3]))\n",
        "model.add(keras.layers.BatchNormalization())\n",
        "for _ in range(20):\n",
        "    model.add(keras.layers.Dense(100, kernel_initializer=\"he_normal\"))\n",
        "    model.add(keras.layers.BatchNormalization())\n",
        "    model.add(keras.layers.Activation(\"elu\"))\n",
        "model.add(keras.layers.Dense(10, activation=\"softmax\"))\n",
        "\n",
        "optimizer = keras.optimizers.Nadam(lr=5e-4)\n",
        "model.compile(loss=\"sparse_categorical_crossentropy\",\n",
        "              optimizer=optimizer,\n",
        "              metrics=[\"accuracy\"])\n",
        "\n",
        "early_stopping_cb = keras.callbacks.EarlyStopping(patience=20)\n",
        "model_checkpoint_cb = keras.callbacks.ModelCheckpoint(\"my_cifar10_bn_model.h5\", save_best_only=True)\n",
        "run_index = 1 # increment every time you train the model\n",
        "run_logdir = os.path.join(os.curdir, \"my_cifar10_logs\", \"run_bn_{:03d}\".format(run_index))\n",
        "tensorboard_cb = keras.callbacks.TensorBoard(run_logdir)\n",
        "callbacks = [early_stopping_cb, model_checkpoint_cb, tensorboard_cb]\n",
        "\n",
        "model.fit(X_train, y_train, epochs=100,\n",
        "          validation_data=(X_valid, y_valid),\n",
        "          callbacks=callbacks)\n",
        "\n",
        "model = keras.models.load_model(\"my_cifar10_bn_model.h5\")\n",
        "model.evaluate(X_valid, y_valid)"
      ],
      "execution_count": null,
      "outputs": [
        {
          "output_type": "stream",
          "text": [
            "Epoch 1/100\n",
            "1407/1407 [==============================] - 19s 9ms/step - loss: 1.9765 - accuracy: 0.2968 - val_loss: 1.6602 - val_accuracy: 0.4042\n",
            "Epoch 2/100\n",
            "1407/1407 [==============================] - 11s 8ms/step - loss: 1.6787 - accuracy: 0.4056 - val_loss: 1.5887 - val_accuracy: 0.4304\n",
            "Epoch 3/100\n",
            "1407/1407 [==============================] - 11s 8ms/step - loss: 1.6097 - accuracy: 0.4274 - val_loss: 1.5781 - val_accuracy: 0.4326\n",
            "Epoch 4/100\n",
            "1407/1407 [==============================] - 11s 8ms/step - loss: 1.5574 - accuracy: 0.4486 - val_loss: 1.5064 - val_accuracy: 0.4676\n",
            "Epoch 5/100\n",
            "1407/1407 [==============================] - 11s 8ms/step - loss: 1.5075 - accuracy: 0.4642 - val_loss: 1.4412 - val_accuracy: 0.4844\n",
            "Epoch 6/100\n",
            "1407/1407 [==============================] - 11s 8ms/step - loss: 1.4664 - accuracy: 0.4787 - val_loss: 1.4179 - val_accuracy: 0.4984\n",
            "Epoch 7/100\n",
            "1407/1407 [==============================] - 11s 8ms/step - loss: 1.4334 - accuracy: 0.4932 - val_loss: 1.4277 - val_accuracy: 0.4906\n",
            "Epoch 8/100\n",
            "1407/1407 [==============================] - 12s 8ms/step - loss: 1.4054 - accuracy: 0.5038 - val_loss: 1.3843 - val_accuracy: 0.5130\n",
            "Epoch 9/100\n",
            "1407/1407 [==============================] - 12s 8ms/step - loss: 1.3816 - accuracy: 0.5106 - val_loss: 1.3691 - val_accuracy: 0.5108\n",
            "Epoch 10/100\n",
            "1407/1407 [==============================] - 12s 8ms/step - loss: 1.3547 - accuracy: 0.5206 - val_loss: 1.3552 - val_accuracy: 0.5226\n",
            "Epoch 11/100\n",
            "1407/1407 [==============================] - 12s 9ms/step - loss: 1.3244 - accuracy: 0.5371 - val_loss: 1.3678 - val_accuracy: 0.5142\n",
            "Epoch 12/100\n",
            "1407/1407 [==============================] - 12s 8ms/step - loss: 1.3078 - accuracy: 0.5393 - val_loss: 1.3844 - val_accuracy: 0.5080\n",
            "Epoch 13/100\n",
            "1407/1407 [==============================] - 12s 9ms/step - loss: 1.2889 - accuracy: 0.5431 - val_loss: 1.3566 - val_accuracy: 0.5164\n",
            "Epoch 14/100\n",
            "1407/1407 [==============================] - 12s 9ms/step - loss: 1.2607 - accuracy: 0.5559 - val_loss: 1.3626 - val_accuracy: 0.5248\n",
            "Epoch 15/100\n",
            "1407/1407 [==============================] - 12s 8ms/step - loss: 1.2580 - accuracy: 0.5587 - val_loss: 1.3616 - val_accuracy: 0.5276\n",
            "Epoch 16/100\n",
            "1407/1407 [==============================] - 12s 8ms/step - loss: 1.2441 - accuracy: 0.5586 - val_loss: 1.3350 - val_accuracy: 0.5286\n",
            "Epoch 17/100\n",
            "1407/1407 [==============================] - 12s 8ms/step - loss: 1.2241 - accuracy: 0.5676 - val_loss: 1.3370 - val_accuracy: 0.5408\n",
            "Epoch 18/100\n",
            "<<29 more lines>>\n",
            "Epoch 33/100\n",
            "1407/1407 [==============================] - 12s 8ms/step - loss: 1.0336 - accuracy: 0.6369 - val_loss: 1.3682 - val_accuracy: 0.5450\n",
            "Epoch 34/100\n",
            "1407/1407 [==============================] - 11s 8ms/step - loss: 1.0228 - accuracy: 0.6388 - val_loss: 1.3348 - val_accuracy: 0.5458\n",
            "Epoch 35/100\n",
            "1407/1407 [==============================] - 12s 8ms/step - loss: 1.0205 - accuracy: 0.6407 - val_loss: 1.3490 - val_accuracy: 0.5440\n",
            "Epoch 36/100\n",
            "1407/1407 [==============================] - 12s 9ms/step - loss: 1.0008 - accuracy: 0.6489 - val_loss: 1.3568 - val_accuracy: 0.5408\n",
            "Epoch 37/100\n",
            "1407/1407 [==============================] - 12s 9ms/step - loss: 0.9785 - accuracy: 0.6543 - val_loss: 1.3628 - val_accuracy: 0.5396\n",
            "Epoch 38/100\n",
            "1407/1407 [==============================] - 12s 9ms/step - loss: 0.9832 - accuracy: 0.6592 - val_loss: 1.3617 - val_accuracy: 0.5482\n",
            "Epoch 39/100\n",
            "1407/1407 [==============================] - 12s 8ms/step - loss: 0.9707 - accuracy: 0.6581 - val_loss: 1.3767 - val_accuracy: 0.5446\n",
            "Epoch 40/100\n",
            "1407/1407 [==============================] - 12s 9ms/step - loss: 0.9590 - accuracy: 0.6651 - val_loss: 1.4200 - val_accuracy: 0.5314\n",
            "Epoch 41/100\n",
            "1407/1407 [==============================] - 12s 9ms/step - loss: 0.9548 - accuracy: 0.6668 - val_loss: 1.3692 - val_accuracy: 0.5450\n",
            "Epoch 42/100\n",
            "1407/1407 [==============================] - 12s 9ms/step - loss: 0.9480 - accuracy: 0.6667 - val_loss: 1.3841 - val_accuracy: 0.5310\n",
            "Epoch 43/100\n",
            "1407/1407 [==============================] - 12s 9ms/step - loss: 0.9411 - accuracy: 0.6716 - val_loss: 1.4036 - val_accuracy: 0.5382\n",
            "Epoch 44/100\n",
            "1407/1407 [==============================] - 12s 9ms/step - loss: 0.9383 - accuracy: 0.6708 - val_loss: 1.4114 - val_accuracy: 0.5236\n",
            "Epoch 45/100\n",
            "1407/1407 [==============================] - 12s 9ms/step - loss: 0.9258 - accuracy: 0.6769 - val_loss: 1.4224 - val_accuracy: 0.5324\n",
            "Epoch 46/100\n",
            "1407/1407 [==============================] - 12s 9ms/step - loss: 0.9072 - accuracy: 0.6836 - val_loss: 1.3875 - val_accuracy: 0.5442\n",
            "Epoch 47/100\n",
            "1407/1407 [==============================] - 12s 9ms/step - loss: 0.8996 - accuracy: 0.6850 - val_loss: 1.4449 - val_accuracy: 0.5280\n",
            "Epoch 48/100\n",
            "1407/1407 [==============================] - 13s 9ms/step - loss: 0.9050 - accuracy: 0.6835 - val_loss: 1.4167 - val_accuracy: 0.5338\n",
            "Epoch 49/100\n",
            "1407/1407 [==============================] - 12s 9ms/step - loss: 0.8934 - accuracy: 0.6880 - val_loss: 1.4260 - val_accuracy: 0.5294\n",
            "157/157 [==============================] - 1s 2ms/step - loss: 1.3344 - accuracy: 0.5398\n"
          ],
          "name": "stdout"
        },
        {
          "output_type": "execute_result",
          "data": {
            "text/plain": [
              "[1.3343921899795532, 0.5397999882698059]"
            ]
          },
          "metadata": {
            "tags": []
          },
          "execution_count": 135
        }
      ]
    },
    {
      "cell_type": "markdown",
      "metadata": {
        "id": "x4RjV_Djpqjb"
      },
      "source": [
        "* *Is the model converging faster than before?* Much faster! The previous model took 27 epochs to reach the lowest validation loss, while the new model achieved that same loss in just 5 epochs and continued to make progress until the 16th epoch. The BN layers stabilized training and allowed us to use a much larger learning rate, so convergence was faster.\n",
        "* *Does BN produce a better model?* Yes! The final model is also much better, with 54.0% accuracy instead of 47.6%. It's still not a very good model, but at least it's much better than before (a Convolutional Neural Network would do much better, but that's a different topic, see chapter 14).\n",
        "* *How does BN affect training speed?* Although the model converged much faster, each epoch took about 12s instead of 8s, because of the extra computations required by the BN layers. But overall the training time (wall time) was shortened significantly!"
      ]
    },
    {
      "cell_type": "markdown",
      "metadata": {
        "id": "W2bxQBICpqjc"
      },
      "source": [
        "### d.\n",
        "*Exercise: Try replacing Batch Normalization with SELU, and make the necessary adjustements to ensure the network self-normalizes (i.e., standardize the input features, use LeCun normal initialization, make sure the DNN contains only a sequence of dense layers, etc.).*"
      ]
    },
    {
      "cell_type": "code",
      "metadata": {
        "scrolled": true,
        "id": "r3fV0lBUpqjc",
        "outputId": "39193ac2-c3c3-49a0-8380-941f26722e1a"
      },
      "source": [
        "keras.backend.clear_session()\n",
        "tf.random.set_seed(42)\n",
        "np.random.seed(42)\n",
        "\n",
        "model = keras.models.Sequential()\n",
        "model.add(keras.layers.Flatten(input_shape=[32, 32, 3]))\n",
        "for _ in range(20):\n",
        "    model.add(keras.layers.Dense(100,\n",
        "                                 kernel_initializer=\"lecun_normal\",\n",
        "                                 activation=\"selu\"))\n",
        "model.add(keras.layers.Dense(10, activation=\"softmax\"))\n",
        "\n",
        "optimizer = keras.optimizers.Nadam(lr=7e-4)\n",
        "model.compile(loss=\"sparse_categorical_crossentropy\",\n",
        "              optimizer=optimizer,\n",
        "              metrics=[\"accuracy\"])\n",
        "\n",
        "early_stopping_cb = keras.callbacks.EarlyStopping(patience=20)\n",
        "model_checkpoint_cb = keras.callbacks.ModelCheckpoint(\"my_cifar10_selu_model.h5\", save_best_only=True)\n",
        "run_index = 1 # increment every time you train the model\n",
        "run_logdir = os.path.join(os.curdir, \"my_cifar10_logs\", \"run_selu_{:03d}\".format(run_index))\n",
        "tensorboard_cb = keras.callbacks.TensorBoard(run_logdir)\n",
        "callbacks = [early_stopping_cb, model_checkpoint_cb, tensorboard_cb]\n",
        "\n",
        "X_means = X_train.mean(axis=0)\n",
        "X_stds = X_train.std(axis=0)\n",
        "X_train_scaled = (X_train - X_means) / X_stds\n",
        "X_valid_scaled = (X_valid - X_means) / X_stds\n",
        "X_test_scaled = (X_test - X_means) / X_stds\n",
        "\n",
        "model.fit(X_train_scaled, y_train, epochs=100,\n",
        "          validation_data=(X_valid_scaled, y_valid),\n",
        "          callbacks=callbacks)\n",
        "\n",
        "model = keras.models.load_model(\"my_cifar10_selu_model.h5\")\n",
        "model.evaluate(X_valid_scaled, y_valid)"
      ],
      "execution_count": null,
      "outputs": [
        {
          "output_type": "stream",
          "text": [
            "Epoch 1/100\n",
            "1407/1407 [==============================] - 10s 5ms/step - loss: 2.0622 - accuracy: 0.2631 - val_loss: 1.7878 - val_accuracy: 0.3552\n",
            "Epoch 2/100\n",
            "1407/1407 [==============================] - 7s 5ms/step - loss: 1.7328 - accuracy: 0.3830 - val_loss: 1.7028 - val_accuracy: 0.3828\n",
            "Epoch 3/100\n",
            "1407/1407 [==============================] - 7s 5ms/step - loss: 1.6342 - accuracy: 0.4279 - val_loss: 1.6692 - val_accuracy: 0.4022\n",
            "Epoch 4/100\n",
            "1407/1407 [==============================] - 7s 5ms/step - loss: 1.5524 - accuracy: 0.4538 - val_loss: 1.6350 - val_accuracy: 0.4300\n",
            "Epoch 5/100\n",
            "1407/1407 [==============================] - 7s 5ms/step - loss: 1.4979 - accuracy: 0.4756 - val_loss: 1.5773 - val_accuracy: 0.4356\n",
            "Epoch 6/100\n",
            "1407/1407 [==============================] - 7s 5ms/step - loss: 1.4428 - accuracy: 0.4902 - val_loss: 1.5529 - val_accuracy: 0.4630\n",
            "Epoch 7/100\n",
            "1407/1407 [==============================] - 7s 5ms/step - loss: 1.3966 - accuracy: 0.5126 - val_loss: 1.5290 - val_accuracy: 0.4682\n",
            "Epoch 8/100\n",
            "1407/1407 [==============================] - 7s 5ms/step - loss: 1.3549 - accuracy: 0.5232 - val_loss: 1.4633 - val_accuracy: 0.4792\n",
            "Epoch 9/100\n",
            "1407/1407 [==============================] - 7s 5ms/step - loss: 1.3162 - accuracy: 0.5444 - val_loss: 1.4787 - val_accuracy: 0.4776\n",
            "Epoch 10/100\n",
            "1407/1407 [==============================] - 7s 5ms/step - loss: 1.2825 - accuracy: 0.5534 - val_loss: 1.4794 - val_accuracy: 0.4934\n",
            "Epoch 11/100\n",
            "1407/1407 [==============================] - 7s 5ms/step - loss: 1.2529 - accuracy: 0.5682 - val_loss: 1.5529 - val_accuracy: 0.4982\n",
            "Epoch 12/100\n",
            "1407/1407 [==============================] - 7s 5ms/step - loss: 1.2256 - accuracy: 0.5784 - val_loss: 1.4942 - val_accuracy: 0.4902\n",
            "Epoch 13/100\n",
            "1407/1407 [==============================] - 7s 5ms/step - loss: 1.2049 - accuracy: 0.5823 - val_loss: 1.4868 - val_accuracy: 0.5024\n",
            "Epoch 14/100\n",
            "1407/1407 [==============================] - 7s 5ms/step - loss: 1.1627 - accuracy: 0.6012 - val_loss: 1.4839 - val_accuracy: 0.5082\n",
            "Epoch 15/100\n",
            "1407/1407 [==============================] - 7s 5ms/step - loss: 1.1543 - accuracy: 0.6034 - val_loss: 1.5097 - val_accuracy: 0.4968\n",
            "Epoch 16/100\n",
            "1407/1407 [==============================] - 7s 5ms/step - loss: 1.1200 - accuracy: 0.6135 - val_loss: 1.5001 - val_accuracy: 0.5120\n",
            "Epoch 17/100\n",
            "1407/1407 [==============================] - 7s 5ms/step - loss: 1.1028 - accuracy: 0.6199 - val_loss: 1.4856 - val_accuracy: 0.5056\n",
            "Epoch 18/100\n",
            "1407/1407 [==============================] - 7s 5ms/step - loss: 1.0863 - accuracy: 0.6265 - val_loss: 1.5116 - val_accuracy: 0.4966\n",
            "Epoch 19/100\n",
            "1407/1407 [==============================] - 7s 5ms/step - loss: 1.0715 - accuracy: 0.6345 - val_loss: 1.5787 - val_accuracy: 0.5070\n",
            "Epoch 20/100\n",
            "1407/1407 [==============================] - 7s 5ms/step - loss: 1.0342 - accuracy: 0.6453 - val_loss: 1.4987 - val_accuracy: 0.5144\n",
            "Epoch 21/100\n",
            "1407/1407 [==============================] - 7s 5ms/step - loss: 1.0169 - accuracy: 0.6531 - val_loss: 1.6292 - val_accuracy: 0.4462\n",
            "Epoch 22/100\n",
            "1407/1407 [==============================] - 7s 5ms/step - loss: 1.1346 - accuracy: 0.6074 - val_loss: 1.5280 - val_accuracy: 0.5136\n",
            "Epoch 23/100\n",
            "1407/1407 [==============================] - 7s 5ms/step - loss: 0.9820 - accuracy: 0.6678 - val_loss: 1.5392 - val_accuracy: 0.5040\n",
            "Epoch 24/100\n",
            "1407/1407 [==============================] - 7s 5ms/step - loss: 0.9701 - accuracy: 0.6679 - val_loss: 1.5505 - val_accuracy: 0.5170\n",
            "Epoch 25/100\n",
            "1407/1407 [==============================] - 7s 5ms/step - loss: 1.3604 - accuracy: 0.6753 - val_loss: 1.5468 - val_accuracy: 0.4992\n",
            "Epoch 26/100\n",
            "1407/1407 [==============================] - 7s 5ms/step - loss: 1.0177 - accuracy: 0.6510 - val_loss: 1.5474 - val_accuracy: 0.5020\n",
            "Epoch 27/100\n",
            "1407/1407 [==============================] - 7s 5ms/step - loss: 0.9425 - accuracy: 0.6798 - val_loss: 1.5545 - val_accuracy: 0.5076\n",
            "Epoch 28/100\n",
            "1407/1407 [==============================] - 7s 5ms/step - loss: 0.9005 - accuracy: 0.6902 - val_loss: 1.5659 - val_accuracy: 0.5138\n",
            "157/157 [==============================] - 0s 1ms/step - loss: 1.4633 - accuracy: 0.4792\n"
          ],
          "name": "stdout"
        },
        {
          "output_type": "execute_result",
          "data": {
            "text/plain": [
              "[1.4633383750915527, 0.47920000553131104]"
            ]
          },
          "metadata": {
            "tags": []
          },
          "execution_count": 136
        }
      ]
    },
    {
      "cell_type": "code",
      "metadata": {
        "id": "hWu_PYjUpqjc",
        "outputId": "eea33c8f-3b1d-4d47-a625-c45791c2e38d"
      },
      "source": [
        "model = keras.models.load_model(\"my_cifar10_selu_model.h5\")\n",
        "model.evaluate(X_valid_scaled, y_valid)"
      ],
      "execution_count": null,
      "outputs": [
        {
          "output_type": "stream",
          "text": [
            "157/157 [==============================] - 0s 1ms/step - loss: 1.4633 - accuracy: 0.4792\n"
          ],
          "name": "stdout"
        },
        {
          "output_type": "execute_result",
          "data": {
            "text/plain": [
              "[1.4633383750915527, 0.47920000553131104]"
            ]
          },
          "metadata": {
            "tags": []
          },
          "execution_count": 137
        }
      ]
    },
    {
      "cell_type": "markdown",
      "metadata": {
        "id": "XZqH7fH0pqjc"
      },
      "source": [
        "We get 47.9% accuracy, which is not much better than the original model (47.6%), and not as good as the model using batch normalization (54.0%). However, convergence was almost as fast as with the BN model, plus each epoch took only 7 seconds. So it's by far the fastest model to train so far."
      ]
    },
    {
      "cell_type": "markdown",
      "metadata": {
        "id": "RQwpLdjWpqjd"
      },
      "source": [
        "### e.\n",
        "*Exercise: Try regularizing the model with alpha dropout. Then, without retraining your model, see if you can achieve better accuracy using MC Dropout.*"
      ]
    },
    {
      "cell_type": "code",
      "metadata": {
        "id": "rtutQv_fpqjd",
        "outputId": "453c383a-419b-4151-e039-eb38129a7931"
      },
      "source": [
        "keras.backend.clear_session()\n",
        "tf.random.set_seed(42)\n",
        "np.random.seed(42)\n",
        "\n",
        "model = keras.models.Sequential()\n",
        "model.add(keras.layers.Flatten(input_shape=[32, 32, 3]))\n",
        "for _ in range(20):\n",
        "    model.add(keras.layers.Dense(100,\n",
        "                                 kernel_initializer=\"lecun_normal\",\n",
        "                                 activation=\"selu\"))\n",
        "\n",
        "model.add(keras.layers.AlphaDropout(rate=0.1))\n",
        "model.add(keras.layers.Dense(10, activation=\"softmax\"))\n",
        "\n",
        "optimizer = keras.optimizers.Nadam(lr=5e-4)\n",
        "model.compile(loss=\"sparse_categorical_crossentropy\",\n",
        "              optimizer=optimizer,\n",
        "              metrics=[\"accuracy\"])\n",
        "\n",
        "early_stopping_cb = keras.callbacks.EarlyStopping(patience=20)\n",
        "model_checkpoint_cb = keras.callbacks.ModelCheckpoint(\"my_cifar10_alpha_dropout_model.h5\", save_best_only=True)\n",
        "run_index = 1 # increment every time you train the model\n",
        "run_logdir = os.path.join(os.curdir, \"my_cifar10_logs\", \"run_alpha_dropout_{:03d}\".format(run_index))\n",
        "tensorboard_cb = keras.callbacks.TensorBoard(run_logdir)\n",
        "callbacks = [early_stopping_cb, model_checkpoint_cb, tensorboard_cb]\n",
        "\n",
        "X_means = X_train.mean(axis=0)\n",
        "X_stds = X_train.std(axis=0)\n",
        "X_train_scaled = (X_train - X_means) / X_stds\n",
        "X_valid_scaled = (X_valid - X_means) / X_stds\n",
        "X_test_scaled = (X_test - X_means) / X_stds\n",
        "\n",
        "model.fit(X_train_scaled, y_train, epochs=100,\n",
        "          validation_data=(X_valid_scaled, y_valid),\n",
        "          callbacks=callbacks)\n",
        "\n",
        "model = keras.models.load_model(\"my_cifar10_alpha_dropout_model.h5\")\n",
        "model.evaluate(X_valid_scaled, y_valid)"
      ],
      "execution_count": null,
      "outputs": [
        {
          "output_type": "stream",
          "text": [
            "Epoch 1/100\n",
            "1407/1407 [==============================] - 9s 5ms/step - loss: 2.0583 - accuracy: 0.2742 - val_loss: 1.7429 - val_accuracy: 0.3858\n",
            "Epoch 2/100\n",
            "1407/1407 [==============================] - 6s 5ms/step - loss: 1.6852 - accuracy: 0.4008 - val_loss: 1.7055 - val_accuracy: 0.3792\n",
            "Epoch 3/100\n",
            "1407/1407 [==============================] - 7s 5ms/step - loss: 1.5963 - accuracy: 0.4413 - val_loss: 1.7401 - val_accuracy: 0.4072\n",
            "Epoch 4/100\n",
            "1407/1407 [==============================] - 7s 5ms/step - loss: 1.5231 - accuracy: 0.4634 - val_loss: 1.5728 - val_accuracy: 0.4584\n",
            "Epoch 5/100\n",
            "1407/1407 [==============================] - 7s 5ms/step - loss: 1.4619 - accuracy: 0.4887 - val_loss: 1.5448 - val_accuracy: 0.4702\n",
            "Epoch 6/100\n",
            "1407/1407 [==============================] - 6s 5ms/step - loss: 1.4074 - accuracy: 0.5061 - val_loss: 1.5678 - val_accuracy: 0.4664\n",
            "Epoch 7/100\n",
            "1407/1407 [==============================] - 6s 5ms/step - loss: 1.3718 - accuracy: 0.5222 - val_loss: 1.5764 - val_accuracy: 0.4824\n",
            "Epoch 8/100\n",
            "1407/1407 [==============================] - 7s 5ms/step - loss: 1.3220 - accuracy: 0.5387 - val_loss: 1.4805 - val_accuracy: 0.4890\n",
            "Epoch 9/100\n",
            "1407/1407 [==============================] - 6s 5ms/step - loss: 1.2908 - accuracy: 0.5487 - val_loss: 1.5521 - val_accuracy: 0.4638\n",
            "Epoch 10/100\n",
            "1407/1407 [==============================] - 7s 5ms/step - loss: 1.2537 - accuracy: 0.5607 - val_loss: 1.5281 - val_accuracy: 0.4924\n",
            "Epoch 11/100\n",
            "1407/1407 [==============================] - 6s 5ms/step - loss: 1.2215 - accuracy: 0.5782 - val_loss: 1.5147 - val_accuracy: 0.5046\n",
            "Epoch 12/100\n",
            "1407/1407 [==============================] - 7s 5ms/step - loss: 1.1910 - accuracy: 0.5831 - val_loss: 1.5248 - val_accuracy: 0.5002\n",
            "Epoch 13/100\n",
            "1407/1407 [==============================] - 6s 5ms/step - loss: 1.1659 - accuracy: 0.5982 - val_loss: 1.5620 - val_accuracy: 0.5066\n",
            "Epoch 14/100\n",
            "1407/1407 [==============================] - 6s 5ms/step - loss: 1.1282 - accuracy: 0.6120 - val_loss: 1.5440 - val_accuracy: 0.5180\n",
            "Epoch 15/100\n",
            "1407/1407 [==============================] - 6s 5ms/step - loss: 1.1127 - accuracy: 0.6133 - val_loss: 1.5782 - val_accuracy: 0.5146\n",
            "Epoch 16/100\n",
            "1407/1407 [==============================] - 7s 5ms/step - loss: 1.0917 - accuracy: 0.6266 - val_loss: 1.6182 - val_accuracy: 0.5182\n",
            "Epoch 17/100\n",
            "1407/1407 [==============================] - 6s 5ms/step - loss: 1.0620 - accuracy: 0.6331 - val_loss: 1.6285 - val_accuracy: 0.5126\n",
            "Epoch 18/100\n",
            "1407/1407 [==============================] - 7s 5ms/step - loss: 1.0433 - accuracy: 0.6413 - val_loss: 1.6299 - val_accuracy: 0.5158\n",
            "Epoch 19/100\n",
            "1407/1407 [==============================] - 7s 5ms/step - loss: 1.0087 - accuracy: 0.6549 - val_loss: 1.7172 - val_accuracy: 0.5062\n",
            "Epoch 20/100\n",
            "1407/1407 [==============================] - 6s 5ms/step - loss: 0.9950 - accuracy: 0.6571 - val_loss: 1.6524 - val_accuracy: 0.5098\n",
            "Epoch 21/100\n",
            "1407/1407 [==============================] - 7s 5ms/step - loss: 0.9848 - accuracy: 0.6652 - val_loss: 1.7686 - val_accuracy: 0.5038\n",
            "Epoch 22/100\n",
            "1407/1407 [==============================] - 7s 5ms/step - loss: 0.9597 - accuracy: 0.6744 - val_loss: 1.6177 - val_accuracy: 0.5084\n",
            "Epoch 23/100\n",
            "1407/1407 [==============================] - 7s 5ms/step - loss: 0.9399 - accuracy: 0.6790 - val_loss: 1.7095 - val_accuracy: 0.5082\n",
            "Epoch 24/100\n",
            "1407/1407 [==============================] - 7s 5ms/step - loss: 0.9148 - accuracy: 0.6884 - val_loss: 1.7160 - val_accuracy: 0.5150\n",
            "Epoch 25/100\n",
            "1407/1407 [==============================] - 6s 5ms/step - loss: 0.9023 - accuracy: 0.6949 - val_loss: 1.7017 - val_accuracy: 0.5152\n",
            "Epoch 26/100\n",
            "1407/1407 [==============================] - 7s 5ms/step - loss: 0.8732 - accuracy: 0.7031 - val_loss: 1.7274 - val_accuracy: 0.5088\n",
            "Epoch 27/100\n",
            "1407/1407 [==============================] - 6s 5ms/step - loss: 0.8542 - accuracy: 0.7091 - val_loss: 1.7648 - val_accuracy: 0.5166\n",
            "Epoch 28/100\n",
            "1407/1407 [==============================] - 7s 5ms/step - loss: 0.8499 - accuracy: 0.7118 - val_loss: 1.7973 - val_accuracy: 0.5000\n",
            "157/157 [==============================] - 0s 1ms/step - loss: 1.4805 - accuracy: 0.4890\n"
          ],
          "name": "stdout"
        },
        {
          "output_type": "execute_result",
          "data": {
            "text/plain": [
              "[1.4804893732070923, 0.48899999260902405]"
            ]
          },
          "metadata": {
            "tags": []
          },
          "execution_count": 138
        }
      ]
    },
    {
      "cell_type": "markdown",
      "metadata": {
        "id": "NEAboNUqpqje"
      },
      "source": [
        "The model reaches 48.9% accuracy on the validation set. That's very slightly better than without dropout (47.6%). With an extensive hyperparameter search, it might be possible to do better (I tried dropout rates of 5%, 10%, 20% and 40%, and learning rates 1e-4, 3e-4, 5e-4, and 1e-3), but probably not much better in this case."
      ]
    },
    {
      "cell_type": "markdown",
      "metadata": {
        "id": "s32I1iqBpqje"
      },
      "source": [
        "Let's use MC Dropout now. We will need the `MCAlphaDropout` class we used earlier, so let's just copy it here for convenience:"
      ]
    },
    {
      "cell_type": "code",
      "metadata": {
        "id": "7jFWr8g6pqje"
      },
      "source": [
        "class MCAlphaDropout(keras.layers.AlphaDropout):\n",
        "    def call(self, inputs):\n",
        "        return super().call(inputs, training=True)"
      ],
      "execution_count": null,
      "outputs": []
    },
    {
      "cell_type": "markdown",
      "metadata": {
        "id": "S116M4EFpqje"
      },
      "source": [
        "Now let's create a new model, identical to the one we just trained (with the same weights), but with `MCAlphaDropout` dropout layers instead of `AlphaDropout` layers:"
      ]
    },
    {
      "cell_type": "code",
      "metadata": {
        "id": "IiGiz_Ftpqje"
      },
      "source": [
        "mc_model = keras.models.Sequential([\n",
        "    MCAlphaDropout(layer.rate) if isinstance(layer, keras.layers.AlphaDropout) else layer\n",
        "    for layer in model.layers\n",
        "])"
      ],
      "execution_count": null,
      "outputs": []
    },
    {
      "cell_type": "markdown",
      "metadata": {
        "id": "BgLyholvpqje"
      },
      "source": [
        "Then let's add a couple utility functions. The first will run the model many times (10 by default) and it will return the mean predicted class probabilities. The second will use these mean probabilities to predict the most likely class for each instance:"
      ]
    },
    {
      "cell_type": "code",
      "metadata": {
        "id": "sg-SFQOepqjf"
      },
      "source": [
        "def mc_dropout_predict_probas(mc_model, X, n_samples=10):\n",
        "    Y_probas = [mc_model.predict(X) for sample in range(n_samples)]\n",
        "    return np.mean(Y_probas, axis=0)\n",
        "\n",
        "def mc_dropout_predict_classes(mc_model, X, n_samples=10):\n",
        "    Y_probas = mc_dropout_predict_probas(mc_model, X, n_samples)\n",
        "    return np.argmax(Y_probas, axis=1)"
      ],
      "execution_count": null,
      "outputs": []
    },
    {
      "cell_type": "markdown",
      "metadata": {
        "id": "G6qC5pP4pqjf"
      },
      "source": [
        "Now let's make predictions for all the instances in the validation set, and compute the accuracy:"
      ]
    },
    {
      "cell_type": "code",
      "metadata": {
        "id": "R9TPa2iypqjf",
        "outputId": "7aede9e5-9574-4a87-b12c-ce685d96f57e"
      },
      "source": [
        "keras.backend.clear_session()\n",
        "tf.random.set_seed(42)\n",
        "np.random.seed(42)\n",
        "\n",
        "y_pred = mc_dropout_predict_classes(mc_model, X_valid_scaled)\n",
        "accuracy = np.mean(y_pred == y_valid[:, 0])\n",
        "accuracy"
      ],
      "execution_count": null,
      "outputs": [
        {
          "output_type": "execute_result",
          "data": {
            "text/plain": [
              "0.4892"
            ]
          },
          "metadata": {
            "tags": []
          },
          "execution_count": 142
        }
      ]
    },
    {
      "cell_type": "markdown",
      "metadata": {
        "id": "nmzmeWNapqjf"
      },
      "source": [
        "We get no accuracy improvement in this case (we're still at 48.9% accuracy).\n",
        "\n",
        "So the best model we got in this exercise is the Batch Normalization model."
      ]
    },
    {
      "cell_type": "markdown",
      "metadata": {
        "id": "NzuayU9Epqjf"
      },
      "source": [
        "### f.\n",
        "*Exercise: Retrain your model using 1cycle scheduling and see if it improves training speed and model accuracy.*"
      ]
    },
    {
      "cell_type": "code",
      "metadata": {
        "id": "II9Wh3pvpqjg"
      },
      "source": [
        "keras.backend.clear_session()\n",
        "tf.random.set_seed(42)\n",
        "np.random.seed(42)\n",
        "\n",
        "model = keras.models.Sequential()\n",
        "model.add(keras.layers.Flatten(input_shape=[32, 32, 3]))\n",
        "for _ in range(20):\n",
        "    model.add(keras.layers.Dense(100,\n",
        "                                 kernel_initializer=\"lecun_normal\",\n",
        "                                 activation=\"selu\"))\n",
        "\n",
        "model.add(keras.layers.AlphaDropout(rate=0.1))\n",
        "model.add(keras.layers.Dense(10, activation=\"softmax\"))\n",
        "\n",
        "optimizer = keras.optimizers.SGD(lr=1e-3)\n",
        "model.compile(loss=\"sparse_categorical_crossentropy\",\n",
        "              optimizer=optimizer,\n",
        "              metrics=[\"accuracy\"])"
      ],
      "execution_count": null,
      "outputs": []
    },
    {
      "cell_type": "code",
      "metadata": {
        "id": "lxW83lJXpqjg",
        "outputId": "5bfbf2a1-bd75-42ab-c61c-eb591de454e8"
      },
      "source": [
        "batch_size = 128\n",
        "rates, losses = find_learning_rate(model, X_train_scaled, y_train, epochs=1, batch_size=batch_size)\n",
        "plot_lr_vs_loss(rates, losses)\n",
        "plt.axis([min(rates), max(rates), min(losses), (losses[0] + min(losses)) / 1.4])"
      ],
      "execution_count": null,
      "outputs": [
        {
          "output_type": "stream",
          "text": [
            "352/352 [==============================] - 2s 6ms/step - loss: nan - accuracy: 0.1255\n"
          ],
          "name": "stdout"
        },
        {
          "output_type": "execute_result",
          "data": {
            "text/plain": [
              "(9.999999747378752e-06,\n",
              " 9.999868392944336,\n",
              " 2.6167492866516113,\n",
              " 3.9354368618556435)"
            ]
          },
          "metadata": {
            "tags": []
          },
          "execution_count": 144
        },
        {
          "output_type": "display_data",
          "data": {
            "image/png": "[encoded data removed]",
            "text/plain": [
              "<Figure size 432x288 with 1 Axes>"
            ]
          },
          "metadata": {
            "tags": [],
            "needs_background": "light"
          }
        }
      ]
    },
    {
      "cell_type": "code",
      "metadata": {
        "id": "NMvytzpNpqjg"
      },
      "source": [
        "keras.backend.clear_session()\n",
        "tf.random.set_seed(42)\n",
        "np.random.seed(42)\n",
        "\n",
        "model = keras.models.Sequential()\n",
        "model.add(keras.layers.Flatten(input_shape=[32, 32, 3]))\n",
        "for _ in range(20):\n",
        "    model.add(keras.layers.Dense(100,\n",
        "                                 kernel_initializer=\"lecun_normal\",\n",
        "                                 activation=\"selu\"))\n",
        "\n",
        "model.add(keras.layers.AlphaDropout(rate=0.1))\n",
        "model.add(keras.layers.Dense(10, activation=\"softmax\"))\n",
        "\n",
        "optimizer = keras.optimizers.SGD(lr=1e-2)\n",
        "model.compile(loss=\"sparse_categorical_crossentropy\",\n",
        "              optimizer=optimizer,\n",
        "              metrics=[\"accuracy\"])"
      ],
      "execution_count": null,
      "outputs": []
    },
    {
      "cell_type": "code",
      "metadata": {
        "id": "a7zm9RbFpqjh",
        "outputId": "0b3597d8-d90a-4280-e8da-2b95804763aa"
      },
      "source": [
        "n_epochs = 15\n",
        "onecycle = OneCycleScheduler(math.ceil(len(X_train_scaled) / batch_size) * n_epochs, max_rate=0.05)\n",
        "history = model.fit(X_train_scaled, y_train, epochs=n_epochs, batch_size=batch_size,\n",
        "                    validation_data=(X_valid_scaled, y_valid),\n",
        "                    callbacks=[onecycle])"
      ],
      "execution_count": null,
      "outputs": [
        {
          "output_type": "stream",
          "text": [
            "Epoch 1/15\n",
            "352/352 [==============================] - 3s 6ms/step - loss: 2.2298 - accuracy: 0.2349 - val_loss: 1.7841 - val_accuracy: 0.3834\n",
            "Epoch 2/15\n",
            "352/352 [==============================] - 2s 6ms/step - loss: 1.7928 - accuracy: 0.3689 - val_loss: 1.6806 - val_accuracy: 0.4086\n",
            "Epoch 3/15\n",
            "352/352 [==============================] - 2s 6ms/step - loss: 1.6475 - accuracy: 0.4190 - val_loss: 1.6378 - val_accuracy: 0.4350\n",
            "Epoch 4/15\n",
            "352/352 [==============================] - 2s 6ms/step - loss: 1.5428 - accuracy: 0.4543 - val_loss: 1.6266 - val_accuracy: 0.4390\n",
            "Epoch 5/15\n",
            "352/352 [==============================] - 2s 6ms/step - loss: 1.4865 - accuracy: 0.4769 - val_loss: 1.6158 - val_accuracy: 0.4384\n",
            "Epoch 6/15\n",
            "352/352 [==============================] - 2s 6ms/step - loss: 1.4339 - accuracy: 0.4866 - val_loss: 1.5850 - val_accuracy: 0.4412\n",
            "Epoch 7/15\n",
            "352/352 [==============================] - 2s 6ms/step - loss: 1.4042 - accuracy: 0.5056 - val_loss: 1.6146 - val_accuracy: 0.4384\n",
            "Epoch 8/15\n",
            "352/352 [==============================] - 2s 6ms/step - loss: 1.3437 - accuracy: 0.5229 - val_loss: 1.5299 - val_accuracy: 0.4846\n",
            "Epoch 9/15\n",
            "352/352 [==============================] - 2s 5ms/step - loss: 1.2721 - accuracy: 0.5459 - val_loss: 1.5145 - val_accuracy: 0.4874\n",
            "Epoch 10/15\n",
            "352/352 [==============================] - 2s 6ms/step - loss: 1.1942 - accuracy: 0.5698 - val_loss: 1.4958 - val_accuracy: 0.5040\n",
            "Epoch 11/15\n",
            "352/352 [==============================] - 2s 6ms/step - loss: 1.1211 - accuracy: 0.6033 - val_loss: 1.5406 - val_accuracy: 0.4984\n",
            "Epoch 12/15\n",
            "352/352 [==============================] - 2s 6ms/step - loss: 1.0673 - accuracy: 0.6161 - val_loss: 1.5284 - val_accuracy: 0.5144\n",
            "Epoch 13/15\n",
            "352/352 [==============================] - 2s 6ms/step - loss: 0.9927 - accuracy: 0.6435 - val_loss: 1.5449 - val_accuracy: 0.5140\n",
            "Epoch 14/15\n",
            "352/352 [==============================] - 2s 6ms/step - loss: 0.9205 - accuracy: 0.6703 - val_loss: 1.5652 - val_accuracy: 0.5224\n",
            "Epoch 15/15\n",
            "352/352 [==============================] - 2s 6ms/step - loss: 0.8936 - accuracy: 0.6801 - val_loss: 1.5912 - val_accuracy: 0.5198\n"
          ],
          "name": "stdout"
        }
      ]
    },
    {
      "cell_type": "markdown",
      "metadata": {
        "id": "8JhYlIYupqjh"
      },
      "source": [
        "One cycle allowed us to train the model in just 15 epochs, each taking only 2 seconds (thanks to the larger batch size). This is several times faster than the fastest model we trained so far. Moreover, we improved the model's performance (from 47.6% to 52.0%). The batch normalized model reaches a slightly better performance (54%), but it's much slower to train."
      ]
    },
    {
      "cell_type": "code",
      "metadata": {
        "id": "c4_DfLvLpqjh"
      },
      "source": [
        ""
      ],
      "execution_count": null,
      "outputs": []
    }
  ]
}