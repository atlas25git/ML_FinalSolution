{
  "nbformat": 4,
  "nbformat_minor": 0,
  "metadata": {
    "colab": {
      "name": "2MNISThudson.ipynb",
      "provenance": []
    },
    "kernelspec": {
      "name": "python3",
      "display_name": "Python 3"
    },
    "language_info": {
      "name": "python"
    }
  },
  "cells": [
    {
      "cell_type": "markdown",
      "metadata": {
        "id": "lXGDevoUrtdP"
      },
      "source": [
        "#Data description:\n",
        "\n",
        "A set of 70,000 small\n",
        "images of digits handwritten by high school students and employees of the US Census\n",
        "Bureau. Each image is labeled with the digit it represents. This set has been studied\n",
        "so much that it is often called the “hello world” of Machine Learning: whenever\n",
        "people come up with a new classification algorithm they are curious to see how it will\n",
        "perform on MNIST\n"
      ]
    },
    {
      "cell_type": "code",
      "metadata": {
        "colab": {
          "base_uri": "https://localhost:8080/"
        },
        "id": "MTcuGaolr65k",
        "outputId": "50681520-4657-4585-ded4-bdb0f315f66e"
      },
      "source": [
        "from sklearn.datasets import fetch_openml\n",
        "mnist = fetch_openml('mnist_784', version=1)\n",
        "mnist.keys()"
      ],
      "execution_count": 1,
      "outputs": [
        {
          "output_type": "execute_result",
          "data": {
            "text/plain": [
              "dict_keys(['data', 'target', 'frame', 'feature_names', 'target_names', 'DESCR', 'details', 'categories', 'url'])"
            ]
          },
          "metadata": {
            "tags": []
          },
          "execution_count": 1
        }
      ]
    },
    {
      "cell_type": "markdown",
      "metadata": {
        "id": "z09H-hpAsZrr"
      },
      "source": [
        "Datasets loaded by Scikit-Learn generally have a similar dictionary structure, including\n",
        "the following:\n",
        "\n",
        "• A DESCR key describing the dataset\n",
        "\n",
        "• A data key containing an array with one row per instance and one column per\n",
        "feature\n",
        "\n",
        "• A target key containing an array with the labels"
      ]
    },
    {
      "cell_type": "code",
      "metadata": {
        "colab": {
          "base_uri": "https://localhost:8080/",
          "height": 120
        },
        "id": "6KJrZMfDsRJt",
        "outputId": "cba9c05e-c421-446a-94c8-d0517fd603c8"
      },
      "source": [
        "mnist.DESCR"
      ],
      "execution_count": 2,
      "outputs": [
        {
          "output_type": "execute_result",
          "data": {
            "application/vnd.google.colaboratory.intrinsic+json": {
              "type": "string"
            },
            "text/plain": [
              "\"The MNIST database of handwritten digits with 784 features. It can be split in a training set of the first 60,000 examples, and a test set of 10,000 examples  \\n\\nIt is a subset of a larger set available from NIST. The digits have been size-normalized and centered in a fixed-size image. It is a good database for people who want to try learning techniques and pattern recognition methods on real-world data while spending minimal efforts on preprocessing and formatting. The original black and white (bilevel) images from NIST were size normalized to fit in a 20x20 pixel box while preserving their aspect ratio. The resulting images contain grey levels as a result of the anti-aliasing technique used by the normalization algorithm. the images were centered in a 28x28 image by computing the center of mass of the pixels, and translating the image so as to position this point at the center of the 28x28 field.  \\n\\nWith some classification methods (particularly template-based methods, such as SVM and K-nearest neighbors), the error rate improves when the digits are centered by bounding box rather than center of mass. If you do this kind of pre-processing, you should report it in your publications. The MNIST database was constructed from NIST's NIST originally designated SD-3 as their training set and SD-1 as their test set. However, SD-3 is much cleaner and easier to recognize than SD-1. The reason for this can be found on the fact that SD-3 was collected among Census Bureau employees, while SD-1 was collected among high-school students. Drawing sensible conclusions from learning experiments requires that the result be independent of the choice of training set and test among the complete set of samples. Therefore it was necessary to build a new database by mixing NIST's datasets.  \\n\\nThe MNIST training set is composed of 30,000 patterns from SD-3 and 30,000 patterns from SD-1. Our test set was composed of 5,000 patterns from SD-3 and 5,000 patterns from SD-1. The 60,000 pattern training set contained examples from approximately 250 writers. We made sure that the sets of writers of the training set and test set were disjoint. SD-1 contains 58,527 digit images written by 500 different writers. In contrast to SD-3, where blocks of data from each writer appeared in sequence, the data in SD-1 is scrambled. Writer identities for SD-1 is available and we used this information to unscramble the writers. We then split SD-1 in two: characters written by the first 250 writers went into our new training set. The remaining 250 writers were placed in our test set. Thus we had two sets with nearly 30,000 examples each. The new training set was completed with enough examples from SD-3, starting at pattern # 0, to make a full set of 60,000 training patterns. Similarly, the new test set was completed with SD-3 examples starting at pattern # 35,000 to make a full set with 60,000 test patterns. Only a subset of 10,000 test images (5,000 from SD-1 and 5,000 from SD-3) is available on this site. The full 60,000 sample training set is available.\\n\\nDownloaded from openml.org.\""
            ]
          },
          "metadata": {
            "tags": []
          },
          "execution_count": 2
        }
      ]
    },
    {
      "cell_type": "code",
      "metadata": {
        "colab": {
          "base_uri": "https://localhost:8080/"
        },
        "id": "K7sy_CoVsiEc",
        "outputId": "83abd18d-4201-4e51-e2f4-05545893b766"
      },
      "source": [
        "X,y = mnist[\"data\"], mnist[\"target\"]\n",
        "y.shape"
      ],
      "execution_count": 6,
      "outputs": [
        {
          "output_type": "execute_result",
          "data": {
            "text/plain": [
              "(70000,)"
            ]
          },
          "metadata": {
            "tags": []
          },
          "execution_count": 6
        }
      ]
    },
    {
      "cell_type": "code",
      "metadata": {
        "colab": {
          "base_uri": "https://localhost:8080/"
        },
        "id": "eT5OoYlbsvhE",
        "outputId": "da0da8ae-5252-460f-8087-1feb7039e3e7"
      },
      "source": [
        "X.shape"
      ],
      "execution_count": 7,
      "outputs": [
        {
          "output_type": "execute_result",
          "data": {
            "text/plain": [
              "(70000, 784)"
            ]
          },
          "metadata": {
            "tags": []
          },
          "execution_count": 7
        }
      ]
    },
    {
      "cell_type": "markdown",
      "metadata": {
        "id": "SPpg_hvktKGz"
      },
      "source": [
        "There are 70,000 images, and each image has 784 features. This is because each image\n",
        "is 28 × 28 pixels, and each feature simply represents one pixel’s intensity, from 0\n",
        "(white) to 255 (black)"
      ]
    },
    {
      "cell_type": "markdown",
      "metadata": {
        "id": "6RP8IfDqtQOc"
      },
      "source": [
        "Reshapeing instance's feature vector to a 28 × 28 array,\n",
        "and displaying it using Matplotlib’s imshow() function"
      ]
    },
    {
      "cell_type": "code",
      "metadata": {
        "colab": {
          "base_uri": "https://localhost:8080/",
          "height": 248
        },
        "id": "GBHh_1J0s99U",
        "outputId": "55931e05-90f4-42fd-e403-43d9765ad0f5"
      },
      "source": [
        "import matplotlib as mpl\n",
        "import matplotlib.pyplot as plt\n",
        "\n",
        "some_digit = X[4]\n",
        "some_digit_image = some_digit.reshape(28,28)\n",
        "\n",
        "plt.imshow(some_digit_image, cmap=\"binary\")\n",
        "plt.axis(\"off\")\n",
        "plt.show()"
      ],
      "execution_count": 27,
      "outputs": [
        {
          "output_type": "display_data",
          "data": {
            "image/png": "[encoded data removed]",
            "text/plain": [
              "<Figure size 432x288 with 1 Axes>"
            ]
          },
          "metadata": {
            "tags": [],
            "needs_background": "light"
          }
        }
      ]
    },
    {
      "cell_type": "code",
      "metadata": {
        "colab": {
          "base_uri": "https://localhost:8080/"
        },
        "id": "zSaS3dHGtuZm",
        "outputId": "a48b808c-1909-4c53-e7f9-1fe5d30d5c20"
      },
      "source": [
        "y[0]"
      ],
      "execution_count": 15,
      "outputs": [
        {
          "output_type": "execute_result",
          "data": {
            "text/plain": [
              "5"
            ]
          },
          "metadata": {
            "tags": []
          },
          "execution_count": 15
        }
      ]
    },
    {
      "cell_type": "markdown",
      "metadata": {
        "id": "fTxdGBU6uKgX"
      },
      "source": [
        "## Converting labels in int type"
      ]
    },
    {
      "cell_type": "code",
      "metadata": {
        "id": "Dz6Q6T4QuFf1"
      },
      "source": [
        "import numpy as np\n",
        "y = y.astype(np.uint8)"
      ],
      "execution_count": 14,
      "outputs": []
    },
    {
      "cell_type": "markdown",
      "metadata": {
        "id": "6nn8ci2duhYk"
      },
      "source": [
        "## The MNIST dataset is actually already split into a training set (the first 60,000 images) and a test set (the last 10,000 images):"
      ]
    },
    {
      "cell_type": "code",
      "metadata": {
        "id": "dioIkExzuQns"
      },
      "source": [
        "X_train, X_test, y_train, y_test = X[:60000], X[60000:], y[:60000], y[60000:]"
      ],
      "execution_count": 16,
      "outputs": []
    },
    {
      "cell_type": "markdown",
      "metadata": {
        "id": "46lC7-Evu5kb"
      },
      "source": [
        "# Training a Binary Classifier\n",
        "\n",
        "At this stage we're just focusing on creating a classifier for a particular digit, which'd output YES/NO for that class's correspondence"
      ]
    },
    {
      "cell_type": "code",
      "metadata": {
        "id": "ih7PEVm7ux91"
      },
      "source": [
        "y_train_9 = (y_train == 9)\n",
        "y_test_9 = (y_test == 9)"
      ],
      "execution_count": 17,
      "outputs": []
    },
    {
      "cell_type": "markdown",
      "metadata": {
        "id": "bmVw27gyviwb"
      },
      "source": [
        "# Stochastic Gradient Descent (SGD):\n",
        "SGD deals with training instances independently, one at a time\n",
        "\n",
        "which also makes SGD well suited for online learning.\n",
        "\n",
        "relies on randomness during training (hence\n",
        "the name “stochastic”)."
      ]
    },
    {
      "cell_type": "code",
      "metadata": {
        "colab": {
          "base_uri": "https://localhost:8080/"
        },
        "id": "PW_7m3DvvbPz",
        "outputId": "587f583d-f14a-4b5d-fff5-5526507baf15"
      },
      "source": [
        "from sklearn.linear_model import SGDClassifier\n",
        "sgd_clf = SGDClassifier(random_state=42)\n",
        "sgd_clf.fit(X_train,y_train_9)"
      ],
      "execution_count": 18,
      "outputs": [
        {
          "output_type": "execute_result",
          "data": {
            "text/plain": [
              "SGDClassifier(alpha=0.0001, average=False, class_weight=None,\n",
              "              early_stopping=False, epsilon=0.1, eta0=0.0, fit_intercept=True,\n",
              "              l1_ratio=0.15, learning_rate='optimal', loss='hinge',\n",
              "              max_iter=1000, n_iter_no_change=5, n_jobs=None, penalty='l2',\n",
              "              power_t=0.5, random_state=42, shuffle=True, tol=0.001,\n",
              "              validation_fraction=0.1, verbose=0, warm_start=False)"
            ]
          },
          "metadata": {
            "tags": []
          },
          "execution_count": 18
        }
      ]
    },
    {
      "cell_type": "code",
      "metadata": {
        "colab": {
          "base_uri": "https://localhost:8080/"
        },
        "id": "YVWCGhc5v_qs",
        "outputId": "ce668bc4-7cdf-433b-aec5-51996a127289"
      },
      "source": [
        "sgd_clf.predict([X[4]])"
      ],
      "execution_count": 28,
      "outputs": [
        {
          "output_type": "execute_result",
          "data": {
            "text/plain": [
              "array([ True])"
            ]
          },
          "metadata": {
            "tags": []
          },
          "execution_count": 28
        }
      ]
    },
    {
      "cell_type": "markdown",
      "metadata": {
        "id": "cqLLt-xKwjV_"
      },
      "source": [
        "# Performance Measure"
      ]
    },
    {
      "cell_type": "markdown",
      "metadata": {
        "id": "VLFPBZ5hwpvf"
      },
      "source": [
        "## Measuring Accuracy Using Cross-Validation (Custom Implementation)"
      ]
    },
    {
      "cell_type": "code",
      "metadata": {
        "colab": {
          "base_uri": "https://localhost:8080/"
        },
        "id": "SJMWnLxRwOX7",
        "outputId": "97a654f1-4740-49ea-97bd-450e6ed001e0"
      },
      "source": [
        "from sklearn.model_selection import StratifiedKFold\n",
        "from sklearn.base import clone\n",
        "\n",
        "skfolds = StratifiedKFold(n_splits=5, random_state=42)\n",
        "\n",
        "for train_index, test_index in skfolds.split(X_train, y_train_9):\n",
        "  clone_clf = clone(sgd_clf)\n",
        "  X_train_folds = X_train[train_index]\n",
        "  y_train_folds = y_train_9[train_index]\n",
        "  X_test_fold = X_train[test_index]\n",
        "  y_test_fold = y_train_9[test_index]\n",
        "\n",
        "  clone_clf.fit(X_train_folds, y_train_folds)\n",
        "  y_pred = clone_clf.predict(X_test_fold)\n",
        "  n_correct = sum(y_pred == y_test_fold)\n",
        "  print(n_correct/len(y_pred))"
      ],
      "execution_count": 30,
      "outputs": [
        {
          "output_type": "stream",
          "text": [
            "/usr/local/lib/python3.7/dist-packages/sklearn/model_selection/_split.py:296: FutureWarning: Setting a random_state has no effect since shuffle is False. This will raise an error in 0.24. You should leave random_state to its default (None), or set shuffle=True.\n",
            "  FutureWarning\n"
          ],
          "name": "stderr"
        },
        {
          "output_type": "stream",
          "text": [
            "0.9478333333333333\n",
            "0.9349166666666666\n",
            "0.9420833333333334\n",
            "0.9498333333333333\n",
            "0.95175\n"
          ],
          "name": "stdout"
        }
      ]
    },
    {
      "cell_type": "code",
      "metadata": {
        "colab": {
          "base_uri": "https://localhost:8080/"
        },
        "id": "72L9LwfWyFrn",
        "outputId": "2df674b2-f731-4a2e-db10-bb343d8cce36"
      },
      "source": [
        "from sklearn.model_selection import cross_val_score\n",
        "cross_val_score(sgd_clf, X_train, y_train_9, cv=5, scoring=\"accuracy\")"
      ],
      "execution_count": 31,
      "outputs": [
        {
          "output_type": "execute_result",
          "data": {
            "text/plain": [
              "array([0.94783333, 0.93491667, 0.94208333, 0.94983333, 0.95175   ])"
            ]
          },
          "metadata": {
            "tags": []
          },
          "execution_count": 31
        }
      ]
    },
    {
      "cell_type": "markdown",
      "metadata": {
        "id": "dRiC-NyPzBqE"
      },
      "source": [
        "# Accuracy Paradox\n",
        "\n",
        "This demonstrates why accuracy is generally not the preferred performance measure\n",
        "for classifiers, especially when you are dealing with skewed datasets\n",
        "\n",
        "Let’s look at a very\n",
        "dumb classifier that just classifies every single image in the “not-5” class\n",
        "\n",
        "It has over 90% accuracy! This is simply because only about 10% of the\n",
        "images are 5s\n"
      ]
    },
    {
      "cell_type": "code",
      "metadata": {
        "id": "Ber_NJDYyyBb"
      },
      "source": [
        "from sklearn.base import BaseEstimator\n",
        "\n",
        "class Never9Classifier(BaseEstimator):\n",
        "  def fit(self,X,y=None):\n",
        "    return self\n",
        "  def predict(self,X):\n",
        "    return np.zeros((len(X),1),dtype=bool)"
      ],
      "execution_count": 34,
      "outputs": []
    },
    {
      "cell_type": "code",
      "metadata": {
        "colab": {
          "base_uri": "https://localhost:8080/"
        },
        "id": "U614yf8MzwoC",
        "outputId": "e89a88e1-879b-420f-a5ba-5a90f8e6e000"
      },
      "source": [
        "never9Clf = Never9Classifier()\n",
        "cross_val_score(never9Clf, X_train, y_train_9, cv=5, scoring=\"accuracy\")"
      ],
      "execution_count": 37,
      "outputs": [
        {
          "output_type": "execute_result",
          "data": {
            "text/plain": [
              "array([0.90058333, 0.8985    , 0.89891667, 0.90183333, 0.90441667])"
            ]
          },
          "metadata": {
            "tags": []
          },
          "execution_count": 37
        }
      ]
    },
    {
      "cell_type": "markdown",
      "metadata": {
        "id": "cJYu1glT0UTP"
      },
      "source": [
        "# Confusion Matrix\n",
        "\n",
        "**Each row** in a confusion matrix represents an **actual class**, while each **column** represents\n",
        "a predicted class"
      ]
    },
    {
      "cell_type": "markdown",
      "metadata": {
        "id": "lMetIDqK03hT"
      },
      "source": [
        "Just like the cross_val_score() function, cross_val_predict() performs K-fold\n",
        "cross-validation, but instead of returning the evaluation scores, it returns the predictions\n",
        "made on each test fold.\n",
        "\n",
        "This means that you get a clean prediction for each\n",
        "instance in the training set (“clean” meaning that the prediction is made by a model\n",
        "that never saw the data during training)."
      ]
    },
    {
      "cell_type": "code",
      "metadata": {
        "id": "uP0qJKyw0C2c"
      },
      "source": [
        "from sklearn.model_selection import cross_val_predict\n",
        "\n",
        "y_train_pred = cross_val_predict(sgd_clf, X_train,y_train_9,cv =5)"
      ],
      "execution_count": 38,
      "outputs": []
    },
    {
      "cell_type": "code",
      "metadata": {
        "colab": {
          "base_uri": "https://localhost:8080/"
        },
        "id": "BQWqvBjG0zED",
        "outputId": "2d437c1e-8208-468a-fd34-e7ef440f07de"
      },
      "source": [
        "from sklearn.metrics import confusion_matrix\n",
        "confusion_matrix(y_train_9, y_train_pred)"
      ],
      "execution_count": 39,
      "outputs": [
        {
          "output_type": "execute_result",
          "data": {
            "text/plain": [
              "array([[52300,  1751],\n",
              "       [ 1532,  4417]])"
            ]
          },
          "metadata": {
            "tags": []
          },
          "execution_count": 39
        }
      ]
    },
    {
      "cell_type": "markdown",
      "metadata": {
        "id": "EhWJhd2h2G8r"
      },
      "source": [
        "### Precison And Recall\n",
        "p = TP/(TP+FP) low FP high the p\n",
        "\n",
        "r = TP/(TP+FN) low FN high the r"
      ]
    },
    {
      "cell_type": "code",
      "metadata": {
        "colab": {
          "base_uri": "https://localhost:8080/"
        },
        "id": "Q4KT7TTo1QG1",
        "outputId": "71b250fd-470b-4fee-f3ab-dee134bdd5f9"
      },
      "source": [
        "from sklearn.metrics import precision_score, recall_score\n",
        "precision_score(y_train_9,y_train_pred)"
      ],
      "execution_count": 42,
      "outputs": [
        {
          "output_type": "execute_result",
          "data": {
            "text/plain": [
              "0.7161154345006485"
            ]
          },
          "metadata": {
            "tags": []
          },
          "execution_count": 42
        }
      ]
    },
    {
      "cell_type": "code",
      "metadata": {
        "colab": {
          "base_uri": "https://localhost:8080/"
        },
        "id": "8zSm06X22jVt",
        "outputId": "f9ccdba3-fb51-4d0f-a509-de35eabe4756"
      },
      "source": [
        "recall_score(y_train_9,y_train_pred)"
      ],
      "execution_count": 41,
      "outputs": [
        {
          "output_type": "execute_result",
          "data": {
            "text/plain": [
              "0.7424777273491343"
            ]
          },
          "metadata": {
            "tags": []
          },
          "execution_count": 41
        }
      ]
    },
    {
      "cell_type": "markdown",
      "metadata": {
        "id": "-jsTqJ232x7c"
      },
      "source": [
        "When it claims an image represents a 5, it is correct only 72.9% of the time. Moreover,\n",
        "it only detects 75.6% of the 5s."
      ]
    },
    {
      "cell_type": "markdown",
      "metadata": {
        "id": "8SjG3S9J26Nr"
      },
      "source": [
        "## F1-Score"
      ]
    },
    {
      "cell_type": "markdown",
      "metadata": {
        "id": "vQLpW3oa2-Ds"
      },
      "source": [
        "F1 score, in particular if you need a simple way to compare two classifiers. The F1 score is\n",
        "the harmonic mean of precision and recall. \n",
        "\n",
        "Whereas the regular mean\n",
        "treats all values equally, the harmonic mean gives much more weight to low values.\n",
        "As a result, the classifier will only get a high F1 score if both recall and precision are\n",
        "high."
      ]
    },
    {
      "cell_type": "code",
      "metadata": {
        "colab": {
          "base_uri": "https://localhost:8080/"
        },
        "id": "5h657oXE2l6j",
        "outputId": "9ff588df-ade6-4816-ee6d-48fef722a583"
      },
      "source": [
        "from sklearn.metrics import f1_score\n",
        "f1_score(y_train_9,y_train_pred)"
      ],
      "execution_count": 43,
      "outputs": [
        {
          "output_type": "execute_result",
          "data": {
            "text/plain": [
              "0.7290583477758521"
            ]
          },
          "metadata": {
            "tags": []
          },
          "execution_count": 43
        }
      ]
    },
    {
      "cell_type": "markdown",
      "metadata": {
        "id": "hAnq6IDz3QgD"
      },
      "source": [
        "The F1 score favors classifiers that have similar precision and recall. This is not always\n",
        "what you want: in some contexts you mostly care about precision, and in other contexts\n",
        "you really care about recall.\n",
        "\n",
        "For example, if you trained a classifier to detect videos\n",
        "that are safe for kids, you would probably prefer a classifier that rejects many\n",
        "good videos (low recall) but keeps only safe ones (high precision), rather than a classifier\n",
        "that has a much higher recall but lets a few really bad videos show up in your\n",
        "product (in such cases, you may even want to add a human pipeline to check the classifier’s\n",
        "video selection)."
      ]
    },
    {
      "cell_type": "markdown",
      "metadata": {
        "id": "gBZ2sb5U4ZkW"
      },
      "source": [
        "# Precision/Recall Trade-off\n",
        "\n",
        "Lowering the threshold increases recall(dec FN) and reduces precision (inc FP)."
      ]
    },
    {
      "cell_type": "code",
      "metadata": {
        "colab": {
          "base_uri": "https://localhost:8080/"
        },
        "id": "CDKVIWb23K_W",
        "outputId": "930db783-45f4-425e-ecbe-a66de0fb350e"
      },
      "source": [
        "y_scores = sgd_clf.decision_function([some_digit])\n",
        "y_scores"
      ],
      "execution_count": 44,
      "outputs": [
        {
          "output_type": "execute_result",
          "data": {
            "text/plain": [
              "array([1468.75336355])"
            ]
          },
          "metadata": {
            "tags": []
          },
          "execution_count": 44
        }
      ]
    },
    {
      "cell_type": "markdown",
      "metadata": {
        "id": "7JGDuRSY6BYr"
      },
      "source": [
        "# How do you decide which threshold to use?\n",
        "\n",
        "cvint, cross-validation generator or an iterable, default=None\n",
        "Determines the cross-validation splitting strategy. Possible inputs for cv are:\n",
        "\n",
        "None, to use the default 5-fold cross validation,\n",
        "\n",
        "int, to specify the number of folds in a (Stratified)KFold,\n",
        "\n",
        "CV splitter,\n",
        "\n",
        "An iterable yielding (train, test) splits as arrays of indices."
      ]
    },
    {
      "cell_type": "code",
      "metadata": {
        "id": "mD0zatWG53NW"
      },
      "source": [
        "y_scores = cross_val_predict(sgd_clf, X_train, y_train_9, cv=5,\n",
        "                             method=\"decision_function\")"
      ],
      "execution_count": 46,
      "outputs": []
    },
    {
      "cell_type": "code",
      "metadata": {
        "colab": {
          "base_uri": "https://localhost:8080/"
        },
        "id": "h5U3Nx00BvWV",
        "outputId": "81c98ac7-08d2-456e-8409-b5006c2a8ba5"
      },
      "source": [
        "y_scores"
      ],
      "execution_count": 62,
      "outputs": [
        {
          "output_type": "execute_result",
          "data": {
            "text/plain": [
              "array([-19245.32515449, -16295.3094189 , -24395.8157629 , ...,\n",
              "       -17419.81095496, -15667.89690565,   -542.88306197])"
            ]
          },
          "metadata": {
            "tags": []
          },
          "execution_count": 62
        }
      ]
    },
    {
      "cell_type": "code",
      "metadata": {
        "id": "qHZyWdq-6Q-E"
      },
      "source": [
        "from sklearn.metrics import precision_recall_curve\n",
        "\n",
        "precisions, recalls, thresholds = precision_recall_curve(y_train_9, y_scores)\n",
        "\n",
        "def plot_precision_recall_vs_threshold(precisons, recalls, thresholds):\n",
        "  plt.plot(thresholds, precisions[:-1], \"b--\", label='Precision')\n",
        "  plt.plot(thresholds, recalls[:-1], \"g-\",label=\"Recall\")"
      ],
      "execution_count": 49,
      "outputs": []
    },
    {
      "cell_type": "code",
      "metadata": {
        "colab": {
          "base_uri": "https://localhost:8080/",
          "height": 265
        },
        "id": "eLVjNelk9XqQ",
        "outputId": "04c0e141-cbca-47c0-a9e2-cc9ca9a49b52"
      },
      "source": [
        "plot_precision_recall_vs_threshold(precisions, recalls, thresholds)\n",
        "plt.show()"
      ],
      "execution_count": 50,
      "outputs": [
        {
          "output_type": "display_data",
          "data": {
            "image/png": "[encoded data removed]",
            "text/plain": [
              "<Figure size 432x288 with 1 Axes>"
            ]
          },
          "metadata": {
            "tags": [],
            "needs_background": "light"
          }
        }
      ]
    },
    {
      "cell_type": "code",
      "metadata": {
        "colab": {
          "base_uri": "https://localhost:8080/",
          "height": 296
        },
        "id": "xqKtv-3CDXtv",
        "outputId": "bd651f90-03de-40f3-9b23-216d0f37e78c"
      },
      "source": [
        "plt.plot(recalls,precisions)\n",
        "plt.xlabel(\"Recall\")\n",
        "plt.ylabel(\"Precison\")\n",
        "plt.show"
      ],
      "execution_count": 70,
      "outputs": [
        {
          "output_type": "execute_result",
          "data": {
            "text/plain": [
              "<function matplotlib.pyplot.show>"
            ]
          },
          "metadata": {
            "tags": []
          },
          "execution_count": 70
        },
        {
          "output_type": "display_data",
          "data": {
            "image/png": "[encoded data removed]",
            "text/plain": [
              "<Figure size 432x288 with 1 Axes>"
            ]
          },
          "metadata": {
            "tags": [],
            "needs_background": "light"
          }
        }
      ]
    },
    {
      "cell_type": "markdown",
      "metadata": {
        "id": "Tl4NOSbGAYCM"
      },
      "source": [
        "#Getting Threshold value for given accuracy:"
      ]
    },
    {
      "cell_type": "code",
      "metadata": {
        "colab": {
          "base_uri": "https://localhost:8080/"
        },
        "id": "o2Tal39F-12a",
        "outputId": "ab7b6d75-dd18-47ff-cd17-1db1c82f19a1"
      },
      "source": [
        "threshold_pred_90 = thresholds[np.argmax(precisions >= 0.90)]\n",
        "threshold_pred_90"
      ],
      "execution_count": 58,
      "outputs": [
        {
          "output_type": "execute_result",
          "data": {
            "text/plain": [
              "10996.355756117853"
            ]
          },
          "metadata": {
            "tags": []
          },
          "execution_count": 58
        }
      ]
    },
    {
      "cell_type": "code",
      "metadata": {
        "colab": {
          "base_uri": "https://localhost:8080/"
        },
        "id": "qpd934h8AjBG",
        "outputId": "d07e8b8c-d05b-40bc-e335-4bdc0620c28b"
      },
      "source": [
        "y_train_pred"
      ],
      "execution_count": 54,
      "outputs": [
        {
          "output_type": "execute_result",
          "data": {
            "text/plain": [
              "array([False, False, False, ..., False, False, False])"
            ]
          },
          "metadata": {
            "tags": []
          },
          "execution_count": 54
        }
      ]
    },
    {
      "cell_type": "code",
      "metadata": {
        "colab": {
          "base_uri": "https://localhost:8080/"
        },
        "id": "JluGLcjDBH8E",
        "outputId": "86cc370e-3227-48e1-fa04-3fee404206f1"
      },
      "source": [
        "threshold_pred_90"
      ],
      "execution_count": 59,
      "outputs": [
        {
          "output_type": "execute_result",
          "data": {
            "text/plain": [
              "10996.355756117853"
            ]
          },
          "metadata": {
            "tags": []
          },
          "execution_count": 59
        }
      ]
    },
    {
      "cell_type": "code",
      "metadata": {
        "id": "ol7UR_vjBWCt"
      },
      "source": [
        "y_train_pred_90 = (y_scores >= threshold_pred_90)"
      ],
      "execution_count": 60,
      "outputs": []
    },
    {
      "cell_type": "code",
      "metadata": {
        "colab": {
          "base_uri": "https://localhost:8080/"
        },
        "id": "rpapjSmpBJ9S",
        "outputId": "eec0d9b7-e0ef-4eec-a410-29c862e28c88"
      },
      "source": [
        "precision_score(y_train_9, y_train_pred_90)"
      ],
      "execution_count": 61,
      "outputs": [
        {
          "output_type": "execute_result",
          "data": {
            "text/plain": [
              "0.9015151515151515"
            ]
          },
          "metadata": {
            "tags": []
          },
          "execution_count": 61
        }
      ]
    },
    {
      "cell_type": "code",
      "metadata": {
        "colab": {
          "base_uri": "https://localhost:8080/"
        },
        "id": "JaWWto0DBP1L",
        "outputId": "89f5117d-5654-4be6-8eae-1e3119ab94a4"
      },
      "source": [
        "recall_score(y_train_9,y_train_pred_90)"
      ],
      "execution_count": 63,
      "outputs": [
        {
          "output_type": "execute_result",
          "data": {
            "text/plain": [
              "0.020003361909564633"
            ]
          },
          "metadata": {
            "tags": []
          },
          "execution_count": 63
        }
      ]
    },
    {
      "cell_type": "markdown",
      "metadata": {
        "id": "X5ywlbwKCO8T"
      },
      "source": [
        "A high-precision classifier is not very useful if its\n",
        "recall is too low!"
      ]
    },
    {
      "cell_type": "markdown",
      "metadata": {
        "id": "HWEKSXhgCZi3"
      },
      "source": [
        "#ROC Curve:"
      ]
    },
    {
      "cell_type": "markdown",
      "metadata": {
        "id": "kKs07gQvCgMt"
      },
      "source": [
        "The receiver operating characteristic (ROC) curve is another common tool used with\n",
        "binary classifiers. It is very similar to the precision/recall curve, but instead of plotting\n",
        "precision versus recall, the ROC curve plots the true positive rate (another name\n",
        "for recall) against the false positive rate (FPR).\n",
        "\n",
        "The FPR is the ratio of negative instances\n",
        "that are incorrectly classified as positive. It is equal to 1 – the true negative rate\n",
        "(TNR), which is the ratio of negative instances that are correctly classified as negative.\n",
        "The TNR is also called specificity. Hence, the ROC curve plots sensitivity (recall) versus\n",
        "1 – specificity."
      ]
    },
    {
      "cell_type": "code",
      "metadata": {
        "colab": {
          "base_uri": "https://localhost:8080/",
          "height": 279
        },
        "id": "PplDwAMmCDmU",
        "outputId": "72492dce-5a54-4dcc-f789-1a03f2936ba0"
      },
      "source": [
        "from sklearn.metrics import roc_curve\n",
        "\n",
        "fpr, tpr, thresholds = roc_curve(y_train_9, y_scores)\n",
        "\n",
        "def plot_roc_curve(fpr, tpr, label=None):\n",
        "  plt.plot(fpr, tpr, label=label)\n",
        "  plt.plot([0,1],[0,1],'k--')\n",
        "  plt.xlabel(\"FPR\")\n",
        "  plt.ylabel(\"TPR\")\n",
        "  plt.legend(loc=\"lower right\")\n",
        "\n",
        "plot_roc_curve(fpr,tpr,\"SGD\")\n",
        "plt.show()"
      ],
      "execution_count": 84,
      "outputs": [
        {
          "output_type": "display_data",
          "data": {
            "image/png": "[encoded data removed]",
            "text/plain": [
              "<Figure size 432x288 with 1 Axes>"
            ]
          },
          "metadata": {
            "tags": [],
            "needs_background": "light"
          }
        }
      ]
    },
    {
      "cell_type": "markdown",
      "metadata": {
        "id": "-b7RzbF7Ej4O"
      },
      "source": [
        "A perfect\n",
        "classifier will have a ROC AUC equal to 1, whereas a purely random classifier will\n",
        "have a ROC AUC equal to 0.5."
      ]
    },
    {
      "cell_type": "code",
      "metadata": {
        "colab": {
          "base_uri": "https://localhost:8080/"
        },
        "id": "OIfXg6XoCyee",
        "outputId": "3ee71278-c77e-4265-8618-f85659260d28"
      },
      "source": [
        "from sklearn.metrics import roc_auc_score\n",
        "roc_auc_score(y_train_9,y_scores)"
      ],
      "execution_count": 73,
      "outputs": [
        {
          "output_type": "execute_result",
          "data": {
            "text/plain": [
              "0.9607477294647345"
            ]
          },
          "metadata": {
            "tags": []
          },
          "execution_count": 73
        }
      ]
    },
    {
      "cell_type": "markdown",
      "metadata": {
        "id": "EIYUXqP7E0Qs"
      },
      "source": [
        "As a rule\n",
        "of thumb, you should prefer the PR curve whenever the positive\n",
        "class is rare or when you care more about the false positives than\n",
        "the false negatives. Otherwise, use the ROC curve"
      ]
    },
    {
      "cell_type": "markdown",
      "metadata": {
        "id": "AU0Hut1PFC3k"
      },
      "source": [
        "# RandomForestClassifier\n",
        "\n",
        "The predict_proba() method returns an array containing a row per\n",
        "instance and a column per class, each containing the probability that the given\n",
        "instance belongs to the given class"
      ]
    },
    {
      "cell_type": "code",
      "metadata": {
        "id": "VoNR-71NEs-V"
      },
      "source": [
        "from sklearn.ensemble import RandomForestClassifier\n",
        "\n",
        "forest_clf = RandomForestClassifier(random_state = 42)\n",
        "y_probas_forest = cross_val_predict(forest_clf, X_train, y_train_9, cv =5, method=\"predict_proba\")"
      ],
      "execution_count": 74,
      "outputs": []
    },
    {
      "cell_type": "markdown",
      "metadata": {
        "id": "Y3vG2rpDFg0D"
      },
      "source": [
        "## ROC curve"
      ]
    },
    {
      "cell_type": "code",
      "metadata": {
        "colab": {
          "base_uri": "https://localhost:8080/",
          "height": 279
        },
        "id": "bAKqh0_IFc4G",
        "outputId": "4c1058c7-23f5-49e6-95c4-d7538195c16b"
      },
      "source": [
        "y_scores_forest = y_probas_forest[:,1]\n",
        "fpr_forest, tpr_forest, thresholds_forest = roc_curve(y_train_9, y_scores_forest)\n",
        "\n",
        "plt.plot(fpr,tpr,\"b:\",label=\"SGD\")\n",
        "plot_roc_curve(fpr_forest, tpr_forest,\"Random Forest\")\n",
        "plt.legend(loc=\"lower right\")\n",
        "plt.show()"
      ],
      "execution_count": 85,
      "outputs": [
        {
          "output_type": "display_data",
          "data": {
            "image/png": "[encoded data removed]",
            "text/plain": [
              "<Figure size 432x288 with 1 Axes>"
            ]
          },
          "metadata": {
            "tags": [],
            "needs_background": "light"
          }
        }
      ]
    },
    {
      "cell_type": "markdown",
      "metadata": {
        "id": "dvWePUnAHtzF"
      },
      "source": [
        "the RandomForestClassifier’s ROC curve looks much\n",
        "better than the SGDClassifier’s: it comes much closer to the top-left corner. As a\n",
        "result, its ROC AUC score is also significantly better"
      ]
    },
    {
      "cell_type": "code",
      "metadata": {
        "colab": {
          "base_uri": "https://localhost:8080/"
        },
        "id": "Shpcx13GGJfV",
        "outputId": "18cb8a87-9e3f-4d6f-8095-eca66620c405"
      },
      "source": [
        "roc_auc_score(y_train_9, y_scores_forest)"
      ],
      "execution_count": 86,
      "outputs": [
        {
          "output_type": "execute_result",
          "data": {
            "text/plain": [
              "0.9958785757208024"
            ]
          },
          "metadata": {
            "tags": []
          },
          "execution_count": 86
        }
      ]
    },
    {
      "cell_type": "markdown",
      "metadata": {
        "id": "wlR0flOAH5U8"
      },
      "source": [
        "#MULTICLASS Classification\n",
        "\n",
        "OvO VS OvR\n",
        "\n",
        "Ovo scales better as classifiers needs be trained only on the specific partsof training data.\n",
        "In Ovr all the classifiers have to be trained on the whole training set."
      ]
    },
    {
      "cell_type": "markdown",
      "metadata": {
        "id": "GnOJV9JZJYJ0"
      },
      "source": [
        "Scikit-Learn detects when you try to use a binary classification algorithm for a multiclass\n",
        "classification task, and it automatically runs OvR or OvO, depending on the\n",
        "algorithm."
      ]
    },
    {
      "cell_type": "markdown",
      "metadata": {
        "id": "P2FNCSPlJa6r"
      },
      "source": [
        "## SVM"
      ]
    },
    {
      "cell_type": "code",
      "metadata": {
        "colab": {
          "base_uri": "https://localhost:8080/"
        },
        "id": "wWQO4Y9UH-OE",
        "outputId": "ccfcba41-c360-4fb1-9c36-d2bba6989beb"
      },
      "source": [
        "from sklearn.svm import SVC\n",
        "svm_clf = SVC()\n",
        "svm_clf.fit(X_train, y_train)\n",
        "svm_clf.predict([some_digit])"
      ],
      "execution_count": 88,
      "outputs": [
        {
          "output_type": "execute_result",
          "data": {
            "text/plain": [
              "array([9], dtype=uint8)"
            ]
          },
          "metadata": {
            "tags": []
          },
          "execution_count": 88
        }
      ]
    },
    {
      "cell_type": "markdown",
      "metadata": {
        "id": "Yd_7M4IHJ-4P"
      },
      "source": [
        "Under the hood,\n",
        "Scikit-Learn actually used the OvO strategy: it trained 45 binary classifiers, got their\n",
        "decision scores for the image, and selected the class that won the most duels."
      ]
    },
    {
      "cell_type": "code",
      "metadata": {
        "colab": {
          "base_uri": "https://localhost:8080/"
        },
        "id": "gtIMzf2qJuV2",
        "outputId": "9ef2b073-8f55-4e7d-82a0-60361d66cb68"
      },
      "source": [
        "some_digit_scores = svm_clf.decision_function([some_digit])\n",
        "some_digit_scores\n",
        "\n",
        "svm_clf.classes_[np.argmax(some_digit_scores)]"
      ],
      "execution_count": 90,
      "outputs": [
        {
          "output_type": "execute_result",
          "data": {
            "text/plain": [
              "9"
            ]
          },
          "metadata": {
            "tags": []
          },
          "execution_count": 90
        }
      ]
    },
    {
      "cell_type": "markdown",
      "metadata": {
        "id": "WralIU01L5p0"
      },
      "source": [
        "If you want to force Scikit-Learn to use one-versus-one or one-versus-the-rest, you\n",
        "can use the OneVsOneClassifier or OneVsRestClassifier classes."
      ]
    },
    {
      "cell_type": "code",
      "metadata": {
        "colab": {
          "base_uri": "https://localhost:8080/",
          "height": 354
        },
        "id": "wdH0ohNjL6jD",
        "outputId": "025705d4-7a7c-42b2-a54e-819df1f75e6a"
      },
      "source": [
        "from sklearn.multiclass import OneVsRestClassifier\n",
        "ovr_clf = OneVsRestClassifier(SVC())\n",
        "ovr_clf.fit(X_train, y_train)\n",
        "ovr_clf.predict([some_digit])\n"
      ],
      "execution_count": 91,
      "outputs": [
        {
          "output_type": "error",
          "ename": "KeyboardInterrupt",
          "evalue": "ignored",
          "traceback": [
            "\u001b[0;31m---------------------------------------------------------------------------\u001b[0m",
            "\u001b[0;31mKeyboardInterrupt\u001b[0m                         Traceback (most recent call last)",
            "\u001b[0;32m<ipython-input-91-665ffb3ed03e>\u001b[0m in \u001b[0;36m<module>\u001b[0;34m()\u001b[0m\n\u001b[1;32m      1\u001b[0m \u001b[0;32mfrom\u001b[0m \u001b[0msklearn\u001b[0m\u001b[0;34m.\u001b[0m\u001b[0mmulticlass\u001b[0m \u001b[0;32mimport\u001b[0m \u001b[0mOneVsRestClassifier\u001b[0m\u001b[0;34m\u001b[0m\u001b[0;34m\u001b[0m\u001b[0m\n\u001b[1;32m      2\u001b[0m \u001b[0movr_clf\u001b[0m \u001b[0;34m=\u001b[0m \u001b[0mOneVsRestClassifier\u001b[0m\u001b[0;34m(\u001b[0m\u001b[0mSVC\u001b[0m\u001b[0;34m(\u001b[0m\u001b[0;34m)\u001b[0m\u001b[0;34m)\u001b[0m\u001b[0;34m\u001b[0m\u001b[0;34m\u001b[0m\u001b[0m\n\u001b[0;32m----> 3\u001b[0;31m \u001b[0movr_clf\u001b[0m\u001b[0;34m.\u001b[0m\u001b[0mfit\u001b[0m\u001b[0;34m(\u001b[0m\u001b[0mX_train\u001b[0m\u001b[0;34m,\u001b[0m \u001b[0my_train\u001b[0m\u001b[0;34m)\u001b[0m\u001b[0;34m\u001b[0m\u001b[0;34m\u001b[0m\u001b[0m\n\u001b[0m\u001b[1;32m      4\u001b[0m \u001b[0movr_clf\u001b[0m\u001b[0;34m.\u001b[0m\u001b[0mpredict\u001b[0m\u001b[0;34m(\u001b[0m\u001b[0;34m[\u001b[0m\u001b[0msome_digit\u001b[0m\u001b[0;34m]\u001b[0m\u001b[0;34m)\u001b[0m\u001b[0;34m\u001b[0m\u001b[0;34m\u001b[0m\u001b[0m\n",
            "\u001b[0;32m/usr/local/lib/python3.7/dist-packages/sklearn/multiclass.py\u001b[0m in \u001b[0;36mfit\u001b[0;34m(self, X, y)\u001b[0m\n\u001b[1;32m    237\u001b[0m                 \u001b[0;34m\"not %s\"\u001b[0m \u001b[0;34m%\u001b[0m \u001b[0mself\u001b[0m\u001b[0;34m.\u001b[0m\u001b[0mlabel_binarizer_\u001b[0m\u001b[0;34m.\u001b[0m\u001b[0mclasses_\u001b[0m\u001b[0;34m[\u001b[0m\u001b[0mi\u001b[0m\u001b[0;34m]\u001b[0m\u001b[0;34m,\u001b[0m\u001b[0;34m\u001b[0m\u001b[0;34m\u001b[0m\u001b[0m\n\u001b[1;32m    238\u001b[0m                 self.label_binarizer_.classes_[i]])\n\u001b[0;32m--> 239\u001b[0;31m             for i, column in enumerate(columns))\n\u001b[0m\u001b[1;32m    240\u001b[0m \u001b[0;34m\u001b[0m\u001b[0m\n\u001b[1;32m    241\u001b[0m         \u001b[0;32mreturn\u001b[0m \u001b[0mself\u001b[0m\u001b[0;34m\u001b[0m\u001b[0;34m\u001b[0m\u001b[0m\n",
            "\u001b[0;32m/usr/local/lib/python3.7/dist-packages/joblib/parallel.py\u001b[0m in \u001b[0;36m__call__\u001b[0;34m(self, iterable)\u001b[0m\n\u001b[1;32m   1042\u001b[0m                 \u001b[0mself\u001b[0m\u001b[0;34m.\u001b[0m\u001b[0m_iterating\u001b[0m \u001b[0;34m=\u001b[0m \u001b[0mself\u001b[0m\u001b[0;34m.\u001b[0m\u001b[0m_original_iterator\u001b[0m \u001b[0;32mis\u001b[0m \u001b[0;32mnot\u001b[0m \u001b[0;32mNone\u001b[0m\u001b[0;34m\u001b[0m\u001b[0;34m\u001b[0m\u001b[0m\n\u001b[1;32m   1043\u001b[0m \u001b[0;34m\u001b[0m\u001b[0m\n\u001b[0;32m-> 1044\u001b[0;31m             \u001b[0;32mwhile\u001b[0m \u001b[0mself\u001b[0m\u001b[0;34m.\u001b[0m\u001b[0mdispatch_one_batch\u001b[0m\u001b[0;34m(\u001b[0m\u001b[0miterator\u001b[0m\u001b[0;34m)\u001b[0m\u001b[0;34m:\u001b[0m\u001b[0;34m\u001b[0m\u001b[0;34m\u001b[0m\u001b[0m\n\u001b[0m\u001b[1;32m   1045\u001b[0m                 \u001b[0;32mpass\u001b[0m\u001b[0;34m\u001b[0m\u001b[0;34m\u001b[0m\u001b[0m\n\u001b[1;32m   1046\u001b[0m \u001b[0;34m\u001b[0m\u001b[0m\n",
            "\u001b[0;32m/usr/local/lib/python3.7/dist-packages/joblib/parallel.py\u001b[0m in \u001b[0;36mdispatch_one_batch\u001b[0;34m(self, iterator)\u001b[0m\n\u001b[1;32m    857\u001b[0m                 \u001b[0;32mreturn\u001b[0m \u001b[0;32mFalse\u001b[0m\u001b[0;34m\u001b[0m\u001b[0;34m\u001b[0m\u001b[0m\n\u001b[1;32m    858\u001b[0m             \u001b[0;32melse\u001b[0m\u001b[0;34m:\u001b[0m\u001b[0;34m\u001b[0m\u001b[0;34m\u001b[0m\u001b[0m\n\u001b[0;32m--> 859\u001b[0;31m                 \u001b[0mself\u001b[0m\u001b[0;34m.\u001b[0m\u001b[0m_dispatch\u001b[0m\u001b[0;34m(\u001b[0m\u001b[0mtasks\u001b[0m\u001b[0;34m)\u001b[0m\u001b[0;34m\u001b[0m\u001b[0;34m\u001b[0m\u001b[0m\n\u001b[0m\u001b[1;32m    860\u001b[0m                 \u001b[0;32mreturn\u001b[0m \u001b[0;32mTrue\u001b[0m\u001b[0;34m\u001b[0m\u001b[0;34m\u001b[0m\u001b[0m\n\u001b[1;32m    861\u001b[0m \u001b[0;34m\u001b[0m\u001b[0m\n",
            "\u001b[0;32m/usr/local/lib/python3.7/dist-packages/joblib/parallel.py\u001b[0m in \u001b[0;36m_dispatch\u001b[0;34m(self, batch)\u001b[0m\n\u001b[1;32m    775\u001b[0m         \u001b[0;32mwith\u001b[0m \u001b[0mself\u001b[0m\u001b[0;34m.\u001b[0m\u001b[0m_lock\u001b[0m\u001b[0;34m:\u001b[0m\u001b[0;34m\u001b[0m\u001b[0;34m\u001b[0m\u001b[0m\n\u001b[1;32m    776\u001b[0m             \u001b[0mjob_idx\u001b[0m \u001b[0;34m=\u001b[0m \u001b[0mlen\u001b[0m\u001b[0;34m(\u001b[0m\u001b[0mself\u001b[0m\u001b[0;34m.\u001b[0m\u001b[0m_jobs\u001b[0m\u001b[0;34m)\u001b[0m\u001b[0;34m\u001b[0m\u001b[0;34m\u001b[0m\u001b[0m\n\u001b[0;32m--> 777\u001b[0;31m             \u001b[0mjob\u001b[0m \u001b[0;34m=\u001b[0m \u001b[0mself\u001b[0m\u001b[0;34m.\u001b[0m\u001b[0m_backend\u001b[0m\u001b[0;34m.\u001b[0m\u001b[0mapply_async\u001b[0m\u001b[0;34m(\u001b[0m\u001b[0mbatch\u001b[0m\u001b[0;34m,\u001b[0m \u001b[0mcallback\u001b[0m\u001b[0;34m=\u001b[0m\u001b[0mcb\u001b[0m\u001b[0;34m)\u001b[0m\u001b[0;34m\u001b[0m\u001b[0;34m\u001b[0m\u001b[0m\n\u001b[0m\u001b[1;32m    778\u001b[0m             \u001b[0;31m# A job can complete so quickly than its callback is\u001b[0m\u001b[0;34m\u001b[0m\u001b[0;34m\u001b[0m\u001b[0;34m\u001b[0m\u001b[0m\n\u001b[1;32m    779\u001b[0m             \u001b[0;31m# called before we get here, causing self._jobs to\u001b[0m\u001b[0;34m\u001b[0m\u001b[0;34m\u001b[0m\u001b[0;34m\u001b[0m\u001b[0m\n",
            "\u001b[0;32m/usr/local/lib/python3.7/dist-packages/joblib/_parallel_backends.py\u001b[0m in \u001b[0;36mapply_async\u001b[0;34m(self, func, callback)\u001b[0m\n\u001b[1;32m    206\u001b[0m     \u001b[0;32mdef\u001b[0m \u001b[0mapply_async\u001b[0m\u001b[0;34m(\u001b[0m\u001b[0mself\u001b[0m\u001b[0;34m,\u001b[0m \u001b[0mfunc\u001b[0m\u001b[0;34m,\u001b[0m \u001b[0mcallback\u001b[0m\u001b[0;34m=\u001b[0m\u001b[0;32mNone\u001b[0m\u001b[0;34m)\u001b[0m\u001b[0;34m:\u001b[0m\u001b[0;34m\u001b[0m\u001b[0;34m\u001b[0m\u001b[0m\n\u001b[1;32m    207\u001b[0m         \u001b[0;34m\"\"\"Schedule a func to be run\"\"\"\u001b[0m\u001b[0;34m\u001b[0m\u001b[0;34m\u001b[0m\u001b[0m\n\u001b[0;32m--> 208\u001b[0;31m         \u001b[0mresult\u001b[0m \u001b[0;34m=\u001b[0m \u001b[0mImmediateResult\u001b[0m\u001b[0;34m(\u001b[0m\u001b[0mfunc\u001b[0m\u001b[0;34m)\u001b[0m\u001b[0;34m\u001b[0m\u001b[0;34m\u001b[0m\u001b[0m\n\u001b[0m\u001b[1;32m    209\u001b[0m         \u001b[0;32mif\u001b[0m \u001b[0mcallback\u001b[0m\u001b[0;34m:\u001b[0m\u001b[0;34m\u001b[0m\u001b[0;34m\u001b[0m\u001b[0m\n\u001b[1;32m    210\u001b[0m             \u001b[0mcallback\u001b[0m\u001b[0;34m(\u001b[0m\u001b[0mresult\u001b[0m\u001b[0;34m)\u001b[0m\u001b[0;34m\u001b[0m\u001b[0;34m\u001b[0m\u001b[0m\n",
            "\u001b[0;32m/usr/local/lib/python3.7/dist-packages/joblib/_parallel_backends.py\u001b[0m in \u001b[0;36m__init__\u001b[0;34m(self, batch)\u001b[0m\n\u001b[1;32m    570\u001b[0m         \u001b[0;31m# Don't delay the application, to avoid keeping the input\u001b[0m\u001b[0;34m\u001b[0m\u001b[0;34m\u001b[0m\u001b[0;34m\u001b[0m\u001b[0m\n\u001b[1;32m    571\u001b[0m         \u001b[0;31m# arguments in memory\u001b[0m\u001b[0;34m\u001b[0m\u001b[0;34m\u001b[0m\u001b[0;34m\u001b[0m\u001b[0m\n\u001b[0;32m--> 572\u001b[0;31m         \u001b[0mself\u001b[0m\u001b[0;34m.\u001b[0m\u001b[0mresults\u001b[0m \u001b[0;34m=\u001b[0m \u001b[0mbatch\u001b[0m\u001b[0;34m(\u001b[0m\u001b[0;34m)\u001b[0m\u001b[0;34m\u001b[0m\u001b[0;34m\u001b[0m\u001b[0m\n\u001b[0m\u001b[1;32m    573\u001b[0m \u001b[0;34m\u001b[0m\u001b[0m\n\u001b[1;32m    574\u001b[0m     \u001b[0;32mdef\u001b[0m \u001b[0mget\u001b[0m\u001b[0;34m(\u001b[0m\u001b[0mself\u001b[0m\u001b[0;34m)\u001b[0m\u001b[0;34m:\u001b[0m\u001b[0;34m\u001b[0m\u001b[0;34m\u001b[0m\u001b[0m\n",
            "\u001b[0;32m/usr/local/lib/python3.7/dist-packages/joblib/parallel.py\u001b[0m in \u001b[0;36m__call__\u001b[0;34m(self)\u001b[0m\n\u001b[1;32m    261\u001b[0m         \u001b[0;32mwith\u001b[0m \u001b[0mparallel_backend\u001b[0m\u001b[0;34m(\u001b[0m\u001b[0mself\u001b[0m\u001b[0;34m.\u001b[0m\u001b[0m_backend\u001b[0m\u001b[0;34m,\u001b[0m \u001b[0mn_jobs\u001b[0m\u001b[0;34m=\u001b[0m\u001b[0mself\u001b[0m\u001b[0;34m.\u001b[0m\u001b[0m_n_jobs\u001b[0m\u001b[0;34m)\u001b[0m\u001b[0;34m:\u001b[0m\u001b[0;34m\u001b[0m\u001b[0;34m\u001b[0m\u001b[0m\n\u001b[1;32m    262\u001b[0m             return [func(*args, **kwargs)\n\u001b[0;32m--> 263\u001b[0;31m                     for func, args, kwargs in self.items]\n\u001b[0m\u001b[1;32m    264\u001b[0m \u001b[0;34m\u001b[0m\u001b[0m\n\u001b[1;32m    265\u001b[0m     \u001b[0;32mdef\u001b[0m \u001b[0m__reduce__\u001b[0m\u001b[0;34m(\u001b[0m\u001b[0mself\u001b[0m\u001b[0;34m)\u001b[0m\u001b[0;34m:\u001b[0m\u001b[0;34m\u001b[0m\u001b[0;34m\u001b[0m\u001b[0m\n",
            "\u001b[0;32m/usr/local/lib/python3.7/dist-packages/joblib/parallel.py\u001b[0m in \u001b[0;36m<listcomp>\u001b[0;34m(.0)\u001b[0m\n\u001b[1;32m    261\u001b[0m         \u001b[0;32mwith\u001b[0m \u001b[0mparallel_backend\u001b[0m\u001b[0;34m(\u001b[0m\u001b[0mself\u001b[0m\u001b[0;34m.\u001b[0m\u001b[0m_backend\u001b[0m\u001b[0;34m,\u001b[0m \u001b[0mn_jobs\u001b[0m\u001b[0;34m=\u001b[0m\u001b[0mself\u001b[0m\u001b[0;34m.\u001b[0m\u001b[0m_n_jobs\u001b[0m\u001b[0;34m)\u001b[0m\u001b[0;34m:\u001b[0m\u001b[0;34m\u001b[0m\u001b[0;34m\u001b[0m\u001b[0m\n\u001b[1;32m    262\u001b[0m             return [func(*args, **kwargs)\n\u001b[0;32m--> 263\u001b[0;31m                     for func, args, kwargs in self.items]\n\u001b[0m\u001b[1;32m    264\u001b[0m \u001b[0;34m\u001b[0m\u001b[0m\n\u001b[1;32m    265\u001b[0m     \u001b[0;32mdef\u001b[0m \u001b[0m__reduce__\u001b[0m\u001b[0;34m(\u001b[0m\u001b[0mself\u001b[0m\u001b[0;34m)\u001b[0m\u001b[0;34m:\u001b[0m\u001b[0;34m\u001b[0m\u001b[0;34m\u001b[0m\u001b[0m\n",
            "\u001b[0;32m/usr/local/lib/python3.7/dist-packages/sklearn/multiclass.py\u001b[0m in \u001b[0;36m_fit_binary\u001b[0;34m(estimator, X, y, classes)\u001b[0m\n\u001b[1;32m     77\u001b[0m     \u001b[0;32melse\u001b[0m\u001b[0;34m:\u001b[0m\u001b[0;34m\u001b[0m\u001b[0;34m\u001b[0m\u001b[0m\n\u001b[1;32m     78\u001b[0m         \u001b[0mestimator\u001b[0m \u001b[0;34m=\u001b[0m \u001b[0mclone\u001b[0m\u001b[0;34m(\u001b[0m\u001b[0mestimator\u001b[0m\u001b[0;34m)\u001b[0m\u001b[0;34m\u001b[0m\u001b[0;34m\u001b[0m\u001b[0m\n\u001b[0;32m---> 79\u001b[0;31m         \u001b[0mestimator\u001b[0m\u001b[0;34m.\u001b[0m\u001b[0mfit\u001b[0m\u001b[0;34m(\u001b[0m\u001b[0mX\u001b[0m\u001b[0;34m,\u001b[0m \u001b[0my\u001b[0m\u001b[0;34m)\u001b[0m\u001b[0;34m\u001b[0m\u001b[0;34m\u001b[0m\u001b[0m\n\u001b[0m\u001b[1;32m     80\u001b[0m     \u001b[0;32mreturn\u001b[0m \u001b[0mestimator\u001b[0m\u001b[0;34m\u001b[0m\u001b[0;34m\u001b[0m\u001b[0m\n\u001b[1;32m     81\u001b[0m \u001b[0;34m\u001b[0m\u001b[0m\n",
            "\u001b[0;32m/usr/local/lib/python3.7/dist-packages/sklearn/svm/_base.py\u001b[0m in \u001b[0;36mfit\u001b[0;34m(self, X, y, sample_weight)\u001b[0m\n\u001b[1;32m    197\u001b[0m \u001b[0;34m\u001b[0m\u001b[0m\n\u001b[1;32m    198\u001b[0m         \u001b[0mseed\u001b[0m \u001b[0;34m=\u001b[0m \u001b[0mrnd\u001b[0m\u001b[0;34m.\u001b[0m\u001b[0mrandint\u001b[0m\u001b[0;34m(\u001b[0m\u001b[0mnp\u001b[0m\u001b[0;34m.\u001b[0m\u001b[0miinfo\u001b[0m\u001b[0;34m(\u001b[0m\u001b[0;34m'i'\u001b[0m\u001b[0;34m)\u001b[0m\u001b[0;34m.\u001b[0m\u001b[0mmax\u001b[0m\u001b[0;34m)\u001b[0m\u001b[0;34m\u001b[0m\u001b[0;34m\u001b[0m\u001b[0m\n\u001b[0;32m--> 199\u001b[0;31m         \u001b[0mfit\u001b[0m\u001b[0;34m(\u001b[0m\u001b[0mX\u001b[0m\u001b[0;34m,\u001b[0m \u001b[0my\u001b[0m\u001b[0;34m,\u001b[0m \u001b[0msample_weight\u001b[0m\u001b[0;34m,\u001b[0m \u001b[0msolver_type\u001b[0m\u001b[0;34m,\u001b[0m \u001b[0mkernel\u001b[0m\u001b[0;34m,\u001b[0m \u001b[0mrandom_seed\u001b[0m\u001b[0;34m=\u001b[0m\u001b[0mseed\u001b[0m\u001b[0;34m)\u001b[0m\u001b[0;34m\u001b[0m\u001b[0;34m\u001b[0m\u001b[0m\n\u001b[0m\u001b[1;32m    200\u001b[0m         \u001b[0;31m# see comment on the other call to np.iinfo in this file\u001b[0m\u001b[0;34m\u001b[0m\u001b[0;34m\u001b[0m\u001b[0;34m\u001b[0m\u001b[0m\n\u001b[1;32m    201\u001b[0m \u001b[0;34m\u001b[0m\u001b[0m\n",
            "\u001b[0;32m/usr/local/lib/python3.7/dist-packages/sklearn/svm/_base.py\u001b[0m in \u001b[0;36m_dense_fit\u001b[0;34m(self, X, y, sample_weight, solver_type, kernel, random_seed)\u001b[0m\n\u001b[1;32m    256\u001b[0m                 \u001b[0mcache_size\u001b[0m\u001b[0;34m=\u001b[0m\u001b[0mself\u001b[0m\u001b[0;34m.\u001b[0m\u001b[0mcache_size\u001b[0m\u001b[0;34m,\u001b[0m \u001b[0mcoef0\u001b[0m\u001b[0;34m=\u001b[0m\u001b[0mself\u001b[0m\u001b[0;34m.\u001b[0m\u001b[0mcoef0\u001b[0m\u001b[0;34m,\u001b[0m\u001b[0;34m\u001b[0m\u001b[0;34m\u001b[0m\u001b[0m\n\u001b[1;32m    257\u001b[0m                 \u001b[0mgamma\u001b[0m\u001b[0;34m=\u001b[0m\u001b[0mself\u001b[0m\u001b[0;34m.\u001b[0m\u001b[0m_gamma\u001b[0m\u001b[0;34m,\u001b[0m \u001b[0mepsilon\u001b[0m\u001b[0;34m=\u001b[0m\u001b[0mself\u001b[0m\u001b[0;34m.\u001b[0m\u001b[0mepsilon\u001b[0m\u001b[0;34m,\u001b[0m\u001b[0;34m\u001b[0m\u001b[0;34m\u001b[0m\u001b[0m\n\u001b[0;32m--> 258\u001b[0;31m                 max_iter=self.max_iter, random_seed=random_seed)\n\u001b[0m\u001b[1;32m    259\u001b[0m \u001b[0;34m\u001b[0m\u001b[0m\n\u001b[1;32m    260\u001b[0m         \u001b[0mself\u001b[0m\u001b[0;34m.\u001b[0m\u001b[0m_warn_from_fit_status\u001b[0m\u001b[0;34m(\u001b[0m\u001b[0;34m)\u001b[0m\u001b[0;34m\u001b[0m\u001b[0;34m\u001b[0m\u001b[0m\n",
            "\u001b[0;31mKeyboardInterrupt\u001b[0m: "
          ]
        }
      ]
    },
    {
      "cell_type": "markdown",
      "metadata": {
        "id": "pNgnMrfMMmWm"
      },
      "source": [
        "This time Scikit-Learn did not have to run OvR or OvO because SGD classifiers can\n",
        "directly classify instances into multiple classes."
      ]
    },
    {
      "cell_type": "code",
      "metadata": {
        "colab": {
          "base_uri": "https://localhost:8080/"
        },
        "id": "sch7kJe_MntN",
        "outputId": "f1a112f9-a6a3-46d9-a7c9-63fdd0b6ae46"
      },
      "source": [
        "sgd_clf.fit(X_train,y_train)\n",
        "sgd_clf.predict([some_digit])"
      ],
      "execution_count": 92,
      "outputs": [
        {
          "output_type": "execute_result",
          "data": {
            "text/plain": [
              "array([9], dtype=uint8)"
            ]
          },
          "metadata": {
            "tags": []
          },
          "execution_count": 92
        }
      ]
    },
    {
      "cell_type": "code",
      "metadata": {
        "colab": {
          "base_uri": "https://localhost:8080/"
        },
        "id": "Jom8lfzcNISr",
        "outputId": "06046b76-7dca-47b6-f500-1c84e04d6cbc"
      },
      "source": [
        "sgd_clf.decision_function([some_digit])"
      ],
      "execution_count": 93,
      "outputs": [
        {
          "output_type": "execute_result",
          "data": {
            "text/plain": [
              "array([[-45606.88156161, -20077.79903687, -23620.86693862,\n",
              "        -11077.35532351,  -8578.08720996,  -7133.8897717 ,\n",
              "        -27033.93740198,  -8312.88994614,  -3257.29010483,\n",
              "          2193.22821614]])"
            ]
          },
          "metadata": {
            "tags": []
          },
          "execution_count": 93
        }
      ]
    },
    {
      "cell_type": "markdown",
      "metadata": {
        "id": "FXVNxir6NPNE"
      },
      "source": [
        "### Evaluating SGD"
      ]
    },
    {
      "cell_type": "code",
      "metadata": {
        "colab": {
          "base_uri": "https://localhost:8080/"
        },
        "id": "Bv8FMiYiNNke",
        "outputId": "a03c0d29-0cf6-4004-8f20-ed176d234a8d"
      },
      "source": [
        "cross_val_score(sgd_clf, X_train, y_train,cv=3,scoring=\"accuracy\")"
      ],
      "execution_count": 95,
      "outputs": [
        {
          "output_type": "execute_result",
          "data": {
            "text/plain": [
              "array([0.87365, 0.85835, 0.8689 ])"
            ]
          },
          "metadata": {
            "tags": []
          },
          "execution_count": 95
        }
      ]
    },
    {
      "cell_type": "markdown",
      "metadata": {
        "id": "l7U1t4shNgP0"
      },
      "source": [
        "### Scaling the inputs for better accuracy:"
      ]
    },
    {
      "cell_type": "code",
      "metadata": {
        "id": "D8gxUagWNqgM"
      },
      "source": [
        "from sklearn.preprocessing import StandardScaler\n",
        "scaler = StandardScaler()\n",
        "X_train_scaled = scaler.fit_transform(X_train.astype(np.float64))\n",
        "\n",
        "\n",
        "#cross_val_score(sgd_clf, X_train_scaled, y_train, cv=3, scoring=\"accuracy\")"
      ],
      "execution_count": 99,
      "outputs": []
    },
    {
      "cell_type": "markdown",
      "metadata": {
        "id": "uUBkBgLvOIgU"
      },
      "source": [
        "#ERROR ANALYSIS"
      ]
    },
    {
      "cell_type": "markdown",
      "metadata": {
        "id": "kN-gCcXaOSb3"
      },
      "source": [
        "Here, we will assume that\n",
        "you have found a promising model and you want to find ways to improve it. One way\n",
        "to do this is to analyze the types of errors it makes."
      ]
    },
    {
      "cell_type": "code",
      "metadata": {
        "id": "8VH8qE2-OKTF"
      },
      "source": [
        "y_train_pred = cross_val_predict(sgd_clf, X_train_scaled, y_train, cv=3)\n",
        "conf_mx = confusion_matrix(y_train,y_train_pred)\n",
        "conf_mx"
      ],
      "execution_count": null,
      "outputs": []
    },
    {
      "cell_type": "markdown",
      "metadata": {
        "id": "eGnU4ImkO79l"
      },
      "source": [
        "### Trying the visual representation of the conf matrix"
      ]
    },
    {
      "cell_type": "code",
      "metadata": {
        "id": "-wOqdn3EOyFR"
      },
      "source": [
        "plt.matshow(conf_mx, cmap=\"jet\")\n",
        "plt.show()"
      ],
      "execution_count": null,
      "outputs": []
    },
    {
      "cell_type": "markdown",
      "metadata": {
        "id": "1WhmTHMFPGFk"
      },
      "source": [
        "This confusion matrix looks pretty good, since most images are on the main diagonal,\n",
        "which means that they were classified correctly.\n",
        "The 5s look slightly darker than\n",
        "the other digits, which could mean that there are fewer images of 5s in the dataset or\n",
        "that the classifier does not perform as well on 5s as on other digits. In fact, you can\n",
        "verify that both are the case."
      ]
    },
    {
      "cell_type": "markdown",
      "metadata": {
        "id": "oq2GK1TAPbl4"
      },
      "source": [
        "## Focusing on error rate i.e., errors made per class"
      ]
    },
    {
      "cell_type": "code",
      "metadata": {
        "id": "2ObDuKD6PGw0"
      },
      "source": [
        "row_sums = conf_mx.sum(axis=1, keepdims=True)\n",
        "norm_conf_mx = conf_mx/row_sums\n",
        "\n",
        "np.fill_diagonal(norm_conf_mx,0)\n",
        "plt.matshow(norm_conf_mx, cmap='jet')\n",
        "plt.show()"
      ],
      "execution_count": null,
      "outputs": []
    },
    {
      "cell_type": "markdown",
      "metadata": {
        "id": "FiUmoSLFRS_8"
      },
      "source": [
        "Looking at this plot, it seems that your efforts should be spent on reducing\n",
        "the false 8s. For example, you could try to gather more training data for digits that\n",
        "look like 8s (but are not) so that the classifier can learn to distinguish them from real\n",
        "8s. Or you could engineer new features that would help the classifier—for example,\n",
        "writing an algorithm to count the number of closed loops (e.g., 8 has two, 6 has one, 5\n",
        "has none). Or you could preprocess the images (e.g., using Scikit-Image, Pillow, or\n",
        "OpenCV) to make some patterns, such as closed loops, stand out more."
      ]
    },
    {
      "cell_type": "code",
      "metadata": {
        "id": "C5VRWGHeRTqs"
      },
      "source": [
        "cl_a, cl_b = 3, 5\n",
        "X_aa = X_train[(y_train == cl_a) & (y_train_pred == cl_a)]\n",
        "X_ab = X_train[(y_train == cl_a) & (y_train_pred == cl_b)]\n",
        "X_ba = X_train[(y_train == cl_b) & (y_train_pred == cl_a)]\n",
        "X_bb = X_train[(y_train == cl_b) & (y_train_pred == cl_b)]\n",
        "\n",
        "plt.figure(figsize=(8,8))\n",
        "plt.subplot(221); plot_digits(X_aa[:25], images_per_row=5)\n",
        "plt.subplot(222); plot_digits(X_ab[:25], images_per_row=5)\n",
        "plt.subplot(223); plot_digits(X_ba[:25], images_per_row=5)\n",
        "plt.subplot(224); plot_digits(X_bb[:25], images_per_row=5)\n",
        "plt.show()"
      ],
      "execution_count": null,
      "outputs": []
    },
    {
      "cell_type": "markdown",
      "metadata": {
        "id": "PduUfq5SRk0k"
      },
      "source": [
        "3 The reason is that we used a simple SGDClassifier, which is a linear\n",
        "model. All it does is assign a weight per class to each pixel, and when it sees a new\n",
        "image it just sums up the weighted pixel intensities to get a score for each class. So\n",
        "since 3s and 5s differ only by a few pixels, this model will easily confuse them."
      ]
    },
    {
      "cell_type": "markdown",
      "metadata": {
        "id": "6hEVQqpKR1Vl"
      },
      "source": [
        "#Multilabel Classification: Outputs multiple classes for each instance. Like for a face recognizer trained on 3 people, when shown a picture of 2 of them it should return positives for the 2 and a zero for the one not present."
      ]
    },
    {
      "cell_type": "code",
      "metadata": {
        "id": "7oedsHgxRq6F"
      },
      "source": [
        "from sklearn.neighbors import KNeighborsClassifiers\n",
        "\n",
        "y_train_large = (y_train >= 7)\n",
        "y_train_odd = (y_train % 2 == 1)\n",
        "y_multilabel = np.c_[y_train_large, y_train_odd]\n",
        "\n",
        "knn_clf = KNeighborsClassifiers()\n",
        "knn_clf.fit(X_train, y_multilabel)"
      ],
      "execution_count": null,
      "outputs": []
    },
    {
      "cell_type": "code",
      "metadata": {
        "id": "efvnmomaTPVd"
      },
      "source": [
        "knn_clf.predict([some_digit])"
      ],
      "execution_count": null,
      "outputs": []
    },
    {
      "cell_type": "markdown",
      "metadata": {
        "id": "US64eUtOTuGl"
      },
      "source": [
        "## EVALUATION F1-Score"
      ]
    },
    {
      "cell_type": "code",
      "metadata": {
        "id": "-nRaqBCyTnYU"
      },
      "source": [
        "y_train_knn_pred = cross_val_predict(knn_clf, X_train, y_multilabel, cv= 5)\n",
        "f1_score(y_multilabel, y_train_knn_pred, average=\"macro\")"
      ],
      "execution_count": null,
      "outputs": []
    },
    {
      "cell_type": "markdown",
      "metadata": {
        "id": "uZkqgYg2UVg5"
      },
      "source": [
        "This assumes that all labels are equally important, however, which may not be the\n",
        "case.\n",
        "Set average=\"weighted\" in the\n",
        "preceding code to give weights to labels acc to support i.e, number of instances for the target label."
      ]
    },
    {
      "cell_type": "markdown",
      "metadata": {
        "id": "6opD3fVrUxtP"
      },
      "source": [
        "#Multioutput Classification\n",
        "It is simply a generalization\n",
        "of multilabel classification where each label can be multiclass"
      ]
    },
    {
      "cell_type": "markdown",
      "metadata": {
        "id": "3zjWSJK4U-vV"
      },
      "source": [
        "Notice that the\n",
        "classifier’s output is multilabel (one label per pixel) and each label can have multiple\n",
        "values (pixel intensity ranges from 0 to 255). It is thus an example of a multioutput\n",
        "classification system."
      ]
    },
    {
      "cell_type": "markdown",
      "metadata": {
        "id": "1g_CnuTnVIht"
      },
      "source": [
        "Let’s start by creating the training and test sets by taking the MNIST images and\n",
        "adding noise to their pixel intensities with NumPy’s randint() function. The target\n",
        "images will be the original images:"
      ]
    },
    {
      "cell_type": "code",
      "metadata": {
        "id": "FJV0kNfyUlAG"
      },
      "source": [
        "noise = np.random.randint(0, 100, (len(X_train), 784))\n",
        "X_train_mod = X_train + noise\n",
        "noise = np.random.randint(0, 100, (len(X_test), 784))\n",
        "X_test_mod = X_test + noise\n",
        "y_train_mod = X_train\n",
        "y_test_mod = X_test"
      ],
      "execution_count": null,
      "outputs": []
    },
    {
      "cell_type": "code",
      "metadata": {
        "id": "8pzG9GNlVMHC"
      },
      "source": [
        "knn_clf.fit(X_train_mod, y_train_mod)\n",
        "clean_digit = knn_clf.predict([X_test_mod[some_index]])\n",
        "plot_digit(clean_digit)"
      ],
      "execution_count": null,
      "outputs": []
    }
  ]
}