{
  "nbformat": 4,
  "nbformat_minor": 0,
  "metadata": {
    "colab": {
      "name": "CustomModelTraining.ipynb",
      "provenance": []
    },
    "kernelspec": {
      "name": "python3",
      "display_name": "Python 3"
    },
    "language_info": {
      "name": "python"
    }
  },
  "cells": [
    {
      "cell_type": "markdown",
      "metadata": {
        "id": "xetp-2WBD_f-"
      },
      "source": [
        "#Custom Loss Fn "
      ]
    },
    {
      "cell_type": "markdown",
      "metadata": {
        "id": "F0lQtNZfEE2U"
      },
      "source": [
        "##Preparing the environment\n"
      ]
    },
    {
      "cell_type": "code",
      "metadata": {
        "id": "QiyMratv0jyv"
      },
      "source": [
        "# Python ≥3.5 is required\n",
        "import sys\n",
        "assert sys.version_info >= (3, 5)\n",
        "\n",
        "# Scikit-Learn ≥0.20 is required\n",
        "import sklearn\n",
        "assert sklearn.__version__ >= \"0.20\"\n",
        "\n",
        "try:\n",
        "    # %tensorflow_version only exists in Colab.\n",
        "    %tensorflow_version 2.x\n",
        "except Exception:\n",
        "    pass\n",
        "\n",
        "# TensorFlow ≥2.4 is required in this notebook\n",
        "# Earlier 2.x versions will mostly work the same, but with a few bugs\n",
        "import tensorflow as tf\n",
        "from tensorflow import keras\n",
        "assert tf.__version__ >= \"2.4\"\n",
        "\n",
        "# Common imports\n",
        "import numpy as np\n",
        "import os\n",
        "\n",
        "# to make this notebook's output stable across runs\n",
        "np.random.seed(42)\n",
        "tf.random.set_seed(42)\n",
        "\n",
        "# To plot pretty figures\n",
        "%matplotlib inline\n",
        "import matplotlib as mpl\n",
        "import matplotlib.pyplot as plt\n",
        "mpl.rc('axes', labelsize=14)\n",
        "mpl.rc('xtick', labelsize=12)\n",
        "mpl.rc('ytick', labelsize=12)\n",
        "\n",
        "# Where to save the figures\n",
        "PROJECT_ROOT_DIR = \".\"\n",
        "CHAPTER_ID = \"deep\"\n",
        "IMAGES_PATH = os.path.join(PROJECT_ROOT_DIR, \"images\", CHAPTER_ID)\n",
        "os.makedirs(IMAGES_PATH, exist_ok=True)\n",
        "\n",
        "def save_fig(fig_id, tight_layout=True, fig_extension=\"png\", resolution=300):\n",
        "    path = os.path.join(IMAGES_PATH, fig_id + \".\" + fig_extension)\n",
        "    print(\"Saving figure\", fig_id)\n",
        "    if tight_layout:\n",
        "        plt.tight_layout()\n",
        "    plt.savefig(path, format=fig_extension, dpi=resolution)"
      ],
      "execution_count": 2,
      "outputs": []
    },
    {
      "cell_type": "markdown",
      "metadata": {
        "id": "dAZd6pdk0jzF"
      },
      "source": [
        "## Custom loss function"
      ]
    },
    {
      "cell_type": "markdown",
      "metadata": {
        "id": "7E98kGBeEt5L"
      },
      "source": [
        "Objective: To train a regression model, but our training set is a bit noisy. \n",
        "\n",
        "Initial efforts to alleviate persisiting problems:\n",
        "\n",
        "Started by trying to clean up the dataset by removing or fixing the outliers,\n",
        "but that turns out to be insufficient; the dataset is still noisy. \n",
        "\n",
        "Loss Function In Question:\n",
        "\n",
        "The mean squared error might penalize large errors too much and\n",
        "cause the model to be imprecise. \n",
        "\n",
        "The mean absolute error would not penalize outliers\n",
        "as much, but training might take a while to converge, and the trained model\n",
        "might not be very precise. \n",
        "\n",
        "Using the Huber loss instead of the good old MSE. \n",
        "\n",
        "The Huber loss is not currently\n",
        "part of the official Keras API, but it is available in tf.keras. \n",
        "\n",
        "Implementing it: \n",
        "\n",
        "Created a function that takes the labels and predictions as arguments, and use\n",
        "TensorFlow operations to compute every instance’s loss."
      ]
    },
    {
      "cell_type": "markdown",
      "metadata": {
        "id": "kaO-1bcV0jzF"
      },
      "source": [
        "Let's start by loading and preparing the California housing dataset. We first load it, then split it into a training set, a validation set and a test set, and finally we scale it:"
      ]
    },
    {
      "cell_type": "code",
      "metadata": {
        "id": "SctHzJAa0jzF",
        "colab": {
          "base_uri": "https://localhost:8080/"
        },
        "outputId": "067873ad-f6d8-4c04-b1a4-ebbf9b9ae138"
      },
      "source": [
        "from sklearn.datasets import fetch_california_housing\n",
        "from sklearn.model_selection import train_test_split\n",
        "from sklearn.preprocessing import StandardScaler\n",
        "\n",
        "housing = fetch_california_housing()\n",
        "X_train_full, X_test, y_train_full, y_test = train_test_split(\n",
        "    housing.data, housing.target.reshape(-1, 1), random_state=42)\n",
        "X_train, X_valid, y_train, y_valid = train_test_split(\n",
        "    X_train_full, y_train_full, random_state=42)\n",
        "\n",
        "scaler = StandardScaler()\n",
        "X_train_scaled = scaler.fit_transform(X_train)\n",
        "X_valid_scaled = scaler.transform(X_valid)\n",
        "X_test_scaled = scaler.transform(X_test)"
      ],
      "execution_count": 3,
      "outputs": [
        {
          "output_type": "stream",
          "text": [
            "Downloading Cal. housing from https://ndownloader.figshare.com/files/5976036 to /root/scikit_learn_data\n"
          ],
          "name": "stderr"
        }
      ]
    },
    {
      "cell_type": "code",
      "metadata": {
        "id": "hsOIzOSA0jzF"
      },
      "source": [
        "def huber_fn(y_true, y_pred):\n",
        "    error = y_true - y_pred\n",
        "    is_small_error = tf.abs(error) < 1\n",
        "    squared_loss = tf.square(error) / 2\n",
        "    linear_loss  = tf.abs(error) - 0.5\n",
        "    return tf.where(is_small_error, squared_loss, linear_loss)"
      ],
      "execution_count": 4,
      "outputs": []
    },
    {
      "cell_type": "code",
      "metadata": {
        "id": "ivdLe6bu0jzG",
        "colab": {
          "base_uri": "https://localhost:8080/",
          "height": 276
        },
        "outputId": "8b69214f-d457-4c54-83ee-eba79b7ec41e"
      },
      "source": [
        "plt.figure(figsize=(8, 3.5))\n",
        "z = np.linspace(-4, 4, 200)\n",
        "plt.plot(z, huber_fn(0, z), \"b-\", linewidth=2, label=\"huber($z$)\")\n",
        "plt.plot(z, z**2 / 2, \"b:\", linewidth=1, label=r\"$\\frac{1}{2}z^2$\")\n",
        "plt.plot([-1, -1], [0, huber_fn(0., -1.)], \"r--\")\n",
        "plt.plot([1, 1], [0, huber_fn(0., 1.)], \"r--\")\n",
        "plt.gca().axhline(y=0, color='k')\n",
        "plt.gca().axvline(x=0, color='k')\n",
        "plt.axis([-4, 4, 0, 4])\n",
        "plt.grid(True)\n",
        "plt.xlabel(\"$z$\")\n",
        "plt.legend(fontsize=14)\n",
        "plt.title(\"Huber loss\", fontsize=14)\n",
        "plt.show()"
      ],
      "execution_count": 5,
      "outputs": [
        {
          "output_type": "display_data",
          "data": {
            "image/png": "[encoded data removed]",
            "text/plain": [
              "<Figure size 576x252 with 1 Axes>"
            ]
          },
          "metadata": {
            "tags": [],
            "needs_background": "light"
          }
        }
      ]
    },
    {
      "cell_type": "code",
      "metadata": {
        "id": "QnnvHRfi0jzG"
      },
      "source": [
        "input_shape = X_train.shape[1:]\n",
        "\n",
        "model = keras.models.Sequential([\n",
        "    keras.layers.Dense(30, activation=\"selu\", kernel_initializer=\"lecun_normal\",\n",
        "                       input_shape=input_shape),\n",
        "    keras.layers.Dense(1),\n",
        "])"
      ],
      "execution_count": 6,
      "outputs": []
    },
    {
      "cell_type": "code",
      "metadata": {
        "id": "e86kCR7_0jzG"
      },
      "source": [
        "model.compile(loss=huber_fn, optimizer=\"nadam\", metrics=[\"mae\"])"
      ],
      "execution_count": 7,
      "outputs": []
    },
    {
      "cell_type": "markdown",
      "metadata": {
        "id": "TjpwsgDtGEx8"
      },
      "source": [
        "With the current implementation, any error between –1 and 1 is considered “small.”"
      ]
    },
    {
      "cell_type": "code",
      "metadata": {
        "scrolled": true,
        "id": "F1LGkZqU0jzG",
        "colab": {
          "base_uri": "https://localhost:8080/"
        },
        "outputId": "7d7e8072-56ad-4531-e00e-6ec04a5b963c"
      },
      "source": [
        "model.fit(X_train_scaled, y_train, epochs=2,\n",
        "          validation_data=(X_valid_scaled, y_valid))"
      ],
      "execution_count": 8,
      "outputs": [
        {
          "output_type": "stream",
          "text": [
            "Epoch 1/2\n",
            "363/363 [==============================] - 2s 3ms/step - loss: 1.0443 - mae: 1.4660 - val_loss: 0.2862 - val_mae: 0.5866\n",
            "Epoch 2/2\n",
            "363/363 [==============================] - 1s 2ms/step - loss: 0.2379 - mae: 0.5407 - val_loss: 0.2382 - val_mae: 0.5281\n"
          ],
          "name": "stdout"
        },
        {
          "output_type": "execute_result",
          "data": {
            "text/plain": [
              "<tensorflow.python.keras.callbacks.History at 0x7f9aaed3f590>"
            ]
          },
          "metadata": {
            "tags": []
          },
          "execution_count": 8
        }
      ]
    },
    {
      "cell_type": "markdown",
      "metadata": {
        "id": "Az370WAW0jzH"
      },
      "source": [
        "## Saving/Loading Models with Custom Objects"
      ]
    },
    {
      "cell_type": "code",
      "metadata": {
        "id": "8UfPCkcj0jzH"
      },
      "source": [
        "model.save(\"my_model_with_a_custom_loss.h5\")"
      ],
      "execution_count": null,
      "outputs": []
    },
    {
      "cell_type": "code",
      "metadata": {
        "id": "kbLMsmTh0jzH"
      },
      "source": [
        "model = keras.models.load_model(\"my_model_with_a_custom_loss.h5\",\n",
        "                                custom_objects={\"huber_fn\": huber_fn})"
      ],
      "execution_count": null,
      "outputs": []
    },
    {
      "cell_type": "code",
      "metadata": {
        "id": "0TJmx6P10jzH",
        "outputId": "be794964-0963-4a0c-937f-a53c49149bd3"
      },
      "source": [
        "model.fit(X_train_scaled, y_train, epochs=2,\n",
        "          validation_data=(X_valid_scaled, y_valid))"
      ],
      "execution_count": null,
      "outputs": [
        {
          "output_type": "stream",
          "text": [
            "Epoch 1/2\n",
            "363/363 [==============================] - 1s 970us/step - loss: 0.2054 - mae: 0.4982 - val_loss: 0.2209 - val_mae: 0.5050\n",
            "Epoch 2/2\n",
            "363/363 [==============================] - 0s 769us/step - loss: 0.1999 - mae: 0.4900 - val_loss: 0.2127 - val_mae: 0.4986\n"
          ],
          "name": "stdout"
        },
        {
          "output_type": "execute_result",
          "data": {
            "text/plain": [
              "<tensorflow.python.keras.callbacks.History at 0x7fbfd8c09090>"
            ]
          },
          "metadata": {
            "tags": []
          },
          "execution_count": 68
        }
      ]
    },
    {
      "cell_type": "code",
      "metadata": {
        "id": "MGbbHgyH0jzH"
      },
      "source": [
        "def create_huber(threshold=1.0):\n",
        "    def huber_fn(y_true, y_pred):\n",
        "        error = y_true - y_pred\n",
        "        is_small_error = tf.abs(error) < threshold\n",
        "        squared_loss = tf.square(error) / 2\n",
        "        linear_loss  = threshold * tf.abs(error) - threshold**2 / 2\n",
        "        return tf.where(is_small_error, squared_loss, linear_loss)\n",
        "    return huber_fn"
      ],
      "execution_count": null,
      "outputs": []
    },
    {
      "cell_type": "code",
      "metadata": {
        "id": "FdEVBEwk0jzH"
      },
      "source": [
        "model.compile(loss=create_huber(2.0), optimizer=\"nadam\", metrics=[\"mae\"])"
      ],
      "execution_count": null,
      "outputs": []
    },
    {
      "cell_type": "code",
      "metadata": {
        "scrolled": true,
        "id": "tG0vcRPZ0jzI",
        "outputId": "82a77136-e819-4b85-873e-9a440ec64da3"
      },
      "source": [
        "model.fit(X_train_scaled, y_train, epochs=2,\n",
        "          validation_data=(X_valid_scaled, y_valid))"
      ],
      "execution_count": null,
      "outputs": [
        {
          "output_type": "stream",
          "text": [
            "Epoch 1/2\n",
            "363/363 [==============================] - 1s 1ms/step - loss: 0.2318 - mae: 0.4979 - val_loss: 0.2540 - val_mae: 0.4907\n",
            "Epoch 2/2\n",
            "363/363 [==============================] - 0s 749us/step - loss: 0.2309 - mae: 0.4960 - val_loss: 0.2372 - val_mae: 0.4879\n"
          ],
          "name": "stdout"
        },
        {
          "output_type": "execute_result",
          "data": {
            "text/plain": [
              "<tensorflow.python.keras.callbacks.History at 0x7fbfd8c969d0>"
            ]
          },
          "metadata": {
            "tags": []
          },
          "execution_count": 71
        }
      ]
    },
    {
      "cell_type": "code",
      "metadata": {
        "id": "OJCgTc5k0jzI"
      },
      "source": [
        "model.save(\"my_model_with_a_custom_loss_threshold_2.h5\")"
      ],
      "execution_count": null,
      "outputs": []
    },
    {
      "cell_type": "code",
      "metadata": {
        "id": "eXiqcFwx0jzI"
      },
      "source": [
        "model = keras.models.load_model(\"my_model_with_a_custom_loss_threshold_2.h5\",\n",
        "                                custom_objects={\"huber_fn\": create_huber(2.0)})"
      ],
      "execution_count": null,
      "outputs": []
    },
    {
      "cell_type": "code",
      "metadata": {
        "id": "OpnqbbSV0jzI",
        "outputId": "eacc887e-b057-46a6-c945-86b7951dddc9"
      },
      "source": [
        "model.fit(X_train_scaled, y_train, epochs=2,\n",
        "          validation_data=(X_valid_scaled, y_valid))"
      ],
      "execution_count": null,
      "outputs": [
        {
          "output_type": "stream",
          "text": [
            "Epoch 1/2\n",
            "363/363 [==============================] - 1s 1ms/step - loss: 0.2147 - mae: 0.4800 - val_loss: 0.2133 - val_mae: 0.4654\n",
            "Epoch 2/2\n",
            "363/363 [==============================] - 0s 763us/step - loss: 0.2119 - mae: 0.4762 - val_loss: 0.1992 - val_mae: 0.4643\n"
          ],
          "name": "stdout"
        },
        {
          "output_type": "execute_result",
          "data": {
            "text/plain": [
              "<tensorflow.python.keras.callbacks.History at 0x7fbff7a0a590>"
            ]
          },
          "metadata": {
            "tags": []
          },
          "execution_count": 74
        }
      ]
    },
    {
      "cell_type": "code",
      "metadata": {
        "id": "g3mm6EsM0jzI"
      },
      "source": [
        "class HuberLoss(keras.losses.Loss):\n",
        "    def __init__(self, threshold=1.0, **kwargs):\n",
        "        self.threshold = threshold\n",
        "        super().__init__(**kwargs)\n",
        "    def call(self, y_true, y_pred):\n",
        "        error = y_true - y_pred\n",
        "        is_small_error = tf.abs(error) < self.threshold\n",
        "        squared_loss = tf.square(error) / 2\n",
        "        linear_loss  = self.threshold * tf.abs(error) - self.threshold**2 / 2\n",
        "        return tf.where(is_small_error, squared_loss, linear_loss)\n",
        "    def get_config(self):\n",
        "        base_config = super().get_config()\n",
        "        return {**base_config, \"threshold\": self.threshold}"
      ],
      "execution_count": null,
      "outputs": []
    },
    {
      "cell_type": "markdown",
      "metadata": {
        "id": "KZwWZNJvIntg"
      },
      "source": [
        "The constructor accepts **kwargs and passes them to the parent constructor,\n",
        "which handles standard hyperparameters: \n",
        "  the name of the loss and the reduction algorithm to use to aggregate the individual instance losses. \n",
        "  \n",
        "By default, it is\n",
        "\"sum_over_batch_size\", which means that the loss will be the sum of the\n",
        "instance losses, weighted by the sample weights, if any, and divided by the batch\n",
        "size (not by the sum of weights, so this is not the weighted mean).\n",
        "\n",
        " Other possible values are \"sum\" and \"none\".\n",
        "\n",
        "\n",
        "• The call() method takes the labels and predictions, computes all the instance\n",
        "losses, and returns them.\n",
        "\n",
        "\n",
        "• The get_config() method returns a dictionary mapping each hyperparameter\n",
        "name to its value. It first calls the parent class’s get_config() method, then adds\n",
        "the new hyperparameters to this dictionary (note that the convenient {**x} syntax\n",
        "was added in Python 3.5).\n"
      ]
    },
    {
      "cell_type": "code",
      "metadata": {
        "id": "rfIihwdj0jzJ"
      },
      "source": [
        "model = keras.models.Sequential([\n",
        "    keras.layers.Dense(30, activation=\"selu\", kernel_initializer=\"lecun_normal\",\n",
        "                       input_shape=input_shape),\n",
        "    keras.layers.Dense(1),\n",
        "])"
      ],
      "execution_count": null,
      "outputs": []
    },
    {
      "cell_type": "code",
      "metadata": {
        "id": "GGcZLZ6n0jzJ"
      },
      "source": [
        "model.compile(loss=HuberLoss(2.), optimizer=\"nadam\", metrics=[\"mae\"])"
      ],
      "execution_count": null,
      "outputs": []
    },
    {
      "cell_type": "code",
      "metadata": {
        "id": "7Ll2285_0jzJ",
        "outputId": "cc3006ce-0068-4ad1-89ee-82aedde3e892"
      },
      "source": [
        "model.fit(X_train_scaled, y_train, epochs=2,\n",
        "          validation_data=(X_valid_scaled, y_valid))"
      ],
      "execution_count": null,
      "outputs": [
        {
          "output_type": "stream",
          "text": [
            "Epoch 1/2\n",
            "363/363 [==============================] - 1s 1ms/step - loss: 1.3123 - mae: 1.3345 - val_loss: 0.3378 - val_mae: 0.5485\n",
            "Epoch 2/2\n",
            "363/363 [==============================] - 0s 760us/step - loss: 0.2659 - mae: 0.5270 - val_loss: 0.2660 - val_mae: 0.5089\n"
          ],
          "name": "stdout"
        },
        {
          "output_type": "execute_result",
          "data": {
            "text/plain": [
              "<tensorflow.python.keras.callbacks.History at 0x7fbfe06dad50>"
            ]
          },
          "metadata": {
            "tags": []
          },
          "execution_count": 78
        }
      ]
    },
    {
      "cell_type": "code",
      "metadata": {
        "id": "Ig_Xht5Z0jzK"
      },
      "source": [
        "model.save(\"my_model_with_a_custom_loss_class.h5\")"
      ],
      "execution_count": null,
      "outputs": []
    },
    {
      "cell_type": "markdown",
      "metadata": {
        "id": "-LnNQTyTJJCM"
      },
      "source": [
        "When you save the model, the threshold will be saved along with it; and when you\n",
        "load the model, you just need to map the class name to the class itself:"
      ]
    },
    {
      "cell_type": "code",
      "metadata": {
        "id": "BR-dPAIo0jzK"
      },
      "source": [
        "model = keras.models.load_model(\"my_model_with_a_custom_loss_class.h5\",\n",
        "                                custom_objects={\"HuberLoss\": HuberLoss})"
      ],
      "execution_count": null,
      "outputs": []
    },
    {
      "cell_type": "markdown",
      "metadata": {
        "id": "bgAPuaYh0jzK"
      },
      "source": [
        "## Other Custom Functions"
      ]
    },
    {
      "cell_type": "code",
      "metadata": {
        "id": "pT-2ozQ_0jzL"
      },
      "source": [
        "keras.backend.clear_session()\n",
        "np.random.seed(42)\n",
        "tf.random.set_seed(42)"
      ],
      "execution_count": null,
      "outputs": []
    },
    {
      "cell_type": "code",
      "metadata": {
        "id": "zjyAGKqt0jzL"
      },
      "source": [
        "def my_softplus(z): # return value is just tf.nn.softplus(z)\n",
        "    return tf.math.log(tf.exp(z) + 1.0)\n",
        "\n",
        "def my_glorot_initializer(shape, dtype=tf.float32):\n",
        "    stddev = tf.sqrt(2. / (shape[0] + shape[1]))\n",
        "    return tf.random.normal(shape, stddev=stddev, dtype=dtype)\n",
        "\n",
        "def my_l1_regularizer(weights):\n",
        "    return tf.reduce_sum(tf.abs(0.01 * weights))\n",
        "\n",
        "def my_positive_weights(weights): # return value is just tf.nn.relu(weights)\n",
        "    return tf.where(weights < 0., tf.zeros_like(weights), weights)"
      ],
      "execution_count": null,
      "outputs": []
    },
    {
      "cell_type": "code",
      "metadata": {
        "id": "WHsg3SeP0jzL"
      },
      "source": [
        "layer = keras.layers.Dense(1, activation=my_softplus,\n",
        "                           kernel_initializer=my_glorot_initializer,\n",
        "                           kernel_regularizer=my_l1_regularizer,\n",
        "                           kernel_constraint=my_positive_weights)"
      ],
      "execution_count": null,
      "outputs": []
    },
    {
      "cell_type": "code",
      "metadata": {
        "id": "p5Sgslh10jzL"
      },
      "source": [
        "keras.backend.clear_session()\n",
        "np.random.seed(42)\n",
        "tf.random.set_seed(42)"
      ],
      "execution_count": null,
      "outputs": []
    },
    {
      "cell_type": "code",
      "metadata": {
        "id": "0Msc6ioF0jzL"
      },
      "source": [
        "model = keras.models.Sequential([\n",
        "    keras.layers.Dense(30, activation=\"selu\", kernel_initializer=\"lecun_normal\",\n",
        "                       input_shape=input_shape),\n",
        "    keras.layers.Dense(1, activation=my_softplus,\n",
        "                       kernel_regularizer=my_l1_regularizer,\n",
        "                       kernel_constraint=my_positive_weights,\n",
        "                       kernel_initializer=my_glorot_initializer),\n",
        "])"
      ],
      "execution_count": null,
      "outputs": []
    },
    {
      "cell_type": "code",
      "metadata": {
        "id": "Ty9G9TD90jzM"
      },
      "source": [
        "model.compile(loss=\"mse\", optimizer=\"nadam\", metrics=[\"mae\"])"
      ],
      "execution_count": null,
      "outputs": []
    },
    {
      "cell_type": "markdown",
      "metadata": {
        "id": "AKaJt3xvKUWM"
      },
      "source": [
        "If a function has hyperparameters that need to be saved along with the model, then\n",
        "you will want to subclass the appropriate class, such as keras.regularizers.Regular\n",
        "izer, keras.constraints.Constraint, keras.initializers.Initializer, or\n",
        "keras.layers.Layer (for any layer, including activation functions)."
      ]
    },
    {
      "cell_type": "code",
      "metadata": {
        "id": "ZE7NLR0J0jzM",
        "outputId": "df1c7a21-d24e-4cce-eff5-e9e90f8319b6"
      },
      "source": [
        "model.fit(X_train_scaled, y_train, epochs=2,\n",
        "          validation_data=(X_valid_scaled, y_valid))"
      ],
      "execution_count": null,
      "outputs": [
        {
          "output_type": "stream",
          "text": [
            "Epoch 1/2\n",
            "363/363 [==============================] - 1s 1ms/step - loss: 2.3829 - mae: 1.1635 - val_loss: 1.4154 - val_mae: 0.5607\n",
            "Epoch 2/2\n",
            "363/363 [==============================] - 0s 757us/step - loss: 0.6299 - mae: 0.5410 - val_loss: 1.4399 - val_mae: 0.5137\n"
          ],
          "name": "stdout"
        },
        {
          "output_type": "execute_result",
          "data": {
            "text/plain": [
              "<tensorflow.python.keras.callbacks.History at 0x7fbfd8e49690>"
            ]
          },
          "metadata": {
            "tags": []
          },
          "execution_count": 89
        }
      ]
    },
    {
      "cell_type": "code",
      "metadata": {
        "id": "MZs3ZHRp0jzM"
      },
      "source": [
        "model.save(\"my_model_with_many_custom_parts.h5\")"
      ],
      "execution_count": null,
      "outputs": []
    },
    {
      "cell_type": "code",
      "metadata": {
        "id": "oJF6QhwI0jzM"
      },
      "source": [
        "model = keras.models.load_model(\n",
        "    \"my_model_with_many_custom_parts.h5\",\n",
        "    custom_objects={\n",
        "       \"my_l1_regularizer\": my_l1_regularizer,\n",
        "       \"my_positive_weights\": my_positive_weights,\n",
        "       \"my_glorot_initializer\": my_glorot_initializer,\n",
        "       \"my_softplus\": my_softplus,\n",
        "    })"
      ],
      "execution_count": null,
      "outputs": []
    },
    {
      "cell_type": "code",
      "metadata": {
        "id": "6FIoz3tj0jzM"
      },
      "source": [
        "class MyL1Regularizer(keras.regularizers.Regularizer):\n",
        "    def __init__(self, factor):\n",
        "        self.factor = factor\n",
        "    def __call__(self, weights):\n",
        "        return tf.reduce_sum(tf.abs(self.factor * weights))\n",
        "    def get_config(self):\n",
        "        return {\"factor\": self.factor}"
      ],
      "execution_count": null,
      "outputs": []
    },
    {
      "cell_type": "code",
      "metadata": {
        "id": "toZcVEkS0jzN"
      },
      "source": [
        "keras.backend.clear_session()\n",
        "np.random.seed(42)\n",
        "tf.random.set_seed(42)"
      ],
      "execution_count": null,
      "outputs": []
    },
    {
      "cell_type": "code",
      "metadata": {
        "id": "81F_cX-h0jzN"
      },
      "source": [
        "model = keras.models.Sequential([\n",
        "    keras.layers.Dense(30, activation=\"selu\", kernel_initializer=\"lecun_normal\",\n",
        "                       input_shape=input_shape),\n",
        "    keras.layers.Dense(1, activation=my_softplus,\n",
        "                       kernel_regularizer=MyL1Regularizer(0.01),\n",
        "                       kernel_constraint=my_positive_weights,\n",
        "                       kernel_initializer=my_glorot_initializer),\n",
        "])"
      ],
      "execution_count": null,
      "outputs": []
    },
    {
      "cell_type": "code",
      "metadata": {
        "id": "seytI0WJ0jzN"
      },
      "source": [
        "model.compile(loss=\"mse\", optimizer=\"nadam\", metrics=[\"mae\"])"
      ],
      "execution_count": null,
      "outputs": []
    },
    {
      "cell_type": "code",
      "metadata": {
        "id": "jez2jiw50jzN",
        "outputId": "3b96573a-d0ee-42d5-e4d5-bc24856c086e"
      },
      "source": [
        "model.fit(X_train_scaled, y_train, epochs=2,\n",
        "          validation_data=(X_valid_scaled, y_valid))"
      ],
      "execution_count": null,
      "outputs": [
        {
          "output_type": "stream",
          "text": [
            "Epoch 1/2\n",
            "363/363 [==============================] - 1s 1ms/step - loss: 2.3829 - mae: 1.1635 - val_loss: 1.4154 - val_mae: 0.5607\n",
            "Epoch 2/2\n",
            "363/363 [==============================] - 0s 757us/step - loss: 0.6299 - mae: 0.5410 - val_loss: 1.4399 - val_mae: 0.5137\n"
          ],
          "name": "stdout"
        },
        {
          "output_type": "execute_result",
          "data": {
            "text/plain": [
              "<tensorflow.python.keras.callbacks.History at 0x7fbfd90141d0>"
            ]
          },
          "metadata": {
            "tags": []
          },
          "execution_count": 96
        }
      ]
    },
    {
      "cell_type": "code",
      "metadata": {
        "id": "HHw1T2Ld0jzN"
      },
      "source": [
        "model.save(\"my_model_with_many_custom_parts.h5\")"
      ],
      "execution_count": null,
      "outputs": []
    },
    {
      "cell_type": "code",
      "metadata": {
        "id": "tbqkjYU50jzN"
      },
      "source": [
        "model = keras.models.load_model(\n",
        "    \"my_model_with_many_custom_parts.h5\",\n",
        "    custom_objects={\n",
        "       \"MyL1Regularizer\": MyL1Regularizer,\n",
        "       \"my_positive_weights\": my_positive_weights,\n",
        "       \"my_glorot_initializer\": my_glorot_initializer,\n",
        "       \"my_softplus\": my_softplus,\n",
        "    })"
      ],
      "execution_count": null,
      "outputs": []
    },
    {
      "cell_type": "code",
      "metadata": {
        "id": "Wu_s_uA_0jzK",
        "outputId": "b7cd1408-27e1-4abb-abb7-a3edfbbfe98d"
      },
      "source": [
        "model.fit(X_train_scaled, y_train, epochs=2,\n",
        "          validation_data=(X_valid_scaled, y_valid))"
      ],
      "execution_count": null,
      "outputs": [
        {
          "output_type": "stream",
          "text": [
            "Epoch 1/2\n",
            "363/363 [==============================] - 1s 966us/step - loss: 0.2286 - mae: 0.4970 - val_loss: 0.2120 - val_mae: 0.4723\n",
            "Epoch 2/2\n",
            "363/363 [==============================] - 0s 757us/step - loss: 0.2216 - mae: 0.4904 - val_loss: 0.2045 - val_mae: 0.4725\n"
          ],
          "name": "stdout"
        },
        {
          "output_type": "execute_result",
          "data": {
            "text/plain": [
              "<tensorflow.python.keras.callbacks.History at 0x7fbfb0630d50>"
            ]
          },
          "metadata": {
            "tags": []
          },
          "execution_count": 81
        }
      ]
    },
    {
      "cell_type": "code",
      "metadata": {
        "id": "o4WZchQn0jzK",
        "outputId": "71eb5fdb-89b0-449e-9a60-933b67d532f9"
      },
      "source": [
        "model.loss.threshold"
      ],
      "execution_count": null,
      "outputs": [
        {
          "output_type": "execute_result",
          "data": {
            "text/plain": [
              "2.0"
            ]
          },
          "metadata": {
            "tags": []
          },
          "execution_count": 82
        }
      ]
    },
    {
      "cell_type": "markdown",
      "metadata": {
        "id": "sc5N-bzz0jzO"
      },
      "source": [
        "## Custom Metrics"
      ]
    },
    {
      "cell_type": "code",
      "metadata": {
        "id": "-t_AywoE0jzO"
      },
      "source": [
        "keras.backend.clear_session()\n",
        "np.random.seed(42)\n",
        "tf.random.set_seed(42)"
      ],
      "execution_count": null,
      "outputs": []
    },
    {
      "cell_type": "code",
      "metadata": {
        "id": "IsJOoPDL0jzO"
      },
      "source": [
        "model = keras.models.Sequential([\n",
        "    keras.layers.Dense(30, activation=\"selu\", kernel_initializer=\"lecun_normal\",\n",
        "                       input_shape=input_shape),\n",
        "    keras.layers.Dense(1),\n",
        "])"
      ],
      "execution_count": null,
      "outputs": []
    },
    {
      "cell_type": "code",
      "metadata": {
        "id": "to9TH7JE0jzO"
      },
      "source": [
        "model.compile(loss=\"mse\", optimizer=\"nadam\", metrics=[create_huber(2.0)])"
      ],
      "execution_count": null,
      "outputs": []
    },
    {
      "cell_type": "code",
      "metadata": {
        "id": "Edc_LDYV0jzO",
        "outputId": "99f0c806-f72e-4799-aaa5-caffa7116c8c"
      },
      "source": [
        "model.fit(X_train_scaled, y_train, epochs=2)"
      ],
      "execution_count": null,
      "outputs": [
        {
          "output_type": "stream",
          "text": [
            "Epoch 1/2\n",
            "363/363 [==============================] - 1s 572us/step - loss: 3.5903 - huber_fn: 1.5558\n",
            "Epoch 2/2\n",
            "363/363 [==============================] - 0s 552us/step - loss: 0.8054 - huber_fn: 0.3095\n"
          ],
          "name": "stdout"
        },
        {
          "output_type": "execute_result",
          "data": {
            "text/plain": [
              "<tensorflow.python.keras.callbacks.History at 0x7fbff7cbe850>"
            ]
          },
          "metadata": {
            "tags": []
          },
          "execution_count": 102
        }
      ]
    },
    {
      "cell_type": "markdown",
      "metadata": {
        "id": "F4oQjhmK0jzP"
      },
      "source": [
        "**Note**: if you use the same function as the loss and a metric, you may be surprised to see different results. This is generally just due to floating point precision errors: even though the mathematical equations are equivalent, the operations are not run in the same order, which can lead to small differences. Moreover, when using sample weights, there's more than just precision errors:\n",
        "* the loss since the start of the epoch is the mean of all batch losses seen so far. Each batch loss is the sum of the weighted instance losses divided by the _batch size_ (not the sum of weights, so the batch loss is _not_ the weighted mean of the losses).\n",
        "* the metric since the start of the epoch is equal to the sum of weighted instance losses divided by sum of all weights seen so far. In other words, it is the weighted mean of all the instance losses. Not the same thing.\n",
        "\n",
        "If you do the math, you will find that loss = metric * mean of sample weights (plus some floating point precision error)."
      ]
    },
    {
      "cell_type": "code",
      "metadata": {
        "id": "GZ_Ra1Na0jzP"
      },
      "source": [
        "model.compile(loss=create_huber(2.0), optimizer=\"nadam\", metrics=[create_huber(2.0)])"
      ],
      "execution_count": null,
      "outputs": []
    },
    {
      "cell_type": "code",
      "metadata": {
        "id": "qw5ayWn20jzP",
        "outputId": "6c6a7d3d-5e96-4652-ab11-6f0e1bbdf899"
      },
      "source": [
        "sample_weight = np.random.rand(len(y_train))\n",
        "history = model.fit(X_train_scaled, y_train, epochs=2, sample_weight=sample_weight)"
      ],
      "execution_count": null,
      "outputs": [
        {
          "output_type": "stream",
          "text": [
            "Epoch 1/2\n",
            "363/363 [==============================] - 1s 598us/step - loss: 0.1245 - huber_fn: 0.2515\n",
            "Epoch 2/2\n",
            "363/363 [==============================] - 0s 558us/step - loss: 0.1216 - huber_fn: 0.2473\n"
          ],
          "name": "stdout"
        }
      ]
    },
    {
      "cell_type": "code",
      "metadata": {
        "id": "xmFRtUii0jzP",
        "outputId": "a0503c10-85f3-4240-ebf3-ab2901b5bdb1"
      },
      "source": [
        "history.history[\"loss\"][0], history.history[\"huber_fn\"][0] * sample_weight.mean()"
      ],
      "execution_count": null,
      "outputs": [
        {
          "output_type": "execute_result",
          "data": {
            "text/plain": [
              "(0.11749906837940216, 0.11906625573138947)"
            ]
          },
          "metadata": {
            "tags": []
          },
          "execution_count": 105
        }
      ]
    },
    {
      "cell_type": "markdown",
      "metadata": {
        "id": "9w5MQz280jzQ"
      },
      "source": [
        "### Streaming metrics"
      ]
    },
    {
      "cell_type": "code",
      "metadata": {
        "id": "pG8qJXHo0jzQ",
        "outputId": "314f4fbf-c03b-48c1-be77-4d40dccfa1c1"
      },
      "source": [
        "precision = keras.metrics.Precision()\n",
        "precision([0, 1, 1, 1, 0, 1, 0, 1], [1, 1, 0, 1, 0, 1, 0, 1])"
      ],
      "execution_count": null,
      "outputs": [
        {
          "output_type": "execute_result",
          "data": {
            "text/plain": [
              "<tf.Tensor: shape=(), dtype=float32, numpy=0.8>"
            ]
          },
          "metadata": {
            "tags": []
          },
          "execution_count": 106
        }
      ]
    },
    {
      "cell_type": "code",
      "metadata": {
        "id": "e0u0KWFu0jzQ",
        "outputId": "81caf954-77f8-4cb0-c066-72fa561e0b16"
      },
      "source": [
        "precision([0, 1, 0, 0, 1, 0, 1, 1], [1, 0, 1, 1, 0, 0, 0, 0])"
      ],
      "execution_count": null,
      "outputs": [
        {
          "output_type": "execute_result",
          "data": {
            "text/plain": [
              "<tf.Tensor: shape=(), dtype=float32, numpy=0.5>"
            ]
          },
          "metadata": {
            "tags": []
          },
          "execution_count": 107
        }
      ]
    },
    {
      "cell_type": "code",
      "metadata": {
        "id": "ipB7qDZL0jzR",
        "outputId": "22ba90c1-e6a7-4f6e-f032-56d3836fb043"
      },
      "source": [
        "precision.result()"
      ],
      "execution_count": null,
      "outputs": [
        {
          "output_type": "execute_result",
          "data": {
            "text/plain": [
              "<tf.Tensor: shape=(), dtype=float32, numpy=0.5>"
            ]
          },
          "metadata": {
            "tags": []
          },
          "execution_count": 108
        }
      ]
    },
    {
      "cell_type": "code",
      "metadata": {
        "id": "IPoq6Q1N0jzR",
        "outputId": "8c39f006-0563-48e6-ca43-9b4154efc995"
      },
      "source": [
        "precision.variables"
      ],
      "execution_count": null,
      "outputs": [
        {
          "output_type": "execute_result",
          "data": {
            "text/plain": [
              "[<tf.Variable 'true_positives:0' shape=(1,) dtype=float32, numpy=array([4.], dtype=float32)>,\n",
              " <tf.Variable 'false_positives:0' shape=(1,) dtype=float32, numpy=array([4.], dtype=float32)>]"
            ]
          },
          "metadata": {
            "tags": []
          },
          "execution_count": 109
        }
      ]
    },
    {
      "cell_type": "code",
      "metadata": {
        "id": "iI0QXVU90jzR"
      },
      "source": [
        "precision.reset_states()"
      ],
      "execution_count": null,
      "outputs": []
    },
    {
      "cell_type": "markdown",
      "metadata": {
        "id": "CKYrEjCr0jzR"
      },
      "source": [
        "Creating a streaming metric:"
      ]
    },
    {
      "cell_type": "code",
      "metadata": {
        "id": "4tzb8xa60jzR"
      },
      "source": [
        "class HuberMetric(keras.metrics.Metric):\n",
        "    def __init__(self, threshold=1.0, **kwargs):\n",
        "        super().__init__(**kwargs) # handles base args (e.g., dtype)\n",
        "        self.threshold = threshold\n",
        "        self.huber_fn = create_huber(threshold)\n",
        "        self.total = self.add_weight(\"total\", initializer=\"zeros\")\n",
        "        self.count = self.add_weight(\"count\", initializer=\"zeros\")\n",
        "    def update_state(self, y_true, y_pred, sample_weight=None):\n",
        "        metric = self.huber_fn(y_true, y_pred)\n",
        "        self.total.assign_add(tf.reduce_sum(metric))\n",
        "        self.count.assign_add(tf.cast(tf.size(y_true), tf.float32))\n",
        "    def result(self):\n",
        "        return self.total / self.count\n",
        "    def get_config(self):\n",
        "        base_config = super().get_config()\n",
        "        return {**base_config, \"threshold\": self.threshold}"
      ],
      "execution_count": null,
      "outputs": []
    },
    {
      "cell_type": "code",
      "metadata": {
        "id": "tbM5NNqy0jzS",
        "outputId": "1116fee1-1203-46e7-ba22-2cd494a39a52"
      },
      "source": [
        "m = HuberMetric(2.)\n",
        "\n",
        "# total = 2 * |10 - 2| - 2²/2 = 14\n",
        "# count = 1\n",
        "# result = 14 / 1 = 14\n",
        "m(tf.constant([[2.]]), tf.constant([[10.]])) "
      ],
      "execution_count": null,
      "outputs": [
        {
          "output_type": "execute_result",
          "data": {
            "text/plain": [
              "<tf.Tensor: shape=(), dtype=float32, numpy=14.0>"
            ]
          },
          "metadata": {
            "tags": []
          },
          "execution_count": 112
        }
      ]
    },
    {
      "cell_type": "code",
      "metadata": {
        "id": "QrQ5WbB30jzS",
        "outputId": "87e8e0a7-255c-4d5f-deaa-bff2057c7095"
      },
      "source": [
        "# total = total + (|1 - 0|² / 2) + (2 * |9.25 - 5| - 2² / 2) = 14 + 7 = 21\n",
        "# count = count + 2 = 3\n",
        "# result = total / count = 21 / 3 = 7\n",
        "m(tf.constant([[0.], [5.]]), tf.constant([[1.], [9.25]]))\n",
        "\n",
        "m.result()"
      ],
      "execution_count": null,
      "outputs": [
        {
          "output_type": "execute_result",
          "data": {
            "text/plain": [
              "<tf.Tensor: shape=(), dtype=float32, numpy=7.0>"
            ]
          },
          "metadata": {
            "tags": []
          },
          "execution_count": 113
        }
      ]
    },
    {
      "cell_type": "code",
      "metadata": {
        "id": "2vMQ8spr0jzS",
        "outputId": "a9fbbee8-1089-44e3-ec9e-d27ed3821925"
      },
      "source": [
        "m.variables"
      ],
      "execution_count": null,
      "outputs": [
        {
          "output_type": "execute_result",
          "data": {
            "text/plain": [
              "[<tf.Variable 'total:0' shape=() dtype=float32, numpy=21.0>,\n",
              " <tf.Variable 'count:0' shape=() dtype=float32, numpy=3.0>]"
            ]
          },
          "metadata": {
            "tags": []
          },
          "execution_count": 114
        }
      ]
    },
    {
      "cell_type": "code",
      "metadata": {
        "id": "tfgqtLhJ0jzS",
        "outputId": "a64e1a85-d7c3-4cc4-d721-d5c0f9c38fc3"
      },
      "source": [
        "m.reset_states()\n",
        "m.variables"
      ],
      "execution_count": null,
      "outputs": [
        {
          "output_type": "execute_result",
          "data": {
            "text/plain": [
              "[<tf.Variable 'total:0' shape=() dtype=float32, numpy=0.0>,\n",
              " <tf.Variable 'count:0' shape=() dtype=float32, numpy=0.0>]"
            ]
          },
          "metadata": {
            "tags": []
          },
          "execution_count": 115
        }
      ]
    },
    {
      "cell_type": "markdown",
      "metadata": {
        "id": "wkg_APdh0jzS"
      },
      "source": [
        "Let's check that the `HuberMetric` class works well:"
      ]
    },
    {
      "cell_type": "code",
      "metadata": {
        "id": "4tJWhQPk0jzT"
      },
      "source": [
        "keras.backend.clear_session()\n",
        "np.random.seed(42)\n",
        "tf.random.set_seed(42)"
      ],
      "execution_count": null,
      "outputs": []
    },
    {
      "cell_type": "code",
      "metadata": {
        "id": "b3L-yi860jzT"
      },
      "source": [
        "model = keras.models.Sequential([\n",
        "    keras.layers.Dense(30, activation=\"selu\", kernel_initializer=\"lecun_normal\",\n",
        "                       input_shape=input_shape),\n",
        "    keras.layers.Dense(1),\n",
        "])"
      ],
      "execution_count": null,
      "outputs": []
    },
    {
      "cell_type": "code",
      "metadata": {
        "id": "gSo0vHXW0jzT"
      },
      "source": [
        "model.compile(loss=create_huber(2.0), optimizer=\"nadam\", metrics=[HuberMetric(2.0)])"
      ],
      "execution_count": null,
      "outputs": []
    },
    {
      "cell_type": "code",
      "metadata": {
        "id": "k-PjopJO0jzT",
        "outputId": "64d901a2-18f4-434a-aef1-29a47575fe22"
      },
      "source": [
        "model.fit(X_train_scaled.astype(np.float32), y_train.astype(np.float32), epochs=2)"
      ],
      "execution_count": null,
      "outputs": [
        {
          "output_type": "stream",
          "text": [
            "Epoch 1/2\n",
            "363/363 [==============================] - 1s 592us/step - loss: 1.5182 - huber_metric: 1.5182\n",
            "Epoch 2/2\n",
            "363/363 [==============================] - 0s 538us/step - loss: 0.2909 - huber_metric: 0.2909\n"
          ],
          "name": "stdout"
        },
        {
          "output_type": "execute_result",
          "data": {
            "text/plain": [
              "<tensorflow.python.keras.callbacks.History at 0x7fc000fdfbd0>"
            ]
          },
          "metadata": {
            "tags": []
          },
          "execution_count": 119
        }
      ]
    },
    {
      "cell_type": "code",
      "metadata": {
        "id": "kJXHqcEw0jzT"
      },
      "source": [
        "model.save(\"my_model_with_a_custom_metric.h5\")"
      ],
      "execution_count": null,
      "outputs": []
    },
    {
      "cell_type": "code",
      "metadata": {
        "id": "kfoH76PL0jzU"
      },
      "source": [
        "model = keras.models.load_model(\"my_model_with_a_custom_metric.h5\",\n",
        "                                custom_objects={\"huber_fn\": create_huber(2.0),\n",
        "                                                \"HuberMetric\": HuberMetric})"
      ],
      "execution_count": null,
      "outputs": []
    },
    {
      "cell_type": "code",
      "metadata": {
        "id": "-1GtPHnG0jzU",
        "outputId": "32b2c56b-8dd1-4179-a812-faf03a8ba3b3"
      },
      "source": [
        "model.fit(X_train_scaled.astype(np.float32), y_train.astype(np.float32), epochs=2)"
      ],
      "execution_count": null,
      "outputs": [
        {
          "output_type": "stream",
          "text": [
            "Epoch 1/2\n",
            "363/363 [==============================] - 0s 545us/step - loss: 0.2350 - huber_metric: 0.2350\n",
            "Epoch 2/2\n",
            "363/363 [==============================] - 0s 524us/step - loss: 0.2278 - huber_metric: 0.2278\n"
          ],
          "name": "stdout"
        },
        {
          "output_type": "execute_result",
          "data": {
            "text/plain": [
              "<tensorflow.python.keras.callbacks.History at 0x7fc0011c1a50>"
            ]
          },
          "metadata": {
            "tags": []
          },
          "execution_count": 122
        }
      ]
    },
    {
      "cell_type": "markdown",
      "metadata": {
        "id": "2L1_5Igj0jzU"
      },
      "source": [
        "**Warning**: In TF 2.2, tf.keras adds an extra first metric in `model.metrics` at position 0 (see [TF issue #38150](https://github.com/tensorflow/tensorflow/issues/38150)). This forces us to use `model.metrics[-1]` rather than `model.metrics[0]` to access the `HuberMetric`."
      ]
    },
    {
      "cell_type": "code",
      "metadata": {
        "id": "Nfak4mEq0jzU",
        "outputId": "e8379cb9-b000-4729-abf8-99b967c0856d"
      },
      "source": [
        "model.metrics[-1].threshold"
      ],
      "execution_count": null,
      "outputs": [
        {
          "output_type": "execute_result",
          "data": {
            "text/plain": [
              "2.0"
            ]
          },
          "metadata": {
            "tags": []
          },
          "execution_count": 123
        }
      ]
    },
    {
      "cell_type": "markdown",
      "metadata": {
        "id": "l6rhodM-0jzU"
      },
      "source": [
        "Looks like it works fine! More simply, we could have created the class like this:"
      ]
    },
    {
      "cell_type": "code",
      "metadata": {
        "id": "ey__-ght0jzV"
      },
      "source": [
        "class HuberMetric(keras.metrics.Mean):\n",
        "    def __init__(self, threshold=1.0, name='HuberMetric', dtype=None):\n",
        "        self.threshold = threshold\n",
        "        self.huber_fn = create_huber(threshold)\n",
        "        super().__init__(name=name, dtype=dtype)\n",
        "    def update_state(self, y_true, y_pred, sample_weight=None):\n",
        "        metric = self.huber_fn(y_true, y_pred)\n",
        "        super(HuberMetric, self).update_state(metric, sample_weight)\n",
        "    def get_config(self):\n",
        "        base_config = super().get_config()\n",
        "        return {**base_config, \"threshold\": self.threshold}        "
      ],
      "execution_count": null,
      "outputs": []
    },
    {
      "cell_type": "markdown",
      "metadata": {
        "id": "6x-C7XkR0jzV"
      },
      "source": [
        "This class handles shapes better, and it also supports sample weights."
      ]
    },
    {
      "cell_type": "code",
      "metadata": {
        "id": "USea1JP60jzV"
      },
      "source": [
        "keras.backend.clear_session()\n",
        "np.random.seed(42)\n",
        "tf.random.set_seed(42)"
      ],
      "execution_count": null,
      "outputs": []
    },
    {
      "cell_type": "code",
      "metadata": {
        "id": "h7G1XAAB0jzV"
      },
      "source": [
        "model = keras.models.Sequential([\n",
        "    keras.layers.Dense(30, activation=\"selu\", kernel_initializer=\"lecun_normal\",\n",
        "                       input_shape=input_shape),\n",
        "    keras.layers.Dense(1),\n",
        "])"
      ],
      "execution_count": null,
      "outputs": []
    },
    {
      "cell_type": "code",
      "metadata": {
        "id": "liAZWvDj0jzV"
      },
      "source": [
        "model.compile(loss=keras.losses.Huber(2.0), optimizer=\"nadam\", weighted_metrics=[HuberMetric(2.0)])"
      ],
      "execution_count": null,
      "outputs": []
    },
    {
      "cell_type": "code",
      "metadata": {
        "scrolled": true,
        "id": "QT-4ypdi0jzV",
        "outputId": "6c424f71-8936-4d9c-cb85-4b5eb98ed313"
      },
      "source": [
        "sample_weight = np.random.rand(len(y_train))\n",
        "history = model.fit(X_train_scaled.astype(np.float32), y_train.astype(np.float32),\n",
        "                    epochs=2, sample_weight=sample_weight)"
      ],
      "execution_count": null,
      "outputs": [
        {
          "output_type": "stream",
          "text": [
            "Epoch 1/2\n",
            "363/363 [==============================] - 1s 627us/step - loss: 0.7800 - HuberMetric: 1.5672\n",
            "Epoch 2/2\n",
            "363/363 [==============================] - 0s 607us/step - loss: 0.1462 - HuberMetric: 0.2939\n"
          ],
          "name": "stdout"
        }
      ]
    },
    {
      "cell_type": "code",
      "metadata": {
        "id": "XJR0oHX90jzW",
        "outputId": "46b9cb1a-af9b-40fc-8d1f-9f8dfc4a874c"
      },
      "source": [
        "history.history[\"loss\"][0], history.history[\"HuberMetric\"][0] * sample_weight.mean()"
      ],
      "execution_count": null,
      "outputs": [
        {
          "output_type": "execute_result",
          "data": {
            "text/plain": [
              "(0.44554394483566284, 0.44554404180100277)"
            ]
          },
          "metadata": {
            "tags": []
          },
          "execution_count": 129
        }
      ]
    },
    {
      "cell_type": "code",
      "metadata": {
        "id": "C4hmL7sz0jzW"
      },
      "source": [
        "model.save(\"my_model_with_a_custom_metric_v2.h5\")"
      ],
      "execution_count": null,
      "outputs": []
    },
    {
      "cell_type": "code",
      "metadata": {
        "id": "QkF_mr6C0jzW"
      },
      "source": [
        "model = keras.models.load_model(\"my_model_with_a_custom_metric_v2.h5\",\n",
        "                                custom_objects={\"HuberMetric\": HuberMetric})"
      ],
      "execution_count": null,
      "outputs": []
    },
    {
      "cell_type": "code",
      "metadata": {
        "id": "WT-aOGT10jzW",
        "outputId": "f313b4f9-a6e0-4a91-d1f2-aa204bb2f375"
      },
      "source": [
        "model.fit(X_train_scaled.astype(np.float32), y_train.astype(np.float32), epochs=2)"
      ],
      "execution_count": null,
      "outputs": [
        {
          "output_type": "stream",
          "text": [
            "Epoch 1/2\n",
            "363/363 [==============================] - 0s 578us/step - loss: 0.2377 - HuberMetric: 0.2377\n",
            "Epoch 2/2\n",
            "363/363 [==============================] - 0s 559us/step - loss: 0.2279 - HuberMetric: 0.2279\n"
          ],
          "name": "stdout"
        },
        {
          "output_type": "execute_result",
          "data": {
            "text/plain": [
              "<tensorflow.python.keras.callbacks.History at 0x7fbfb052b150>"
            ]
          },
          "metadata": {
            "tags": []
          },
          "execution_count": 132
        }
      ]
    },
    {
      "cell_type": "code",
      "metadata": {
        "scrolled": true,
        "id": "FDS86ovK0jzW",
        "outputId": "84ed3941-ff2c-431e-9c57-6b989af5ac15"
      },
      "source": [
        ""
      ],
      "execution_count": null,
      "outputs": [
        {
          "output_type": "execute_result",
          "data": {
            "text/plain": [
              "2.0"
            ]
          },
          "metadata": {
            "tags": []
          },
          "execution_count": 133
        }
      ]
    },
    {
      "cell_type": "markdown",
      "metadata": {
        "id": "EHBcmDHZ0jzX"
      },
      "source": [
        "## Custom Layers"
      ]
    },
    {
      "cell_type": "markdown",
      "metadata": {
        "id": "Tk3jjUVZPwdD"
      },
      "source": [
        "You may occasionally want to build an architecture that contains an exotic layer for\n",
        "which TensorFlow does not provide a default implementation. In this case, you will\n",
        "need to create a custom layer. Or you may simply want to build a very repetitive\n",
        "architecture, containing identical blocks of layers repeated many times, and it would\n",
        "be convenient to treat each block of layers as a single layer. For example, if the model\n",
        "is a sequence of layers A, B, C, A, B, C, A, B, C, then you might want to define a custom\n",
        "layer D containing layers A, B, C, so your model would then simply be D, D, D.\n",
        "Let’s see how to build custom layers"
      ]
    },
    {
      "cell_type": "markdown",
      "metadata": {
        "id": "YrCcHn8XP51E"
      },
      "source": [
        "Some layers have no weights, such as keras.layers.Flatten or keras.lay\n",
        "ers.ReLU. If you want to create a custom layer without any weights, the simplest\n",
        "option is to write a function and wrap it in a keras.layers.Lambda laye"
      ]
    },
    {
      "cell_type": "code",
      "metadata": {
        "id": "K9Q0lUN60jzX"
      },
      "source": [
        "exponential_layer = keras.layers.Lambda(lambda x: tf.exp(x))"
      ],
      "execution_count": null,
      "outputs": []
    },
    {
      "cell_type": "code",
      "metadata": {
        "id": "yYZ6jlax0jzX",
        "outputId": "3661c694-19d5-4eb0-bfcf-f6e01e1f56de"
      },
      "source": [
        "exponential_layer([-1., 0., 1.])"
      ],
      "execution_count": null,
      "outputs": [
        {
          "output_type": "execute_result",
          "data": {
            "text/plain": [
              "<tf.Tensor: shape=(3,), dtype=float32, numpy=array([0.36787945, 1.        , 2.7182817 ], dtype=float32)>"
            ]
          },
          "metadata": {
            "tags": []
          },
          "execution_count": 135
        }
      ]
    },
    {
      "cell_type": "markdown",
      "metadata": {
        "id": "pNYV12Qt0jzX"
      },
      "source": [
        "Adding an exponential layer at the output of a regression model can be useful if the values to predict are positive and with very different scales (e.g., 0.001, 10., 10000):"
      ]
    },
    {
      "cell_type": "code",
      "metadata": {
        "id": "hN_ia1Nd0jzX"
      },
      "source": [
        "keras.backend.clear_session()\n",
        "np.random.seed(42)\n",
        "tf.random.set_seed(42)"
      ],
      "execution_count": null,
      "outputs": []
    },
    {
      "cell_type": "code",
      "metadata": {
        "id": "F1Cq9Zgm0jzY",
        "outputId": "94a426dc-6c0f-45c1-cfe9-4cf5465e776c"
      },
      "source": [
        "model = keras.models.Sequential([\n",
        "    keras.layers.Dense(30, activation=\"relu\", input_shape=input_shape),\n",
        "    keras.layers.Dense(1),\n",
        "    exponential_layer\n",
        "])\n",
        "model.compile(loss=\"mse\", optimizer=\"sgd\")\n",
        "model.fit(X_train_scaled, y_train, epochs=5,\n",
        "          validation_data=(X_valid_scaled, y_valid))\n",
        "model.evaluate(X_test_scaled, y_test)"
      ],
      "execution_count": null,
      "outputs": [
        {
          "output_type": "stream",
          "text": [
            "Epoch 1/5\n",
            "363/363 [==============================] - 0s 828us/step - loss: 2.1275 - val_loss: 0.4457\n",
            "Epoch 2/5\n",
            "363/363 [==============================] - 0s 645us/step - loss: 0.4750 - val_loss: 0.3798\n",
            "Epoch 3/5\n",
            "363/363 [==============================] - 0s 656us/step - loss: 0.4230 - val_loss: 0.3548\n",
            "Epoch 4/5\n",
            "363/363 [==============================] - 0s 657us/step - loss: 0.3905 - val_loss: 0.3464\n",
            "Epoch 5/5\n",
            "363/363 [==============================] - 0s 664us/step - loss: 0.3784 - val_loss: 0.3449\n",
            "162/162 [==============================] - 0s 420us/step - loss: 0.3586\n"
          ],
          "name": "stdout"
        },
        {
          "output_type": "execute_result",
          "data": {
            "text/plain": [
              "0.3586340546607971"
            ]
          },
          "metadata": {
            "tags": []
          },
          "execution_count": 137
        }
      ]
    },
    {
      "cell_type": "code",
      "metadata": {
        "id": "8sX84iTU0jzY"
      },
      "source": [
        "class MyDense(keras.layers.Layer):\n",
        "    def __init__(self, units, activation=None, **kwargs):\n",
        "        super().__init__(**kwargs)\n",
        "        self.units = units\n",
        "        self.activation = keras.activations.get(activation)\n",
        "\n",
        "    def build(self, batch_input_shape):\n",
        "        self.kernel = self.add_weight(\n",
        "            name=\"kernel\", shape=[batch_input_shape[-1], self.units],\n",
        "            initializer=\"glorot_normal\")\n",
        "        self.bias = self.add_weight(\n",
        "            name=\"bias\", shape=[self.units], initializer=\"zeros\")\n",
        "        super().build(batch_input_shape) # must be at the end\n",
        "\n",
        "    def call(self, X):\n",
        "        return self.activation(X @ self.kernel + self.bias)\n",
        "\n",
        "    def compute_output_shape(self, batch_input_shape):\n",
        "        return tf.TensorShape(batch_input_shape.as_list()[:-1] + [self.units])\n",
        "\n",
        "    def get_config(self):\n",
        "        base_config = super().get_config()\n",
        "        return {**base_config, \"units\": self.units,\n",
        "                \"activation\": keras.activations.serialize(self.activation)}"
      ],
      "execution_count": null,
      "outputs": []
    },
    {
      "cell_type": "code",
      "metadata": {
        "id": "6Ef5glWZ0jzY"
      },
      "source": [
        "keras.backend.clear_session()\n",
        "np.random.seed(42)\n",
        "tf.random.set_seed(42)"
      ],
      "execution_count": null,
      "outputs": []
    },
    {
      "cell_type": "code",
      "metadata": {
        "id": "FqgudWS60jzY"
      },
      "source": [
        "model = keras.models.Sequential([\n",
        "    MyDense(30, activation=\"relu\", input_shape=input_shape),\n",
        "    MyDense(1)\n",
        "])"
      ],
      "execution_count": null,
      "outputs": []
    },
    {
      "cell_type": "code",
      "metadata": {
        "id": "C5AksI5B0jzY",
        "outputId": "cdda9f33-f0d5-4532-d179-d49dbe6ce5fe"
      },
      "source": [
        "model.compile(loss=\"mse\", optimizer=\"nadam\")\n",
        "model.fit(X_train_scaled, y_train, epochs=2,\n",
        "          validation_data=(X_valid_scaled, y_valid))\n",
        "model.evaluate(X_test_scaled, y_test)"
      ],
      "execution_count": null,
      "outputs": [
        {
          "output_type": "stream",
          "text": [
            "Epoch 1/2\n",
            "363/363 [==============================] - 1s 898us/step - loss: 4.1268 - val_loss: 0.9472\n",
            "Epoch 2/2\n",
            "363/363 [==============================] - 0s 707us/step - loss: 0.7086 - val_loss: 0.6219\n",
            "162/162 [==============================] - 0s 419us/step - loss: 0.5474\n"
          ],
          "name": "stdout"
        },
        {
          "output_type": "execute_result",
          "data": {
            "text/plain": [
              "0.5473727583885193"
            ]
          },
          "metadata": {
            "tags": []
          },
          "execution_count": 141
        }
      ]
    },
    {
      "cell_type": "code",
      "metadata": {
        "id": "olYGXoj_0jzZ"
      },
      "source": [
        "model.save(\"my_model_with_a_custom_layer.h5\")"
      ],
      "execution_count": null,
      "outputs": []
    },
    {
      "cell_type": "code",
      "metadata": {
        "id": "eLtzyz6G0jzZ"
      },
      "source": [
        "model = keras.models.load_model(\"my_model_with_a_custom_layer.h5\",\n",
        "                                custom_objects={\"MyDense\": MyDense})"
      ],
      "execution_count": null,
      "outputs": []
    },
    {
      "cell_type": "code",
      "metadata": {
        "id": "X-f7GMrb0jzZ"
      },
      "source": [
        "class MyMultiLayer(keras.layers.Layer):\n",
        "    def call(self, X):\n",
        "        X1, X2 = X\n",
        "        return X1 + X2, X1 * X2\n",
        "\n",
        "    def compute_output_shape(self, batch_input_shape):\n",
        "        batch_input_shape1, batch_input_shape2 = batch_input_shape\n",
        "        return [batch_input_shape1, batch_input_shape2]"
      ],
      "execution_count": null,
      "outputs": []
    },
    {
      "cell_type": "code",
      "metadata": {
        "id": "eW_7xIYs0jzZ"
      },
      "source": [
        "keras.backend.clear_session()\n",
        "np.random.seed(42)\n",
        "tf.random.set_seed(42)"
      ],
      "execution_count": null,
      "outputs": []
    },
    {
      "cell_type": "code",
      "metadata": {
        "id": "sNhnPvrF0jzZ"
      },
      "source": [
        "inputs1 = keras.layers.Input(shape=[2])\n",
        "inputs2 = keras.layers.Input(shape=[2])\n",
        "outputs1, outputs2 = MyMultiLayer()((inputs1, inputs2))"
      ],
      "execution_count": null,
      "outputs": []
    },
    {
      "cell_type": "markdown",
      "metadata": {
        "id": "RLzQwjhx0jzZ"
      },
      "source": [
        "Let's create a layer with a different behavior during training and testing:"
      ]
    },
    {
      "cell_type": "code",
      "metadata": {
        "id": "ighSsWIT0jza"
      },
      "source": [
        "class AddGaussianNoise(keras.layers.Layer):\n",
        "    def __init__(self, stddev, **kwargs):\n",
        "        super().__init__(**kwargs)\n",
        "        self.stddev = stddev\n",
        "\n",
        "    def call(self, X, training=None):\n",
        "        if training:\n",
        "            noise = tf.random.normal(tf.shape(X), stddev=self.stddev)\n",
        "            return X + noise\n",
        "        else:\n",
        "            return X\n",
        "\n",
        "    def compute_output_shape(self, batch_input_shape):\n",
        "        return batch_input_shape"
      ],
      "execution_count": null,
      "outputs": []
    },
    {
      "cell_type": "code",
      "metadata": {
        "id": "5XxyP6nO0jza",
        "outputId": "999e3b8e-16d0-47af-faea-8053f1f2d303"
      },
      "source": [
        "model.compile(loss=\"mse\", optimizer=\"nadam\")\n",
        "model.fit(X_train_scaled, y_train, epochs=2,\n",
        "          validation_data=(X_valid_scaled, y_valid))\n",
        "model.evaluate(X_test_scaled, y_test)"
      ],
      "execution_count": null,
      "outputs": [
        {
          "output_type": "stream",
          "text": [
            "Epoch 1/2\n",
            "363/363 [==============================] - 1s 899us/step - loss: 0.5496 - val_loss: 0.5329\n",
            "Epoch 2/2\n",
            "363/363 [==============================] - 0s 750us/step - loss: 0.4430 - val_loss: 0.4786\n",
            "162/162 [==============================] - 0s 420us/step - loss: 0.3990\n"
          ],
          "name": "stdout"
        },
        {
          "output_type": "execute_result",
          "data": {
            "text/plain": [
              "0.3990039527416229"
            ]
          },
          "metadata": {
            "tags": []
          },
          "execution_count": 148
        }
      ]
    },
    {
      "cell_type": "markdown",
      "metadata": {
        "id": "3H33eNJb0jza"
      },
      "source": [
        "## Custom Models"
      ]
    },
    {
      "cell_type": "code",
      "metadata": {
        "id": "MJW34nSK0jza"
      },
      "source": [
        "X_new_scaled = X_test_scaled"
      ],
      "execution_count": null,
      "outputs": []
    },
    {
      "cell_type": "markdown",
      "metadata": {
        "id": "inlojItvRe7s"
      },
      "source": [
        "Note that this model does not make much sense; it’s just an example to\n",
        "illustrate the fact that you can easily build any kind of model you want, even one that\n",
        "contains loops and skip connections.\n",
        "\n",
        "![image.png](data:image/png;base64,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)"
      ]
    },
    {
      "cell_type": "code",
      "metadata": {
        "id": "-EiCn7SI0jza"
      },
      "source": [
        "class ResidualBlock(keras.layers.Layer):\n",
        "    def __init__(self, n_layers, n_neurons, **kwargs):\n",
        "        super().__init__(**kwargs)\n",
        "        self.hidden = [keras.layers.Dense(n_neurons, activation=\"elu\",\n",
        "                                          kernel_initializer=\"he_normal\")\n",
        "                       for _ in range(n_layers)]\n",
        "\n",
        "    def call(self, inputs):\n",
        "        Z = inputs\n",
        "        for layer in self.hidden:\n",
        "            Z = layer(Z)\n",
        "        return inputs + Z"
      ],
      "execution_count": null,
      "outputs": []
    },
    {
      "cell_type": "code",
      "metadata": {
        "id": "z5w8unIt0jzb"
      },
      "source": [
        "class ResidualRegressor(keras.models.Model):\n",
        "    def __init__(self, output_dim, **kwargs):\n",
        "        super().__init__(**kwargs)\n",
        "        self.hidden1 = keras.layers.Dense(30, activation=\"elu\",\n",
        "                                          kernel_initializer=\"he_normal\")\n",
        "        self.block1 = ResidualBlock(2, 30)\n",
        "        self.block2 = ResidualBlock(2, 30)\n",
        "        self.out = keras.layers.Dense(output_dim)\n",
        "\n",
        "    def call(self, inputs):\n",
        "        Z = self.hidden1(inputs)\n",
        "        for _ in range(1 + 3):\n",
        "            Z = self.block1(Z)\n",
        "        Z = self.block2(Z)\n",
        "        return self.out(Z)"
      ],
      "execution_count": null,
      "outputs": []
    },
    {
      "cell_type": "code",
      "metadata": {
        "id": "XEvM8Hc60jzb"
      },
      "source": [
        "keras.backend.clear_session()\n",
        "np.random.seed(42)\n",
        "tf.random.set_seed(42)"
      ],
      "execution_count": null,
      "outputs": []
    },
    {
      "cell_type": "code",
      "metadata": {
        "id": "Qt8qNrE10jzb",
        "outputId": "c1d4f5a6-47bf-4df1-c046-198fa1352654"
      },
      "source": [
        "model = ResidualRegressor(1)\n",
        "model.compile(loss=\"mse\", optimizer=\"nadam\")\n",
        "history = model.fit(X_train_scaled, y_train, epochs=5)\n",
        "score = model.evaluate(X_test_scaled, y_test)\n",
        "y_pred = model.predict(X_new_scaled)"
      ],
      "execution_count": null,
      "outputs": [
        {
          "output_type": "stream",
          "text": [
            "Epoch 1/5\n",
            "363/363 [==============================] - 1s 837us/step - loss: 22.7478\n",
            "Epoch 2/5\n",
            "363/363 [==============================] - 0s 739us/step - loss: 1.2735\n",
            "Epoch 3/5\n",
            "363/363 [==============================] - 0s 737us/step - loss: 0.9792\n",
            "Epoch 4/5\n",
            "363/363 [==============================] - 0s 740us/step - loss: 0.5905\n",
            "Epoch 5/5\n",
            "363/363 [==============================] - 0s 739us/step - loss: 0.5544\n",
            "162/162 [==============================] - 0s 526us/step - loss: 0.6513\n"
          ],
          "name": "stdout"
        }
      ]
    },
    {
      "cell_type": "code",
      "metadata": {
        "id": "zhOK5imd0jzb",
        "outputId": "dd8f1166-7cdc-4f46-c8ae-70a30d55ff7f"
      },
      "source": [
        "model.save(\"my_custom_model.ckpt\")"
      ],
      "execution_count": null,
      "outputs": [
        {
          "output_type": "stream",
          "text": [
            "WARNING:absl:Found untraced functions such as dense_1_layer_call_and_return_conditional_losses, dense_1_layer_call_fn, dense_2_layer_call_and_return_conditional_losses, dense_2_layer_call_fn, dense_3_layer_call_and_return_conditional_losses while saving (showing 5 of 20). These functions will not be directly callable after loading.\n",
            "WARNING:absl:Found untraced functions such as dense_1_layer_call_and_return_conditional_losses, dense_1_layer_call_fn, dense_2_layer_call_and_return_conditional_losses, dense_2_layer_call_fn, dense_3_layer_call_and_return_conditional_losses while saving (showing 5 of 20). These functions will not be directly callable after loading.\n"
          ],
          "name": "stderr"
        },
        {
          "output_type": "stream",
          "text": [
            "INFO:tensorflow:Assets written to: my_custom_model.ckpt/assets\n"
          ],
          "name": "stdout"
        },
        {
          "output_type": "stream",
          "text": [
            "INFO:tensorflow:Assets written to: my_custom_model.ckpt/assets\n"
          ],
          "name": "stderr"
        }
      ]
    },
    {
      "cell_type": "code",
      "metadata": {
        "id": "3s3XYI4g0jzb"
      },
      "source": [
        "model = keras.models.load_model(\"my_custom_model.ckpt\")"
      ],
      "execution_count": null,
      "outputs": []
    },
    {
      "cell_type": "code",
      "metadata": {
        "id": "b6i04DbO0jzc",
        "outputId": "0180ddc0-bcc0-4810-be82-11b2064d3076"
      },
      "source": [
        "history = model.fit(X_train_scaled, y_train, epochs=5)"
      ],
      "execution_count": null,
      "outputs": [
        {
          "output_type": "stream",
          "text": [
            "Epoch 1/5\n",
            "363/363 [==============================] - 1s 851us/step - loss: 0.9476\n",
            "Epoch 2/5\n",
            "363/363 [==============================] - 0s 736us/step - loss: 0.6998\n",
            "Epoch 3/5\n",
            "363/363 [==============================] - 0s 737us/step - loss: 0.4668\n",
            "Epoch 4/5\n",
            "363/363 [==============================] - 0s 758us/step - loss: 0.4818\n",
            "Epoch 5/5\n",
            "363/363 [==============================] - 0s 756us/step - loss: 0.4591\n"
          ],
          "name": "stdout"
        }
      ]
    },
    {
      "cell_type": "markdown",
      "metadata": {
        "id": "E7BCew7x0jzc"
      },
      "source": [
        "We could have defined the model using the sequential API instead:"
      ]
    },
    {
      "cell_type": "code",
      "metadata": {
        "id": "GJp19sWl0jzc"
      },
      "source": [
        "keras.backend.clear_session()\n",
        "np.random.seed(42)\n",
        "tf.random.set_seed(42)"
      ],
      "execution_count": null,
      "outputs": []
    },
    {
      "cell_type": "code",
      "metadata": {
        "id": "PWh3CEEQ0jzc"
      },
      "source": [
        "block1 = ResidualBlock(2, 30)\n",
        "model = keras.models.Sequential([\n",
        "    keras.layers.Dense(30, activation=\"elu\", kernel_initializer=\"he_normal\"),\n",
        "    block1, block1, block1, block1,\n",
        "    ResidualBlock(2, 30),\n",
        "    keras.layers.Dense(1)\n",
        "])"
      ],
      "execution_count": null,
      "outputs": []
    },
    {
      "cell_type": "code",
      "metadata": {
        "id": "b3JlQgl_0jzc",
        "outputId": "ae4d7139-8e6d-47a0-c6bf-15f61f936424"
      },
      "source": [
        "model.compile(loss=\"mse\", optimizer=\"nadam\")\n",
        "history = model.fit(X_train_scaled, y_train, epochs=5)\n",
        "score = model.evaluate(X_test_scaled, y_test)\n",
        "y_pred = model.predict(X_new_scaled)"
      ],
      "execution_count": null,
      "outputs": [
        {
          "output_type": "stream",
          "text": [
            "Epoch 1/5\n",
            "363/363 [==============================] - 1s 709us/step - loss: 1.5508\n",
            "Epoch 2/5\n",
            "363/363 [==============================] - 0s 645us/step - loss: 0.5562\n",
            "Epoch 3/5\n",
            "363/363 [==============================] - 0s 625us/step - loss: 0.6406\n",
            "Epoch 4/5\n",
            "363/363 [==============================] - 0s 636us/step - loss: 0.3759\n",
            "Epoch 5/5\n",
            "363/363 [==============================] - 0s 623us/step - loss: 0.3875\n",
            "162/162 [==============================] - 0s 463us/step - loss: 0.4852\n"
          ],
          "name": "stdout"
        }
      ]
    },
    {
      "cell_type": "markdown",
      "metadata": {
        "id": "BUpNpICr5i-s"
      },
      "source": [
        "![image.png](data:image/png;base64,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)"
      ]
    }
  ]
}