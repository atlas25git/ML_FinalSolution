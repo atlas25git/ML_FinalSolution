{
  "nbformat": 4,
  "nbformat_minor": 0,
  "metadata": {
    "colab": {
      "name": "UnsupervisedLearning.ipynb",
      "provenance": []
    },
    "kernelspec": {
      "name": "python3",
      "display_name": "Python 3"
    },
    "language_info": {
      "name": "python"
    }
  },
  "cells": [
    {
      "cell_type": "code",
      "metadata": {
        "id": "Bd5yfakBAbK_"
      },
      "source": [
        ""
      ],
      "execution_count": null,
      "outputs": []
    },
    {
      "cell_type": "markdown",
      "metadata": {
        "id": "qdtWpJYlD3hM"
      },
      "source": [
        "**Chapter 9 – Unsupervised Learning**\n",
        "\n",
        "_This notebook contains all the sample code in chapter 9._"
      ]
    },
    {
      "cell_type": "markdown",
      "metadata": {
        "id": "E-TACN_fD3ha"
      },
      "source": [
        "# Setup"
      ]
    },
    {
      "cell_type": "markdown",
      "metadata": {
        "id": "w0jPF-djD3hb"
      },
      "source": [
        "First, let's import a few common modules, ensure MatplotLib plots figures inline and prepare a function to save the figures. We also check that Python 3.5 or later is installed (although Python 2.x may work, it is deprecated so we strongly recommend you use Python 3 instead), as well as Scikit-Learn ≥0.20."
      ]
    },
    {
      "cell_type": "code",
      "metadata": {
        "id": "9qjDnhmVD3hb"
      },
      "source": [
        "# Python ≥3.5 is required\n",
        "import sys\n",
        "assert sys.version_info >= (3, 5)\n",
        "\n",
        "# Scikit-Learn ≥0.20 is required\n",
        "import sklearn\n",
        "assert sklearn.__version__ >= \"0.20\"\n",
        "\n",
        "# Common imports\n",
        "import numpy as np\n",
        "import os\n",
        "\n",
        "# to make this notebook's output stable across runs\n",
        "np.random.seed(42)\n",
        "\n",
        "# To plot pretty figures\n",
        "%matplotlib inline\n",
        "import matplotlib as mpl\n",
        "import matplotlib.pyplot as plt\n",
        "mpl.rc('axes', labelsize=14)\n",
        "mpl.rc('xtick', labelsize=12)\n",
        "mpl.rc('ytick', labelsize=12)\n",
        "\n",
        "# Where to save the figures\n",
        "PROJECT_ROOT_DIR = \".\"\n",
        "CHAPTER_ID = \"unsupervised_learning\"\n",
        "IMAGES_PATH = os.path.join(PROJECT_ROOT_DIR, \"images\", CHAPTER_ID)\n",
        "os.makedirs(IMAGES_PATH, exist_ok=True)\n",
        "\n",
        "def save_fig(fig_id, tight_layout=True, fig_extension=\"png\", resolution=300):\n",
        "    path = os.path.join(IMAGES_PATH, fig_id + \".\" + fig_extension)\n",
        "    print(\"Saving figure\", fig_id)\n",
        "    if tight_layout:\n",
        "        plt.tight_layout()\n",
        "    plt.savefig(path, format=fig_extension, dpi=resolution)"
      ],
      "execution_count": 1,
      "outputs": []
    },
    {
      "cell_type": "markdown",
      "metadata": {
        "id": "Qp04Oyz8D3hc"
      },
      "source": [
        "# Clustering"
      ]
    },
    {
      "cell_type": "markdown",
      "metadata": {
        "id": "0LyTkDVUD3hd"
      },
      "source": [
        "## Introduction – Classification _vs_ Clustering"
      ]
    },
    {
      "cell_type": "code",
      "metadata": {
        "id": "_tOrZJ51D3hd"
      },
      "source": [
        "from sklearn.datasets import load_iris"
      ],
      "execution_count": 2,
      "outputs": []
    },
    {
      "cell_type": "code",
      "metadata": {
        "id": "vA6GrbTlD3hd",
        "colab": {
          "base_uri": "https://localhost:8080/"
        },
        "outputId": "e0d2aa8c-932d-4138-8092-cd44271227b3"
      },
      "source": [
        "data = load_iris()\n",
        "X = data.data\n",
        "y = data.target\n",
        "data.target_names"
      ],
      "execution_count": 3,
      "outputs": [
        {
          "output_type": "execute_result",
          "data": {
            "text/plain": [
              "array(['setosa', 'versicolor', 'virginica'], dtype='<U10')"
            ]
          },
          "metadata": {
            "tags": []
          },
          "execution_count": 3
        }
      ]
    },
    {
      "cell_type": "code",
      "metadata": {
        "id": "HW6k9VUDD3he",
        "colab": {
          "base_uri": "https://localhost:8080/",
          "height": 278
        },
        "outputId": "1875acd3-cc94-448b-b2d2-82dba07407b5"
      },
      "source": [
        "plt.figure(figsize=(9, 3.5))\n",
        "\n",
        "plt.subplot(121)\n",
        "plt.plot(X[y==0, 2], X[y==0, 3], \"yo\", label=\"Iris setosa\")\n",
        "plt.plot(X[y==1, 2], X[y==1, 3], \"bs\", label=\"Iris versicolor\")\n",
        "plt.plot(X[y==2, 2], X[y==2, 3], \"g^\", label=\"Iris virginica\")\n",
        "plt.xlabel(\"Petal length\", fontsize=14)\n",
        "plt.ylabel(\"Petal width\", fontsize=14)\n",
        "plt.legend(fontsize=12)\n",
        "\n",
        "plt.subplot(122)\n",
        "plt.scatter(X[:, 2], X[:, 3], c=\"k\", marker=\".\")\n",
        "plt.xlabel(\"Petal length\", fontsize=14)\n",
        "plt.tick_params(labelleft=False)\n",
        "\n",
        "save_fig(\"classification_vs_clustering_plot\")\n",
        "plt.show()"
      ],
      "execution_count": 4,
      "outputs": [
        {
          "output_type": "stream",
          "text": [
            "Saving figure classification_vs_clustering_plot\n"
          ],
          "name": "stdout"
        },
        {
          "output_type": "display_data",
          "data": {
            "image/png": "[encoded data removed]",
            "text/plain": [
              "<Figure size 648x252 with 2 Axes>"
            ]
          },
          "metadata": {
            "tags": [],
            "needs_background": "light"
          }
        }
      ]
    },
    {
      "cell_type": "markdown",
      "metadata": {
        "id": "xgzAIktjD3hf"
      },
      "source": [
        "A Gaussian mixture model (explained below) can actually separate these clusters pretty well (using all 4 features: petal length & width, and sepal length & width)."
      ]
    },
    {
      "cell_type": "code",
      "metadata": {
        "id": "KZk4R5FpD3hf"
      },
      "source": [
        "from sklearn.mixture import GaussianMixture"
      ],
      "execution_count": 5,
      "outputs": []
    },
    {
      "cell_type": "code",
      "metadata": {
        "id": "b7E4pOSzD3hg"
      },
      "source": [
        "y_pred = GaussianMixture(n_components=3, random_state=42).fit(X).predict(X)"
      ],
      "execution_count": 6,
      "outputs": []
    },
    {
      "cell_type": "markdown",
      "metadata": {
        "id": "s6djwpc3D3hg"
      },
      "source": [
        "Let's map each cluster to a class. Instead of hard coding the mapping (as is done in the book, for simplicity), we will pick the most common class for each cluster (using the `scipy.stats.mode()` function):"
      ]
    },
    {
      "cell_type": "code",
      "metadata": {
        "id": "k0io_1kXD3hg",
        "colab": {
          "base_uri": "https://localhost:8080/"
        },
        "outputId": "e534d858-0a6b-4d9f-ec8f-b16a50ef5a11"
      },
      "source": [
        "from scipy import stats\n",
        "\n",
        "mapping = {}\n",
        "for class_id in np.unique(y):\n",
        "    mode, _ = stats.mode(y_pred[y==class_id])\n",
        "    mapping[mode[0]] = class_id\n",
        "\n",
        "mapping"
      ],
      "execution_count": 7,
      "outputs": [
        {
          "output_type": "execute_result",
          "data": {
            "text/plain": [
              "{0: 1, 1: 2, 2: 0}"
            ]
          },
          "metadata": {
            "tags": []
          },
          "execution_count": 7
        }
      ]
    },
    {
      "cell_type": "code",
      "metadata": {
        "id": "QW2eaUblD3hh"
      },
      "source": [
        "y_pred = np.array([mapping[cluster_id] for cluster_id in y_pred])"
      ],
      "execution_count": 8,
      "outputs": []
    },
    {
      "cell_type": "code",
      "metadata": {
        "id": "wFq2kZH2D3hh",
        "colab": {
          "base_uri": "https://localhost:8080/",
          "height": 286
        },
        "outputId": "1f20cb2e-dd13-4117-9134-db47d77113ab"
      },
      "source": [
        "plt.plot(X[y_pred==0, 2], X[y_pred==0, 3], \"yo\", label=\"Cluster 1\")\n",
        "plt.plot(X[y_pred==1, 2], X[y_pred==1, 3], \"bs\", label=\"Cluster 2\")\n",
        "plt.plot(X[y_pred==2, 2], X[y_pred==2, 3], \"g^\", label=\"Cluster 3\")\n",
        "plt.xlabel(\"Petal length\", fontsize=14)\n",
        "plt.ylabel(\"Petal width\", fontsize=14)\n",
        "plt.legend(loc=\"upper left\", fontsize=12)\n",
        "plt.show()"
      ],
      "execution_count": 9,
      "outputs": [
        {
          "output_type": "display_data",
          "data": {
            "image/png": "[encoded data removed]",
            "text/plain": [
              "<Figure size 432x288 with 1 Axes>"
            ]
          },
          "metadata": {
            "tags": [],
            "needs_background": "light"
          }
        }
      ]
    },
    {
      "cell_type": "code",
      "metadata": {
        "id": "Bd365k5ED3hh",
        "colab": {
          "base_uri": "https://localhost:8080/"
        },
        "outputId": "8e041b45-83af-44e4-de8f-ef6923a9c7b7"
      },
      "source": [
        "np.sum(y_pred==y)"
      ],
      "execution_count": 10,
      "outputs": [
        {
          "output_type": "execute_result",
          "data": {
            "text/plain": [
              "145"
            ]
          },
          "metadata": {
            "tags": []
          },
          "execution_count": 10
        }
      ]
    },
    {
      "cell_type": "code",
      "metadata": {
        "id": "aehgunglD3hi",
        "colab": {
          "base_uri": "https://localhost:8080/"
        },
        "outputId": "f34ff5d7-0d0e-4f35-9592-8eac6d66ce12"
      },
      "source": [
        "np.sum(y_pred==y) / len(y_pred)"
      ],
      "execution_count": 11,
      "outputs": [
        {
          "output_type": "execute_result",
          "data": {
            "text/plain": [
              "0.9666666666666667"
            ]
          },
          "metadata": {
            "tags": []
          },
          "execution_count": 11
        }
      ]
    },
    {
      "cell_type": "markdown",
      "metadata": {
        "id": "aOJ9UMhID3hi"
      },
      "source": [
        "**Note**: the results in this notebook may differ slightly from the book. This is because algorithms can sometimes be tweaked a bit between Scikit-Learn versions."
      ]
    },
    {
      "cell_type": "markdown",
      "metadata": {
        "id": "NNEhpxt9D3hi"
      },
      "source": [
        "## K-Means"
      ]
    },
    {
      "cell_type": "markdown",
      "metadata": {
        "id": "7Adk5EWlD3hj"
      },
      "source": [
        "Let's start by generating some blobs:"
      ]
    },
    {
      "cell_type": "code",
      "metadata": {
        "id": "KifZa8PMD3hj"
      },
      "source": [
        "from sklearn.datasets import make_blobs"
      ],
      "execution_count": 12,
      "outputs": []
    },
    {
      "cell_type": "code",
      "metadata": {
        "id": "RF9Y1Rm4D3hj"
      },
      "source": [
        "blob_centers = np.array(\n",
        "    [[ 0.2,  2.3],\n",
        "     [-1.5 ,  2.3],\n",
        "     [-2.8,  1.8],\n",
        "     [-2.8,  2.8],\n",
        "     [-2.8,  1.3]])\n",
        "blob_std = np.array([0.4, 0.3, 0.1, 0.1, 0.1])"
      ],
      "execution_count": 13,
      "outputs": []
    },
    {
      "cell_type": "code",
      "metadata": {
        "id": "YkLd34jUD3hk"
      },
      "source": [
        "X, y = make_blobs(n_samples=2000, centers=blob_centers,\n",
        "                  cluster_std=blob_std, random_state=7)"
      ],
      "execution_count": 14,
      "outputs": []
    },
    {
      "cell_type": "markdown",
      "metadata": {
        "id": "aA0EqB1sD3hk"
      },
      "source": [
        "Now let's plot them:"
      ]
    },
    {
      "cell_type": "code",
      "metadata": {
        "id": "ddaKqSqID3hk"
      },
      "source": [
        "def plot_clusters(X, y=None):\n",
        "    plt.scatter(X[:, 0], X[:, 1], c=y, s=1)\n",
        "    plt.xlabel(\"$x_1$\", fontsize=14)\n",
        "    plt.ylabel(\"$x_2$\", fontsize=14, rotation=0)"
      ],
      "execution_count": 15,
      "outputs": []
    },
    {
      "cell_type": "code",
      "metadata": {
        "id": "GMqLV3bXD3hk",
        "colab": {
          "base_uri": "https://localhost:8080/",
          "height": 314
        },
        "outputId": "ee711625-a0d2-495f-a139-4fbb18181d3f"
      },
      "source": [
        "plt.figure(figsize=(8, 4))\n",
        "plot_clusters(X)\n",
        "save_fig(\"blobs_plot\")\n",
        "plt.show()"
      ],
      "execution_count": 16,
      "outputs": [
        {
          "output_type": "stream",
          "text": [
            "Saving figure blobs_plot\n"
          ],
          "name": "stdout"
        },
        {
          "output_type": "display_data",
          "data": {
            "image/png": "[encoded data removed]",
            "text/plain": [
              "<Figure size 576x288 with 1 Axes>"
            ]
          },
          "metadata": {
            "tags": [],
            "needs_background": "light"
          }
        }
      ]
    },
    {
      "cell_type": "markdown",
      "metadata": {
        "id": "p1Cp_G2QD3hl"
      },
      "source": [
        "### Fit and Predict"
      ]
    },
    {
      "cell_type": "markdown",
      "metadata": {
        "id": "anA6oknQD3hl"
      },
      "source": [
        "Let's train a K-Means clusterer on this dataset. It will try to find each blob's center and assign each instance to the closest blob:"
      ]
    },
    {
      "cell_type": "code",
      "metadata": {
        "id": "Tz6kQNvBD3hl"
      },
      "source": [
        "from sklearn.cluster import KMeans"
      ],
      "execution_count": 17,
      "outputs": []
    },
    {
      "cell_type": "markdown",
      "metadata": {
        "id": "pVTtE6ylSFpY"
      },
      "source": [
        "###specify the number of clusters k that the algorithm must find"
      ]
    },
    {
      "cell_type": "code",
      "metadata": {
        "id": "NyDwVzyhD3hm"
      },
      "source": [
        "k = 5\n",
        "kmeans = KMeans(n_clusters=k, random_state=42)\n",
        "y_pred = kmeans.fit_predict(X)"
      ],
      "execution_count": 18,
      "outputs": []
    },
    {
      "cell_type": "markdown",
      "metadata": {
        "id": "4TFymkKjD3hm"
      },
      "source": [
        "Each instance was assigned to one of the 5 clusters:"
      ]
    },
    {
      "cell_type": "code",
      "metadata": {
        "id": "cD9N_H7pD3hm",
        "colab": {
          "base_uri": "https://localhost:8080/"
        },
        "outputId": "9c424f4b-be27-4c71-a69b-9a59c6308f37"
      },
      "source": [
        "y_pred"
      ],
      "execution_count": 19,
      "outputs": [
        {
          "output_type": "execute_result",
          "data": {
            "text/plain": [
              "array([4, 1, 0, ..., 3, 0, 1], dtype=int32)"
            ]
          },
          "metadata": {
            "tags": []
          },
          "execution_count": 19
        }
      ]
    },
    {
      "cell_type": "code",
      "metadata": {
        "id": "60RwqyIYD3hm",
        "colab": {
          "base_uri": "https://localhost:8080/"
        },
        "outputId": "66389898-6839-4c74-ce64-d10220e14956"
      },
      "source": [
        "y_pred is kmeans.labels_"
      ],
      "execution_count": 20,
      "outputs": [
        {
          "output_type": "execute_result",
          "data": {
            "text/plain": [
              "True"
            ]
          },
          "metadata": {
            "tags": []
          },
          "execution_count": 20
        }
      ]
    },
    {
      "cell_type": "markdown",
      "metadata": {
        "id": "OM7Q3KRRD3hn"
      },
      "source": [
        "And the following 5 _centroids_ (i.e., cluster centers) were estimated:"
      ]
    },
    {
      "cell_type": "code",
      "metadata": {
        "id": "utCCNoAwD3hn",
        "colab": {
          "base_uri": "https://localhost:8080/"
        },
        "outputId": "ae6bff94-3833-4926-b38f-b0347c802b23"
      },
      "source": [
        "kmeans.cluster_centers_"
      ],
      "execution_count": 21,
      "outputs": [
        {
          "output_type": "execute_result",
          "data": {
            "text/plain": [
              "array([[ 0.20876306,  2.25551336],\n",
              "       [-2.80389616,  1.80117999],\n",
              "       [-1.46679593,  2.28585348],\n",
              "       [-2.79290307,  2.79641063],\n",
              "       [-2.80037642,  1.30082566]])"
            ]
          },
          "metadata": {
            "tags": []
          },
          "execution_count": 21
        }
      ]
    },
    {
      "cell_type": "markdown",
      "metadata": {
        "id": "d8ucXz3jD3hn"
      },
      "source": [
        "Note that the `KMeans` instance preserves the labels of the instances it was trained on. Somewhat confusingly, in this context, the _label_ of an instance is the index of the cluster that instance gets assigned to:"
      ]
    },
    {
      "cell_type": "code",
      "metadata": {
        "id": "XYkRegeLD3hn",
        "colab": {
          "base_uri": "https://localhost:8080/"
        },
        "outputId": "4bc2b59e-9eb8-44f2-c0d3-956d485b6b5e"
      },
      "source": [
        "kmeans.labels_"
      ],
      "execution_count": 22,
      "outputs": [
        {
          "output_type": "execute_result",
          "data": {
            "text/plain": [
              "array([4, 1, 0, ..., 3, 0, 1], dtype=int32)"
            ]
          },
          "metadata": {
            "tags": []
          },
          "execution_count": 22
        }
      ]
    },
    {
      "cell_type": "markdown",
      "metadata": {
        "id": "yMc1b_dND3ho"
      },
      "source": [
        "Of course, we can predict the labels of new instances:"
      ]
    },
    {
      "cell_type": "code",
      "metadata": {
        "id": "C7WRx2_TD3ho",
        "colab": {
          "base_uri": "https://localhost:8080/"
        },
        "outputId": "73b5a253-cb3e-4e25-b95f-8f35380dfd6b"
      },
      "source": [
        "X_new = np.array([[0, 2], [3, 2], [-3, 3], [-3, 2.5]])\n",
        "kmeans.predict(X_new)"
      ],
      "execution_count": 23,
      "outputs": [
        {
          "output_type": "execute_result",
          "data": {
            "text/plain": [
              "array([0, 0, 3, 3], dtype=int32)"
            ]
          },
          "metadata": {
            "tags": []
          },
          "execution_count": 23
        }
      ]
    },
    {
      "cell_type": "markdown",
      "metadata": {
        "id": "VCE6ViQyD3ho"
      },
      "source": [
        "### Decision Boundaries"
      ]
    },
    {
      "cell_type": "markdown",
      "metadata": {
        "id": "tbAXIQoXD3hp"
      },
      "source": [
        "Let's plot the model's decision boundaries. This gives us a _Voronoi diagram_:"
      ]
    },
    {
      "cell_type": "code",
      "metadata": {
        "id": "-aaZQ_W4D3hp"
      },
      "source": [
        "def plot_data(X):\n",
        "    plt.plot(X[:, 0], X[:, 1], 'k.', markersize=2)\n",
        "\n",
        "def plot_centroids(centroids, weights=None, circle_color='w', cross_color='k'):\n",
        "    if weights is not None:\n",
        "        centroids = centroids[weights > weights.max() / 10]\n",
        "    plt.scatter(centroids[:, 0], centroids[:, 1],\n",
        "                marker='o', s=35, linewidths=8,\n",
        "                color=circle_color, zorder=10, alpha=0.9)\n",
        "    plt.scatter(centroids[:, 0], centroids[:, 1],\n",
        "                marker='x', s=2, linewidths=12,\n",
        "                color=cross_color, zorder=11, alpha=1)\n",
        "\n",
        "def plot_decision_boundaries(clusterer, X, resolution=1000, show_centroids=True,\n",
        "                             show_xlabels=True, show_ylabels=True):\n",
        "    mins = X.min(axis=0) - 0.1\n",
        "    maxs = X.max(axis=0) + 0.1\n",
        "    xx, yy = np.meshgrid(np.linspace(mins[0], maxs[0], resolution),\n",
        "                         np.linspace(mins[1], maxs[1], resolution))\n",
        "    Z = clusterer.predict(np.c_[xx.ravel(), yy.ravel()])\n",
        "    Z = Z.reshape(xx.shape)\n",
        "\n",
        "    plt.contourf(Z, extent=(mins[0], maxs[0], mins[1], maxs[1]),\n",
        "                cmap=\"Pastel2\")\n",
        "    plt.contour(Z, extent=(mins[0], maxs[0], mins[1], maxs[1]),\n",
        "                linewidths=1, colors='k')\n",
        "    plot_data(X)\n",
        "    if show_centroids:\n",
        "        plot_centroids(clusterer.cluster_centers_)\n",
        "\n",
        "    if show_xlabels:\n",
        "        plt.xlabel(\"$x_1$\", fontsize=14)\n",
        "    else:\n",
        "        plt.tick_params(labelbottom=False)\n",
        "    if show_ylabels:\n",
        "        plt.ylabel(\"$x_2$\", fontsize=14, rotation=0)\n",
        "    else:\n",
        "        plt.tick_params(labelleft=False)"
      ],
      "execution_count": 24,
      "outputs": []
    },
    {
      "cell_type": "code",
      "metadata": {
        "id": "PuSQHDnsD3hq",
        "colab": {
          "base_uri": "https://localhost:8080/",
          "height": 314
        },
        "outputId": "78bee761-f1a8-4bba-d749-905a82a3e5e6"
      },
      "source": [
        "plt.figure(figsize=(8, 4))\n",
        "plot_decision_boundaries(kmeans, X)\n",
        "save_fig(\"voronoi_plot\")\n",
        "plt.show()"
      ],
      "execution_count": 25,
      "outputs": [
        {
          "output_type": "stream",
          "text": [
            "Saving figure voronoi_plot\n"
          ],
          "name": "stdout"
        },
        {
          "output_type": "display_data",
          "data": {
            "image/png": "[encoded data removed]",
            "text/plain": [
              "<Figure size 576x288 with 1 Axes>"
            ]
          },
          "metadata": {
            "tags": [],
            "needs_background": "light"
          }
        }
      ]
    },
    {
      "cell_type": "markdown",
      "metadata": {
        "id": "wXkj0VlZD3hq"
      },
      "source": [
        "Not bad! Some of the instances near the edges were probably assigned to the wrong cluster, but overall it looks pretty good."
      ]
    },
    {
      "cell_type": "markdown",
      "metadata": {
        "id": "UJ_k-BVSD3hq"
      },
      "source": [
        "### Hard Clustering _vs_ Soft Clustering"
      ]
    },
    {
      "cell_type": "markdown",
      "metadata": {
        "id": "zzQW8elqD3hr"
      },
      "source": [
        "Rather than arbitrarily choosing the closest cluster for each instance, which is called _hard clustering_, it might be better measure the distance of each instance to all 5 centroids. This is what the `transform()` method does:"
      ]
    },
    {
      "cell_type": "markdown",
      "metadata": {
        "id": "1vDxgezFH5hX"
      },
      "source": [
        "#Non Linear Dimensionality reduction:\n",
        "\n",
        "In this example, the first instance in X_new is located at a distance of 2.81 from the\n",
        "first centroid, 0.33 from the second centroid, 2.90 from the third centroid, 1.49 from\n",
        "the fourth centroid, and 2.89 from the fifth centroid. If you have a high-dimensional\n",
        "dataset and you transform it this way, you end up with a k-dimensional dataset: this\n",
        "transformation can be a very efficient nonlinear dimensionality reduction technique."
      ]
    },
    {
      "cell_type": "code",
      "metadata": {
        "id": "VoVaMtLAD3hr",
        "colab": {
          "base_uri": "https://localhost:8080/"
        },
        "outputId": "a22bd08d-fca1-4d31-9f59-fde44f48c7b0"
      },
      "source": [
        "kmeans.transform(X_new)"
      ],
      "execution_count": 26,
      "outputs": [
        {
          "output_type": "execute_result",
          "data": {
            "text/plain": [
              "array([[0.32995317, 2.81093633, 1.49439034, 2.9042344 , 2.88633901],\n",
              "       [2.80290755, 5.80730058, 4.4759332 , 5.84739223, 5.84236351],\n",
              "       [3.29399768, 1.21475352, 1.69136631, 0.29040966, 1.71086031],\n",
              "       [3.21806371, 0.72581411, 1.54808703, 0.36159148, 1.21567622]])"
            ]
          },
          "metadata": {
            "tags": []
          },
          "execution_count": 26
        }
      ]
    },
    {
      "cell_type": "markdown",
      "metadata": {
        "id": "c59GLn__D3hr"
      },
      "source": [
        "You can verify that this is indeed the Euclidian distance between each instance and each centroid:"
      ]
    },
    {
      "cell_type": "code",
      "metadata": {
        "id": "ARLa2wuxD3hr",
        "colab": {
          "base_uri": "https://localhost:8080/"
        },
        "outputId": "a9a93c86-8337-4c34-c890-dda986856cd7"
      },
      "source": [
        "np.linalg.norm(np.tile(X_new, (1, k)).reshape(-1, k, 2) - kmeans.cluster_centers_, axis=2)"
      ],
      "execution_count": 27,
      "outputs": [
        {
          "output_type": "execute_result",
          "data": {
            "text/plain": [
              "array([[0.32995317, 2.81093633, 1.49439034, 2.9042344 , 2.88633901],\n",
              "       [2.80290755, 5.80730058, 4.4759332 , 5.84739223, 5.84236351],\n",
              "       [3.29399768, 1.21475352, 1.69136631, 0.29040966, 1.71086031],\n",
              "       [3.21806371, 0.72581411, 1.54808703, 0.36159148, 1.21567622]])"
            ]
          },
          "metadata": {
            "tags": []
          },
          "execution_count": 27
        }
      ]
    },
    {
      "cell_type": "markdown",
      "metadata": {
        "id": "UIQiDuUdD3hs"
      },
      "source": [
        "### K-Means Algorithm"
      ]
    },
    {
      "cell_type": "markdown",
      "metadata": {
        "id": "wreY0V71D3hs"
      },
      "source": [
        "The K-Means algorithm is one of the fastest clustering algorithms, and also one of the simplest:\n",
        "* First initialize $k$ centroids randomly: $k$ distinct instances are chosen randomly from the dataset and the centroids are placed at their locations.\n",
        "* Repeat until convergence (i.e., until the centroids stop moving):\n",
        "    * Assign each instance to the closest centroid.\n",
        "    * Update the centroids to be the mean of the instances that are assigned to them."
      ]
    },
    {
      "cell_type": "markdown",
      "metadata": {
        "id": "_6TTgSh0D3hs"
      },
      "source": [
        "The `KMeans` class applies an optimized algorithm by default. To get the original K-Means algorithm (for educational purposes only), you must set `init=\"random\"`, `n_init=1`and `algorithm=\"full\"`. These hyperparameters will be explained below."
      ]
    },
    {
      "cell_type": "markdown",
      "metadata": {
        "id": "gW9vc-bVD3hs"
      },
      "source": [
        "Let's run the K-Means algorithm for 1, 2 and 3 iterations, to see how the centroids move around:"
      ]
    },
    {
      "cell_type": "markdown",
      "metadata": {
        "id": "foy_DTcpIco3"
      },
      "source": [
        "Linear wrt ->No. of instances, ->dimension ->clusters\n",
        "\n",
        "Data needs to be of clustering structure, else it'd grow exponentially."
      ]
    },
    {
      "cell_type": "code",
      "metadata": {
        "id": "GyKTJUmnD3ht",
        "colab": {
          "base_uri": "https://localhost:8080/"
        },
        "outputId": "963886c7-2ed1-4f83-dcb5-5f277c22ca67"
      },
      "source": [
        "kmeans_iter1 = KMeans(n_clusters=5, init=\"random\", n_init=1,\n",
        "                     algorithm=\"full\", max_iter=1, random_state=0)\n",
        "kmeans_iter2 = KMeans(n_clusters=5, init=\"random\", n_init=1,\n",
        "                     algorithm=\"full\", max_iter=2, random_state=0)\n",
        "kmeans_iter3 = KMeans(n_clusters=5, init=\"random\", n_init=1,\n",
        "                     algorithm=\"full\", max_iter=3, random_state=0)\n",
        "kmeans_iter1.fit(X)\n",
        "kmeans_iter2.fit(X)\n",
        "kmeans_iter3.fit(X)"
      ],
      "execution_count": 28,
      "outputs": [
        {
          "output_type": "execute_result",
          "data": {
            "text/plain": [
              "KMeans(algorithm='full', copy_x=True, init='random', max_iter=3, n_clusters=5,\n",
              "       n_init=1, n_jobs=None, precompute_distances='auto', random_state=0,\n",
              "       tol=0.0001, verbose=0)"
            ]
          },
          "metadata": {
            "tags": []
          },
          "execution_count": 28
        }
      ]
    },
    {
      "cell_type": "markdown",
      "metadata": {
        "id": "XsFTbauuD3ht"
      },
      "source": [
        "And let's plot this:"
      ]
    },
    {
      "cell_type": "code",
      "metadata": {
        "id": "yqAjc_-UD3ht",
        "colab": {
          "base_uri": "https://localhost:8080/",
          "height": 602
        },
        "outputId": "eda5c359-ab19-4908-dc4e-71f8b503a570"
      },
      "source": [
        "plt.figure(figsize=(10, 8))\n",
        "\n",
        "plt.subplot(321)\n",
        "plot_data(X)\n",
        "plot_centroids(kmeans_iter1.cluster_centers_, circle_color='r', cross_color='w')\n",
        "plt.ylabel(\"$x_2$\", fontsize=14, rotation=0)\n",
        "plt.tick_params(labelbottom=False)\n",
        "plt.title(\"Update the centroids (initially randomly)\", fontsize=14)\n",
        "\n",
        "plt.subplot(322)\n",
        "plot_decision_boundaries(kmeans_iter1, X, show_xlabels=False, show_ylabels=False)\n",
        "plt.title(\"Label the instances\", fontsize=14)\n",
        "\n",
        "plt.subplot(323)\n",
        "plot_decision_boundaries(kmeans_iter1, X, show_centroids=False, show_xlabels=False)\n",
        "plot_centroids(kmeans_iter2.cluster_centers_)\n",
        "\n",
        "plt.subplot(324)\n",
        "plot_decision_boundaries(kmeans_iter2, X, show_xlabels=False, show_ylabels=False)\n",
        "\n",
        "plt.subplot(325)\n",
        "plot_decision_boundaries(kmeans_iter2, X, show_centroids=False)\n",
        "plot_centroids(kmeans_iter3.cluster_centers_)\n",
        "\n",
        "plt.subplot(326)\n",
        "plot_decision_boundaries(kmeans_iter3, X, show_ylabels=False)\n",
        "\n",
        "save_fig(\"kmeans_algorithm_plot\")\n",
        "plt.show()"
      ],
      "execution_count": 29,
      "outputs": [
        {
          "output_type": "stream",
          "text": [
            "Saving figure kmeans_algorithm_plot\n"
          ],
          "name": "stdout"
        },
        {
          "output_type": "display_data",
          "data": {
            "image/png": "[encoded data removed]",
            "text/plain": [
              "<Figure size 720x576 with 6 Axes>"
            ]
          },
          "metadata": {
            "tags": [],
            "needs_background": "light"
          }
        }
      ]
    },
    {
      "cell_type": "markdown",
      "metadata": {
        "id": "XFkX_qR4D3hu"
      },
      "source": [
        "### K-Means Variability"
      ]
    },
    {
      "cell_type": "markdown",
      "metadata": {
        "id": "B225L1vkD3hu"
      },
      "source": [
        "In the original K-Means algorithm, the centroids are just initialized randomly, and the algorithm simply runs a single iteration to gradually improve the centroids, as we saw above.\n",
        "\n",
        "However, one major problem with this approach is that if you run K-Means multiple times (or with different random seeds), it can converge to very different solutions, as you can see below:"
      ]
    },
    {
      "cell_type": "code",
      "metadata": {
        "id": "6tB7gU1jD3hu"
      },
      "source": [
        "def plot_clusterer_comparison(clusterer1, clusterer2, X, title1=None, title2=None):\n",
        "    clusterer1.fit(X)\n",
        "    clusterer2.fit(X)\n",
        "\n",
        "    plt.figure(figsize=(10, 3.2))\n",
        "\n",
        "    plt.subplot(121)\n",
        "    plot_decision_boundaries(clusterer1, X)\n",
        "    if title1:\n",
        "        plt.title(title1, fontsize=14)\n",
        "\n",
        "    plt.subplot(122)\n",
        "    plot_decision_boundaries(clusterer2, X, show_ylabels=False)\n",
        "    if title2:\n",
        "        plt.title(title2, fontsize=14)"
      ],
      "execution_count": 30,
      "outputs": []
    },
    {
      "cell_type": "code",
      "metadata": {
        "id": "MmEHnbBWD3hv",
        "colab": {
          "base_uri": "https://localhost:8080/",
          "height": 257
        },
        "outputId": "29a01bb6-05fa-41e1-a7ba-177336a2de91"
      },
      "source": [
        "kmeans_rnd_init1 = KMeans(n_clusters=5, init=\"random\", n_init=1,\n",
        "                         algorithm=\"full\", random_state=2)\n",
        "kmeans_rnd_init2 = KMeans(n_clusters=5, init=\"random\", n_init=1,\n",
        "                         algorithm=\"full\", random_state=5)\n",
        "\n",
        "plot_clusterer_comparison(kmeans_rnd_init1, kmeans_rnd_init2, X,\n",
        "                          \"Solution 1\", \"Solution 2 (with a different random init)\")\n",
        "\n",
        "save_fig(\"kmeans_variability_plot\")\n",
        "plt.show()"
      ],
      "execution_count": 31,
      "outputs": [
        {
          "output_type": "stream",
          "text": [
            "Saving figure kmeans_variability_plot\n"
          ],
          "name": "stdout"
        },
        {
          "output_type": "display_data",
          "data": {
            "image/png": "[encoded data removed]",
            "text/plain": [
              "<Figure size 720x230.4 with 2 Axes>"
            ]
          },
          "metadata": {
            "tags": [],
            "needs_background": "light"
          }
        }
      ]
    },
    {
      "cell_type": "markdown",
      "metadata": {
        "id": "b3BnksMKJGFa"
      },
      "source": [
        "Convergence depends on randomy intialized points."
      ]
    },
    {
      "cell_type": "markdown",
      "metadata": {
        "id": "lO9ztMZXJkjq"
      },
      "source": [
        "Another solution is to run the algorithm multiple times with different random initializations\n",
        "and keep the best solution. The number of random initializations is controlled\n",
        "by the n_init hyperparameter: by default, it is equal to 10, which means that\n",
        "the whole algorithm described earlier runs 10 times when you call fit(), and Scikit-\n",
        "Learn keeps the best solution. But how exactly does it know which solution is the\n",
        "best? It uses a performance metric! That metric is called the model’s inertia, which is\n",
        "the mean squared distance between each instance and its closest centroid."
      ]
    },
    {
      "cell_type": "markdown",
      "metadata": {
        "id": "CV2h4ViDD3hv"
      },
      "source": [
        "### Inertia"
      ]
    },
    {
      "cell_type": "markdown",
      "metadata": {
        "id": "aqPm2ehND3hv"
      },
      "source": [
        "To select the best model, we will need a way to evaluate a K-Mean model's performance. Unfortunately, clustering is an unsupervised task, so we do not have the targets. But at least we can measure the distance between each instance and its centroid. This is the idea behind the _inertia_ metric:"
      ]
    },
    {
      "cell_type": "code",
      "metadata": {
        "id": "Hq9tet1QD3hv",
        "colab": {
          "base_uri": "https://localhost:8080/"
        },
        "outputId": "3ddc4220-21a9-4ed4-abd4-077e04a14e88"
      },
      "source": [
        "kmeans.inertia_"
      ],
      "execution_count": 32,
      "outputs": [
        {
          "output_type": "execute_result",
          "data": {
            "text/plain": [
              "211.5985372581684"
            ]
          },
          "metadata": {
            "tags": []
          },
          "execution_count": 32
        }
      ]
    },
    {
      "cell_type": "markdown",
      "metadata": {
        "id": "akTXO4AjD3hw"
      },
      "source": [
        "As you can easily verify, inertia is the sum of the squared distances between each training instance and its closest centroid:"
      ]
    },
    {
      "cell_type": "code",
      "metadata": {
        "id": "xpO1ydCKD3hw",
        "colab": {
          "base_uri": "https://localhost:8080/"
        },
        "outputId": "17818403-d1d9-4229-98f1-9b25306a93d2"
      },
      "source": [
        "X_dist = kmeans.transform(X)\n",
        "np.sum(X_dist[np.arange(len(X_dist)), kmeans.labels_]**2)"
      ],
      "execution_count": 33,
      "outputs": [
        {
          "output_type": "execute_result",
          "data": {
            "text/plain": [
              "211.59853725816856"
            ]
          },
          "metadata": {
            "tags": []
          },
          "execution_count": 33
        }
      ]
    },
    {
      "cell_type": "markdown",
      "metadata": {
        "id": "8db_-7kOD3hw"
      },
      "source": [
        "The `score()` method returns the negative inertia. Why negative? Well, it is because a predictor's `score()` method must always respect the \"_greater is better_\" rule."
      ]
    },
    {
      "cell_type": "code",
      "metadata": {
        "id": "cz5L1PlCD3hx",
        "colab": {
          "base_uri": "https://localhost:8080/"
        },
        "outputId": "0ae3e043-67e1-4b8a-961b-cacd89e965ac"
      },
      "source": [
        "kmeans.score(X)"
      ],
      "execution_count": 34,
      "outputs": [
        {
          "output_type": "execute_result",
          "data": {
            "text/plain": [
              "-211.59853725816856"
            ]
          },
          "metadata": {
            "tags": []
          },
          "execution_count": 34
        }
      ]
    },
    {
      "cell_type": "markdown",
      "metadata": {
        "id": "vwS55a14D3hx"
      },
      "source": [
        "### Multiple Initializations"
      ]
    },
    {
      "cell_type": "markdown",
      "metadata": {
        "id": "qyyIumupD3hx"
      },
      "source": [
        "So one approach to solve the variability issue is to simply run the K-Means algorithm multiple times with different random initializations, and select the solution that minimizes the inertia. For example, here are the inertias of the two \"bad\" models shown in the previous figure:"
      ]
    },
    {
      "cell_type": "code",
      "metadata": {
        "id": "poBA0-iKD3hx",
        "colab": {
          "base_uri": "https://localhost:8080/"
        },
        "outputId": "03cb53de-b3cb-407c-c472-3253d09561bd"
      },
      "source": [
        "kmeans_rnd_init1.inertia_"
      ],
      "execution_count": 35,
      "outputs": [
        {
          "output_type": "execute_result",
          "data": {
            "text/plain": [
              "219.8385799007183"
            ]
          },
          "metadata": {
            "tags": []
          },
          "execution_count": 35
        }
      ]
    },
    {
      "cell_type": "code",
      "metadata": {
        "id": "Xdsh1SFgD3hy",
        "colab": {
          "base_uri": "https://localhost:8080/"
        },
        "outputId": "970a8171-4fad-4357-e4df-c6d4e13cc81f"
      },
      "source": [
        "kmeans_rnd_init2.inertia_"
      ],
      "execution_count": 36,
      "outputs": [
        {
          "output_type": "execute_result",
          "data": {
            "text/plain": [
              "236.94908363907354"
            ]
          },
          "metadata": {
            "tags": []
          },
          "execution_count": 36
        }
      ]
    },
    {
      "cell_type": "markdown",
      "metadata": {
        "id": "joXPLMx5D3hy"
      },
      "source": [
        "As you can see, they have a higher inertia than the first \"good\" model we trained, which means they are probably worse."
      ]
    },
    {
      "cell_type": "markdown",
      "metadata": {
        "id": "KJ1xugwPD3hy"
      },
      "source": [
        "When you set the `n_init` hyperparameter, Scikit-Learn runs the original algorithm `n_init` times, and selects the solution that minimizes the inertia. By default, Scikit-Learn sets `n_init=10`."
      ]
    },
    {
      "cell_type": "code",
      "metadata": {
        "id": "gx7tFszuD3hy",
        "colab": {
          "base_uri": "https://localhost:8080/"
        },
        "outputId": "349b6bbd-c755-487f-f56d-1e5de9f0d2e7"
      },
      "source": [
        "kmeans_rnd_10_inits = KMeans(n_clusters=5, init=\"random\", n_init=10,\n",
        "                              algorithm=\"full\", random_state=2)\n",
        "kmeans_rnd_10_inits.fit(X)"
      ],
      "execution_count": 37,
      "outputs": [
        {
          "output_type": "execute_result",
          "data": {
            "text/plain": [
              "KMeans(algorithm='full', copy_x=True, init='random', max_iter=300, n_clusters=5,\n",
              "       n_init=10, n_jobs=None, precompute_distances='auto', random_state=2,\n",
              "       tol=0.0001, verbose=0)"
            ]
          },
          "metadata": {
            "tags": []
          },
          "execution_count": 37
        }
      ]
    },
    {
      "cell_type": "markdown",
      "metadata": {
        "id": "9pb3eKw3D3hz"
      },
      "source": [
        "As you can see, we end up with the initial model, which is certainly the optimal K-Means solution (at least in terms of inertia, and assuming $k=5$)."
      ]
    },
    {
      "cell_type": "code",
      "metadata": {
        "id": "3ugpCEOzD3hz",
        "colab": {
          "base_uri": "https://localhost:8080/",
          "height": 287
        },
        "outputId": "d686cf01-eaa2-490b-88d4-aecfea3f5ba1"
      },
      "source": [
        "plt.figure(figsize=(8, 4))\n",
        "plot_decision_boundaries(kmeans_rnd_10_inits, X)\n",
        "plt.show()"
      ],
      "execution_count": 38,
      "outputs": [
        {
          "output_type": "display_data",
          "data": {
            "image/png": "[encoded data removed]",
            "text/plain": [
              "<Figure size 576x288 with 1 Axes>"
            ]
          },
          "metadata": {
            "tags": [],
            "needs_background": "light"
          }
        }
      ]
    },
    {
      "cell_type": "markdown",
      "metadata": {
        "id": "q54hi_dKD3hz"
      },
      "source": [
        "### K-Means++"
      ]
    },
    {
      "cell_type": "markdown",
      "metadata": {
        "id": "5IGZKD73D3hz"
      },
      "source": [
        "Instead of initializing the centroids entirely randomly, it is preferable to initialize them using the following algorithm, proposed in a [2006 paper](https://goo.gl/eNUPw6) by David Arthur and Sergei Vassilvitskii:\n",
        "* Take one centroid $c_1$, chosen uniformly at random from the dataset.\n",
        "* Take a new center $c_i$, choosing an instance $\\mathbf{x}_i$ with probability: $D(\\mathbf{x}_i)^2$ / $\\sum\\limits_{j=1}^{m}{D(\\mathbf{x}_j)}^2$ where $D(\\mathbf{x}_i)$ is the distance between the instance $\\mathbf{x}_i$ and the closest centroid that was already chosen. This probability distribution ensures that instances that are further away from already chosen centroids are much more likely be selected as centroids.\n",
        "* Repeat the previous step until all $k$ centroids have been chosen."
      ]
    },
    {
      "cell_type": "markdown",
      "metadata": {
        "id": "HLY-Cgr-D3h0"
      },
      "source": [
        "The rest of the K-Means++ algorithm is just regular K-Means. With this initialization, the K-Means algorithm is much less likely to converge to a suboptimal solution, so it is possible to reduce `n_init` considerably. Most of the time, this largely compensates for the additional complexity of the initialization process."
      ]
    },
    {
      "cell_type": "markdown",
      "metadata": {
        "id": "BBfFTM9jD3h0"
      },
      "source": [
        "To set the initialization to K-Means++, simply set `init=\"k-means++\"` (this is actually the default):"
      ]
    },
    {
      "cell_type": "code",
      "metadata": {
        "id": "7tY0CnaDD3h0",
        "colab": {
          "base_uri": "https://localhost:8080/"
        },
        "outputId": "2e02b36f-4eda-49f4-e8d6-ed3fe4eb7bd3"
      },
      "source": [
        "KMeans()"
      ],
      "execution_count": 39,
      "outputs": [
        {
          "output_type": "execute_result",
          "data": {
            "text/plain": [
              "KMeans(algorithm='auto', copy_x=True, init='k-means++', max_iter=300,\n",
              "       n_clusters=8, n_init=10, n_jobs=None, precompute_distances='auto',\n",
              "       random_state=None, tol=0.0001, verbose=0)"
            ]
          },
          "metadata": {
            "tags": []
          },
          "execution_count": 39
        }
      ]
    },
    {
      "cell_type": "code",
      "metadata": {
        "id": "AIbSwHRYD3h0",
        "colab": {
          "base_uri": "https://localhost:8080/"
        },
        "outputId": "b5b4842a-dfa2-4ba1-f90c-bfda78e85228"
      },
      "source": [
        "good_init = np.array([[-3, 3], [-3, 2], [-3, 1], [-1, 2], [0, 2]])\n",
        "kmeans = KMeans(n_clusters=5, init=good_init, n_init=1, random_state=42)\n",
        "kmeans.fit(X)\n",
        "kmeans.inertia_"
      ],
      "execution_count": 40,
      "outputs": [
        {
          "output_type": "execute_result",
          "data": {
            "text/plain": [
              "211.5985372581684"
            ]
          },
          "metadata": {
            "tags": []
          },
          "execution_count": 40
        }
      ]
    },
    {
      "cell_type": "markdown",
      "metadata": {
        "id": "DPtI2NCLD3h1"
      },
      "source": [
        "### Accelerated K-Means"
      ]
    },
    {
      "cell_type": "markdown",
      "metadata": {
        "id": "FycmXxnVD3h1"
      },
      "source": [
        "The K-Means algorithm can be significantly accelerated by avoiding many unnecessary distance calculations: this is achieved by exploiting the triangle inequality (given three points A, B and C, the distance AC is always such that AC ≤ AB + BC) and by keeping track of lower and upper bounds for distances between instances and centroids (see this [2003 paper](https://www.aaai.org/Papers/ICML/2003/ICML03-022.pdf) by Charles Elkan for more details)."
      ]
    },
    {
      "cell_type": "markdown",
      "metadata": {
        "id": "K3yKyvSZD3h1"
      },
      "source": [
        "To use Elkan's variant of K-Means, just set `algorithm=\"elkan\"`. Note that it does not support sparse data, so by default, Scikit-Learn uses `\"elkan\"` for dense data, and `\"full\"` (the regular K-Means algorithm) for sparse data."
      ]
    },
    {
      "cell_type": "code",
      "metadata": {
        "id": "8WACmXFDD3h1",
        "colab": {
          "base_uri": "https://localhost:8080/"
        },
        "outputId": "463fba3d-d374-4239-fa0a-aec0cb42069d"
      },
      "source": [
        "%timeit -n 50 KMeans(algorithm=\"elkan\", random_state=42).fit(X)"
      ],
      "execution_count": 41,
      "outputs": [
        {
          "output_type": "stream",
          "text": [
            "50 loops, best of 5: 87 ms per loop\n"
          ],
          "name": "stdout"
        }
      ]
    },
    {
      "cell_type": "code",
      "metadata": {
        "scrolled": true,
        "id": "x9gmwzFgD3h2",
        "colab": {
          "base_uri": "https://localhost:8080/"
        },
        "outputId": "77ecb764-640b-49cc-90e3-be931287b2c0"
      },
      "source": [
        "%timeit -n 50 KMeans(algorithm=\"full\", random_state=42).fit(X)"
      ],
      "execution_count": 42,
      "outputs": [
        {
          "output_type": "stream",
          "text": [
            "50 loops, best of 5: 120 ms per loop\n"
          ],
          "name": "stdout"
        }
      ]
    },
    {
      "cell_type": "markdown",
      "metadata": {
        "id": "Ge15JpgTD3h2"
      },
      "source": [
        "There's no big difference in this case, as the dataset is fairly small."
      ]
    },
    {
      "cell_type": "markdown",
      "metadata": {
        "id": "yplCTpyAD3h2"
      },
      "source": [
        "### Mini-Batch K-Means"
      ]
    },
    {
      "cell_type": "markdown",
      "metadata": {
        "id": "6r0osL6lD3h2"
      },
      "source": [
        "Scikit-Learn also implements a variant of the K-Means algorithm that supports mini-batches (see [this paper](http://www.eecs.tufts.edu/~dsculley/papers/fastkmeans.pdf)):"
      ]
    },
    {
      "cell_type": "code",
      "metadata": {
        "id": "v5nrwkQED3h3"
      },
      "source": [
        "from sklearn.cluster import MiniBatchKMeans"
      ],
      "execution_count": 43,
      "outputs": []
    },
    {
      "cell_type": "code",
      "metadata": {
        "id": "QC_Zkl2FD3h3",
        "colab": {
          "base_uri": "https://localhost:8080/"
        },
        "outputId": "ded4772a-4d37-4202-a3ce-d8a1e2ace1fe"
      },
      "source": [
        "minibatch_kmeans = MiniBatchKMeans(n_clusters=5, random_state=42)\n",
        "minibatch_kmeans.fit(X)"
      ],
      "execution_count": 44,
      "outputs": [
        {
          "output_type": "execute_result",
          "data": {
            "text/plain": [
              "MiniBatchKMeans(batch_size=100, compute_labels=True, init='k-means++',\n",
              "                init_size=None, max_iter=100, max_no_improvement=10,\n",
              "                n_clusters=5, n_init=3, random_state=42,\n",
              "                reassignment_ratio=0.01, tol=0.0, verbose=0)"
            ]
          },
          "metadata": {
            "tags": []
          },
          "execution_count": 44
        }
      ]
    },
    {
      "cell_type": "code",
      "metadata": {
        "id": "InW8NRhPD3h3",
        "colab": {
          "base_uri": "https://localhost:8080/"
        },
        "outputId": "26651d27-077d-4288-8c66-90183de8e904"
      },
      "source": [
        "minibatch_kmeans.inertia_"
      ],
      "execution_count": 45,
      "outputs": [
        {
          "output_type": "execute_result",
          "data": {
            "text/plain": [
              "211.93186531476775"
            ]
          },
          "metadata": {
            "tags": []
          },
          "execution_count": 45
        }
      ]
    },
    {
      "cell_type": "markdown",
      "metadata": {
        "id": "uu2B1wqjD3h3"
      },
      "source": [
        "If the dataset does not fit in memory, the simplest option is to use the `memmap` class, just like we did for incremental PCA in the previous chapter. First let's load MNIST:"
      ]
    },
    {
      "cell_type": "markdown",
      "metadata": {
        "id": "e13kbpaWD3h4"
      },
      "source": [
        "**Warning:** since Scikit-Learn 0.24, `fetch_openml()` returns a Pandas `DataFrame` by default. To avoid this and keep the same code as in the book, we use `as_frame=False`."
      ]
    },
    {
      "cell_type": "code",
      "metadata": {
        "id": "2555MpklD3h4"
      },
      "source": [
        "import urllib.request\n",
        "from sklearn.datasets import fetch_openml\n",
        "\n",
        "mnist = fetch_openml('mnist_784', version=1, as_frame=False)\n",
        "mnist.target = mnist.target.astype(np.int64)"
      ],
      "execution_count": 46,
      "outputs": []
    },
    {
      "cell_type": "code",
      "metadata": {
        "id": "ndFsymFID3h4"
      },
      "source": [
        "from sklearn.model_selection import train_test_split\n",
        "\n",
        "X_train, X_test, y_train, y_test = train_test_split(\n",
        "    mnist[\"data\"], mnist[\"target\"], random_state=42)"
      ],
      "execution_count": 47,
      "outputs": []
    },
    {
      "cell_type": "markdown",
      "metadata": {
        "id": "c7qIN9fID3h4"
      },
      "source": [
        "Next, let's write it to a `memmap`:"
      ]
    },
    {
      "cell_type": "code",
      "metadata": {
        "id": "xJ3awqnAD3h5"
      },
      "source": [
        "filename = \"my_mnist.data\"\n",
        "X_mm = np.memmap(filename, dtype='float32', mode='write', shape=X_train.shape)\n",
        "X_mm[:] = X_train"
      ],
      "execution_count": 48,
      "outputs": []
    },
    {
      "cell_type": "code",
      "metadata": {
        "id": "W7sjRiMWD3h5",
        "colab": {
          "base_uri": "https://localhost:8080/"
        },
        "outputId": "6e6b93ea-3de5-4fba-fecc-e11fea9ab55e"
      },
      "source": [
        "minibatch_kmeans = MiniBatchKMeans(n_clusters=10, batch_size=10, random_state=42)\n",
        "minibatch_kmeans.fit(X_mm)"
      ],
      "execution_count": 49,
      "outputs": [
        {
          "output_type": "execute_result",
          "data": {
            "text/plain": [
              "MiniBatchKMeans(batch_size=10, compute_labels=True, init='k-means++',\n",
              "                init_size=None, max_iter=100, max_no_improvement=10,\n",
              "                n_clusters=10, n_init=3, random_state=42,\n",
              "                reassignment_ratio=0.01, tol=0.0, verbose=0)"
            ]
          },
          "metadata": {
            "tags": []
          },
          "execution_count": 49
        }
      ]
    },
    {
      "cell_type": "markdown",
      "metadata": {
        "id": "-X8iTJ7ID3iB"
      },
      "source": [
        "If your data is so large that you cannot use `memmap`, things get more complicated. Let's start by writing a function to load the next batch (in real life, you would load the data from disk):"
      ]
    },
    {
      "cell_type": "code",
      "metadata": {
        "id": "S2vxvkj0D3iC"
      },
      "source": [
        "def load_next_batch(batch_size):\n",
        "    return X[np.random.choice(len(X), batch_size, replace=False)]"
      ],
      "execution_count": 50,
      "outputs": []
    },
    {
      "cell_type": "markdown",
      "metadata": {
        "id": "SM3BAE3dD3iD"
      },
      "source": [
        "Now we can train the model by feeding it one batch at a time. We also need to implement multiple initializations and keep the model with the lowest inertia:"
      ]
    },
    {
      "cell_type": "code",
      "metadata": {
        "id": "qa91B3ClD3iD"
      },
      "source": [
        "np.random.seed(42)"
      ],
      "execution_count": 51,
      "outputs": []
    },
    {
      "cell_type": "code",
      "metadata": {
        "id": "Fwcct2ZcD3iD"
      },
      "source": [
        "k = 5\n",
        "n_init = 10\n",
        "n_iterations = 100\n",
        "batch_size = 100\n",
        "init_size = 500  # more data for K-Means++ initialization\n",
        "evaluate_on_last_n_iters = 10\n",
        "\n",
        "best_kmeans = None\n",
        "\n",
        "for init in range(n_init):\n",
        "    minibatch_kmeans = MiniBatchKMeans(n_clusters=k, init_size=init_size)\n",
        "    X_init = load_next_batch(init_size)\n",
        "    minibatch_kmeans.partial_fit(X_init)\n",
        "\n",
        "    minibatch_kmeans.sum_inertia_ = 0\n",
        "    for iteration in range(n_iterations):\n",
        "        X_batch = load_next_batch(batch_size)\n",
        "        minibatch_kmeans.partial_fit(X_batch)\n",
        "        if iteration >= n_iterations - evaluate_on_last_n_iters:\n",
        "            minibatch_kmeans.sum_inertia_ += minibatch_kmeans.inertia_\n",
        "\n",
        "    if (best_kmeans is None or\n",
        "        minibatch_kmeans.sum_inertia_ < best_kmeans.sum_inertia_):\n",
        "        best_kmeans = minibatch_kmeans"
      ],
      "execution_count": 52,
      "outputs": []
    },
    {
      "cell_type": "code",
      "metadata": {
        "id": "Fbe_mSCMD3iE",
        "colab": {
          "base_uri": "https://localhost:8080/"
        },
        "outputId": "e3cd9b78-d8b4-4faf-87ff-80be62ffbe14"
      },
      "source": [
        "best_kmeans.score(X)"
      ],
      "execution_count": 53,
      "outputs": [
        {
          "output_type": "execute_result",
          "data": {
            "text/plain": [
              "-211.70999744411483"
            ]
          },
          "metadata": {
            "tags": []
          },
          "execution_count": 53
        }
      ]
    },
    {
      "cell_type": "markdown",
      "metadata": {
        "id": "xKnDio9wD3iE"
      },
      "source": [
        "Mini-batch K-Means is much faster than regular K-Means:"
      ]
    },
    {
      "cell_type": "code",
      "metadata": {
        "id": "-l92kucZD3iE",
        "colab": {
          "base_uri": "https://localhost:8080/"
        },
        "outputId": "c7c9668f-8981-4e68-aace-c475320d35cf"
      },
      "source": [
        "%timeit KMeans(n_clusters=5, random_state=42).fit(X)"
      ],
      "execution_count": 54,
      "outputs": [
        {
          "output_type": "stream",
          "text": [
            "10 loops, best of 5: 44.2 ms per loop\n"
          ],
          "name": "stdout"
        }
      ]
    },
    {
      "cell_type": "code",
      "metadata": {
        "id": "NmRJpUPpD3iE",
        "colab": {
          "base_uri": "https://localhost:8080/"
        },
        "outputId": "41bc6d19-cc0b-4ff8-f500-5b0e51160c5d"
      },
      "source": [
        "%timeit MiniBatchKMeans(n_clusters=5, random_state=42).fit(X)"
      ],
      "execution_count": 55,
      "outputs": [
        {
          "output_type": "stream",
          "text": [
            "10 loops, best of 5: 23.7 ms per loop\n"
          ],
          "name": "stdout"
        }
      ]
    },
    {
      "cell_type": "markdown",
      "metadata": {
        "id": "RJxa365jD3iF"
      },
      "source": [
        "That's *much* faster! However, its performance is often lower (higher inertia), and it keeps degrading as _k_ increases. Let's plot the inertia ratio and the training time ratio between Mini-batch K-Means and regular K-Means:"
      ]
    },
    {
      "cell_type": "code",
      "metadata": {
        "id": "Tlk3fPPcD3iF"
      },
      "source": [
        "from timeit import timeit"
      ],
      "execution_count": 56,
      "outputs": []
    },
    {
      "cell_type": "code",
      "metadata": {
        "id": "U6mOsfZBD3iF",
        "colab": {
          "base_uri": "https://localhost:8080/"
        },
        "outputId": "e8f1e25e-bcb4-47f1-be50-f10c6c0164b9"
      },
      "source": [
        "times = np.empty((100, 2))\n",
        "inertias = np.empty((100, 2))\n",
        "for k in range(1, 101):\n",
        "    kmeans_ = KMeans(n_clusters=k, random_state=42)\n",
        "    minibatch_kmeans = MiniBatchKMeans(n_clusters=k, random_state=42)\n",
        "    print(\"\\r{}/{}\".format(k, 100), end=\"\")\n",
        "    times[k-1, 0] = timeit(\"kmeans_.fit(X)\", number=10, globals=globals())\n",
        "    times[k-1, 1]  = timeit(\"minibatch_kmeans.fit(X)\", number=10, globals=globals())\n",
        "    inertias[k-1, 0] = kmeans_.inertia_\n",
        "    inertias[k-1, 1] = minibatch_kmeans.inertia_"
      ],
      "execution_count": 57,
      "outputs": [
        {
          "output_type": "stream",
          "text": [
            "100/100"
          ],
          "name": "stdout"
        }
      ]
    },
    {
      "cell_type": "code",
      "metadata": {
        "id": "hNeNEpcsD3iF",
        "colab": {
          "base_uri": "https://localhost:8080/",
          "height": 314
        },
        "outputId": "9599cad8-64e0-48d7-e199-cb97780af272"
      },
      "source": [
        "plt.figure(figsize=(10,4))\n",
        "\n",
        "plt.subplot(121)\n",
        "plt.plot(range(1, 101), inertias[:, 0], \"r--\", label=\"K-Means\")\n",
        "plt.plot(range(1, 101), inertias[:, 1], \"b.-\", label=\"Mini-batch K-Means\")\n",
        "plt.xlabel(\"$k$\", fontsize=16)\n",
        "plt.title(\"Inertia\", fontsize=14)\n",
        "plt.legend(fontsize=14)\n",
        "plt.axis([1, 100, 0, 100])\n",
        "\n",
        "plt.subplot(122)\n",
        "plt.plot(range(1, 101), times[:, 0], \"r--\", label=\"K-Means\")\n",
        "plt.plot(range(1, 101), times[:, 1], \"b.-\", label=\"Mini-batch K-Means\")\n",
        "plt.xlabel(\"$k$\", fontsize=16)\n",
        "plt.title(\"Training time (seconds)\", fontsize=14)\n",
        "plt.axis([1, 100, 0, 6])\n",
        "\n",
        "save_fig(\"minibatch_kmeans_vs_kmeans\")\n",
        "plt.show()"
      ],
      "execution_count": 58,
      "outputs": [
        {
          "output_type": "stream",
          "text": [
            "Saving figure minibatch_kmeans_vs_kmeans\n"
          ],
          "name": "stdout"
        },
        {
          "output_type": "display_data",
          "data": {
            "image/png": "[encoded data removed]",
            "text/plain": [
              "<Figure size 720x288 with 2 Axes>"
            ]
          },
          "metadata": {
            "tags": [],
            "needs_background": "light"
          }
        }
      ]
    },
    {
      "cell_type": "markdown",
      "metadata": {
        "id": "UAMtaLoGMTAf"
      },
      "source": [
        "Although the Mini-batch K-Means algorithm is much faster than the regular KMeans\n",
        "algorithm, its inertia is generally slightly worse, especially as the number of\n",
        "clusters increases. You can see this in Figure 9-6: the plot on the left compares the\n",
        "inertias of Mini-batch K-Means and regular K-Means models trained on the previous\n",
        "dataset using various numbers of clusters k. The difference between the two curves\n",
        "remains fairly constant, but this difference becomes more and more significant as k\n",
        "increases, since the inertia becomes smaller and smaller. In the plot on the right, you\n",
        "can see that Mini-batch K-Means is much faster than regular K-Means, and this difference\n",
        "increases with k."
      ]
    },
    {
      "cell_type": "markdown",
      "metadata": {
        "id": "_9cc36VyD3iF"
      },
      "source": [
        "### Finding the optimal number of clusters"
      ]
    },
    {
      "cell_type": "markdown",
      "metadata": {
        "id": "GisNT-FVD3iG"
      },
      "source": [
        "What if the number of clusters was set to a lower or greater value than 5?"
      ]
    },
    {
      "cell_type": "code",
      "metadata": {
        "id": "zcOwwla_D3iG",
        "colab": {
          "base_uri": "https://localhost:8080/",
          "height": 257
        },
        "outputId": "966a144f-254f-4eec-a646-7a7b940d9658"
      },
      "source": [
        "kmeans_k3 = KMeans(n_clusters=3, random_state=42)\n",
        "kmeans_k8 = KMeans(n_clusters=8, random_state=42)\n",
        "\n",
        "plot_clusterer_comparison(kmeans_k3, kmeans_k8, X, \"$k=3$\", \"$k=8$\")\n",
        "save_fig(\"bad_n_clusters_plot\")\n",
        "plt.show()"
      ],
      "execution_count": 59,
      "outputs": [
        {
          "output_type": "stream",
          "text": [
            "Saving figure bad_n_clusters_plot\n"
          ],
          "name": "stdout"
        },
        {
          "output_type": "display_data",
          "data": {
            "image/png": "[encoded data removed]",
            "text/plain": [
              "<Figure size 720x230.4 with 2 Axes>"
            ]
          },
          "metadata": {
            "tags": [],
            "needs_background": "light"
          }
        }
      ]
    },
    {
      "cell_type": "markdown",
      "metadata": {
        "id": "0OE1QINSD3iG"
      },
      "source": [
        "Ouch, these two models don't look great. What about their inertias?"
      ]
    },
    {
      "cell_type": "code",
      "metadata": {
        "id": "rPRJ_3G-D3iG",
        "colab": {
          "base_uri": "https://localhost:8080/"
        },
        "outputId": "e087ba2a-cc05-4896-ef99-6c92e21d6735"
      },
      "source": [
        "kmeans_k3.inertia_"
      ],
      "execution_count": 60,
      "outputs": [
        {
          "output_type": "execute_result",
          "data": {
            "text/plain": [
              "653.2167190021553"
            ]
          },
          "metadata": {
            "tags": []
          },
          "execution_count": 60
        }
      ]
    },
    {
      "cell_type": "code",
      "metadata": {
        "id": "yMn_rY3tD3iG",
        "colab": {
          "base_uri": "https://localhost:8080/"
        },
        "outputId": "553d773b-f316-4fe8-97b6-4e51aad2bbae"
      },
      "source": [
        "kmeans_k8.inertia_"
      ],
      "execution_count": 61,
      "outputs": [
        {
          "output_type": "execute_result",
          "data": {
            "text/plain": [
              "118.41983763508077"
            ]
          },
          "metadata": {
            "tags": []
          },
          "execution_count": 61
        }
      ]
    },
    {
      "cell_type": "markdown",
      "metadata": {
        "id": "9ylxta4rD3iH"
      },
      "source": [
        "No, we cannot simply take the value of $k$ that minimizes the inertia, since it keeps getting lower as we increase $k$. Indeed, the more clusters there are, the closer each instance will be to its closest centroid, and therefore the lower the inertia will be. However, we can plot the inertia as a function of $k$ and analyze the resulting curve:"
      ]
    },
    {
      "cell_type": "code",
      "metadata": {
        "id": "f9tbjer0D3iH"
      },
      "source": [
        "kmeans_per_k = [KMeans(n_clusters=k, random_state=42).fit(X)\n",
        "                for k in range(1, 10)]\n",
        "inertias = [model.inertia_ for model in kmeans_per_k]"
      ],
      "execution_count": 62,
      "outputs": []
    },
    {
      "cell_type": "markdown",
      "metadata": {
        "id": "51Af2rcQMjOg"
      },
      "source": [
        "The\n",
        "inertia is not a good performance metric when trying to choose k because it keeps\n",
        "getting lower as we increase k."
      ]
    },
    {
      "cell_type": "code",
      "metadata": {
        "id": "fNYD1TNtD3iH",
        "colab": {
          "base_uri": "https://localhost:8080/",
          "height": 278
        },
        "outputId": "79efdcdf-b80d-4e54-a511-771f7e4eec41"
      },
      "source": [
        "plt.figure(figsize=(8, 3.5))\n",
        "plt.plot(range(1, 10), inertias, \"bo-\")\n",
        "plt.xlabel(\"$k$\", fontsize=14)\n",
        "plt.ylabel(\"Inertia\", fontsize=14)\n",
        "plt.annotate('Elbow',\n",
        "             xy=(4, inertias[3]),\n",
        "             xytext=(0.55, 0.55),\n",
        "             textcoords='figure fraction',\n",
        "             fontsize=16,\n",
        "             arrowprops=dict(facecolor='black', shrink=0.1)\n",
        "            )\n",
        "plt.axis([1, 8.5, 0, 1300])\n",
        "save_fig(\"inertia_vs_k_plot\")\n",
        "plt.show()"
      ],
      "execution_count": 63,
      "outputs": [
        {
          "output_type": "stream",
          "text": [
            "Saving figure inertia_vs_k_plot\n"
          ],
          "name": "stdout"
        },
        {
          "output_type": "display_data",
          "data": {
            "image/png": "[encoded data removed]",
            "text/plain": [
              "<Figure size 576x252 with 1 Axes>"
            ]
          },
          "metadata": {
            "tags": [],
            "needs_background": "light"
          }
        }
      ]
    },
    {
      "cell_type": "markdown",
      "metadata": {
        "id": "x1SAuJMxD3iH"
      },
      "source": [
        "As you can see, there is an elbow at $k=4$, which means that less clusters than that would be bad, and more clusters would not help much and might cut clusters in half. So $k=4$ is a pretty good choice. Of course in this example it is not perfect since it means that the two blobs in the lower left will be considered as just a single cluster, but it's a pretty good clustering nonetheless."
      ]
    },
    {
      "cell_type": "markdown",
      "metadata": {
        "id": "Ikbu4naSM96z"
      },
      "source": [
        "This technique for choosing the best value for the number of clusters is rather coarse.\n",
        "A more precise approach (but also more computationally expensive) is to use the\n",
        "silhouette score, which is the mean silhouette coefficient over all the instances"
      ]
    },
    {
      "cell_type": "code",
      "metadata": {
        "id": "VjZbDol1D3iH",
        "colab": {
          "base_uri": "https://localhost:8080/",
          "height": 287
        },
        "outputId": "e8578388-08e8-4a1a-80ce-2d1ec9ca148a"
      },
      "source": [
        "plot_decision_boundaries(kmeans_per_k[4-1], X)\n",
        "plt.show()"
      ],
      "execution_count": 64,
      "outputs": [
        {
          "output_type": "display_data",
          "data": {
            "image/png": "[encoded data removed]",
            "text/plain": [
              "<Figure size 432x288 with 1 Axes>"
            ]
          },
          "metadata": {
            "tags": [],
            "needs_background": "light"
          }
        }
      ]
    },
    {
      "cell_type": "markdown",
      "metadata": {
        "id": "wsamdIiPD3iI"
      },
      "source": [
        "Another approach is to look at the _silhouette score_, which is the mean _silhouette coefficient_ over all the instances. An instance's silhouette coefficient is equal to $(b - a)/\\max(a, b)$ where $a$ is the mean distance to the other instances in the same cluster (it is the _mean intra-cluster distance_), and $b$ is the _mean nearest-cluster distance_, that is the mean distance to the instances of the next closest cluster (defined as the one that minimizes $b$, excluding the instance's own cluster). The silhouette coefficient can vary between -1 and +1: a coefficient close to +1 means that the instance is well inside its own cluster and far from other clusters, while a coefficient close to 0 means that it is close to a cluster boundary, and finally a coefficient close to -1 means that the instance may have been assigned to the wrong cluster."
      ]
    },
    {
      "cell_type": "markdown",
      "metadata": {
        "id": "bxWiPeezD3iI"
      },
      "source": [
        "Let's plot the silhouette score as a function of $k$:"
      ]
    },
    {
      "cell_type": "markdown",
      "metadata": {
        "id": "HUAQD1v2OFJN"
      },
      "source": [
        "1-> as when a->0 and max is b therefor-> b/b=1, else in any case b-1/b won't be 1."
      ]
    },
    {
      "cell_type": "code",
      "metadata": {
        "id": "qpp4YZRZD3iI"
      },
      "source": [
        "from sklearn.metrics import silhouette_score"
      ],
      "execution_count": 65,
      "outputs": []
    },
    {
      "cell_type": "code",
      "metadata": {
        "id": "NCbefsobD3iI",
        "colab": {
          "base_uri": "https://localhost:8080/"
        },
        "outputId": "6a6aa050-779b-4c23-8e8d-1d0fe15036fe"
      },
      "source": [
        "silhouette_score(X, kmeans.labels_)"
      ],
      "execution_count": 66,
      "outputs": [
        {
          "output_type": "execute_result",
          "data": {
            "text/plain": [
              "0.655517642572828"
            ]
          },
          "metadata": {
            "tags": []
          },
          "execution_count": 66
        }
      ]
    },
    {
      "cell_type": "code",
      "metadata": {
        "id": "wpx7eAcHD3iI"
      },
      "source": [
        "silhouette_scores = [silhouette_score(X, model.labels_)\n",
        "                     for model in kmeans_per_k[1:]]"
      ],
      "execution_count": 67,
      "outputs": []
    },
    {
      "cell_type": "code",
      "metadata": {
        "id": "bScI5TyoD3iJ",
        "colab": {
          "base_uri": "https://localhost:8080/",
          "height": 242
        },
        "outputId": "a1a0951e-3256-4b1d-84a5-d9620340b7de"
      },
      "source": [
        "plt.figure(figsize=(8, 3))\n",
        "plt.plot(range(2, 10), silhouette_scores, \"bo-\")\n",
        "plt.xlabel(\"$k$\", fontsize=14)\n",
        "plt.ylabel(\"Silhouette score\", fontsize=14)\n",
        "plt.axis([1.8, 8.5, 0.55, 0.7])\n",
        "save_fig(\"silhouette_score_vs_k_plot\")\n",
        "plt.show()"
      ],
      "execution_count": 68,
      "outputs": [
        {
          "output_type": "stream",
          "text": [
            "Saving figure silhouette_score_vs_k_plot\n"
          ],
          "name": "stdout"
        },
        {
          "output_type": "display_data",
          "data": {
            "image/png": "[encoded data removed]",
            "text/plain": [
              "<Figure size 576x216 with 1 Axes>"
            ]
          },
          "metadata": {
            "tags": [],
            "needs_background": "light"
          }
        }
      ]
    },
    {
      "cell_type": "markdown",
      "metadata": {
        "id": "0_zoSwM9D3iJ"
      },
      "source": [
        "As you can see, this visualization is much richer than the previous one: in particular, although it confirms that $k=4$ is a very good choice, but it also underlines the fact that $k=5$ is quite good as well."
      ]
    },
    {
      "cell_type": "markdown",
      "metadata": {
        "id": "BXozX1yXD3iJ"
      },
      "source": [
        "An even more informative visualization is given when you plot every instance's silhouette coefficient, sorted by the cluster they are assigned to and by the value of the coefficient. This is called a _silhouette diagram_:"
      ]
    },
    {
      "cell_type": "markdown",
      "metadata": {
        "id": "GYHYZX1fUx2c"
      },
      "source": [
        "The shape’s height indicates the number of instances\n",
        "the cluster contains, and its width represents the sorted silhouette coefficients of the\n",
        "instances in the cluster (wider is better). The dashed line indicates the mean silhouette\n",
        "coefficient."
      ]
    },
    {
      "cell_type": "code",
      "metadata": {
        "id": "t_wUBkPiD3iJ",
        "colab": {
          "base_uri": "https://localhost:8080/",
          "height": 674
        },
        "outputId": "4e88aca7-754b-449c-8a26-55a5bce9ac44"
      },
      "source": [
        "from sklearn.metrics import silhouette_samples\n",
        "from matplotlib.ticker import FixedLocator, FixedFormatter\n",
        "\n",
        "plt.figure(figsize=(11, 9))\n",
        "\n",
        "for k in (3, 4, 5, 6):\n",
        "    plt.subplot(2, 2, k - 2)\n",
        "    \n",
        "    y_pred = kmeans_per_k[k - 1].labels_\n",
        "    silhouette_coefficients = silhouette_samples(X, y_pred)\n",
        "\n",
        "    padding = len(X) // 30\n",
        "    pos = padding\n",
        "    ticks = []\n",
        "    for i in range(k):\n",
        "        coeffs = silhouette_coefficients[y_pred == i]\n",
        "        coeffs.sort()\n",
        "\n",
        "        color = mpl.cm.Spectral(i / k)\n",
        "        plt.fill_betweenx(np.arange(pos, pos + len(coeffs)), 0, coeffs,\n",
        "                          facecolor=color, edgecolor=color, alpha=0.7)\n",
        "        ticks.append(pos + len(coeffs) // 2)\n",
        "        pos += len(coeffs) + padding\n",
        "\n",
        "    plt.gca().yaxis.set_major_locator(FixedLocator(ticks))\n",
        "    plt.gca().yaxis.set_major_formatter(FixedFormatter(range(k)))\n",
        "    if k in (3, 5):\n",
        "        plt.ylabel(\"Cluster\")\n",
        "    \n",
        "    if k in (5, 6):\n",
        "        plt.gca().set_xticks([-0.1, 0, 0.2, 0.4, 0.6, 0.8, 1])\n",
        "        plt.xlabel(\"Silhouette Coefficient\")\n",
        "    else:\n",
        "        plt.tick_params(labelbottom=False)\n",
        "\n",
        "    plt.axvline(x=silhouette_scores[k - 2], color=\"red\", linestyle=\"--\")\n",
        "    plt.title(\"$k={}$\".format(k), fontsize=16)\n",
        "\n",
        "save_fig(\"silhouette_analysis_plot\")\n",
        "plt.show()"
      ],
      "execution_count": 69,
      "outputs": [
        {
          "output_type": "stream",
          "text": [
            "Saving figure silhouette_analysis_plot\n"
          ],
          "name": "stdout"
        },
        {
          "output_type": "display_data",
          "data": {
            "image/png": "[encoded data removed]",
            "text/plain": [
              "<Figure size 792x648 with 4 Axes>"
            ]
          },
          "metadata": {
            "tags": [],
            "needs_background": "light"
          }
        }
      ]
    },
    {
      "cell_type": "markdown",
      "metadata": {
        "id": "tGaxaQ5wD3iJ"
      },
      "source": [
        "As you can see, $k=5$ looks like the best option here, as all clusters are roughly the same size, and they all cross the dashed line, which represents the mean silhouette score."
      ]
    },
    {
      "cell_type": "markdown",
      "metadata": {
        "id": "berBE3n5D3iK"
      },
      "source": [
        "### Limits of K-Means"
      ]
    },
    {
      "cell_type": "code",
      "metadata": {
        "id": "FwRR--cCD3iK"
      },
      "source": [
        "X1, y1 = make_blobs(n_samples=1000, centers=((4, -4), (0, 0)), random_state=42)\n",
        "X1 = X1.dot(np.array([[0.374, 0.95], [0.732, 0.598]]))\n",
        "X2, y2 = make_blobs(n_samples=250, centers=1, random_state=42)\n",
        "X2 = X2 + [6, -8]\n",
        "X = np.r_[X1, X2]\n",
        "y = np.r_[y1, y2]"
      ],
      "execution_count": 70,
      "outputs": []
    },
    {
      "cell_type": "code",
      "metadata": {
        "id": "o0CWNRbqD3iK",
        "colab": {
          "base_uri": "https://localhost:8080/",
          "height": 287
        },
        "outputId": "0346b19c-698a-4297-e1d5-d26fedd52f52"
      },
      "source": [
        "plot_clusters(X)"
      ],
      "execution_count": 71,
      "outputs": [
        {
          "output_type": "display_data",
          "data": {
            "image/png": "[encoded data removed]",
            "text/plain": [
              "<Figure size 432x288 with 1 Axes>"
            ]
          },
          "metadata": {
            "tags": [],
            "needs_background": "light"
          }
        }
      ]
    },
    {
      "cell_type": "code",
      "metadata": {
        "id": "OjxzX2tvD3iK",
        "colab": {
          "base_uri": "https://localhost:8080/"
        },
        "outputId": "e857adfe-d26a-4ed6-ccd2-f3b655fb5f1b"
      },
      "source": [
        "kmeans_good = KMeans(n_clusters=3, init=np.array([[-1.5, 2.5], [0.5, 0], [4, 0]]), n_init=1, random_state=42)\n",
        "kmeans_bad = KMeans(n_clusters=3, random_state=42)\n",
        "kmeans_good.fit(X)\n",
        "kmeans_bad.fit(X)"
      ],
      "execution_count": 72,
      "outputs": [
        {
          "output_type": "execute_result",
          "data": {
            "text/plain": [
              "KMeans(algorithm='auto', copy_x=True, init='k-means++', max_iter=300,\n",
              "       n_clusters=3, n_init=10, n_jobs=None, precompute_distances='auto',\n",
              "       random_state=42, tol=0.0001, verbose=0)"
            ]
          },
          "metadata": {
            "tags": []
          },
          "execution_count": 72
        }
      ]
    },
    {
      "cell_type": "code",
      "metadata": {
        "id": "4uauQCRzD3iK",
        "colab": {
          "base_uri": "https://localhost:8080/",
          "height": 257
        },
        "outputId": "8adc5535-99de-45c8-bd5b-1bd026a250dd"
      },
      "source": [
        "plt.figure(figsize=(10, 3.2))\n",
        "\n",
        "plt.subplot(121)\n",
        "plot_decision_boundaries(kmeans_good, X)\n",
        "plt.title(\"Inertia = {:.1f}\".format(kmeans_good.inertia_), fontsize=14)\n",
        "\n",
        "plt.subplot(122)\n",
        "plot_decision_boundaries(kmeans_bad, X, show_ylabels=False)\n",
        "plt.title(\"Inertia = {:.1f}\".format(kmeans_bad.inertia_), fontsize=14)\n",
        "\n",
        "save_fig(\"bad_kmeans_plot\")\n",
        "plt.show()"
      ],
      "execution_count": 73,
      "outputs": [
        {
          "output_type": "stream",
          "text": [
            "Saving figure bad_kmeans_plot\n"
          ],
          "name": "stdout"
        },
        {
          "output_type": "display_data",
          "data": {
            "image/png": "[encoded data removed]",
            "text/plain": [
              "<Figure size 720x230.4 with 2 Axes>"
            ]
          },
          "metadata": {
            "tags": [],
            "needs_background": "light"
          }
        }
      ]
    },
    {
      "cell_type": "markdown",
      "metadata": {
        "id": "RXrlPxYdD3iL"
      },
      "source": [
        "### Using clustering for image segmentation"
      ]
    },
    {
      "cell_type": "code",
      "metadata": {
        "id": "HVrTZGrlD3iL",
        "colab": {
          "base_uri": "https://localhost:8080/"
        },
        "outputId": "fb6f5bd5-9b60-4394-e4d8-abaab8e8cbef"
      },
      "source": [
        "# Download the ladybug image\n",
        "images_path = os.path.join(PROJECT_ROOT_DIR, \"images\", \"unsupervised_learning\")\n",
        "os.makedirs(images_path, exist_ok=True)\n",
        "DOWNLOAD_ROOT = \"https://raw.githubusercontent.com/ageron/handson-ml2/master/\"\n",
        "filename = \"ladybug.png\"\n",
        "print(\"Downloading\", filename)\n",
        "url = DOWNLOAD_ROOT + \"images/unsupervised_learning/\" + filename\n",
        "urllib.request.urlretrieve(url, os.path.join(images_path, filename))"
      ],
      "execution_count": 74,
      "outputs": [
        {
          "output_type": "stream",
          "text": [
            "Downloading ladybug.png\n"
          ],
          "name": "stdout"
        },
        {
          "output_type": "execute_result",
          "data": {
            "text/plain": [
              "('./images/unsupervised_learning/ladybug.png',\n",
              " <http.client.HTTPMessage at 0x7f6a2e523d10>)"
            ]
          },
          "metadata": {
            "tags": []
          },
          "execution_count": 74
        }
      ]
    },
    {
      "cell_type": "code",
      "metadata": {
        "id": "m3GnnMxgD3iL",
        "colab": {
          "base_uri": "https://localhost:8080/"
        },
        "outputId": "86326701-5c77-44fe-fcaa-9c2f93305179"
      },
      "source": [
        "from matplotlib.image import imread\n",
        "image = imread(os.path.join(images_path, filename))\n",
        "image.shape"
      ],
      "execution_count": 75,
      "outputs": [
        {
          "output_type": "execute_result",
          "data": {
            "text/plain": [
              "(533, 800, 3)"
            ]
          },
          "metadata": {
            "tags": []
          },
          "execution_count": 75
        }
      ]
    },
    {
      "cell_type": "code",
      "metadata": {
        "id": "0sEpc7SOD3iL"
      },
      "source": [
        "X = image.reshape(-1, 3)\n",
        "kmeans = KMeans(n_clusters=8, random_state=42).fit(X)\n",
        "segmented_img = kmeans.cluster_centers_[kmeans.labels_]\n",
        "segmented_img = segmented_img.reshape(image.shape)"
      ],
      "execution_count": 76,
      "outputs": []
    },
    {
      "cell_type": "code",
      "metadata": {
        "id": "JJ1Fwt2bX2Vn"
      },
      "source": [
        "image.describe()"
      ],
      "execution_count": null,
      "outputs": []
    },
    {
      "cell_type": "code",
      "metadata": {
        "id": "6udv0CuJD3iM"
      },
      "source": [
        "segmented_imgs = []\n",
        "n_colors = (10, 8, 6, 4, 2)\n",
        "for n_clusters in n_colors:\n",
        "    kmeans = KMeans(n_clusters=n_clusters, random_state=42).fit(X)\n",
        "    segmented_img = kmeans.cluster_centers_[kmeans.labels_]\n",
        "    segmented_imgs.append(segmented_img.reshape(image.shape))"
      ],
      "execution_count": null,
      "outputs": []
    },
    {
      "cell_type": "code",
      "metadata": {
        "id": "rwSs8LvuD3iM"
      },
      "source": [
        "plt.figure(figsize=(10,5))\n",
        "plt.subplots_adjust(wspace=0.05, hspace=0.1)\n",
        "\n",
        "plt.subplot(231)\n",
        "plt.imshow(image)\n",
        "plt.title(\"Original image\")\n",
        "plt.axis('off')\n",
        "\n",
        "for idx, n_clusters in enumerate(n_colors):\n",
        "    plt.subplot(232 + idx)\n",
        "    plt.imshow(segmented_imgs[idx])\n",
        "    plt.title(\"{} colors\".format(n_clusters))\n",
        "    plt.axis('off')\n",
        "\n",
        "save_fig('image_segmentation_diagram', tight_layout=False)\n",
        "plt.show()"
      ],
      "execution_count": null,
      "outputs": []
    },
    {
      "cell_type": "markdown",
      "metadata": {
        "id": "RfzjMYv9D3iM"
      },
      "source": [
        "### Using Clustering for Preprocessing"
      ]
    },
    {
      "cell_type": "markdown",
      "metadata": {
        "id": "GHVoxrmeD3iM"
      },
      "source": [
        "Let's tackle the _digits dataset_ which is a simple MNIST-like dataset containing 1,797 grayscale 8×8 images representing digits 0 to 9."
      ]
    },
    {
      "cell_type": "code",
      "metadata": {
        "id": "wbxq4fKAD3iM"
      },
      "source": [
        "from sklearn.datasets import load_digits"
      ],
      "execution_count": null,
      "outputs": []
    },
    {
      "cell_type": "code",
      "metadata": {
        "id": "Qi-G9NLID3iM"
      },
      "source": [
        "X_digits, y_digits = load_digits(return_X_y=True)"
      ],
      "execution_count": null,
      "outputs": []
    },
    {
      "cell_type": "markdown",
      "metadata": {
        "id": "TBr4JIzCD3iN"
      },
      "source": [
        "Let's split it into a training set and a test set:"
      ]
    },
    {
      "cell_type": "code",
      "metadata": {
        "id": "U0yynKWQD3iN"
      },
      "source": [
        "from sklearn.model_selection import train_test_split"
      ],
      "execution_count": 81,
      "outputs": []
    },
    {
      "cell_type": "code",
      "metadata": {
        "id": "gPa7L2gdD3iN"
      },
      "source": [
        "X_train, X_test, y_train, y_test = train_test_split(X_digits, y_digits, random_state=42)"
      ],
      "execution_count": null,
      "outputs": []
    },
    {
      "cell_type": "markdown",
      "metadata": {
        "id": "hHo5AUkdD3iN"
      },
      "source": [
        "Now let's fit a Logistic Regression model and evaluate it on the test set:"
      ]
    },
    {
      "cell_type": "code",
      "metadata": {
        "id": "92XbIk_AD3iN"
      },
      "source": [
        "from sklearn.linear_model import LogisticRegression"
      ],
      "execution_count": null,
      "outputs": []
    },
    {
      "cell_type": "code",
      "metadata": {
        "id": "Ous_QGThD3iN"
      },
      "source": [
        "log_reg = LogisticRegression(multi_class=\"ovr\", solver=\"lbfgs\", max_iter=5000, random_state=42)\n",
        "log_reg.fit(X_train, y_train)"
      ],
      "execution_count": null,
      "outputs": []
    },
    {
      "cell_type": "code",
      "metadata": {
        "id": "VyR24gj5D3iO"
      },
      "source": [
        "log_reg_score = log_reg.score(X_test, y_test)\n",
        "log_reg_score"
      ],
      "execution_count": null,
      "outputs": []
    },
    {
      "cell_type": "markdown",
      "metadata": {
        "id": "kX2jMOpMD3iO"
      },
      "source": [
        "Okay, that's our baseline: 96.89% accuracy. Let's see if we can do better by using K-Means as a preprocessing step. We will create a pipeline that will first cluster the training set into 50 clusters and replace the images with their distances to the 50 clusters, then apply a logistic regression model:"
      ]
    },
    {
      "cell_type": "code",
      "metadata": {
        "id": "wXe-1_6-D3iO"
      },
      "source": [
        "from sklearn.pipeline import Pipeline"
      ],
      "execution_count": null,
      "outputs": []
    },
    {
      "cell_type": "code",
      "metadata": {
        "id": "pYumr6pvD3iO"
      },
      "source": [
        "pipeline = Pipeline([\n",
        "    (\"kmeans\", KMeans(n_clusters=50, random_state=42)),\n",
        "    (\"log_reg\", LogisticRegression(multi_class=\"ovr\", solver=\"lbfgs\", max_iter=5000, random_state=42)),\n",
        "])\n",
        "pipeline.fit(X_train, y_train)"
      ],
      "execution_count": null,
      "outputs": []
    },
    {
      "cell_type": "code",
      "metadata": {
        "id": "wgtM6vQtD3iP"
      },
      "source": [
        "pipeline_score = pipeline.score(X_test, y_test)\n",
        "pipeline_score"
      ],
      "execution_count": null,
      "outputs": []
    },
    {
      "cell_type": "markdown",
      "metadata": {
        "id": "WDnfgKt7D3iP"
      },
      "source": [
        "How much did the error rate drop?"
      ]
    },
    {
      "cell_type": "code",
      "metadata": {
        "id": "IQwEGSveD3iP"
      },
      "source": [
        "1 - (1 - pipeline_score) / (1 - log_reg_score)"
      ],
      "execution_count": null,
      "outputs": []
    },
    {
      "cell_type": "markdown",
      "metadata": {
        "id": "F2137ic7D3iP"
      },
      "source": [
        "How about that? We reduced the error rate by over 35%! But we chose the number of clusters $k$ completely arbitrarily, we can surely do better. Since K-Means is just a preprocessing step in a classification pipeline, finding a good value for $k$ is much simpler than earlier: there's no need to perform silhouette analysis or minimize the inertia, the best value of $k$ is simply the one that results in the best classification performance."
      ]
    },
    {
      "cell_type": "code",
      "metadata": {
        "id": "M_T2UpS7D3iP"
      },
      "source": [
        "from sklearn.model_selection import GridSearchCV"
      ],
      "execution_count": null,
      "outputs": []
    },
    {
      "cell_type": "markdown",
      "metadata": {
        "id": "RC04qWAOD3iQ"
      },
      "source": [
        "**Warning**: the following cell may take close to 20 minutes to run, or more depending on your hardware."
      ]
    },
    {
      "cell_type": "code",
      "metadata": {
        "id": "JpmpF1aiD3iQ",
        "colab": {
          "base_uri": "https://localhost:8080/"
        },
        "outputId": "d8e94fc5-2c3b-41f1-bbcf-5beac4b12194"
      },
      "source": [
        "param_grid = dict(kmeans__n_clusters=range(2, 100))\n",
        "grid_clf = GridSearchCV(pipeline, param_grid, cv=3, verbose=2)\n",
        "grid_clf.fit(X_train, y_train)"
      ],
      "execution_count": null,
      "outputs": [
        {
          "output_type": "stream",
          "text": [
            "Fitting 3 folds for each of 98 candidates, totalling 294 fits\n",
            "[CV] kmeans__n_clusters=2 ............................................\n"
          ],
          "name": "stdout"
        },
        {
          "output_type": "stream",
          "text": [
            "[Parallel(n_jobs=1)]: Using backend SequentialBackend with 1 concurrent workers.\n"
          ],
          "name": "stderr"
        },
        {
          "output_type": "stream",
          "text": [
            "[CV] ............................. kmeans__n_clusters=2, total=   0.3s\n",
            "[CV] kmeans__n_clusters=2 ............................................\n"
          ],
          "name": "stdout"
        },
        {
          "output_type": "stream",
          "text": [
            "[Parallel(n_jobs=1)]: Done   1 out of   1 | elapsed:    0.3s remaining:    0.0s\n"
          ],
          "name": "stderr"
        },
        {
          "output_type": "stream",
          "text": [
            "[CV] ............................. kmeans__n_clusters=2, total=   0.2s\n",
            "[CV] kmeans__n_clusters=2 ............................................\n",
            "[CV] ............................. kmeans__n_clusters=2, total=   0.2s\n",
            "[CV] kmeans__n_clusters=3 ............................................\n",
            "[CV] ............................. kmeans__n_clusters=3, total=   0.3s\n",
            "[CV] kmeans__n_clusters=3 ............................................\n",
            "[CV] ............................. kmeans__n_clusters=3, total=   0.3s\n",
            "[CV] kmeans__n_clusters=3 ............................................\n",
            "[CV] ............................. kmeans__n_clusters=3, total=   0.3s\n",
            "[CV] kmeans__n_clusters=4 ............................................\n",
            "[CV] ............................. kmeans__n_clusters=4, total=   0.3s\n",
            "[CV] kmeans__n_clusters=4 ............................................\n",
            "[CV] ............................. kmeans__n_clusters=4, total=   0.3s\n",
            "[CV] kmeans__n_clusters=4 ............................................\n",
            "[CV] ............................. kmeans__n_clusters=4, total=   0.3s\n",
            "[CV] kmeans__n_clusters=5 ............................................\n",
            "[CV] ............................. kmeans__n_clusters=5, total=   0.3s\n",
            "[CV] kmeans__n_clusters=5 ............................................\n",
            "[CV] ............................. kmeans__n_clusters=5, total=   0.4s\n",
            "[CV] kmeans__n_clusters=5 ............................................\n",
            "[CV] ............................. kmeans__n_clusters=5, total=   0.4s\n",
            "[CV] kmeans__n_clusters=6 ............................................\n",
            "[CV] ............................. kmeans__n_clusters=6, total=   0.4s\n",
            "[CV] kmeans__n_clusters=6 ............................................\n",
            "[CV] ............................. kmeans__n_clusters=6, total=   0.4s\n",
            "[CV] kmeans__n_clusters=6 ............................................\n",
            "[CV] ............................. kmeans__n_clusters=6, total=   0.4s\n",
            "[CV] kmeans__n_clusters=7 ............................................\n",
            "[CV] ............................. kmeans__n_clusters=7, total=   0.5s\n",
            "[CV] kmeans__n_clusters=7 ............................................\n",
            "[CV] ............................. kmeans__n_clusters=7, total=   0.5s\n",
            "[CV] kmeans__n_clusters=7 ............................................\n",
            "[CV] ............................. kmeans__n_clusters=7, total=   0.5s\n",
            "[CV] kmeans__n_clusters=8 ............................................\n",
            "[CV] ............................. kmeans__n_clusters=8, total=   0.6s\n",
            "[CV] kmeans__n_clusters=8 ............................................\n",
            "[CV] ............................. kmeans__n_clusters=8, total=   0.6s\n",
            "[CV] kmeans__n_clusters=8 ............................................\n",
            "[CV] ............................. kmeans__n_clusters=8, total=   0.6s\n",
            "[CV] kmeans__n_clusters=9 ............................................\n",
            "[CV] ............................. kmeans__n_clusters=9, total=   0.7s\n",
            "[CV] kmeans__n_clusters=9 ............................................\n",
            "[CV] ............................. kmeans__n_clusters=9, total=   0.7s\n",
            "[CV] kmeans__n_clusters=9 ............................................\n",
            "[CV] ............................. kmeans__n_clusters=9, total=   0.7s\n",
            "[CV] kmeans__n_clusters=10 ...........................................\n",
            "[CV] ............................ kmeans__n_clusters=10, total=   0.9s\n",
            "[CV] kmeans__n_clusters=10 ...........................................\n",
            "[CV] ............................ kmeans__n_clusters=10, total=   0.9s\n",
            "[CV] kmeans__n_clusters=10 ...........................................\n",
            "[CV] ............................ kmeans__n_clusters=10, total=   0.9s\n",
            "[CV] kmeans__n_clusters=11 ...........................................\n",
            "[CV] ............................ kmeans__n_clusters=11, total=   1.3s\n",
            "[CV] kmeans__n_clusters=11 ...........................................\n",
            "[CV] ............................ kmeans__n_clusters=11, total=   1.5s\n",
            "[CV] kmeans__n_clusters=11 ...........................................\n",
            "[CV] ............................ kmeans__n_clusters=11, total=   1.2s\n",
            "[CV] kmeans__n_clusters=12 ...........................................\n",
            "[CV] ............................ kmeans__n_clusters=12, total=   1.6s\n",
            "[CV] kmeans__n_clusters=12 ...........................................\n",
            "[CV] ............................ kmeans__n_clusters=12, total=   1.6s\n",
            "[CV] kmeans__n_clusters=12 ...........................................\n",
            "[CV] ............................ kmeans__n_clusters=12, total=   1.8s\n",
            "[CV] kmeans__n_clusters=13 ...........................................\n",
            "[CV] ............................ kmeans__n_clusters=13, total=   2.0s\n",
            "[CV] kmeans__n_clusters=13 ...........................................\n",
            "[CV] ............................ kmeans__n_clusters=13, total=   1.9s\n",
            "[CV] kmeans__n_clusters=13 ...........................................\n",
            "[CV] ............................ kmeans__n_clusters=13, total=   1.9s\n",
            "[CV] kmeans__n_clusters=14 ...........................................\n",
            "[CV] ............................ kmeans__n_clusters=14, total=   2.2s\n",
            "[CV] kmeans__n_clusters=14 ...........................................\n",
            "[CV] ............................ kmeans__n_clusters=14, total=   2.2s\n",
            "[CV] kmeans__n_clusters=14 ...........................................\n",
            "[CV] ............................ kmeans__n_clusters=14, total=   2.2s\n",
            "[CV] kmeans__n_clusters=15 ...........................................\n",
            "[CV] ............................ kmeans__n_clusters=15, total=   2.9s\n",
            "[CV] kmeans__n_clusters=15 ...........................................\n",
            "[CV] ............................ kmeans__n_clusters=15, total=   2.4s\n",
            "[CV] kmeans__n_clusters=15 ...........................................\n",
            "[CV] ............................ kmeans__n_clusters=15, total=   2.3s\n",
            "[CV] kmeans__n_clusters=16 ...........................................\n",
            "[CV] ............................ kmeans__n_clusters=16, total=   2.8s\n",
            "[CV] kmeans__n_clusters=16 ...........................................\n",
            "[CV] ............................ kmeans__n_clusters=16, total=   2.8s\n",
            "[CV] kmeans__n_clusters=16 ...........................................\n",
            "[CV] ............................ kmeans__n_clusters=16, total=   2.8s\n",
            "[CV] kmeans__n_clusters=17 ...........................................\n",
            "[CV] ............................ kmeans__n_clusters=17, total=   3.2s\n",
            "[CV] kmeans__n_clusters=17 ...........................................\n",
            "[CV] ............................ kmeans__n_clusters=17, total=   3.0s\n",
            "[CV] kmeans__n_clusters=17 ...........................................\n",
            "[CV] ............................ kmeans__n_clusters=17, total=   2.9s\n",
            "[CV] kmeans__n_clusters=18 ...........................................\n",
            "[CV] ............................ kmeans__n_clusters=18, total=   3.4s\n",
            "[CV] kmeans__n_clusters=18 ...........................................\n",
            "[CV] ............................ kmeans__n_clusters=18, total=   3.1s\n",
            "[CV] kmeans__n_clusters=18 ...........................................\n",
            "[CV] ............................ kmeans__n_clusters=18, total=   3.2s\n",
            "[CV] kmeans__n_clusters=19 ...........................................\n",
            "[CV] ............................ kmeans__n_clusters=19, total=   3.6s\n",
            "[CV] kmeans__n_clusters=19 ...........................................\n",
            "[CV] ............................ kmeans__n_clusters=19, total=   3.2s\n",
            "[CV] kmeans__n_clusters=19 ...........................................\n",
            "[CV] ............................ kmeans__n_clusters=19, total=   3.1s\n",
            "[CV] kmeans__n_clusters=20 ...........................................\n",
            "[CV] ............................ kmeans__n_clusters=20, total=   3.6s\n",
            "[CV] kmeans__n_clusters=20 ...........................................\n",
            "[CV] ............................ kmeans__n_clusters=20, total=   3.3s\n",
            "[CV] kmeans__n_clusters=20 ...........................................\n",
            "[CV] ............................ kmeans__n_clusters=20, total=   3.6s\n",
            "[CV] kmeans__n_clusters=21 ...........................................\n",
            "[CV] ............................ kmeans__n_clusters=21, total=   4.1s\n",
            "[CV] kmeans__n_clusters=21 ...........................................\n",
            "[CV] ............................ kmeans__n_clusters=21, total=   4.2s\n",
            "[CV] kmeans__n_clusters=21 ...........................................\n",
            "[CV] ............................ kmeans__n_clusters=21, total=   3.6s\n",
            "[CV] kmeans__n_clusters=22 ...........................................\n",
            "[CV] ............................ kmeans__n_clusters=22, total=   4.1s\n",
            "[CV] kmeans__n_clusters=22 ...........................................\n",
            "[CV] ............................ kmeans__n_clusters=22, total=   4.0s\n",
            "[CV] kmeans__n_clusters=22 ...........................................\n",
            "[CV] ............................ kmeans__n_clusters=22, total=   4.0s\n",
            "[CV] kmeans__n_clusters=23 ...........................................\n",
            "[CV] ............................ kmeans__n_clusters=23, total=   4.3s\n",
            "[CV] kmeans__n_clusters=23 ...........................................\n",
            "[CV] ............................ kmeans__n_clusters=23, total=   4.4s\n",
            "[CV] kmeans__n_clusters=23 ...........................................\n",
            "[CV] ............................ kmeans__n_clusters=23, total=   4.2s\n",
            "[CV] kmeans__n_clusters=24 ...........................................\n",
            "[CV] ............................ kmeans__n_clusters=24, total=   4.5s\n",
            "[CV] kmeans__n_clusters=24 ...........................................\n",
            "[CV] ............................ kmeans__n_clusters=24, total=   4.3s\n",
            "[CV] kmeans__n_clusters=24 ...........................................\n",
            "[CV] ............................ kmeans__n_clusters=24, total=   3.9s\n",
            "[CV] kmeans__n_clusters=25 ...........................................\n",
            "[CV] ............................ kmeans__n_clusters=25, total=   4.2s\n",
            "[CV] kmeans__n_clusters=25 ...........................................\n",
            "[CV] ............................ kmeans__n_clusters=25, total=   4.5s\n",
            "[CV] kmeans__n_clusters=25 ...........................................\n",
            "[CV] ............................ kmeans__n_clusters=25, total=   4.3s\n",
            "[CV] kmeans__n_clusters=26 ...........................................\n",
            "[CV] ............................ kmeans__n_clusters=26, total=   4.5s\n",
            "[CV] kmeans__n_clusters=26 ...........................................\n",
            "[CV] ............................ kmeans__n_clusters=26, total=   4.8s\n",
            "[CV] kmeans__n_clusters=26 ...........................................\n",
            "[CV] ............................ kmeans__n_clusters=26, total=   4.5s\n",
            "[CV] kmeans__n_clusters=27 ...........................................\n",
            "[CV] ............................ kmeans__n_clusters=27, total=   4.7s\n",
            "[CV] kmeans__n_clusters=27 ...........................................\n",
            "[CV] ............................ kmeans__n_clusters=27, total=   4.9s\n",
            "[CV] kmeans__n_clusters=27 ...........................................\n",
            "[CV] ............................ kmeans__n_clusters=27, total=   4.7s\n",
            "[CV] kmeans__n_clusters=28 ...........................................\n",
            "[CV] ............................ kmeans__n_clusters=28, total=   5.0s\n",
            "[CV] kmeans__n_clusters=28 ...........................................\n",
            "[CV] ............................ kmeans__n_clusters=28, total=   4.9s\n",
            "[CV] kmeans__n_clusters=28 ...........................................\n",
            "[CV] ............................ kmeans__n_clusters=28, total=   4.9s\n",
            "[CV] kmeans__n_clusters=29 ...........................................\n",
            "[CV] ............................ kmeans__n_clusters=29, total=   5.0s\n",
            "[CV] kmeans__n_clusters=29 ...........................................\n",
            "[CV] ............................ kmeans__n_clusters=29, total=   4.9s\n",
            "[CV] kmeans__n_clusters=29 ...........................................\n",
            "[CV] ............................ kmeans__n_clusters=29, total=   5.0s\n",
            "[CV] kmeans__n_clusters=30 ...........................................\n",
            "[CV] ............................ kmeans__n_clusters=30, total=   5.5s\n",
            "[CV] kmeans__n_clusters=30 ...........................................\n",
            "[CV] ............................ kmeans__n_clusters=30, total=   4.9s\n",
            "[CV] kmeans__n_clusters=30 ...........................................\n",
            "[CV] ............................ kmeans__n_clusters=30, total=   4.8s\n",
            "[CV] kmeans__n_clusters=31 ...........................................\n",
            "[CV] ............................ kmeans__n_clusters=31, total=   5.3s\n",
            "[CV] kmeans__n_clusters=31 ...........................................\n",
            "[CV] ............................ kmeans__n_clusters=31, total=   5.1s\n",
            "[CV] kmeans__n_clusters=31 ...........................................\n",
            "[CV] ............................ kmeans__n_clusters=31, total=   4.3s\n",
            "[CV] kmeans__n_clusters=32 ...........................................\n",
            "[CV] ............................ kmeans__n_clusters=32, total=   5.4s\n",
            "[CV] kmeans__n_clusters=32 ...........................................\n",
            "[CV] ............................ kmeans__n_clusters=32, total=   5.3s\n",
            "[CV] kmeans__n_clusters=32 ...........................................\n",
            "[CV] ............................ kmeans__n_clusters=32, total=   5.3s\n",
            "[CV] kmeans__n_clusters=33 ...........................................\n",
            "[CV] ............................ kmeans__n_clusters=33, total=   5.2s\n",
            "[CV] kmeans__n_clusters=33 ...........................................\n",
            "[CV] ............................ kmeans__n_clusters=33, total=   6.1s\n",
            "[CV] kmeans__n_clusters=33 ...........................................\n",
            "[CV] ............................ kmeans__n_clusters=33, total=   5.1s\n",
            "[CV] kmeans__n_clusters=34 ...........................................\n",
            "[CV] ............................ kmeans__n_clusters=34, total=   5.3s\n",
            "[CV] kmeans__n_clusters=34 ...........................................\n",
            "[CV] ............................ kmeans__n_clusters=34, total=   5.5s\n",
            "[CV] kmeans__n_clusters=34 ...........................................\n",
            "[CV] ............................ kmeans__n_clusters=34, total=   5.4s\n",
            "[CV] kmeans__n_clusters=35 ...........................................\n",
            "[CV] ............................ kmeans__n_clusters=35, total=   5.5s\n",
            "[CV] kmeans__n_clusters=35 ...........................................\n",
            "[CV] ............................ kmeans__n_clusters=35, total=   5.4s\n",
            "[CV] kmeans__n_clusters=35 ...........................................\n",
            "[CV] ............................ kmeans__n_clusters=35, total=   5.2s\n",
            "[CV] kmeans__n_clusters=36 ...........................................\n",
            "[CV] ............................ kmeans__n_clusters=36, total=   5.3s\n",
            "[CV] kmeans__n_clusters=36 ...........................................\n",
            "[CV] ............................ kmeans__n_clusters=36, total=   6.1s\n",
            "[CV] kmeans__n_clusters=36 ...........................................\n",
            "[CV] ............................ kmeans__n_clusters=36, total=   6.1s\n",
            "[CV] kmeans__n_clusters=37 ...........................................\n",
            "[CV] ............................ kmeans__n_clusters=37, total=   5.7s\n",
            "[CV] kmeans__n_clusters=37 ...........................................\n",
            "[CV] ............................ kmeans__n_clusters=37, total=   5.3s\n",
            "[CV] kmeans__n_clusters=37 ...........................................\n",
            "[CV] ............................ kmeans__n_clusters=37, total=   5.6s\n",
            "[CV] kmeans__n_clusters=38 ...........................................\n",
            "[CV] ............................ kmeans__n_clusters=38, total=   5.4s\n",
            "[CV] kmeans__n_clusters=38 ...........................................\n",
            "[CV] ............................ kmeans__n_clusters=38, total=   5.7s\n",
            "[CV] kmeans__n_clusters=38 ...........................................\n",
            "[CV] ............................ kmeans__n_clusters=38, total=   5.7s\n",
            "[CV] kmeans__n_clusters=39 ...........................................\n",
            "[CV] ............................ kmeans__n_clusters=39, total=   5.8s\n",
            "[CV] kmeans__n_clusters=39 ...........................................\n",
            "[CV] ............................ kmeans__n_clusters=39, total=   6.3s\n",
            "[CV] kmeans__n_clusters=39 ...........................................\n",
            "[CV] ............................ kmeans__n_clusters=39, total=   5.1s\n",
            "[CV] kmeans__n_clusters=40 ...........................................\n",
            "[CV] ............................ kmeans__n_clusters=40, total=   5.5s\n",
            "[CV] kmeans__n_clusters=40 ...........................................\n",
            "[CV] ............................ kmeans__n_clusters=40, total=   5.9s\n",
            "[CV] kmeans__n_clusters=40 ...........................................\n",
            "[CV] ............................ kmeans__n_clusters=40, total=   5.4s\n",
            "[CV] kmeans__n_clusters=41 ...........................................\n",
            "[CV] ............................ kmeans__n_clusters=41, total=   5.4s\n",
            "[CV] kmeans__n_clusters=41 ...........................................\n",
            "[CV] ............................ kmeans__n_clusters=41, total=   6.6s\n",
            "[CV] kmeans__n_clusters=41 ...........................................\n",
            "[CV] ............................ kmeans__n_clusters=41, total=   6.0s\n",
            "[CV] kmeans__n_clusters=42 ...........................................\n",
            "[CV] ............................ kmeans__n_clusters=42, total=   6.1s\n",
            "[CV] kmeans__n_clusters=42 ...........................................\n",
            "[CV] ............................ kmeans__n_clusters=42, total=   5.4s\n",
            "[CV] kmeans__n_clusters=42 ...........................................\n",
            "[CV] ............................ kmeans__n_clusters=42, total=   5.8s\n",
            "[CV] kmeans__n_clusters=43 ...........................................\n",
            "[CV] ............................ kmeans__n_clusters=43, total=   6.3s\n",
            "[CV] kmeans__n_clusters=43 ...........................................\n",
            "[CV] ............................ kmeans__n_clusters=43, total=   6.3s\n",
            "[CV] kmeans__n_clusters=43 ...........................................\n",
            "[CV] ............................ kmeans__n_clusters=43, total=   5.7s\n",
            "[CV] kmeans__n_clusters=44 ...........................................\n",
            "[CV] ............................ kmeans__n_clusters=44, total=   6.1s\n",
            "[CV] kmeans__n_clusters=44 ...........................................\n",
            "[CV] ............................ kmeans__n_clusters=44, total=   6.5s\n",
            "[CV] kmeans__n_clusters=44 ...........................................\n",
            "[CV] ............................ kmeans__n_clusters=44, total=   6.0s\n",
            "[CV] kmeans__n_clusters=45 ...........................................\n",
            "[CV] ............................ kmeans__n_clusters=45, total=   6.2s\n",
            "[CV] kmeans__n_clusters=45 ...........................................\n",
            "[CV] ............................ kmeans__n_clusters=45, total=   6.3s\n",
            "[CV] kmeans__n_clusters=45 ...........................................\n",
            "[CV] ............................ kmeans__n_clusters=45, total=   5.6s\n",
            "[CV] kmeans__n_clusters=46 ...........................................\n",
            "[CV] ............................ kmeans__n_clusters=46, total=   6.1s\n",
            "[CV] kmeans__n_clusters=46 ...........................................\n",
            "[CV] ............................ kmeans__n_clusters=46, total=   6.4s\n",
            "[CV] kmeans__n_clusters=46 ...........................................\n",
            "[CV] ............................ kmeans__n_clusters=46, total=   6.6s\n",
            "[CV] kmeans__n_clusters=47 ...........................................\n",
            "[CV] ............................ kmeans__n_clusters=47, total=   6.4s\n",
            "[CV] kmeans__n_clusters=47 ...........................................\n",
            "[CV] ............................ kmeans__n_clusters=47, total=   5.9s\n",
            "[CV] kmeans__n_clusters=47 ...........................................\n",
            "[CV] ............................ kmeans__n_clusters=47, total=   6.4s\n",
            "[CV] kmeans__n_clusters=48 ...........................................\n",
            "[CV] ............................ kmeans__n_clusters=48, total=   6.0s\n",
            "[CV] kmeans__n_clusters=48 ...........................................\n"
          ],
          "name": "stdout"
        }
      ]
    },
    {
      "cell_type": "markdown",
      "metadata": {
        "id": "_A3FQY3hD3iQ"
      },
      "source": [
        "Let's see what the best number of clusters is:"
      ]
    },
    {
      "cell_type": "code",
      "metadata": {
        "id": "JqJVXatcD3iQ"
      },
      "source": [
        "grid_clf.best_params_"
      ],
      "execution_count": null,
      "outputs": []
    },
    {
      "cell_type": "code",
      "metadata": {
        "id": "9_iI6kbGD3iQ"
      },
      "source": [
        "grid_clf.score(X_test, y_test)"
      ],
      "execution_count": null,
      "outputs": []
    },
    {
      "cell_type": "markdown",
      "metadata": {
        "id": "Hf9BKv94D3iR"
      },
      "source": [
        "### Clustering for Semi-supervised Learning"
      ]
    },
    {
      "cell_type": "markdown",
      "metadata": {
        "id": "w8Mtw6fmD3iR"
      },
      "source": [
        "Another use case for clustering is in semi-supervised learning, when we have plenty of unlabeled instances and very few labeled instances."
      ]
    },
    {
      "cell_type": "markdown",
      "metadata": {
        "id": "QxjwBKqED3iR"
      },
      "source": [
        "Let's look at the performance of a logistic regression model when we only have 50 labeled instances:"
      ]
    },
    {
      "cell_type": "code",
      "metadata": {
        "id": "lbPedfDbD3iR"
      },
      "source": [
        "n_labeled = 50"
      ],
      "execution_count": null,
      "outputs": []
    },
    {
      "cell_type": "code",
      "metadata": {
        "id": "xjAz6k9YD3iR"
      },
      "source": [
        "log_reg = LogisticRegression(multi_class=\"ovr\", solver=\"lbfgs\", random_state=42)\n",
        "log_reg.fit(X_train[:n_labeled], y_train[:n_labeled])\n",
        "log_reg.score(X_test, y_test)"
      ],
      "execution_count": null,
      "outputs": []
    },
    {
      "cell_type": "markdown",
      "metadata": {
        "id": "V5kzhwyPD3iR"
      },
      "source": [
        "It's much less than earlier of course. Let's see how we can do better. First, let's cluster the training set into 50 clusters, then for each cluster let's find the image closest to the centroid. We will call these images the representative images:"
      ]
    },
    {
      "cell_type": "code",
      "metadata": {
        "id": "Yf_kXJHUD3iS"
      },
      "source": [
        "k = 50"
      ],
      "execution_count": null,
      "outputs": []
    },
    {
      "cell_type": "code",
      "metadata": {
        "id": "_Q5ksIBPD3iS"
      },
      "source": [
        "kmeans = KMeans(n_clusters=k, random_state=42)\n",
        "X_digits_dist = kmeans.fit_transform(X_train)\n",
        "representative_digit_idx = np.argmin(X_digits_dist, axis=0)\n",
        "X_representative_digits = X_train[representative_digit_idx]"
      ],
      "execution_count": null,
      "outputs": []
    },
    {
      "cell_type": "markdown",
      "metadata": {
        "id": "SYGgixQyD3iS"
      },
      "source": [
        "Now let's plot these representative images and label them manually:"
      ]
    },
    {
      "cell_type": "code",
      "metadata": {
        "id": "JC_6UHMGD3iS"
      },
      "source": [
        "plt.figure(figsize=(8, 2))\n",
        "for index, X_representative_digit in enumerate(X_representative_digits):\n",
        "    plt.subplot(k // 10, 10, index + 1)\n",
        "    plt.imshow(X_representative_digit.reshape(8, 8), cmap=\"binary\", interpolation=\"bilinear\")\n",
        "    plt.axis('off')\n",
        "\n",
        "save_fig(\"representative_images_diagram\", tight_layout=False)\n",
        "plt.show()"
      ],
      "execution_count": null,
      "outputs": []
    },
    {
      "cell_type": "code",
      "metadata": {
        "id": "RNvjIzJBD3iS"
      },
      "source": [
        "y_train[representative_digit_idx]"
      ],
      "execution_count": null,
      "outputs": []
    },
    {
      "cell_type": "code",
      "metadata": {
        "id": "y8LhsDorD3iT"
      },
      "source": [
        "y_representative_digits = np.array([\n",
        "    0, 1, 3, 2, 7, 6, 4, 6, 9, 5,\n",
        "    1, 2, 9, 5, 2, 7, 8, 1, 8, 6,\n",
        "    3, 2, 5, 4, 5, 4, 0, 3, 2, 6,\n",
        "    1, 7, 7, 9, 1, 8, 6, 5, 4, 8,\n",
        "    5, 3, 3, 6, 7, 9, 7, 8, 4, 9])"
      ],
      "execution_count": null,
      "outputs": []
    },
    {
      "cell_type": "markdown",
      "metadata": {
        "id": "17ngWTZlD3iT"
      },
      "source": [
        "Now we have a dataset with just 50 labeled instances, but instead of being completely random instances, each of them is a representative image of its cluster. Let's see if the performance is any better:"
      ]
    },
    {
      "cell_type": "code",
      "metadata": {
        "id": "W2VimdcKD3iT"
      },
      "source": [
        "log_reg = LogisticRegression(multi_class=\"ovr\", solver=\"lbfgs\", max_iter=5000, random_state=42)\n",
        "log_reg.fit(X_representative_digits, y_representative_digits)\n",
        "log_reg.score(X_test, y_test)"
      ],
      "execution_count": null,
      "outputs": []
    },
    {
      "cell_type": "markdown",
      "metadata": {
        "id": "6iQVLH6qD3iT"
      },
      "source": [
        "Wow! We jumped from 83.3% accuracy to 91.3%, although we are still only training the model on 50 instances. Since it's often costly and painful to label instances, especially when it has to be done manually by experts, it's a good idea to make them label representative instances rather than just random instances."
      ]
    },
    {
      "cell_type": "markdown",
      "metadata": {
        "id": "Nxf0qnIlD3iT"
      },
      "source": [
        "But perhaps we can go one step further: what if we propagated the labels to all the other instances in the same cluster?"
      ]
    },
    {
      "cell_type": "code",
      "metadata": {
        "id": "OIebqr8LD3iU"
      },
      "source": [
        "y_train_propagated = np.empty(len(X_train), dtype=np.int32)\n",
        "for i in range(k):\n",
        "    y_train_propagated[kmeans.labels_==i] = y_representative_digits[i]"
      ],
      "execution_count": null,
      "outputs": []
    },
    {
      "cell_type": "code",
      "metadata": {
        "id": "ZSvZ9mSED3iU"
      },
      "source": [
        "log_reg = LogisticRegression(multi_class=\"ovr\", solver=\"lbfgs\", max_iter=5000, random_state=42)\n",
        "log_reg.fit(X_train, y_train_propagated)"
      ],
      "execution_count": null,
      "outputs": []
    },
    {
      "cell_type": "code",
      "metadata": {
        "id": "iNzLo65DD3iU"
      },
      "source": [
        "log_reg.score(X_test, y_test)"
      ],
      "execution_count": null,
      "outputs": []
    },
    {
      "cell_type": "markdown",
      "metadata": {
        "id": "TcGBbrfeD3iU"
      },
      "source": [
        "We got a tiny little accuracy boost. Better than nothing, but we should probably have propagated the labels only to the instances closest to the centroid, because by propagating to the full cluster, we have certainly included some outliers. Let's only propagate the labels to the 75th percentile closest to the centroid:"
      ]
    },
    {
      "cell_type": "code",
      "metadata": {
        "id": "sEkOsL25D3iU"
      },
      "source": [
        "percentile_closest = 75\n",
        "\n",
        "X_cluster_dist = X_digits_dist[np.arange(len(X_train)), kmeans.labels_]\n",
        "for i in range(k):\n",
        "    in_cluster = (kmeans.labels_ == i)\n",
        "    cluster_dist = X_cluster_dist[in_cluster]\n",
        "    cutoff_distance = np.percentile(cluster_dist, percentile_closest)\n",
        "    above_cutoff = (X_cluster_dist > cutoff_distance)\n",
        "    X_cluster_dist[in_cluster & above_cutoff] = -1"
      ],
      "execution_count": null,
      "outputs": []
    },
    {
      "cell_type": "code",
      "metadata": {
        "id": "jXULVKHdD3iV"
      },
      "source": [
        "partially_propagated = (X_cluster_dist != -1)\n",
        "X_train_partially_propagated = X_train[partially_propagated]\n",
        "y_train_partially_propagated = y_train_propagated[partially_propagated]"
      ],
      "execution_count": null,
      "outputs": []
    },
    {
      "cell_type": "code",
      "metadata": {
        "id": "6boO74-fD3iV"
      },
      "source": [
        "log_reg = LogisticRegression(multi_class=\"ovr\", solver=\"lbfgs\", max_iter=5000, random_state=42)\n",
        "log_reg.fit(X_train_partially_propagated, y_train_partially_propagated)"
      ],
      "execution_count": null,
      "outputs": []
    },
    {
      "cell_type": "code",
      "metadata": {
        "id": "mXIN23_-D3iV"
      },
      "source": [
        "log_reg.score(X_test, y_test)"
      ],
      "execution_count": null,
      "outputs": []
    },
    {
      "cell_type": "markdown",
      "metadata": {
        "id": "BFa3HVoFD3iV"
      },
      "source": [
        "A bit better. With just 50 labeled instances (just 5 examples per class on average!), we got 92.7% performance, which is getting closer to the performance of logistic regression on the fully labeled _digits_ dataset (which was 96.9%)."
      ]
    },
    {
      "cell_type": "markdown",
      "metadata": {
        "id": "Qj-u7-NdD3iV"
      },
      "source": [
        "This is because the propagated labels are actually pretty good: their accuracy is close to 96%:"
      ]
    },
    {
      "cell_type": "code",
      "metadata": {
        "id": "wyOA_gXMD3iW"
      },
      "source": [
        "np.mean(y_train_partially_propagated == y_train[partially_propagated])"
      ],
      "execution_count": null,
      "outputs": []
    },
    {
      "cell_type": "markdown",
      "metadata": {
        "id": "WO1TknTAD3iW"
      },
      "source": [
        "You could now do a few iterations of *active learning*:\n",
        "1. Manually label the instances that the classifier is least sure about, if possible by picking them in distinct clusters.\n",
        "2. Train a new model with these additional labels."
      ]
    },
    {
      "cell_type": "markdown",
      "metadata": {
        "id": "dJVljxoAD3iW"
      },
      "source": [
        "## DBSCAN"
      ]
    },
    {
      "cell_type": "code",
      "metadata": {
        "id": "wGE4hRnsD3iW"
      },
      "source": [
        "from sklearn.datasets import make_moons"
      ],
      "execution_count": null,
      "outputs": []
    },
    {
      "cell_type": "code",
      "metadata": {
        "id": "scpH1VHDD3iX"
      },
      "source": [
        "X, y = make_moons(n_samples=1000, noise=0.05, random_state=42)"
      ],
      "execution_count": null,
      "outputs": []
    },
    {
      "cell_type": "code",
      "metadata": {
        "id": "E1IlVZMPD3iX"
      },
      "source": [
        "from sklearn.cluster import DBSCAN"
      ],
      "execution_count": null,
      "outputs": []
    },
    {
      "cell_type": "code",
      "metadata": {
        "id": "olQLceYKD3iX"
      },
      "source": [
        "dbscan = DBSCAN(eps=0.05, min_samples=5)\n",
        "dbscan.fit(X)"
      ],
      "execution_count": null,
      "outputs": []
    },
    {
      "cell_type": "code",
      "metadata": {
        "id": "zdWJe-4-D3iX"
      },
      "source": [
        "dbscan.labels_[:10]"
      ],
      "execution_count": null,
      "outputs": []
    },
    {
      "cell_type": "code",
      "metadata": {
        "id": "pzReBVJ7D3iX"
      },
      "source": [
        "len(dbscan.core_sample_indices_)"
      ],
      "execution_count": null,
      "outputs": []
    },
    {
      "cell_type": "code",
      "metadata": {
        "id": "A77mmlP0D3iY"
      },
      "source": [
        "dbscan.core_sample_indices_[:10]"
      ],
      "execution_count": null,
      "outputs": []
    },
    {
      "cell_type": "code",
      "metadata": {
        "id": "Ov_gfILQD3iY"
      },
      "source": [
        "dbscan.components_[:3]"
      ],
      "execution_count": null,
      "outputs": []
    },
    {
      "cell_type": "code",
      "metadata": {
        "id": "tQwCtUI9D3iY"
      },
      "source": [
        "np.unique(dbscan.labels_)"
      ],
      "execution_count": null,
      "outputs": []
    },
    {
      "cell_type": "code",
      "metadata": {
        "id": "VdjCEoueD3iY"
      },
      "source": [
        "dbscan2 = DBSCAN(eps=0.2)\n",
        "dbscan2.fit(X)"
      ],
      "execution_count": null,
      "outputs": []
    },
    {
      "cell_type": "code",
      "metadata": {
        "id": "9P7JJgBYD3iY"
      },
      "source": [
        "def plot_dbscan(dbscan, X, size, show_xlabels=True, show_ylabels=True):\n",
        "    core_mask = np.zeros_like(dbscan.labels_, dtype=bool)\n",
        "    core_mask[dbscan.core_sample_indices_] = True\n",
        "    anomalies_mask = dbscan.labels_ == -1\n",
        "    non_core_mask = ~(core_mask | anomalies_mask)\n",
        "\n",
        "    cores = dbscan.components_\n",
        "    anomalies = X[anomalies_mask]\n",
        "    non_cores = X[non_core_mask]\n",
        "    \n",
        "    plt.scatter(cores[:, 0], cores[:, 1],\n",
        "                c=dbscan.labels_[core_mask], marker='o', s=size, cmap=\"Paired\")\n",
        "    plt.scatter(cores[:, 0], cores[:, 1], marker='*', s=20, c=dbscan.labels_[core_mask])\n",
        "    plt.scatter(anomalies[:, 0], anomalies[:, 1],\n",
        "                c=\"r\", marker=\"x\", s=100)\n",
        "    plt.scatter(non_cores[:, 0], non_cores[:, 1], c=dbscan.labels_[non_core_mask], marker=\".\")\n",
        "    if show_xlabels:\n",
        "        plt.xlabel(\"$x_1$\", fontsize=14)\n",
        "    else:\n",
        "        plt.tick_params(labelbottom=False)\n",
        "    if show_ylabels:\n",
        "        plt.ylabel(\"$x_2$\", fontsize=14, rotation=0)\n",
        "    else:\n",
        "        plt.tick_params(labelleft=False)\n",
        "    plt.title(\"eps={:.2f}, min_samples={}\".format(dbscan.eps, dbscan.min_samples), fontsize=14)"
      ],
      "execution_count": null,
      "outputs": []
    },
    {
      "cell_type": "code",
      "metadata": {
        "id": "9BQGKbSgD3iZ"
      },
      "source": [
        "plt.figure(figsize=(9, 3.2))\n",
        "\n",
        "plt.subplot(121)\n",
        "plot_dbscan(dbscan, X, size=100)\n",
        "\n",
        "plt.subplot(122)\n",
        "plot_dbscan(dbscan2, X, size=600, show_ylabels=False)\n",
        "\n",
        "save_fig(\"dbscan_plot\")\n",
        "plt.show()\n"
      ],
      "execution_count": null,
      "outputs": []
    },
    {
      "cell_type": "code",
      "metadata": {
        "id": "mt_UahBDD3ia"
      },
      "source": [
        "dbscan = dbscan2"
      ],
      "execution_count": null,
      "outputs": []
    },
    {
      "cell_type": "code",
      "metadata": {
        "id": "NpdmmoNWD3ia"
      },
      "source": [
        "from sklearn.neighbors import KNeighborsClassifier"
      ],
      "execution_count": null,
      "outputs": []
    },
    {
      "cell_type": "code",
      "metadata": {
        "id": "bxBapFVeD3ia"
      },
      "source": [
        "knn = KNeighborsClassifier(n_neighbors=50)\n",
        "knn.fit(dbscan.components_, dbscan.labels_[dbscan.core_sample_indices_])"
      ],
      "execution_count": null,
      "outputs": []
    },
    {
      "cell_type": "code",
      "metadata": {
        "id": "Y1mvizaKD3ia"
      },
      "source": [
        "X_new = np.array([[-0.5, 0], [0, 0.5], [1, -0.1], [2, 1]])\n",
        "knn.predict(X_new)"
      ],
      "execution_count": null,
      "outputs": []
    },
    {
      "cell_type": "code",
      "metadata": {
        "id": "5gT84eOyD3ia"
      },
      "source": [
        "knn.predict_proba(X_new)"
      ],
      "execution_count": null,
      "outputs": []
    },
    {
      "cell_type": "code",
      "metadata": {
        "id": "aJpownBsD3ib"
      },
      "source": [
        "plt.figure(figsize=(6, 3))\n",
        "plot_decision_boundaries(knn, X, show_centroids=False)\n",
        "plt.scatter(X_new[:, 0], X_new[:, 1], c=\"b\", marker=\"+\", s=200, zorder=10)\n",
        "save_fig(\"cluster_classification_plot\")\n",
        "plt.show()"
      ],
      "execution_count": null,
      "outputs": []
    },
    {
      "cell_type": "code",
      "metadata": {
        "id": "s1JRF50sD3ib"
      },
      "source": [
        "y_dist, y_pred_idx = knn.kneighbors(X_new, n_neighbors=1)\n",
        "y_pred = dbscan.labels_[dbscan.core_sample_indices_][y_pred_idx]\n",
        "y_pred[y_dist > 0.2] = -1\n",
        "y_pred.ravel()"
      ],
      "execution_count": null,
      "outputs": []
    },
    {
      "cell_type": "markdown",
      "metadata": {
        "id": "J9UmogumD3ib"
      },
      "source": [
        "## Other Clustering Algorithms"
      ]
    },
    {
      "cell_type": "markdown",
      "metadata": {
        "id": "cNhhekbzD3ib"
      },
      "source": [
        "### Spectral Clustering"
      ]
    },
    {
      "cell_type": "code",
      "metadata": {
        "id": "Pwta2FaiD3ib"
      },
      "source": [
        "from sklearn.cluster import SpectralClustering"
      ],
      "execution_count": null,
      "outputs": []
    },
    {
      "cell_type": "code",
      "metadata": {
        "id": "vO4dGx_9D3ic"
      },
      "source": [
        "sc1 = SpectralClustering(n_clusters=2, gamma=100, random_state=42)\n",
        "sc1.fit(X)"
      ],
      "execution_count": null,
      "outputs": []
    },
    {
      "cell_type": "code",
      "metadata": {
        "id": "g2mavOQRD3ic"
      },
      "source": [
        "sc2 = SpectralClustering(n_clusters=2, gamma=1, random_state=42)\n",
        "sc2.fit(X)"
      ],
      "execution_count": null,
      "outputs": []
    },
    {
      "cell_type": "code",
      "metadata": {
        "id": "zIkENq6KD3ic"
      },
      "source": [
        "np.percentile(sc1.affinity_matrix_, 95)"
      ],
      "execution_count": null,
      "outputs": []
    },
    {
      "cell_type": "code",
      "metadata": {
        "id": "Nk4P2EekD3ic"
      },
      "source": [
        "def plot_spectral_clustering(sc, X, size, alpha, show_xlabels=True, show_ylabels=True):\n",
        "    plt.scatter(X[:, 0], X[:, 1], marker='o', s=size, c='gray', cmap=\"Paired\", alpha=alpha)\n",
        "    plt.scatter(X[:, 0], X[:, 1], marker='o', s=30, c='w')\n",
        "    plt.scatter(X[:, 0], X[:, 1], marker='.', s=10, c=sc.labels_, cmap=\"Paired\")\n",
        "    \n",
        "    if show_xlabels:\n",
        "        plt.xlabel(\"$x_1$\", fontsize=14)\n",
        "    else:\n",
        "        plt.tick_params(labelbottom=False)\n",
        "    if show_ylabels:\n",
        "        plt.ylabel(\"$x_2$\", fontsize=14, rotation=0)\n",
        "    else:\n",
        "        plt.tick_params(labelleft=False)\n",
        "    plt.title(\"RBF gamma={}\".format(sc.gamma), fontsize=14)"
      ],
      "execution_count": null,
      "outputs": []
    },
    {
      "cell_type": "code",
      "metadata": {
        "id": "XcZTbGFQD3ic"
      },
      "source": [
        "plt.figure(figsize=(9, 3.2))\n",
        "\n",
        "plt.subplot(121)\n",
        "plot_spectral_clustering(sc1, X, size=500, alpha=0.1)\n",
        "\n",
        "plt.subplot(122)\n",
        "plot_spectral_clustering(sc2, X, size=4000, alpha=0.01, show_ylabels=False)\n",
        "\n",
        "plt.show()\n"
      ],
      "execution_count": null,
      "outputs": []
    },
    {
      "cell_type": "markdown",
      "metadata": {
        "id": "CtDE4r4hD3id"
      },
      "source": [
        "### Agglomerative Clustering"
      ]
    },
    {
      "cell_type": "code",
      "metadata": {
        "id": "HlfRukO8D3id"
      },
      "source": [
        "from sklearn.cluster import AgglomerativeClustering"
      ],
      "execution_count": null,
      "outputs": []
    },
    {
      "cell_type": "code",
      "metadata": {
        "id": "vwLV1jGOD3id"
      },
      "source": [
        "X = np.array([0, 2, 5, 8.5]).reshape(-1, 1)\n",
        "agg = AgglomerativeClustering(linkage=\"complete\").fit(X)"
      ],
      "execution_count": null,
      "outputs": []
    },
    {
      "cell_type": "code",
      "metadata": {
        "id": "iMldTSBgD3id"
      },
      "source": [
        "def learned_parameters(estimator):\n",
        "    return [attrib for attrib in dir(estimator)\n",
        "            if attrib.endswith(\"_\") and not attrib.startswith(\"_\")]"
      ],
      "execution_count": null,
      "outputs": []
    },
    {
      "cell_type": "code",
      "metadata": {
        "id": "p-pGsbpvD3id"
      },
      "source": [
        "learned_parameters(agg)"
      ],
      "execution_count": null,
      "outputs": []
    },
    {
      "cell_type": "code",
      "metadata": {
        "scrolled": true,
        "id": "TG_BhGycD3ie"
      },
      "source": [
        "agg.children_"
      ],
      "execution_count": null,
      "outputs": []
    },
    {
      "cell_type": "markdown",
      "metadata": {
        "id": "fQ6QwHIwD3ie"
      },
      "source": [
        "# Gaussian Mixtures"
      ]
    },
    {
      "cell_type": "code",
      "metadata": {
        "id": "BjniBaI1D3ie"
      },
      "source": [
        "X1, y1 = make_blobs(n_samples=1000, centers=((4, -4), (0, 0)), random_state=42)\n",
        "X1 = X1.dot(np.array([[0.374, 0.95], [0.732, 0.598]]))\n",
        "X2, y2 = make_blobs(n_samples=250, centers=1, random_state=42)\n",
        "X2 = X2 + [6, -8]\n",
        "X = np.r_[X1, X2]\n",
        "y = np.r_[y1, y2]"
      ],
      "execution_count": null,
      "outputs": []
    },
    {
      "cell_type": "markdown",
      "metadata": {
        "id": "Ta9JQVUoD3ie"
      },
      "source": [
        "Let's train a Gaussian mixture model on the previous dataset:"
      ]
    },
    {
      "cell_type": "code",
      "metadata": {
        "id": "dyxPmb9mD3ie"
      },
      "source": [
        "from sklearn.mixture import GaussianMixture"
      ],
      "execution_count": null,
      "outputs": []
    },
    {
      "cell_type": "code",
      "metadata": {
        "id": "Lil6_qpCD3if"
      },
      "source": [
        "gm = GaussianMixture(n_components=3, n_init=10, random_state=42)\n",
        "gm.fit(X)"
      ],
      "execution_count": null,
      "outputs": []
    },
    {
      "cell_type": "markdown",
      "metadata": {
        "id": "u04m48O8D3if"
      },
      "source": [
        "Let's look at the parameters that the EM algorithm estimated:"
      ]
    },
    {
      "cell_type": "code",
      "metadata": {
        "id": "feYC5Pz3D3if"
      },
      "source": [
        "gm.weights_"
      ],
      "execution_count": null,
      "outputs": []
    },
    {
      "cell_type": "code",
      "metadata": {
        "id": "S1t0kGC7D3if"
      },
      "source": [
        "gm.means_"
      ],
      "execution_count": null,
      "outputs": []
    },
    {
      "cell_type": "code",
      "metadata": {
        "id": "wksnI7McD3if"
      },
      "source": [
        "gm.covariances_"
      ],
      "execution_count": null,
      "outputs": []
    },
    {
      "cell_type": "markdown",
      "metadata": {
        "id": "Gdu1fbB-D3ig"
      },
      "source": [
        "Did the algorithm actually converge?"
      ]
    },
    {
      "cell_type": "code",
      "metadata": {
        "id": "b1GtNz0XD3ig"
      },
      "source": [
        "gm.converged_"
      ],
      "execution_count": null,
      "outputs": []
    },
    {
      "cell_type": "markdown",
      "metadata": {
        "id": "slddQaEbD3ig"
      },
      "source": [
        "Yes, good. How many iterations did it take?"
      ]
    },
    {
      "cell_type": "code",
      "metadata": {
        "id": "fVI_pludD3ig"
      },
      "source": [
        "gm.n_iter_"
      ],
      "execution_count": null,
      "outputs": []
    },
    {
      "cell_type": "markdown",
      "metadata": {
        "id": "b1hIER8CD3ig"
      },
      "source": [
        "You can now use the model to predict which cluster each instance belongs to (hard clustering) or the probabilities that it came from each cluster. For this, just use `predict()` method or the `predict_proba()` method:"
      ]
    },
    {
      "cell_type": "code",
      "metadata": {
        "id": "pMJzbMWND3ih"
      },
      "source": [
        "gm.predict(X)"
      ],
      "execution_count": null,
      "outputs": []
    },
    {
      "cell_type": "code",
      "metadata": {
        "id": "mOtGE9W_D3ih"
      },
      "source": [
        "gm.predict_proba(X)"
      ],
      "execution_count": null,
      "outputs": []
    },
    {
      "cell_type": "markdown",
      "metadata": {
        "id": "CYIQ6WdOD3ih"
      },
      "source": [
        "This is a generative model, so you can sample new instances from it (and get their labels):"
      ]
    },
    {
      "cell_type": "code",
      "metadata": {
        "id": "7j6r2G8TD3ih"
      },
      "source": [
        "X_new, y_new = gm.sample(6)\n",
        "X_new"
      ],
      "execution_count": null,
      "outputs": []
    },
    {
      "cell_type": "code",
      "metadata": {
        "id": "bj1uob7ID3ih"
      },
      "source": [
        "y_new"
      ],
      "execution_count": null,
      "outputs": []
    },
    {
      "cell_type": "markdown",
      "metadata": {
        "id": "-v4EUc6CD3ii"
      },
      "source": [
        "Notice that they are sampled sequentially from each cluster."
      ]
    },
    {
      "cell_type": "markdown",
      "metadata": {
        "id": "Q1ao-837D3ii"
      },
      "source": [
        "You can also estimate the log of the _probability density function_ (PDF) at any location using the `score_samples()` method:"
      ]
    },
    {
      "cell_type": "code",
      "metadata": {
        "id": "dspuZxxRD3ii"
      },
      "source": [
        "gm.score_samples(X)"
      ],
      "execution_count": null,
      "outputs": []
    },
    {
      "cell_type": "markdown",
      "metadata": {
        "id": "AMHP3Ls7D3ii"
      },
      "source": [
        "Let's check that the PDF integrates to 1 over the whole space. We just take a large square around the clusters, and chop it into a grid of tiny squares, then we compute the approximate probability that the instances will be generated in each tiny square (by multiplying the PDF at one corner of the tiny square by the area of the square), and finally summing all these probabilities). The result is very close to 1:"
      ]
    },
    {
      "cell_type": "code",
      "metadata": {
        "id": "JdzECZclD3ii"
      },
      "source": [
        "resolution = 100\n",
        "grid = np.arange(-10, 10, 1 / resolution)\n",
        "xx, yy = np.meshgrid(grid, grid)\n",
        "X_full = np.vstack([xx.ravel(), yy.ravel()]).T\n",
        "\n",
        "pdf = np.exp(gm.score_samples(X_full))\n",
        "pdf_probas = pdf * (1 / resolution) ** 2\n",
        "pdf_probas.sum()"
      ],
      "execution_count": null,
      "outputs": []
    },
    {
      "cell_type": "markdown",
      "metadata": {
        "id": "oMOPdCg8D3ii"
      },
      "source": [
        "Now let's plot the resulting decision boundaries (dashed lines) and density contours:"
      ]
    },
    {
      "cell_type": "code",
      "metadata": {
        "id": "tXmS4nyzD3ij"
      },
      "source": [
        "from matplotlib.colors import LogNorm\n",
        "\n",
        "def plot_gaussian_mixture(clusterer, X, resolution=1000, show_ylabels=True):\n",
        "    mins = X.min(axis=0) - 0.1\n",
        "    maxs = X.max(axis=0) + 0.1\n",
        "    xx, yy = np.meshgrid(np.linspace(mins[0], maxs[0], resolution),\n",
        "                         np.linspace(mins[1], maxs[1], resolution))\n",
        "    Z = -clusterer.score_samples(np.c_[xx.ravel(), yy.ravel()])\n",
        "    Z = Z.reshape(xx.shape)\n",
        "\n",
        "    plt.contourf(xx, yy, Z,\n",
        "                 norm=LogNorm(vmin=1.0, vmax=30.0),\n",
        "                 levels=np.logspace(0, 2, 12))\n",
        "    plt.contour(xx, yy, Z,\n",
        "                norm=LogNorm(vmin=1.0, vmax=30.0),\n",
        "                levels=np.logspace(0, 2, 12),\n",
        "                linewidths=1, colors='k')\n",
        "\n",
        "    Z = clusterer.predict(np.c_[xx.ravel(), yy.ravel()])\n",
        "    Z = Z.reshape(xx.shape)\n",
        "    plt.contour(xx, yy, Z,\n",
        "                linewidths=2, colors='r', linestyles='dashed')\n",
        "    \n",
        "    plt.plot(X[:, 0], X[:, 1], 'k.', markersize=2)\n",
        "    plot_centroids(clusterer.means_, clusterer.weights_)\n",
        "\n",
        "    plt.xlabel(\"$x_1$\", fontsize=14)\n",
        "    if show_ylabels:\n",
        "        plt.ylabel(\"$x_2$\", fontsize=14, rotation=0)\n",
        "    else:\n",
        "        plt.tick_params(labelleft=False)"
      ],
      "execution_count": null,
      "outputs": []
    },
    {
      "cell_type": "code",
      "metadata": {
        "id": "qMyY6YZZD3ij"
      },
      "source": [
        "plt.figure(figsize=(8, 4))\n",
        "\n",
        "plot_gaussian_mixture(gm, X)\n",
        "\n",
        "save_fig(\"gaussian_mixtures_plot\")\n",
        "plt.show()"
      ],
      "execution_count": null,
      "outputs": []
    },
    {
      "cell_type": "markdown",
      "metadata": {
        "id": "4x2DcwnhD3ij"
      },
      "source": [
        "You can impose constraints on the covariance matrices that the algorithm looks for by setting the `covariance_type` hyperparameter:\n",
        "* `\"full\"` (default): no constraint, all clusters can take on any ellipsoidal shape of any size.\n",
        "* `\"tied\"`: all clusters must have the same shape, which can be any ellipsoid (i.e., they all share the same covariance matrix).\n",
        "* `\"spherical\"`: all clusters must be spherical, but they can have different diameters (i.e., different variances).\n",
        "* `\"diag\"`: clusters can take on any ellipsoidal shape of any size, but the ellipsoid's axes must be parallel to the axes (i.e., the covariance matrices must be diagonal)."
      ]
    },
    {
      "cell_type": "code",
      "metadata": {
        "id": "W_hdivZpD3ij"
      },
      "source": [
        "gm_full = GaussianMixture(n_components=3, n_init=10, covariance_type=\"full\", random_state=42)\n",
        "gm_tied = GaussianMixture(n_components=3, n_init=10, covariance_type=\"tied\", random_state=42)\n",
        "gm_spherical = GaussianMixture(n_components=3, n_init=10, covariance_type=\"spherical\", random_state=42)\n",
        "gm_diag = GaussianMixture(n_components=3, n_init=10, covariance_type=\"diag\", random_state=42)\n",
        "gm_full.fit(X)\n",
        "gm_tied.fit(X)\n",
        "gm_spherical.fit(X)\n",
        "gm_diag.fit(X)"
      ],
      "execution_count": null,
      "outputs": []
    },
    {
      "cell_type": "code",
      "metadata": {
        "id": "RvY2akFhD3ik"
      },
      "source": [
        "def compare_gaussian_mixtures(gm1, gm2, X):\n",
        "    plt.figure(figsize=(9, 4))\n",
        "\n",
        "    plt.subplot(121)\n",
        "    plot_gaussian_mixture(gm1, X)\n",
        "    plt.title('covariance_type=\"{}\"'.format(gm1.covariance_type), fontsize=14)\n",
        "\n",
        "    plt.subplot(122)\n",
        "    plot_gaussian_mixture(gm2, X, show_ylabels=False)\n",
        "    plt.title('covariance_type=\"{}\"'.format(gm2.covariance_type), fontsize=14)\n"
      ],
      "execution_count": null,
      "outputs": []
    },
    {
      "cell_type": "code",
      "metadata": {
        "id": "e4kFqNk8D3ik"
      },
      "source": [
        "compare_gaussian_mixtures(gm_tied, gm_spherical, X)\n",
        "\n",
        "save_fig(\"covariance_type_plot\")\n",
        "plt.show()"
      ],
      "execution_count": null,
      "outputs": []
    },
    {
      "cell_type": "code",
      "metadata": {
        "id": "PjQb0mcYD3ik"
      },
      "source": [
        "compare_gaussian_mixtures(gm_full, gm_diag, X)\n",
        "plt.tight_layout()\n",
        "plt.show()"
      ],
      "execution_count": null,
      "outputs": []
    },
    {
      "cell_type": "markdown",
      "metadata": {
        "id": "7PKMmz7yD3ik"
      },
      "source": [
        "## Anomaly Detection using Gaussian Mixtures"
      ]
    },
    {
      "cell_type": "markdown",
      "metadata": {
        "id": "9JcnS1X2D3ik"
      },
      "source": [
        "Gaussian Mixtures can be used for _anomaly detection_: instances located in low-density regions can be considered anomalies. You must define what density threshold you want to use. For example, in a manufacturing company that tries to detect defective products, the ratio of defective products is usually well-known. Say it is equal to 4%, then you can set the density threshold to be the value that results in having 4% of the instances located in areas below that threshold density:"
      ]
    },
    {
      "cell_type": "code",
      "metadata": {
        "id": "QUcJqk5sD3ik"
      },
      "source": [
        "densities = gm.score_samples(X)\n",
        "density_threshold = np.percentile(densities, 4)\n",
        "anomalies = X[densities < density_threshold]"
      ],
      "execution_count": null,
      "outputs": []
    },
    {
      "cell_type": "code",
      "metadata": {
        "id": "25B0QUVUD3il"
      },
      "source": [
        "plt.figure(figsize=(8, 4))\n",
        "\n",
        "plot_gaussian_mixture(gm, X)\n",
        "plt.scatter(anomalies[:, 0], anomalies[:, 1], color='r', marker='*')\n",
        "plt.ylim(top=5.1)\n",
        "\n",
        "save_fig(\"mixture_anomaly_detection_plot\")\n",
        "plt.show()"
      ],
      "execution_count": null,
      "outputs": []
    },
    {
      "cell_type": "markdown",
      "metadata": {
        "id": "7mu1LpLyD3il"
      },
      "source": [
        "## Model selection"
      ]
    },
    {
      "cell_type": "markdown",
      "metadata": {
        "id": "v4VazYO3D3il"
      },
      "source": [
        "We cannot use the inertia or the silhouette score because they both assume that the clusters are spherical. Instead, we can try to find the model that minimizes a theoretical information criterion such as the Bayesian Information Criterion (BIC) or the Akaike Information Criterion (AIC):\n",
        "\n",
        "${BIC} = {\\log(m)p - 2\\log({\\hat L})}$\n",
        "\n",
        "${AIC} = 2p - 2\\log(\\hat L)$\n",
        "\n",
        "* $m$ is the number of instances.\n",
        "* $p$ is the number of parameters learned by the model.\n",
        "* $\\hat L$ is the maximized value of the likelihood function of the model. This is the conditional probability of the observed data $\\mathbf{X}$, given the model and its optimized parameters.\n",
        "\n",
        "Both BIC and AIC penalize models that have more parameters to learn (e.g., more clusters), and reward models that fit the data well (i.e., models that give a high likelihood to the observed data)."
      ]
    },
    {
      "cell_type": "code",
      "metadata": {
        "id": "xd2q9R0OD3il"
      },
      "source": [
        "gm.bic(X)"
      ],
      "execution_count": null,
      "outputs": []
    },
    {
      "cell_type": "code",
      "metadata": {
        "id": "sVIbuC_oD3im"
      },
      "source": [
        "gm.aic(X)"
      ],
      "execution_count": null,
      "outputs": []
    },
    {
      "cell_type": "markdown",
      "metadata": {
        "id": "gg_9oAbND3im"
      },
      "source": [
        "We could compute the BIC manually like this:"
      ]
    },
    {
      "cell_type": "code",
      "metadata": {
        "id": "dC1EysfYD3im"
      },
      "source": [
        "n_clusters = 3\n",
        "n_dims = 2\n",
        "n_params_for_weights = n_clusters - 1\n",
        "n_params_for_means = n_clusters * n_dims\n",
        "n_params_for_covariance = n_clusters * n_dims * (n_dims + 1) // 2\n",
        "n_params = n_params_for_weights + n_params_for_means + n_params_for_covariance\n",
        "max_log_likelihood = gm.score(X) * len(X) # log(L^)\n",
        "bic = np.log(len(X)) * n_params - 2 * max_log_likelihood\n",
        "aic = 2 * n_params - 2 * max_log_likelihood"
      ],
      "execution_count": null,
      "outputs": []
    },
    {
      "cell_type": "code",
      "metadata": {
        "id": "2M_dRTssD3im"
      },
      "source": [
        "bic, aic"
      ],
      "execution_count": null,
      "outputs": []
    },
    {
      "cell_type": "code",
      "metadata": {
        "id": "m-KvYcGvD3im"
      },
      "source": [
        "n_params"
      ],
      "execution_count": null,
      "outputs": []
    },
    {
      "cell_type": "markdown",
      "metadata": {
        "id": "FRDFPNnmD3in"
      },
      "source": [
        "There's one weight per cluster, but the sum must be equal to 1, so we have one degree of freedom less, hence the -1. Similarly, the degrees of freedom for an $n \\times n$ covariance matrix is not $n^2$, but $1 + 2 + \\dots + n = \\dfrac{n (n+1)}{2}$."
      ]
    },
    {
      "cell_type": "markdown",
      "metadata": {
        "id": "uqP03BayD3in"
      },
      "source": [
        "Let's train Gaussian Mixture models with various values of $k$ and measure their BIC:"
      ]
    },
    {
      "cell_type": "code",
      "metadata": {
        "id": "xa4jE6QxD3in"
      },
      "source": [
        "gms_per_k = [GaussianMixture(n_components=k, n_init=10, random_state=42).fit(X)\n",
        "             for k in range(1, 11)]"
      ],
      "execution_count": null,
      "outputs": []
    },
    {
      "cell_type": "code",
      "metadata": {
        "id": "GuczFQXFD3in"
      },
      "source": [
        "bics = [model.bic(X) for model in gms_per_k]\n",
        "aics = [model.aic(X) for model in gms_per_k]"
      ],
      "execution_count": null,
      "outputs": []
    },
    {
      "cell_type": "code",
      "metadata": {
        "id": "9hHZGeG8D3in"
      },
      "source": [
        "plt.figure(figsize=(8, 3))\n",
        "plt.plot(range(1, 11), bics, \"bo-\", label=\"BIC\")\n",
        "plt.plot(range(1, 11), aics, \"go--\", label=\"AIC\")\n",
        "plt.xlabel(\"$k$\", fontsize=14)\n",
        "plt.ylabel(\"Information Criterion\", fontsize=14)\n",
        "plt.axis([1, 9.5, np.min(aics) - 50, np.max(aics) + 50])\n",
        "plt.annotate('Minimum',\n",
        "             xy=(3, bics[2]),\n",
        "             xytext=(0.35, 0.6),\n",
        "             textcoords='figure fraction',\n",
        "             fontsize=14,\n",
        "             arrowprops=dict(facecolor='black', shrink=0.1)\n",
        "            )\n",
        "plt.legend()\n",
        "save_fig(\"aic_bic_vs_k_plot\")\n",
        "plt.show()"
      ],
      "execution_count": null,
      "outputs": []
    },
    {
      "cell_type": "markdown",
      "metadata": {
        "id": "9RgwfdnnD3io"
      },
      "source": [
        "Let's search for best combination of values for both the number of clusters and the `covariance_type` hyperparameter:"
      ]
    },
    {
      "cell_type": "code",
      "metadata": {
        "id": "wc3TdicwD3io"
      },
      "source": [
        "min_bic = np.infty\n",
        "\n",
        "for k in range(1, 11):\n",
        "    for covariance_type in (\"full\", \"tied\", \"spherical\", \"diag\"):\n",
        "        bic = GaussianMixture(n_components=k, n_init=10,\n",
        "                              covariance_type=covariance_type,\n",
        "                              random_state=42).fit(X).bic(X)\n",
        "        if bic < min_bic:\n",
        "            min_bic = bic\n",
        "            best_k = k\n",
        "            best_covariance_type = covariance_type"
      ],
      "execution_count": null,
      "outputs": []
    },
    {
      "cell_type": "code",
      "metadata": {
        "id": "8t3cqmXeD3io"
      },
      "source": [
        "best_k"
      ],
      "execution_count": null,
      "outputs": []
    },
    {
      "cell_type": "code",
      "metadata": {
        "id": "U7qEzl1FD3io"
      },
      "source": [
        "best_covariance_type"
      ],
      "execution_count": null,
      "outputs": []
    },
    {
      "cell_type": "markdown",
      "metadata": {
        "id": "BzxOVrGrD3io"
      },
      "source": [
        "## Variational Bayesian Gaussian Mixtures"
      ]
    },
    {
      "cell_type": "markdown",
      "metadata": {
        "id": "PIyzs78HD3ip"
      },
      "source": [
        "Rather than manually searching for the optimal number of clusters, it is possible to use instead the `BayesianGaussianMixture` class which is capable of giving weights equal (or close) to zero to unnecessary clusters. Just set the number of components to a value that you believe is greater than the optimal number of clusters, and the algorithm will eliminate the unnecessary clusters automatically."
      ]
    },
    {
      "cell_type": "code",
      "metadata": {
        "id": "e9WhQkZbD3ip"
      },
      "source": [
        "from sklearn.mixture import BayesianGaussianMixture"
      ],
      "execution_count": null,
      "outputs": []
    },
    {
      "cell_type": "code",
      "metadata": {
        "id": "dDC7zEIlD3ip"
      },
      "source": [
        "bgm = BayesianGaussianMixture(n_components=10, n_init=10, random_state=42)\n",
        "bgm.fit(X)"
      ],
      "execution_count": null,
      "outputs": []
    },
    {
      "cell_type": "markdown",
      "metadata": {
        "id": "guxLxdJ_D3ip"
      },
      "source": [
        "The algorithm automatically detected that only 3 components are needed:"
      ]
    },
    {
      "cell_type": "code",
      "metadata": {
        "id": "Vf2a6FyPD3ip"
      },
      "source": [
        "np.round(bgm.weights_, 2)"
      ],
      "execution_count": null,
      "outputs": []
    },
    {
      "cell_type": "code",
      "metadata": {
        "id": "DoO6vtNgD3ip"
      },
      "source": [
        "plt.figure(figsize=(8, 5))\n",
        "plot_gaussian_mixture(bgm, X)\n",
        "plt.show()"
      ],
      "execution_count": null,
      "outputs": []
    },
    {
      "cell_type": "code",
      "metadata": {
        "id": "QF6IlrihD3iq"
      },
      "source": [
        "bgm_low = BayesianGaussianMixture(n_components=10, max_iter=1000, n_init=1,\n",
        "                                  weight_concentration_prior=0.01, random_state=42)\n",
        "bgm_high = BayesianGaussianMixture(n_components=10, max_iter=1000, n_init=1,\n",
        "                                  weight_concentration_prior=10000, random_state=42)\n",
        "nn = 73\n",
        "bgm_low.fit(X[:nn])\n",
        "bgm_high.fit(X[:nn])"
      ],
      "execution_count": null,
      "outputs": []
    },
    {
      "cell_type": "code",
      "metadata": {
        "id": "kaPFEiudD3iq"
      },
      "source": [
        "np.round(bgm_low.weights_, 2)"
      ],
      "execution_count": null,
      "outputs": []
    },
    {
      "cell_type": "code",
      "metadata": {
        "id": "QzHVWeHtD3iq"
      },
      "source": [
        "np.round(bgm_high.weights_, 2)"
      ],
      "execution_count": null,
      "outputs": []
    },
    {
      "cell_type": "code",
      "metadata": {
        "id": "WlAzpa2vD3iq"
      },
      "source": [
        "plt.figure(figsize=(9, 4))\n",
        "\n",
        "plt.subplot(121)\n",
        "plot_gaussian_mixture(bgm_low, X[:nn])\n",
        "plt.title(\"weight_concentration_prior = 0.01\", fontsize=14)\n",
        "\n",
        "plt.subplot(122)\n",
        "plot_gaussian_mixture(bgm_high, X[:nn], show_ylabels=False)\n",
        "plt.title(\"weight_concentration_prior = 10000\", fontsize=14)\n",
        "\n",
        "save_fig(\"mixture_concentration_prior_plot\")\n",
        "plt.show()"
      ],
      "execution_count": null,
      "outputs": []
    },
    {
      "cell_type": "markdown",
      "metadata": {
        "id": "Xv8Xc-vtD3ir"
      },
      "source": [
        "Note: the fact that you see only 3 regions in the right plot although there are 4 centroids is not a bug. The weight of the top-right cluster is much larger than the weight of the lower-right cluster, so the probability that any given point in this region belongs to the top right cluster is greater than the probability that it belongs to the lower-right cluster."
      ]
    },
    {
      "cell_type": "code",
      "metadata": {
        "id": "1pUeIXMFD3ir"
      },
      "source": [
        "X_moons, y_moons = make_moons(n_samples=1000, noise=0.05, random_state=42)"
      ],
      "execution_count": null,
      "outputs": []
    },
    {
      "cell_type": "code",
      "metadata": {
        "scrolled": true,
        "id": "CXSJFP4OD3ir"
      },
      "source": [
        "bgm = BayesianGaussianMixture(n_components=10, n_init=10, random_state=42)\n",
        "bgm.fit(X_moons)"
      ],
      "execution_count": null,
      "outputs": []
    },
    {
      "cell_type": "code",
      "metadata": {
        "id": "1TaILCObD3ir"
      },
      "source": [
        "plt.figure(figsize=(9, 3.2))\n",
        "\n",
        "plt.subplot(121)\n",
        "plot_data(X_moons)\n",
        "plt.xlabel(\"$x_1$\", fontsize=14)\n",
        "plt.ylabel(\"$x_2$\", fontsize=14, rotation=0)\n",
        "\n",
        "plt.subplot(122)\n",
        "plot_gaussian_mixture(bgm, X_moons, show_ylabels=False)\n",
        "\n",
        "save_fig(\"moons_vs_bgm_plot\")\n",
        "plt.show()"
      ],
      "execution_count": null,
      "outputs": []
    },
    {
      "cell_type": "markdown",
      "metadata": {
        "id": "xJqvZMbuD3is"
      },
      "source": [
        "Oops, not great... instead of detecting 2 moon-shaped clusters, the algorithm detected 8 ellipsoidal clusters. However, the density plot does not look too bad, so it might be usable for anomaly detection."
      ]
    },
    {
      "cell_type": "markdown",
      "metadata": {
        "id": "ENTinSYbD3is"
      },
      "source": [
        "## Likelihood Function"
      ]
    },
    {
      "cell_type": "code",
      "metadata": {
        "id": "RwiBjSVdD3is"
      },
      "source": [
        "from scipy.stats import norm"
      ],
      "execution_count": null,
      "outputs": []
    },
    {
      "cell_type": "code",
      "metadata": {
        "id": "JIQaWLXzD3is"
      },
      "source": [
        "xx = np.linspace(-6, 4, 101)\n",
        "ss = np.linspace(1, 2, 101)\n",
        "XX, SS = np.meshgrid(xx, ss)\n",
        "ZZ = 2 * norm.pdf(XX - 1.0, 0, SS) + norm.pdf(XX + 4.0, 0, SS)\n",
        "ZZ = ZZ / ZZ.sum(axis=1)[:,np.newaxis] / (xx[1] - xx[0])"
      ],
      "execution_count": null,
      "outputs": []
    },
    {
      "cell_type": "code",
      "metadata": {
        "id": "wKL0VjXPD3is"
      },
      "source": [
        "from matplotlib.patches import Polygon\n",
        "\n",
        "plt.figure(figsize=(8, 4.5))\n",
        "\n",
        "x_idx = 85\n",
        "s_idx = 30\n",
        "\n",
        "plt.subplot(221)\n",
        "plt.contourf(XX, SS, ZZ, cmap=\"GnBu\")\n",
        "plt.plot([-6, 4], [ss[s_idx], ss[s_idx]], \"k-\", linewidth=2)\n",
        "plt.plot([xx[x_idx], xx[x_idx]], [1, 2], \"b-\", linewidth=2)\n",
        "plt.xlabel(r\"$x$\")\n",
        "plt.ylabel(r\"$\\theta$\", fontsize=14, rotation=0)\n",
        "plt.title(r\"Model $f(x; \\theta)$\", fontsize=14)\n",
        "\n",
        "plt.subplot(222)\n",
        "plt.plot(ss, ZZ[:, x_idx], \"b-\")\n",
        "max_idx = np.argmax(ZZ[:, x_idx])\n",
        "max_val = np.max(ZZ[:, x_idx])\n",
        "plt.plot(ss[max_idx], max_val, \"r.\")\n",
        "plt.plot([ss[max_idx], ss[max_idx]], [0, max_val], \"r:\")\n",
        "plt.plot([0, ss[max_idx]], [max_val, max_val], \"r:\")\n",
        "plt.text(1.01, max_val + 0.005, r\"$\\hat{L}$\", fontsize=14)\n",
        "plt.text(ss[max_idx]+ 0.01, 0.055, r\"$\\hat{\\theta}$\", fontsize=14)\n",
        "plt.text(ss[max_idx]+ 0.01, max_val - 0.012, r\"$Max$\", fontsize=12)\n",
        "plt.axis([1, 2, 0.05, 0.15])\n",
        "plt.xlabel(r\"$\\theta$\", fontsize=14)\n",
        "plt.grid(True)\n",
        "plt.text(1.99, 0.135, r\"$=f(x=2.5; \\theta)$\", fontsize=14, ha=\"right\")\n",
        "plt.title(r\"Likelihood function $\\mathcal{L}(\\theta|x=2.5)$\", fontsize=14)\n",
        "\n",
        "plt.subplot(223)\n",
        "plt.plot(xx, ZZ[s_idx], \"k-\")\n",
        "plt.axis([-6, 4, 0, 0.25])\n",
        "plt.xlabel(r\"$x$\", fontsize=14)\n",
        "plt.grid(True)\n",
        "plt.title(r\"PDF $f(x; \\theta=1.3)$\", fontsize=14)\n",
        "verts = [(xx[41], 0)] + list(zip(xx[41:81], ZZ[s_idx, 41:81])) + [(xx[80], 0)]\n",
        "poly = Polygon(verts, facecolor='0.9', edgecolor='0.5')\n",
        "plt.gca().add_patch(poly)\n",
        "\n",
        "plt.subplot(224)\n",
        "plt.plot(ss, np.log(ZZ[:, x_idx]), \"b-\")\n",
        "max_idx = np.argmax(np.log(ZZ[:, x_idx]))\n",
        "max_val = np.max(np.log(ZZ[:, x_idx]))\n",
        "plt.plot(ss[max_idx], max_val, \"r.\")\n",
        "plt.plot([ss[max_idx], ss[max_idx]], [-5, max_val], \"r:\")\n",
        "plt.plot([0, ss[max_idx]], [max_val, max_val], \"r:\")\n",
        "plt.axis([1, 2, -2.4, -2])\n",
        "plt.xlabel(r\"$\\theta$\", fontsize=14)\n",
        "plt.text(ss[max_idx]+ 0.01, max_val - 0.05, r\"$Max$\", fontsize=12)\n",
        "plt.text(ss[max_idx]+ 0.01, -2.39, r\"$\\hat{\\theta}$\", fontsize=14)\n",
        "plt.text(1.01, max_val + 0.02, r\"$\\log \\, \\hat{L}$\", fontsize=14)\n",
        "plt.grid(True)\n",
        "plt.title(r\"$\\log \\, \\mathcal{L}(\\theta|x=2.5)$\", fontsize=14)\n",
        "\n",
        "save_fig(\"likelihood_function_plot\")\n",
        "plt.show()"
      ],
      "execution_count": null,
      "outputs": []
    },
    {
      "cell_type": "code",
      "metadata": {
        "id": "p0Q5zp81D3it"
      },
      "source": [
        ""
      ],
      "execution_count": null,
      "outputs": []
    }
  ]
}