{
  "nbformat": 4,
  "nbformat_minor": 0,
  "metadata": {
    "colab": {
      "name": "TrainingMeasures.ipynb",
      "provenance": []
    },
    "kernelspec": {
      "name": "python3",
      "display_name": "Python 3"
    },
    "language_info": {
      "name": "python"
    }
  },
  "cells": [
    {
      "cell_type": "markdown",
      "metadata": {
        "id": "R8YgQYE3SZ1n"
      },
      "source": [
        "#The Normal Equation to minimize cost function\n",
        "## y![image.png](data:image/png;base64,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)\n"
      ]
    },
    {
      "cell_type": "markdown",
      "metadata": {
        "id": "JotUdJizaFyW"
      },
      "source": [
        "## Data Description: \n",
        "Here we created an array of 100 randomnumbers, then created a different array by applying some linear transformation on X, and saved it in Y\n",
        "\n",
        "Now our objective is to discern best factors for theta using the normal equation so that y could be predicted from X"
      ]
    },
    {
      "cell_type": "code",
      "metadata": {
        "colab": {
          "base_uri": "https://localhost:8080/",
          "height": 296
        },
        "id": "ChhFAUDDSfcG",
        "outputId": "2cb6f432-6065-48a8-e6a6-260853fab0ea"
      },
      "source": [
        "import numpy as np\n",
        "import matplotlib.pyplot as plt\n",
        "\n",
        "\n",
        "X=2*np.random.rand(100,1)\n",
        "np.shape(X)\n",
        "y = 4 + 3*X + np.random.rand(100,1)\n",
        "plt.scatter(X,y)\n",
        "plt.xlabel(\"X\")\n",
        "plt.ylabel(\"y\")"
      ],
      "execution_count": 5,
      "outputs": [
        {
          "output_type": "execute_result",
          "data": {
            "text/plain": [
              "Text(0, 0.5, 'y')"
            ]
          },
          "metadata": {
            "tags": []
          },
          "execution_count": 5
        },
        {
          "output_type": "display_data",
          "data": {
            "image/png": "[encoded data removed]",
            "text/plain": [
              "<Figure size 432x288 with 1 Axes>"
            ]
          },
          "metadata": {
            "tags": [],
            "needs_background": "light"
          }
        }
      ]
    },
    {
      "cell_type": "markdown",
      "metadata": {
        "id": "IRnLSVm4TmaE"
      },
      "source": [
        "## Now let’s compute θ using the Normal Equation. We will use the inv() function from\n",
        "\n",
        "##NumPy’s linear algebra module (np.linalg) to compute the inverse of a matrix, and\n",
        "\n",
        "##the dot() method for matrix multiplication:"
      ]
    },
    {
      "cell_type": "markdown",
      "metadata": {
        "id": "clTJ5oiSZuTy"
      },
      "source": [
        "Here we added 1 so as to make the bvias be computed when using dot product of X with theta_best, for the best predictions be made."
      ]
    },
    {
      "cell_type": "code",
      "metadata": {
        "id": "xLFBkv-3S3-v"
      },
      "source": [
        "X_b = np.c_[np.ones((100,1)), X]\n",
        "theta_best = np.linalg.inv(X_b.T.dot(X_b)).dot(X_b.T).dot(y)"
      ],
      "execution_count": 7,
      "outputs": []
    },
    {
      "cell_type": "code",
      "metadata": {
        "colab": {
          "base_uri": "https://localhost:8080/"
        },
        "id": "0ocvN8iXUOUg",
        "outputId": "bc8cc53b-bfd4-43b6-8067-7e3aae5ea2b5"
      },
      "source": [
        "theta_best"
      ],
      "execution_count": 8,
      "outputs": [
        {
          "output_type": "execute_result",
          "data": {
            "text/plain": [
              "array([[4.47828956],\n",
              "       [3.05598682]])"
            ]
          },
          "metadata": {
            "tags": []
          },
          "execution_count": 8
        }
      ]
    },
    {
      "cell_type": "code",
      "metadata": {
        "colab": {
          "base_uri": "https://localhost:8080/"
        },
        "id": "mBMeO063UTWv",
        "outputId": "e89a765b-1cad-40ed-e854-3ad10e40d54d"
      },
      "source": [
        "X_b"
      ],
      "execution_count": 9,
      "outputs": [
        {
          "output_type": "execute_result",
          "data": {
            "text/plain": [
              "array([[1.        , 0.20063544],\n",
              "       [1.        , 0.4201514 ],\n",
              "       [1.        , 1.49229149],\n",
              "       [1.        , 0.74543076],\n",
              "       [1.        , 1.80135146],\n",
              "       [1.        , 1.43270134],\n",
              "       [1.        , 1.797021  ],\n",
              "       [1.        , 0.44253552],\n",
              "       [1.        , 1.66837468],\n",
              "       [1.        , 1.36158655],\n",
              "       [1.        , 0.54694173],\n",
              "       [1.        , 0.98083553],\n",
              "       [1.        , 0.13223233],\n",
              "       [1.        , 0.96252195],\n",
              "       [1.        , 1.79906719],\n",
              "       [1.        , 0.15764533],\n",
              "       [1.        , 1.70652904],\n",
              "       [1.        , 1.25978051],\n",
              "       [1.        , 0.1882061 ],\n",
              "       [1.        , 1.07512862],\n",
              "       [1.        , 0.88007002],\n",
              "       [1.        , 0.26689531],\n",
              "       [1.        , 1.19634568],\n",
              "       [1.        , 1.77895043],\n",
              "       [1.        , 0.35283811],\n",
              "       [1.        , 0.42110428],\n",
              "       [1.        , 1.56299833],\n",
              "       [1.        , 0.84348341],\n",
              "       [1.        , 1.9649458 ],\n",
              "       [1.        , 1.52328646],\n",
              "       [1.        , 1.72400012],\n",
              "       [1.        , 1.47046629],\n",
              "       [1.        , 0.50626904],\n",
              "       [1.        , 1.99794438],\n",
              "       [1.        , 1.55771377],\n",
              "       [1.        , 0.8465206 ],\n",
              "       [1.        , 0.88132876],\n",
              "       [1.        , 1.72886702],\n",
              "       [1.        , 1.35029806],\n",
              "       [1.        , 0.96153402],\n",
              "       [1.        , 0.80529792],\n",
              "       [1.        , 0.2229152 ],\n",
              "       [1.        , 0.92011305],\n",
              "       [1.        , 0.81855834],\n",
              "       [1.        , 0.3239832 ],\n",
              "       [1.        , 0.95665497],\n",
              "       [1.        , 0.03706079],\n",
              "       [1.        , 1.11350256],\n",
              "       [1.        , 1.31084348],\n",
              "       [1.        , 0.39820455],\n",
              "       [1.        , 1.96971069],\n",
              "       [1.        , 1.41278522],\n",
              "       [1.        , 1.23551588],\n",
              "       [1.        , 1.89939079],\n",
              "       [1.        , 1.13142589],\n",
              "       [1.        , 0.47025947],\n",
              "       [1.        , 1.89036655],\n",
              "       [1.        , 0.45262491],\n",
              "       [1.        , 0.27313794],\n",
              "       [1.        , 0.09149983],\n",
              "       [1.        , 1.19420839],\n",
              "       [1.        , 0.47306115],\n",
              "       [1.        , 0.35860607],\n",
              "       [1.        , 1.54862368],\n",
              "       [1.        , 0.65197204],\n",
              "       [1.        , 0.44030193],\n",
              "       [1.        , 1.46486222],\n",
              "       [1.        , 0.5124548 ],\n",
              "       [1.        , 0.96623065],\n",
              "       [1.        , 0.22547528],\n",
              "       [1.        , 0.59718585],\n",
              "       [1.        , 0.17666821],\n",
              "       [1.        , 0.40479032],\n",
              "       [1.        , 0.05021174],\n",
              "       [1.        , 1.11466526],\n",
              "       [1.        , 1.20885092],\n",
              "       [1.        , 1.18413707],\n",
              "       [1.        , 1.09386813],\n",
              "       [1.        , 1.51198377],\n",
              "       [1.        , 1.47807822],\n",
              "       [1.        , 0.45810455],\n",
              "       [1.        , 1.04145508],\n",
              "       [1.        , 1.37293327],\n",
              "       [1.        , 1.21178882],\n",
              "       [1.        , 1.03073806],\n",
              "       [1.        , 1.36640284],\n",
              "       [1.        , 0.79129246],\n",
              "       [1.        , 1.04965661],\n",
              "       [1.        , 1.54290916],\n",
              "       [1.        , 1.1060455 ],\n",
              "       [1.        , 0.92957942],\n",
              "       [1.        , 0.31087461],\n",
              "       [1.        , 0.57893248],\n",
              "       [1.        , 0.30546075],\n",
              "       [1.        , 1.03079656],\n",
              "       [1.        , 0.86549024],\n",
              "       [1.        , 0.28967048],\n",
              "       [1.        , 0.42103784],\n",
              "       [1.        , 1.13453806],\n",
              "       [1.        , 1.84095666]])"
            ]
          },
          "metadata": {
            "tags": []
          },
          "execution_count": 9
        }
      ]
    },
    {
      "cell_type": "markdown",
      "metadata": {
        "id": "5xl9xxs0VvnW"
      },
      "source": [
        "# Making predictions using the calculated theta_best"
      ]
    },
    {
      "cell_type": "code",
      "metadata": {
        "colab": {
          "base_uri": "https://localhost:8080/"
        },
        "id": "Sd6a1DZpVBOP",
        "outputId": "32a925f3-953c-423c-93aa-f9c0e214064c"
      },
      "source": [
        "X_new = np.array([[0],[2]])\n",
        "X_new_b = np.c_[np.ones((2,1)), X_new]\n",
        "y_predict = X_new_b.dot(theta_best)\n",
        "y_predict"
      ],
      "execution_count": 12,
      "outputs": [
        {
          "output_type": "execute_result",
          "data": {
            "text/plain": [
              "array([[ 4.47828956],\n",
              "       [10.59026321]])"
            ]
          },
          "metadata": {
            "tags": []
          },
          "execution_count": 12
        }
      ]
    },
    {
      "cell_type": "code",
      "metadata": {
        "colab": {
          "base_uri": "https://localhost:8080/",
          "height": 279
        },
        "id": "pDBIb0UQV6I4",
        "outputId": "8f73eb30-e6de-456b-8974-0eea1d71ae6d"
      },
      "source": [
        "plt.plot(X_new, y_predict, \"r-\",label=\"Predictions\")\n",
        "plt.plot(X,y,\"b.\")\n",
        "plt.axis([0,2,0,15])\n",
        "plt.legend(loc=\"upper left\")\n",
        "plt.xlabel('X1')\n",
        "plt.ylabel('y_predicted')\n",
        "plt.show()"
      ],
      "execution_count": 21,
      "outputs": [
        {
          "output_type": "display_data",
          "data": {
            "image/png": "[encoded data removed]",
            "text/plain": [
              "<Figure size 432x288 with 1 Axes>"
            ]
          },
          "metadata": {
            "tags": [],
            "needs_background": "light"
          }
        }
      ]
    },
    {
      "cell_type": "markdown",
      "metadata": {
        "id": "5rUAAH1JYrtP"
      },
      "source": [
        "#Applying linear Regression from scipy"
      ]
    },
    {
      "cell_type": "markdown",
      "metadata": {
        "id": "8tMtHXGYZOA3"
      },
      "source": [
        "The LinearRegression class is based on the scipy.linalg.lstsq() function\n",
        "\n",
        "This function computes θ = X+.y, where X+ is the pseudoinverse of X (specifically,\n",
        "the Moore-Penrose inverse). \n",
        "We can use np.linalg.pinv() to compute the\n",
        "pseudoinverse directly:\n",
        "\n",
        "It is more efficient than computing the\n",
        "Normal Equation, plus it handles edge cases nicely: indeed, the Normal Equation may\n",
        "not work if the matrix X⊺X is not invertible (i.e., singular), such as if m < n or if some\n",
        "features are redundant, but the pseudoinverse is always defined."
      ]
    },
    {
      "cell_type": "code",
      "metadata": {
        "colab": {
          "base_uri": "https://localhost:8080/"
        },
        "id": "fhrPwYqEWnIY",
        "outputId": "e5cad4f1-c3c7-4609-bbab-000bd30e6378"
      },
      "source": [
        "from sklearn.linear_model import LinearRegression\n",
        "lin_reg = LinearRegression()\n",
        "lin_reg.fit(X,y)\n",
        "lin_reg.intercept_, lin_reg.coef_"
      ],
      "execution_count": 23,
      "outputs": [
        {
          "output_type": "execute_result",
          "data": {
            "text/plain": [
              "(array([4.47828956]), array([[3.05598682]]))"
            ]
          },
          "metadata": {
            "tags": []
          },
          "execution_count": 23
        }
      ]
    },
    {
      "cell_type": "code",
      "metadata": {
        "colab": {
          "base_uri": "https://localhost:8080/"
        },
        "id": "3u0ngK3gZDrF",
        "outputId": "849a94a4-9f31-4665-e2aa-76e8ccb1ef3c"
      },
      "source": [
        "np.linalg.pinv(X_b).dot(y)"
      ],
      "execution_count": 24,
      "outputs": [
        {
          "output_type": "execute_result",
          "data": {
            "text/plain": [
              "array([[4.47828956],\n",
              "       [3.05598682]])"
            ]
          },
          "metadata": {
            "tags": []
          },
          "execution_count": 24
        }
      ]
    },
    {
      "cell_type": "markdown",
      "metadata": {
        "id": "KEhf6b0lbOUn"
      },
      "source": [
        "Both SVD (Singular vector decomposition)(big_O(n^2)) and Normal Equation(big_O(n^2.4)) get slow when feature size increases (100,000).\n",
        "\n",
        "But both are linear with the instance size i.e, big_O(m)\n",
        "\n",
        "Making oredictions is also a big_O(n) operation. Linear with no. of instances and features."
      ]
    },
    {
      "cell_type": "markdown",
      "metadata": {
        "id": "6hZA3pOLcFTq"
      },
      "source": [
        "# Gradient Descent:\n",
        "\n",
        "To overcome this duress of complexity of big_O(n^2) on no. of features, we seek another approach known as Gradient Descent.\n",
        "By tweaking parameters iteratively in oreder to optimize.\n",
        "\n",
        "It measures the local gradient of the error function with\n",
        "regard to the parameter vector θ, and it goes in the direction of descending gradient.\n",
        "Once the gradient is zero, you have reached a minimum!\n",
        "\n",
        "size of the steps:\n",
        "\n",
        "determined by\n",
        "the learning rate hyperparameter. If the learning rate is too small, then the algorithm\n",
        "will have to go through many iterations to converge.\n",
        "\n",
        "On the other hand, if the learning rate is too high, you might jump across the valley\n",
        "and end up on the other side, possibly even higher up than you were before\n",
        "\n"
      ]
    },
    {
      "cell_type": "markdown",
      "metadata": {
        "id": "mor-XrFKdSqn"
      },
      "source": [
        "![image.png](data:image/png;base64,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)"
      ]
    },
    {
      "cell_type": "markdown",
      "metadata": {
        "id": "6pc5kS3IdUS-"
      },
      "source": [
        "Here the choice of _random_intialization_parameter_ would give differen local minimas."
      ]
    },
    {
      "cell_type": "markdown",
      "metadata": {
        "id": "rIG2UiofdmMW"
      },
      "source": [
        "MSE min sq error, method has got just one Global minima.\n",
        "\n",
        "When using Gradient Descent, you should ensure that all features\n",
        "have a similar scale (e.g., using Scikit-Learn’s StandardScaler\n",
        "class), or else it will take much longer to converge"
      ]
    },
    {
      "cell_type": "markdown",
      "metadata": {
        "id": "5IHsPDZIeLnu"
      },
      "source": [
        "## Batch Gradient Descent\n",
        "\n",
        "Compute the gradient of the cost function\n",
        "with regard to each model parameter θj."
      ]
    },
    {
      "cell_type": "markdown",
      "metadata": {
        "id": "w7w3GV5Temg_"
      },
      "source": [
        "![image.png](data:image/png;base64,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)"
      ]
    },
    {
      "cell_type": "markdown",
      "metadata": {
        "id": "BkVDSRX7e2Ov"
      },
      "source": [
        "## Some Caveats!! :\n",
        "Though GD is faster than SVD and Normal equation methods in term of scaling with no. of features in the data,\n",
        "But the naive approach of it requires the GD to calculate Gradients at every step using the whole training set, which makes it awfully slow in naive form."
      ]
    },
    {
      "cell_type": "markdown",
      "metadata": {
        "id": "rMSBKaVzfnu_"
      },
      "source": [
        "![image.png](data:image/png;base64,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)"
      ]
    },
    {
      "cell_type": "markdown",
      "metadata": {
        "id": "59c7Lc1cfsyn"
      },
      "source": [
        "### Implementation"
      ]
    },
    {
      "cell_type": "code",
      "metadata": {
        "id": "3pHLutxxZlye"
      },
      "source": [
        "eta = 0.1 #learning Rate\n",
        "n_iterations = 1000\n",
        "m = 1000\n",
        "\n",
        "theta = np.random.randn(2,1) #random intialization\n",
        "\n",
        "for iteration in range(n_iterations):\n",
        "  gradients = 2/m * X_b.T.dot(X_b.dot(theta)-y)\n",
        "  theta = theta - eta*gradients"
      ],
      "execution_count": 25,
      "outputs": []
    },
    {
      "cell_type": "code",
      "metadata": {
        "colab": {
          "base_uri": "https://localhost:8080/"
        },
        "id": "_q5GwizhgL9y",
        "outputId": "80d9a0c1-587a-4b52-8138-c404378a5444"
      },
      "source": [
        "theta"
      ],
      "execution_count": 26,
      "outputs": [
        {
          "output_type": "execute_result",
          "data": {
            "text/plain": [
              "array([[4.3587451 ],\n",
              "       [3.16170188]])"
            ]
          },
          "metadata": {
            "tags": []
          },
          "execution_count": 26
        }
      ]
    },
    {
      "cell_type": "code",
      "metadata": {
        "id": "q_S24EjOgNHX"
      },
      "source": [
        ""
      ],
      "execution_count": null,
      "outputs": []
    },
    {
      "cell_type": "markdown",
      "metadata": {
        "id": "Rc1l8ezCj9fP"
      },
      "source": [
        "# Stochastic Gradient Descent"
      ]
    },
    {
      "cell_type": "markdown",
      "metadata": {
        "id": "SLLIXpiLk6ln"
      },
      "source": [
        ""
      ]
    },
    {
      "cell_type": "markdown",
      "metadata": {
        "id": "wcc-dTy8kOs-"
      },
      "source": [
        "Stochastic Gradient Descent picks a\n",
        "random instance in the training set at every step and computes the gradients based\n",
        "only on that single instance.\n",
        "\n",
        "Outof the core algorithm: \n",
        "It also makes it possible to train on huge training sets, since only one instance\n",
        "needs to be in memory at each iteration\n",
        "\n",
        "cost function will bounce up and down, decreasing only on average."
      ]
    },
    {
      "cell_type": "markdown",
      "metadata": {
        "id": "fh5HBZ_4kxi4"
      },
      "source": [
        "SGD has a better chance of finding global minima than batch GD, as the former is randomly skipping the instances."
      ]
    },
    {
      "cell_type": "markdown",
      "metadata": {
        "id": "vZSMavEnlaM_"
      },
      "source": [
        "Imborgilio:\n",
        "\n",
        "Therefore, randomness is good to escape from local optima, but bad because it means\n",
        "that the algorithm can never settle at the minimum. One solution to this dilemma is\n",
        "to gradually reduce the learning rate. The steps start out large (which helps make\n",
        "quick progress and escape local minima), then get smaller and smaller, allowing the\n",
        "algorithm to settle at the global minimum."
      ]
    },
    {
      "cell_type": "markdown",
      "metadata": {
        "id": "dAxU-jF3lfbw"
      },
      "source": [
        "## Implementation"
      ]
    },
    {
      "cell_type": "code",
      "metadata": {
        "colab": {
          "base_uri": "https://localhost:8080/"
        },
        "id": "3ln54r84nao2",
        "outputId": "0e4b8316-9046-43fb-ff2b-43c70f34aa7a"
      },
      "source": [
        "X_b[1:3]"
      ],
      "execution_count": 36,
      "outputs": [
        {
          "output_type": "execute_result",
          "data": {
            "text/plain": [
              "array([[1.        , 0.4201514 ],\n",
              "       [1.        , 1.49229149]])"
            ]
          },
          "metadata": {
            "tags": []
          },
          "execution_count": 36
        }
      ]
    },
    {
      "cell_type": "code",
      "metadata": {
        "colab": {
          "base_uri": "https://localhost:8080/"
        },
        "id": "X6yfoDcsnBt-",
        "outputId": "9fb8e007-bf62-49ee-f9ff-3ab62c57d52d"
      },
      "source": [
        "X_b[1]"
      ],
      "execution_count": 34,
      "outputs": [
        {
          "output_type": "execute_result",
          "data": {
            "text/plain": [
              "array([1.       , 0.4201514])"
            ]
          },
          "metadata": {
            "tags": []
          },
          "execution_count": 34
        }
      ]
    },
    {
      "cell_type": "code",
      "metadata": {
        "colab": {
          "base_uri": "https://localhost:8080/"
        },
        "id": "pv7ZJ9iJmxMn",
        "outputId": "d7ac57ef-b7f0-4db2-a7b0-236b839e0512"
      },
      "source": [
        "X_b[:]"
      ],
      "execution_count": 32,
      "outputs": [
        {
          "output_type": "execute_result",
          "data": {
            "text/plain": [
              "array([[1.        , 0.20063544],\n",
              "       [1.        , 0.4201514 ],\n",
              "       [1.        , 1.49229149],\n",
              "       [1.        , 0.74543076],\n",
              "       [1.        , 1.80135146],\n",
              "       [1.        , 1.43270134],\n",
              "       [1.        , 1.797021  ],\n",
              "       [1.        , 0.44253552],\n",
              "       [1.        , 1.66837468],\n",
              "       [1.        , 1.36158655],\n",
              "       [1.        , 0.54694173],\n",
              "       [1.        , 0.98083553],\n",
              "       [1.        , 0.13223233],\n",
              "       [1.        , 0.96252195],\n",
              "       [1.        , 1.79906719],\n",
              "       [1.        , 0.15764533],\n",
              "       [1.        , 1.70652904],\n",
              "       [1.        , 1.25978051],\n",
              "       [1.        , 0.1882061 ],\n",
              "       [1.        , 1.07512862],\n",
              "       [1.        , 0.88007002],\n",
              "       [1.        , 0.26689531],\n",
              "       [1.        , 1.19634568],\n",
              "       [1.        , 1.77895043],\n",
              "       [1.        , 0.35283811],\n",
              "       [1.        , 0.42110428],\n",
              "       [1.        , 1.56299833],\n",
              "       [1.        , 0.84348341],\n",
              "       [1.        , 1.9649458 ],\n",
              "       [1.        , 1.52328646],\n",
              "       [1.        , 1.72400012],\n",
              "       [1.        , 1.47046629],\n",
              "       [1.        , 0.50626904],\n",
              "       [1.        , 1.99794438],\n",
              "       [1.        , 1.55771377],\n",
              "       [1.        , 0.8465206 ],\n",
              "       [1.        , 0.88132876],\n",
              "       [1.        , 1.72886702],\n",
              "       [1.        , 1.35029806],\n",
              "       [1.        , 0.96153402],\n",
              "       [1.        , 0.80529792],\n",
              "       [1.        , 0.2229152 ],\n",
              "       [1.        , 0.92011305],\n",
              "       [1.        , 0.81855834],\n",
              "       [1.        , 0.3239832 ],\n",
              "       [1.        , 0.95665497],\n",
              "       [1.        , 0.03706079],\n",
              "       [1.        , 1.11350256],\n",
              "       [1.        , 1.31084348],\n",
              "       [1.        , 0.39820455],\n",
              "       [1.        , 1.96971069],\n",
              "       [1.        , 1.41278522],\n",
              "       [1.        , 1.23551588],\n",
              "       [1.        , 1.89939079],\n",
              "       [1.        , 1.13142589],\n",
              "       [1.        , 0.47025947],\n",
              "       [1.        , 1.89036655],\n",
              "       [1.        , 0.45262491],\n",
              "       [1.        , 0.27313794],\n",
              "       [1.        , 0.09149983],\n",
              "       [1.        , 1.19420839],\n",
              "       [1.        , 0.47306115],\n",
              "       [1.        , 0.35860607],\n",
              "       [1.        , 1.54862368],\n",
              "       [1.        , 0.65197204],\n",
              "       [1.        , 0.44030193],\n",
              "       [1.        , 1.46486222],\n",
              "       [1.        , 0.5124548 ],\n",
              "       [1.        , 0.96623065],\n",
              "       [1.        , 0.22547528],\n",
              "       [1.        , 0.59718585],\n",
              "       [1.        , 0.17666821],\n",
              "       [1.        , 0.40479032],\n",
              "       [1.        , 0.05021174],\n",
              "       [1.        , 1.11466526],\n",
              "       [1.        , 1.20885092],\n",
              "       [1.        , 1.18413707],\n",
              "       [1.        , 1.09386813],\n",
              "       [1.        , 1.51198377],\n",
              "       [1.        , 1.47807822],\n",
              "       [1.        , 0.45810455],\n",
              "       [1.        , 1.04145508],\n",
              "       [1.        , 1.37293327],\n",
              "       [1.        , 1.21178882],\n",
              "       [1.        , 1.03073806],\n",
              "       [1.        , 1.36640284],\n",
              "       [1.        , 0.79129246],\n",
              "       [1.        , 1.04965661],\n",
              "       [1.        , 1.54290916],\n",
              "       [1.        , 1.1060455 ],\n",
              "       [1.        , 0.92957942],\n",
              "       [1.        , 0.31087461],\n",
              "       [1.        , 0.57893248],\n",
              "       [1.        , 0.30546075],\n",
              "       [1.        , 1.03079656],\n",
              "       [1.        , 0.86549024],\n",
              "       [1.        , 0.28967048],\n",
              "       [1.        , 0.42103784],\n",
              "       [1.        , 1.13453806],\n",
              "       [1.        , 1.84095666]])"
            ]
          },
          "metadata": {
            "tags": []
          },
          "execution_count": 32
        }
      ]
    },
    {
      "cell_type": "code",
      "metadata": {
        "id": "XzpUjRdekAfB"
      },
      "source": [
        "n_epochs = 50\n",
        "t0, t1 = 5,50 #learning shcedule hyperparameters\n",
        "\n",
        "def learning_schedule(t):\n",
        "  return t0/(t+t1)\n",
        "\n",
        "theta = np.random.randn(2,1)\n",
        "\n",
        "for epoch in range(n_epochs):\n",
        "  for i in range(m):\n",
        "    random_index = np.random.randint(m)\n",
        "    xi = X_b[random_index:random_index+1]\n",
        "    yi = y[random_index:random_index+1]\n",
        "    gradients = 2* xi.T.dot(xi.dot(theta)-yi)\n",
        "    eta = learning_schedule(epoch*m+i)\n",
        "    theta = theta -eta*gradients"
      ],
      "execution_count": 28,
      "outputs": []
    },
    {
      "cell_type": "markdown",
      "metadata": {
        "id": "15w8rnlEnrF2"
      },
      "source": [
        "We iterate by rounds of m iterations; each round is called an epoch.\n",
        "While the Batch Gradient Descent code iterated 1,000 times through the whole training\n",
        "set, this code goes through the training set only 50 times and reaches a pretty\n",
        "good solution:"
      ]
    },
    {
      "cell_type": "code",
      "metadata": {
        "colab": {
          "base_uri": "https://localhost:8080/"
        },
        "id": "cySrbD_gmsZ7",
        "outputId": "1d7b8bea-eae2-4472-81fb-f03aa05c92ee"
      },
      "source": [
        "theta"
      ],
      "execution_count": 37,
      "outputs": [
        {
          "output_type": "execute_result",
          "data": {
            "text/plain": [
              "array([[4.01560257],\n",
              "       [3.46706112]])"
            ]
          },
          "metadata": {
            "tags": []
          },
          "execution_count": 37
        }
      ]
    },
    {
      "cell_type": "markdown",
      "metadata": {
        "id": "XiX5bJWjoEnH"
      },
      "source": [
        "##Caveat!! : \n",
        "In SGD independency and identical distribuition of data must be ensured by shuffling, for the case we've a dataset where every thing is labeled acc. to some categories."
      ]
    },
    {
      "cell_type": "markdown",
      "metadata": {
        "id": "t6CMOmw9odzP"
      },
      "source": [
        "#Linear Regression Using SGD"
      ]
    },
    {
      "cell_type": "markdown",
      "metadata": {
        "id": "gElfHnC3ol8G"
      },
      "source": [
        "The following code runs for maximum 1,000 epochs or until the loss drops by less\n",
        "than 0.001 during one epoch (max_iter=1000, tol=1e-3). It starts with a learning rate\n",
        "of 0.1 (eta0=0.1)."
      ]
    },
    {
      "cell_type": "code",
      "metadata": {
        "colab": {
          "base_uri": "https://localhost:8080/"
        },
        "id": "fo8tlkfDntJw",
        "outputId": "6a0754e6-a7ad-438e-bacf-a69ef37a043e"
      },
      "source": [
        "from sklearn.linear_model import SGDRegressor\n",
        "sgd_reg = SGDRegressor(max_iter=1000,tol = 1e-3, penalty=None, eta0=0.1)\n",
        "sgd_reg.fit(X,y.ravel())"
      ],
      "execution_count": 39,
      "outputs": [
        {
          "output_type": "execute_result",
          "data": {
            "text/plain": [
              "SGDRegressor(alpha=0.0001, average=False, early_stopping=False, epsilon=0.1,\n",
              "             eta0=0.1, fit_intercept=True, l1_ratio=0.15,\n",
              "             learning_rate='invscaling', loss='squared_loss', max_iter=1000,\n",
              "             n_iter_no_change=5, penalty=None, power_t=0.25, random_state=None,\n",
              "             shuffle=True, tol=0.001, validation_fraction=0.1, verbose=0,\n",
              "             warm_start=False)"
            ]
          },
          "metadata": {
            "tags": []
          },
          "execution_count": 39
        }
      ]
    },
    {
      "cell_type": "code",
      "metadata": {
        "colab": {
          "base_uri": "https://localhost:8080/"
        },
        "id": "ChKMHDF-o_sB",
        "outputId": "ac70430d-92f1-4f56-fc04-c1def484cf97"
      },
      "source": [
        "y.ravel()"
      ],
      "execution_count": 40,
      "outputs": [
        {
          "output_type": "execute_result",
          "data": {
            "text/plain": [
              "array([ 4.86073539,  5.73475621,  9.1175993 ,  6.62134979, 10.32073146,\n",
              "        9.00778932, 10.14735004,  5.67727858,  9.72025643,  9.01148754,\n",
              "        6.39948306,  7.75014194,  4.72752071,  7.39094345, 10.22329091,\n",
              "        4.93977827, 10.10020576,  7.92717258,  5.41482962,  7.52975541,\n",
              "        7.44458378,  5.39835023,  7.7210863 ,  9.68880258,  6.03462874,\n",
              "        5.90080172,  9.63848161,  7.1017003 , 10.02972799,  8.80528644,\n",
              "        9.21050577,  8.9641773 ,  6.00828795, 10.32853093,  9.27571633,\n",
              "        7.20341526,  7.33880391,  9.23807815,  8.32373987,  7.72870052,\n",
              "        7.240446  ,  4.83193432,  7.09695812,  7.31955756,  5.29844614,\n",
              "        7.34571573,  4.14187622,  7.85992244,  7.97723525,  5.67791847,\n",
              "       10.5736983 ,  8.88715338,  8.07854786, 10.47540611,  7.95124574,\n",
              "        6.03424601, 10.53969604,  5.79199224,  5.05131839,  4.8073008 ,\n",
              "        7.75828581,  6.15064442,  5.34310321,  9.52828481,  6.20517668,\n",
              "        5.45755244,  9.38516675,  6.2461915 ,  7.2080695 ,  5.09188652,\n",
              "        6.71761546,  4.53968682,  5.53610743,  4.96853101,  8.09655131,\n",
              "        8.30830591,  8.34803635,  8.00906873,  8.85187847,  9.14487189,\n",
              "        5.64789571,  7.55045967,  8.48765513,  8.53545406,  7.33930627,\n",
              "        8.234416  ,  6.42502822,  7.39302096,  9.27968852,  7.68385265,\n",
              "        6.84157496,  5.87740794,  6.53097787,  5.58388853,  7.75153208,\n",
              "        7.31571094,  5.73553872,  6.03260943,  7.99797054, 10.30404429])"
            ]
          },
          "metadata": {
            "tags": []
          },
          "execution_count": 40
        }
      ]
    },
    {
      "cell_type": "code",
      "metadata": {
        "colab": {
          "base_uri": "https://localhost:8080/"
        },
        "id": "mzxvenJXpGyv",
        "outputId": "323e48a5-52ab-448b-97af-ef7bbf244034"
      },
      "source": [
        "np.shape(y)"
      ],
      "execution_count": 44,
      "outputs": [
        {
          "output_type": "execute_result",
          "data": {
            "text/plain": [
              "(100, 1)"
            ]
          },
          "metadata": {
            "tags": []
          },
          "execution_count": 44
        }
      ]
    },
    {
      "cell_type": "code",
      "metadata": {
        "colab": {
          "base_uri": "https://localhost:8080/"
        },
        "id": "G0TOk47apIdv",
        "outputId": "206c97e0-e944-472b-840d-b915678eb994"
      },
      "source": [
        "np.shape(y.ravel())"
      ],
      "execution_count": 45,
      "outputs": [
        {
          "output_type": "execute_result",
          "data": {
            "text/plain": [
              "(100,)"
            ]
          },
          "metadata": {
            "tags": []
          },
          "execution_count": 45
        }
      ]
    },
    {
      "cell_type": "code",
      "metadata": {
        "colab": {
          "base_uri": "https://localhost:8080/"
        },
        "id": "AAxhNMwcpS9P",
        "outputId": "1a4d208f-13e4-4698-be3f-80e4dc9cf2ab"
      },
      "source": [
        "sgd_reg.intercept_, sgd_reg.coef_"
      ],
      "execution_count": 47,
      "outputs": [
        {
          "output_type": "execute_result",
          "data": {
            "text/plain": [
              "(array([4.46816994]), array([3.08600597]))"
            ]
          },
          "metadata": {
            "tags": []
          },
          "execution_count": 47
        }
      ]
    },
    {
      "cell_type": "markdown",
      "metadata": {
        "id": "bLL3dYwXpenz"
      },
      "source": [
        "#Mini-batch Gradient Descent\n",
        "Mini-batch GD\n",
        "computes the gradients on small random sets of instances called mini-batches. The\n",
        "main advantage of Mini-batch GD over Stochastic GD is that you can get a performance\n",
        "boost from hardware optimization of matrix operations, especially when using\n",
        "GPUs.\n",
        "\n",
        "Hard to skip loc mininma due to batch like nature.\n",
        "\n",
        "![image.png](data:image/png;base64,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)"
      ]
    },
    {
      "cell_type": "markdown",
      "metadata": {
        "id": "rH3HDCB6qVFX"
      },
      "source": [
        "![image.png](data:image/png;base64,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)"
      ]
    },
    {
      "cell_type": "markdown",
      "metadata": {
        "id": "9LUPXEprqc-u"
      },
      "source": [
        "#Connclusion: \n",
        "There is almost no difference after training: all these algorithms\n",
        "end up with very similar models and make predictions in exactly\n",
        "the same way."
      ]
    },
    {
      "cell_type": "code",
      "metadata": {
        "id": "GC8Kc_2NqmEv"
      },
      "source": [
        ""
      ],
      "execution_count": null,
      "outputs": []
    }
  ]
}